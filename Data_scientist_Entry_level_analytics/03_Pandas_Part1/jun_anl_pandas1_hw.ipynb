{
 "cells": [
  {
   "cell_type": "markdown",
   "metadata": {},
   "source": [
    "# Библиотека `pandas`: часть 1\n",
    "\n",
    "*Алла Тамбовцева*\n",
    "\n",
    "## Домашнее задание \n",
    "\n",
    "### Описание домашнего задания и формат сдачи\n",
    "\n",
    "В домашнем задании необходимо решить предложенные задачи по программированию – вписать свой код в ячейки после условий задач вместо комментария `### YOUR CODE HERE ###` в файле *homework-pandas1.ipynb* и сохранить изменения, используя опцию *Save and Checkpoint* из вкладки меню *File* или кнопку *Save and Checkpoint* на панели инструментов. Итоговый файл в формате `.ipynb` (файл Jupyter Notebook) необходимо загрузить в личный кабинет обучающей онлайн платформы Skillbox (https://go.skillbox.ru/) и отправить на проверку."
   ]
  },
  {
   "cell_type": "markdown",
   "metadata": {},
   "source": [
    "### Задание 1\n",
    "\n",
    "Загрузить массив `NumPy` из файла `\"arr_pandas.npy\"` (как в задании к предыдущему модулю) и преобразовать его в датафрейм. Массив содержит данные по результатам соревнований Scottish Hill Races в 2000 году (полное описание на английском языке можно посмотреть на [странице](https://vincentarelbundock.github.io/Rdatasets/doc/DAAG/races2000.html) с документацией по исходному файлу с данными).\n",
    "\n",
    "**Подсказка (преобразование в датафрейм):**"
   ]
  },
  {
   "cell_type": "code",
   "execution_count": null,
   "metadata": {},
   "outputs": [],
   "source": [
    "dat = pd.DataFrame(arr)  # arr - массив NumPy из файла"
   ]
  },
  {
   "cell_type": "code",
   "execution_count": 1,
   "metadata": {},
   "outputs": [
    {
     "name": "stdout",
     "output_type": "stream",
     "text": [
      "                        0     1     2         3         4         5\n",
      "0      Aonach Mor Gondola     2  2000  0.403611  0.518889    uphill\n",
      "1       Broughton Brewery     2   650  0.254444  0.316667     other\n",
      "2             El-Brim-Ick     3   750  0.485833  0.389167     other\n",
      "3      The Devils Burdens    21  4100   2.39972   3.09333     relay\n",
      "4           Tiso Carnethy     6  2500  0.782222  0.919167      hill\n",
      "5                 Criffel     7  1800  0.793333   1.00333      hill\n",
      "6              Chapelgill   1.5  1400  0.314444  0.376667      hill\n",
      "7            Norman's Law     5   700  0.464167  0.609167      hill\n",
      "8            Craig Dunain     6   900  0.546111  0.625833      hill\n",
      "9             Knockfarrel     5  1200  0.623333  0.734167      hill\n",
      "10                 Screel     4  1300  0.458889  0.543611      hill\n",
      "11      O.P.S. Clachnaben  10.5  3500   1.27889   1.48778      hill\n",
      "12            Hunters Bog   4.5   800  0.409444  0.477778     other\n",
      "13         Aberfoyle Dash     3  1000    0.3375  0.381389    uphill\n",
      "14          Manx Mountain  30.5  8000   4.46972   5.52333  marathon\n",
      "15          Whangie Whizz   3.5   800  0.395556  0.464167      hill\n",
      "16                Ben Rha   7.5   800  0.738056  0.997222     relay\n",
      "17          Stuc A'Chroin    14  5000   1.98333   2.39889      hill\n",
      "18            29th Dumyat     5  1250  0.552778  0.637778      hill\n",
      "19             Ben Lomond     9  3192   1.03778   1.19917      hill\n",
      "20               Kinnoull     4   800  0.387222    0.4525      hill\n",
      "21               Goatfell     8  2866   1.22778   1.52639      hill\n",
      "22  Scottish Nuclear Kaim   3.5  1250  0.431111      0.54      hill\n",
      "23             Ardoch Rig     7   600  0.678889  0.837222      hill\n",
      "24            Culter Fell    12  4000   1.72167   1.98778     other\n",
      "25           Isle of Jura    16  7500   3.11639   3.83944     other\n",
      "26                 Scolty     5   800  0.495833  0.579167      hill\n",
      "27              Cornalees   5.5   800  0.618333       NaN      hill\n",
      "28           12 Trig Trog    46  7500   8.30694   13.5478      hill\n",
      "29            Kilpatricks     6  1400  0.739722  0.874167      hill\n",
      "..                    ...   ...   ...       ...       ...       ...\n",
      "47               Whiteash   5.5   728  0.508889  0.768333      hill\n",
      "48       Meall Ant-Suidhe   3.5  1500     0.465  0.609722      hill\n",
      "49         Half Ben Nevis     5  1200  0.794167   1.03083     other\n",
      "50            Lochaber AC     2   900  0.284722  0.360556      hill\n",
      "51      Lochaber Highland     2   900  0.294167  0.473056      hill\n",
      "52              Mash Hill     6  2500  0.794167   1.05194      hill\n",
      "53            Ben Rhinnes    14  4900   1.97611   2.35583      hill\n",
      "54              Beinn Lee     7   500  0.716667  0.943333      hill\n",
      "55             Creag Dubh     3  1223  0.463889  0.601667      hill\n",
      "56             Glen Clova    15  5500   2.56722   2.96222      hill\n",
      "57             Caerketton   2.5   800  0.208611  0.246667      hill\n",
      "58               Wideford   5.5   741  0.563611  0.724167      hill\n",
      "59            Tap O'North     6  1220  0.665833  0.817778      hill\n",
      "60                Lomonds     9  2200   1.05306   1.29389      hill\n",
      "61                   Oban  2.25   500  0.232222  0.298889      hill\n",
      "62              Ben Nevis    10  4400   1.42611   1.72361      hill\n",
      "63                Braemar     4  2000  0.407778       NaN     other\n",
      "64        Moffat Beef Tub     2  1500  0.332222  0.436944      hill\n",
      "65          Cairn William     6  1400  0.704444  0.809722      hill\n",
      "66          Corrieyairick    16  2250   1.66472   1.96333      hill\n",
      "67                 Morven     5  1700  0.609167  0.785833      hill\n",
      "68                Merrick     8  2710   1.13333   1.39472      hill\n",
      "69          Two Breweries    18  4900   2.56583   3.08833      hill\n",
      "70            Manor Water    10  2300   1.18444    1.4975      hill\n",
      "71               Pentland    16  6200   2.37778     2.785      hill\n",
      "72                  Tinto   4.5  1500  0.499444  0.581111      hill\n",
      "73             Druim Fada   6.5  1000  0.751111  0.972222     other\n",
      "74                 Elrick   3.6   650  0.358056    0.4425     relay\n",
      "75                Gondola   2.5  2000  0.387222  0.518889    uphill\n",
      "76            Greenmantle     2   650  0.254444  0.316667     other\n",
      "\n",
      "[77 rows x 6 columns]\n"
     ]
    }
   ],
   "source": [
    "import numpy as np\n",
    "import pandas as pd\n",
    "arr = np.load('arr_pandas.npy')\n",
    "dat = pd.DataFrame(arr)\n",
    "print(dat)"
   ]
  },
  {
   "cell_type": "markdown",
   "metadata": {},
   "source": [
    "### Задание 2\n",
    "\n",
    "Определить, сколько в датафрейме строк и столбцов. Привести код и указать ответ в виде текста или комментария к коду."
   ]
  },
  {
   "cell_type": "code",
   "execution_count": 3,
   "metadata": {},
   "outputs": [
    {
     "data": {
      "text/plain": [
       "(77, 6)"
      ]
     },
     "execution_count": 3,
     "metadata": {},
     "output_type": "execute_result"
    }
   ],
   "source": [
    "dat.shape\n",
    "# 77 строк, 6 столбцов"
   ]
  },
  {
   "cell_type": "markdown",
   "metadata": {},
   "source": [
    "### Задание 3\n",
    "\n",
    "Присвоить столбцам следующие названия (указаны с пояснениями): \n",
    "\n",
    "* `id`: id участника\n",
    "* `dist`: расстояние в милях (по карте)\n",
    "* `climb`: высота, достигнутая на маршруте (в сумме за весь маршрут, в футах)\n",
    "* `time`: время (в часах)\n",
    "* `timef`: время для женщин (в часах)\n",
    "* `type`: тип гонки (*hill*, *marathon*, *relay*, *uphill* or *other*)"
   ]
  },
  {
   "cell_type": "code",
   "execution_count": 4,
   "metadata": {},
   "outputs": [],
   "source": [
    "dat.columns = ['id', 'dist', 'climb', 'time', 'timef', 'type']"
   ]
  },
  {
   "cell_type": "markdown",
   "metadata": {},
   "source": [
    "### Задание 4\n",
    "\n",
    "Вывести на экран значение высоты, достигнутой на маршруте участником *Norman's Law*."
   ]
  },
  {
   "cell_type": "code",
   "execution_count": 5,
   "metadata": {},
   "outputs": [
    {
     "name": "stdout",
     "output_type": "stream",
     "text": [
      "700\n"
     ]
    }
   ],
   "source": [
    "print(dat.loc[7, 'climb'])"
   ]
  },
  {
   "cell_type": "markdown",
   "metadata": {},
   "source": [
    "### Задание 5\n",
    "Вывести на экран значения показателей `dist`, `climb` , `time` для первых 10 участников."
   ]
  },
  {
   "cell_type": "code",
   "execution_count": 6,
   "metadata": {},
   "outputs": [
    {
     "name": "stdout",
     "output_type": "stream",
     "text": [
      "  dist climb      time\n",
      "0    2  2000  0.403611\n",
      "1    2   650  0.254444\n",
      "2    3   750  0.485833\n",
      "3   21  4100   2.39972\n",
      "4    6  2500  0.782222\n",
      "5    7  1800  0.793333\n",
      "6  1.5  1400  0.314444\n",
      "7    5   700  0.464167\n",
      "8    6   900  0.546111\n",
      "9    5  1200  0.623333\n"
     ]
    }
   ],
   "source": [
    "print(dat.loc[:9, ['dist', 'climb', 'time']])"
   ]
  },
  {
   "cell_type": "markdown",
   "metadata": {},
   "source": [
    "### Задание 6\n",
    "\n",
    "Вывести на экран сводную информацию по датафрейму, которая включает типы всех столбцов. Сколько столбцов типа `float` в датафрейме? Привести ответ на вопрос в виде текста или комментария к коду."
   ]
  },
  {
   "cell_type": "code",
   "execution_count": 8,
   "metadata": {},
   "outputs": [
    {
     "name": "stdout",
     "output_type": "stream",
     "text": [
      "<class 'pandas.core.frame.DataFrame'>\n",
      "RangeIndex: 77 entries, 0 to 76\n",
      "Data columns (total 6 columns):\n",
      "id       77 non-null object\n",
      "dist     77 non-null object\n",
      "climb    77 non-null object\n",
      "time     77 non-null object\n",
      "timef    75 non-null object\n",
      "type     77 non-null object\n",
      "dtypes: object(6)\n",
      "memory usage: 3.7+ KB\n"
     ]
    }
   ],
   "source": [
    "dat.info()\n",
    "# 0 столбцов типа float"
   ]
  },
  {
   "cell_type": "markdown",
   "metadata": {},
   "source": [
    "### Задание 7\n",
    "\n",
    "Выбрать строки, которые соответствуют участникам эстафеты (*relay*)."
   ]
  },
  {
   "cell_type": "code",
   "execution_count": 9,
   "metadata": {},
   "outputs": [
    {
     "data": {
      "text/html": [
       "<div>\n",
       "<style scoped>\n",
       "    .dataframe tbody tr th:only-of-type {\n",
       "        vertical-align: middle;\n",
       "    }\n",
       "\n",
       "    .dataframe tbody tr th {\n",
       "        vertical-align: top;\n",
       "    }\n",
       "\n",
       "    .dataframe thead th {\n",
       "        text-align: right;\n",
       "    }\n",
       "</style>\n",
       "<table border=\"1\" class=\"dataframe\">\n",
       "  <thead>\n",
       "    <tr style=\"text-align: right;\">\n",
       "      <th></th>\n",
       "      <th>id</th>\n",
       "      <th>dist</th>\n",
       "      <th>climb</th>\n",
       "      <th>time</th>\n",
       "      <th>timef</th>\n",
       "      <th>type</th>\n",
       "    </tr>\n",
       "  </thead>\n",
       "  <tbody>\n",
       "    <tr>\n",
       "      <th>3</th>\n",
       "      <td>The Devils Burdens</td>\n",
       "      <td>21</td>\n",
       "      <td>4100</td>\n",
       "      <td>2.39972</td>\n",
       "      <td>3.09333</td>\n",
       "      <td>relay</td>\n",
       "    </tr>\n",
       "    <tr>\n",
       "      <th>16</th>\n",
       "      <td>Ben Rha</td>\n",
       "      <td>7.5</td>\n",
       "      <td>800</td>\n",
       "      <td>0.738056</td>\n",
       "      <td>0.997222</td>\n",
       "      <td>relay</td>\n",
       "    </tr>\n",
       "    <tr>\n",
       "      <th>74</th>\n",
       "      <td>Elrick</td>\n",
       "      <td>3.6</td>\n",
       "      <td>650</td>\n",
       "      <td>0.358056</td>\n",
       "      <td>0.4425</td>\n",
       "      <td>relay</td>\n",
       "    </tr>\n",
       "  </tbody>\n",
       "</table>\n",
       "</div>"
      ],
      "text/plain": [
       "                    id dist climb      time     timef   type\n",
       "3   The Devils Burdens   21  4100   2.39972   3.09333  relay\n",
       "16             Ben Rha  7.5   800  0.738056  0.997222  relay\n",
       "74              Elrick  3.6   650  0.358056    0.4425  relay"
      ]
     },
     "execution_count": 9,
     "metadata": {},
     "output_type": "execute_result"
    }
   ],
   "source": [
    "dat[dat['type'] == 'relay']"
   ]
  },
  {
   "cell_type": "markdown",
   "metadata": {},
   "source": [
    "### Задание 8\n",
    "\n",
    "Выбрать строки, которые соответствуют участникам гонки в холмах (*hill*), которые в сумме достигли высоты более 1000 футов. Посчитать, сколько таких участников."
   ]
  },
  {
   "cell_type": "code",
   "execution_count": 10,
   "metadata": {},
   "outputs": [
    {
     "data": {
      "text/plain": [
       "39"
      ]
     },
     "execution_count": 10,
     "metadata": {},
     "output_type": "execute_result"
    }
   ],
   "source": [
    "dat[(dat['type'] == 'hill') & (dat['climb'] > 1000)].shape[0]"
   ]
  },
  {
   "cell_type": "markdown",
   "metadata": {},
   "source": [
    "### Задание 9\n",
    "\n",
    "Выбрать строки, соответствующие участникам, которые либо достигли высоты более 4000 футов, либо потратили менее 0.5 часов."
   ]
  },
  {
   "cell_type": "code",
   "execution_count": 11,
   "metadata": {},
   "outputs": [
    {
     "data": {
      "text/html": [
       "<div>\n",
       "<style scoped>\n",
       "    .dataframe tbody tr th:only-of-type {\n",
       "        vertical-align: middle;\n",
       "    }\n",
       "\n",
       "    .dataframe tbody tr th {\n",
       "        vertical-align: top;\n",
       "    }\n",
       "\n",
       "    .dataframe thead th {\n",
       "        text-align: right;\n",
       "    }\n",
       "</style>\n",
       "<table border=\"1\" class=\"dataframe\">\n",
       "  <thead>\n",
       "    <tr style=\"text-align: right;\">\n",
       "      <th></th>\n",
       "      <th>id</th>\n",
       "      <th>dist</th>\n",
       "      <th>climb</th>\n",
       "      <th>time</th>\n",
       "      <th>timef</th>\n",
       "      <th>type</th>\n",
       "    </tr>\n",
       "  </thead>\n",
       "  <tbody>\n",
       "    <tr>\n",
       "      <th>0</th>\n",
       "      <td>Aonach Mor Gondola</td>\n",
       "      <td>2</td>\n",
       "      <td>2000</td>\n",
       "      <td>0.403611</td>\n",
       "      <td>0.518889</td>\n",
       "      <td>uphill</td>\n",
       "    </tr>\n",
       "    <tr>\n",
       "      <th>1</th>\n",
       "      <td>Broughton Brewery</td>\n",
       "      <td>2</td>\n",
       "      <td>650</td>\n",
       "      <td>0.254444</td>\n",
       "      <td>0.316667</td>\n",
       "      <td>other</td>\n",
       "    </tr>\n",
       "    <tr>\n",
       "      <th>2</th>\n",
       "      <td>El-Brim-Ick</td>\n",
       "      <td>3</td>\n",
       "      <td>750</td>\n",
       "      <td>0.485833</td>\n",
       "      <td>0.389167</td>\n",
       "      <td>other</td>\n",
       "    </tr>\n",
       "    <tr>\n",
       "      <th>3</th>\n",
       "      <td>The Devils Burdens</td>\n",
       "      <td>21</td>\n",
       "      <td>4100</td>\n",
       "      <td>2.39972</td>\n",
       "      <td>3.09333</td>\n",
       "      <td>relay</td>\n",
       "    </tr>\n",
       "    <tr>\n",
       "      <th>6</th>\n",
       "      <td>Chapelgill</td>\n",
       "      <td>1.5</td>\n",
       "      <td>1400</td>\n",
       "      <td>0.314444</td>\n",
       "      <td>0.376667</td>\n",
       "      <td>hill</td>\n",
       "    </tr>\n",
       "    <tr>\n",
       "      <th>7</th>\n",
       "      <td>Norman's Law</td>\n",
       "      <td>5</td>\n",
       "      <td>700</td>\n",
       "      <td>0.464167</td>\n",
       "      <td>0.609167</td>\n",
       "      <td>hill</td>\n",
       "    </tr>\n",
       "    <tr>\n",
       "      <th>10</th>\n",
       "      <td>Screel</td>\n",
       "      <td>4</td>\n",
       "      <td>1300</td>\n",
       "      <td>0.458889</td>\n",
       "      <td>0.543611</td>\n",
       "      <td>hill</td>\n",
       "    </tr>\n",
       "    <tr>\n",
       "      <th>12</th>\n",
       "      <td>Hunters Bog</td>\n",
       "      <td>4.5</td>\n",
       "      <td>800</td>\n",
       "      <td>0.409444</td>\n",
       "      <td>0.477778</td>\n",
       "      <td>other</td>\n",
       "    </tr>\n",
       "    <tr>\n",
       "      <th>13</th>\n",
       "      <td>Aberfoyle Dash</td>\n",
       "      <td>3</td>\n",
       "      <td>1000</td>\n",
       "      <td>0.3375</td>\n",
       "      <td>0.381389</td>\n",
       "      <td>uphill</td>\n",
       "    </tr>\n",
       "    <tr>\n",
       "      <th>14</th>\n",
       "      <td>Manx Mountain</td>\n",
       "      <td>30.5</td>\n",
       "      <td>8000</td>\n",
       "      <td>4.46972</td>\n",
       "      <td>5.52333</td>\n",
       "      <td>marathon</td>\n",
       "    </tr>\n",
       "    <tr>\n",
       "      <th>15</th>\n",
       "      <td>Whangie Whizz</td>\n",
       "      <td>3.5</td>\n",
       "      <td>800</td>\n",
       "      <td>0.395556</td>\n",
       "      <td>0.464167</td>\n",
       "      <td>hill</td>\n",
       "    </tr>\n",
       "    <tr>\n",
       "      <th>17</th>\n",
       "      <td>Stuc A'Chroin</td>\n",
       "      <td>14</td>\n",
       "      <td>5000</td>\n",
       "      <td>1.98333</td>\n",
       "      <td>2.39889</td>\n",
       "      <td>hill</td>\n",
       "    </tr>\n",
       "    <tr>\n",
       "      <th>20</th>\n",
       "      <td>Kinnoull</td>\n",
       "      <td>4</td>\n",
       "      <td>800</td>\n",
       "      <td>0.387222</td>\n",
       "      <td>0.4525</td>\n",
       "      <td>hill</td>\n",
       "    </tr>\n",
       "    <tr>\n",
       "      <th>22</th>\n",
       "      <td>Scottish Nuclear Kaim</td>\n",
       "      <td>3.5</td>\n",
       "      <td>1250</td>\n",
       "      <td>0.431111</td>\n",
       "      <td>0.54</td>\n",
       "      <td>hill</td>\n",
       "    </tr>\n",
       "    <tr>\n",
       "      <th>25</th>\n",
       "      <td>Isle of Jura</td>\n",
       "      <td>16</td>\n",
       "      <td>7500</td>\n",
       "      <td>3.11639</td>\n",
       "      <td>3.83944</td>\n",
       "      <td>other</td>\n",
       "    </tr>\n",
       "    <tr>\n",
       "      <th>26</th>\n",
       "      <td>Scolty</td>\n",
       "      <td>5</td>\n",
       "      <td>800</td>\n",
       "      <td>0.495833</td>\n",
       "      <td>0.579167</td>\n",
       "      <td>hill</td>\n",
       "    </tr>\n",
       "    <tr>\n",
       "      <th>28</th>\n",
       "      <td>12 Trig Trog</td>\n",
       "      <td>46</td>\n",
       "      <td>7500</td>\n",
       "      <td>8.30694</td>\n",
       "      <td>13.5478</td>\n",
       "      <td>hill</td>\n",
       "    </tr>\n",
       "    <tr>\n",
       "      <th>33</th>\n",
       "      <td>Ben Sheann</td>\n",
       "      <td>2.5</td>\n",
       "      <td>1400</td>\n",
       "      <td>0.381667</td>\n",
       "      <td>0.484722</td>\n",
       "      <td>hill</td>\n",
       "    </tr>\n",
       "    <tr>\n",
       "      <th>34</th>\n",
       "      <td>Glen Rosa</td>\n",
       "      <td>13</td>\n",
       "      <td>5500</td>\n",
       "      <td>2.22028</td>\n",
       "      <td>2.70472</td>\n",
       "      <td>hill</td>\n",
       "    </tr>\n",
       "    <tr>\n",
       "      <th>35</th>\n",
       "      <td>West Highland Way</td>\n",
       "      <td>95</td>\n",
       "      <td>9200</td>\n",
       "      <td>15.4389</td>\n",
       "      <td>18.8792</td>\n",
       "      <td>other</td>\n",
       "    </tr>\n",
       "    <tr>\n",
       "      <th>38</th>\n",
       "      <td>Eildon Two</td>\n",
       "      <td>4.5</td>\n",
       "      <td>1500</td>\n",
       "      <td>0.427222</td>\n",
       "      <td>0.507778</td>\n",
       "      <td>other</td>\n",
       "    </tr>\n",
       "    <tr>\n",
       "      <th>44</th>\n",
       "      <td>Black Hill</td>\n",
       "      <td>4</td>\n",
       "      <td>600</td>\n",
       "      <td>0.447778</td>\n",
       "      <td>0.532222</td>\n",
       "      <td>hill</td>\n",
       "    </tr>\n",
       "    <tr>\n",
       "      <th>48</th>\n",
       "      <td>Meall Ant-Suidhe</td>\n",
       "      <td>3.5</td>\n",
       "      <td>1500</td>\n",
       "      <td>0.465</td>\n",
       "      <td>0.609722</td>\n",
       "      <td>hill</td>\n",
       "    </tr>\n",
       "    <tr>\n",
       "      <th>50</th>\n",
       "      <td>Lochaber AC</td>\n",
       "      <td>2</td>\n",
       "      <td>900</td>\n",
       "      <td>0.284722</td>\n",
       "      <td>0.360556</td>\n",
       "      <td>hill</td>\n",
       "    </tr>\n",
       "    <tr>\n",
       "      <th>51</th>\n",
       "      <td>Lochaber Highland</td>\n",
       "      <td>2</td>\n",
       "      <td>900</td>\n",
       "      <td>0.294167</td>\n",
       "      <td>0.473056</td>\n",
       "      <td>hill</td>\n",
       "    </tr>\n",
       "    <tr>\n",
       "      <th>53</th>\n",
       "      <td>Ben Rhinnes</td>\n",
       "      <td>14</td>\n",
       "      <td>4900</td>\n",
       "      <td>1.97611</td>\n",
       "      <td>2.35583</td>\n",
       "      <td>hill</td>\n",
       "    </tr>\n",
       "    <tr>\n",
       "      <th>55</th>\n",
       "      <td>Creag Dubh</td>\n",
       "      <td>3</td>\n",
       "      <td>1223</td>\n",
       "      <td>0.463889</td>\n",
       "      <td>0.601667</td>\n",
       "      <td>hill</td>\n",
       "    </tr>\n",
       "    <tr>\n",
       "      <th>56</th>\n",
       "      <td>Glen Clova</td>\n",
       "      <td>15</td>\n",
       "      <td>5500</td>\n",
       "      <td>2.56722</td>\n",
       "      <td>2.96222</td>\n",
       "      <td>hill</td>\n",
       "    </tr>\n",
       "    <tr>\n",
       "      <th>57</th>\n",
       "      <td>Caerketton</td>\n",
       "      <td>2.5</td>\n",
       "      <td>800</td>\n",
       "      <td>0.208611</td>\n",
       "      <td>0.246667</td>\n",
       "      <td>hill</td>\n",
       "    </tr>\n",
       "    <tr>\n",
       "      <th>61</th>\n",
       "      <td>Oban</td>\n",
       "      <td>2.25</td>\n",
       "      <td>500</td>\n",
       "      <td>0.232222</td>\n",
       "      <td>0.298889</td>\n",
       "      <td>hill</td>\n",
       "    </tr>\n",
       "    <tr>\n",
       "      <th>62</th>\n",
       "      <td>Ben Nevis</td>\n",
       "      <td>10</td>\n",
       "      <td>4400</td>\n",
       "      <td>1.42611</td>\n",
       "      <td>1.72361</td>\n",
       "      <td>hill</td>\n",
       "    </tr>\n",
       "    <tr>\n",
       "      <th>63</th>\n",
       "      <td>Braemar</td>\n",
       "      <td>4</td>\n",
       "      <td>2000</td>\n",
       "      <td>0.407778</td>\n",
       "      <td>NaN</td>\n",
       "      <td>other</td>\n",
       "    </tr>\n",
       "    <tr>\n",
       "      <th>64</th>\n",
       "      <td>Moffat Beef Tub</td>\n",
       "      <td>2</td>\n",
       "      <td>1500</td>\n",
       "      <td>0.332222</td>\n",
       "      <td>0.436944</td>\n",
       "      <td>hill</td>\n",
       "    </tr>\n",
       "    <tr>\n",
       "      <th>69</th>\n",
       "      <td>Two Breweries</td>\n",
       "      <td>18</td>\n",
       "      <td>4900</td>\n",
       "      <td>2.56583</td>\n",
       "      <td>3.08833</td>\n",
       "      <td>hill</td>\n",
       "    </tr>\n",
       "    <tr>\n",
       "      <th>71</th>\n",
       "      <td>Pentland</td>\n",
       "      <td>16</td>\n",
       "      <td>6200</td>\n",
       "      <td>2.37778</td>\n",
       "      <td>2.785</td>\n",
       "      <td>hill</td>\n",
       "    </tr>\n",
       "    <tr>\n",
       "      <th>72</th>\n",
       "      <td>Tinto</td>\n",
       "      <td>4.5</td>\n",
       "      <td>1500</td>\n",
       "      <td>0.499444</td>\n",
       "      <td>0.581111</td>\n",
       "      <td>hill</td>\n",
       "    </tr>\n",
       "    <tr>\n",
       "      <th>74</th>\n",
       "      <td>Elrick</td>\n",
       "      <td>3.6</td>\n",
       "      <td>650</td>\n",
       "      <td>0.358056</td>\n",
       "      <td>0.4425</td>\n",
       "      <td>relay</td>\n",
       "    </tr>\n",
       "    <tr>\n",
       "      <th>75</th>\n",
       "      <td>Gondola</td>\n",
       "      <td>2.5</td>\n",
       "      <td>2000</td>\n",
       "      <td>0.387222</td>\n",
       "      <td>0.518889</td>\n",
       "      <td>uphill</td>\n",
       "    </tr>\n",
       "    <tr>\n",
       "      <th>76</th>\n",
       "      <td>Greenmantle</td>\n",
       "      <td>2</td>\n",
       "      <td>650</td>\n",
       "      <td>0.254444</td>\n",
       "      <td>0.316667</td>\n",
       "      <td>other</td>\n",
       "    </tr>\n",
       "  </tbody>\n",
       "</table>\n",
       "</div>"
      ],
      "text/plain": [
       "                       id  dist climb      time     timef      type\n",
       "0      Aonach Mor Gondola     2  2000  0.403611  0.518889    uphill\n",
       "1       Broughton Brewery     2   650  0.254444  0.316667     other\n",
       "2             El-Brim-Ick     3   750  0.485833  0.389167     other\n",
       "3      The Devils Burdens    21  4100   2.39972   3.09333     relay\n",
       "6              Chapelgill   1.5  1400  0.314444  0.376667      hill\n",
       "7            Norman's Law     5   700  0.464167  0.609167      hill\n",
       "10                 Screel     4  1300  0.458889  0.543611      hill\n",
       "12            Hunters Bog   4.5   800  0.409444  0.477778     other\n",
       "13         Aberfoyle Dash     3  1000    0.3375  0.381389    uphill\n",
       "14          Manx Mountain  30.5  8000   4.46972   5.52333  marathon\n",
       "15          Whangie Whizz   3.5   800  0.395556  0.464167      hill\n",
       "17          Stuc A'Chroin    14  5000   1.98333   2.39889      hill\n",
       "20               Kinnoull     4   800  0.387222    0.4525      hill\n",
       "22  Scottish Nuclear Kaim   3.5  1250  0.431111      0.54      hill\n",
       "25           Isle of Jura    16  7500   3.11639   3.83944     other\n",
       "26                 Scolty     5   800  0.495833  0.579167      hill\n",
       "28           12 Trig Trog    46  7500   8.30694   13.5478      hill\n",
       "33             Ben Sheann   2.5  1400  0.381667  0.484722      hill\n",
       "34              Glen Rosa    13  5500   2.22028   2.70472      hill\n",
       "35      West Highland Way    95  9200   15.4389   18.8792     other\n",
       "38             Eildon Two   4.5  1500  0.427222  0.507778     other\n",
       "44             Black Hill     4   600  0.447778  0.532222      hill\n",
       "48       Meall Ant-Suidhe   3.5  1500     0.465  0.609722      hill\n",
       "50            Lochaber AC     2   900  0.284722  0.360556      hill\n",
       "51      Lochaber Highland     2   900  0.294167  0.473056      hill\n",
       "53            Ben Rhinnes    14  4900   1.97611   2.35583      hill\n",
       "55             Creag Dubh     3  1223  0.463889  0.601667      hill\n",
       "56             Glen Clova    15  5500   2.56722   2.96222      hill\n",
       "57             Caerketton   2.5   800  0.208611  0.246667      hill\n",
       "61                   Oban  2.25   500  0.232222  0.298889      hill\n",
       "62              Ben Nevis    10  4400   1.42611   1.72361      hill\n",
       "63                Braemar     4  2000  0.407778       NaN     other\n",
       "64        Moffat Beef Tub     2  1500  0.332222  0.436944      hill\n",
       "69          Two Breweries    18  4900   2.56583   3.08833      hill\n",
       "71               Pentland    16  6200   2.37778     2.785      hill\n",
       "72                  Tinto   4.5  1500  0.499444  0.581111      hill\n",
       "74                 Elrick   3.6   650  0.358056    0.4425     relay\n",
       "75                Gondola   2.5  2000  0.387222  0.518889    uphill\n",
       "76            Greenmantle     2   650  0.254444  0.316667     other"
      ]
     },
     "execution_count": 11,
     "metadata": {},
     "output_type": "execute_result"
    }
   ],
   "source": [
    "dat[(dat['climb'] > 4000) | (dat['time'] < 0.5)]"
   ]
  },
  {
   "cell_type": "markdown",
   "metadata": {},
   "source": [
    "### Задание 10\n",
    "\n",
    "Создать столбец `time_min`, который содержит время маршрута, измеренное в минутах."
   ]
  },
  {
   "cell_type": "code",
   "execution_count": 12,
   "metadata": {},
   "outputs": [],
   "source": [
    "dat['time_min'] = dat['time'] * 60"
   ]
  },
  {
   "cell_type": "markdown",
   "metadata": {},
   "source": [
    "### Задание 11\n",
    "\n",
    "Создать столбец `year` с годом соревнований (везде 2000 год). Внимание: столбец с годом должен быть числовым (целочисленным)."
   ]
  },
  {
   "cell_type": "code",
   "execution_count": 13,
   "metadata": {},
   "outputs": [],
   "source": [
    "dat['year'] = 2000"
   ]
  },
  {
   "cell_type": "markdown",
   "metadata": {},
   "source": [
    ".<br> .<br> .<br> .<br> .<br> .<br> .<br> .<br> .<br> .<br> .<br> .<br> .<br> .<br> .<br> .<br> .<br> .<br> \n",
    "# Дополнительное (необязательное) задание.\n",
    "<br>\n",
    "\n"
   ]
  },
  {
   "cell_type": "markdown",
   "metadata": {},
   "source": [
    "### Задание 1\n",
    "\n",
    "Загрузить датафрейм из файла `extraversion.csv`, используя код ниже. При этом файл `extraversion.csv` должен находиться в той же папке, что и ноутбук с решениями. Его можно поместить в ту же папку, нажав кнопку *Upload* в *Home*."
   ]
  },
  {
   "cell_type": "code",
   "execution_count": null,
   "metadata": {},
   "outputs": [],
   "source": [
    "# кодировка UTF-8, чтобы кириллица корректно считывалась на Windows\n",
    "ps = pd.read_csv(\"extraversion.csv\", encoding = \"UTF-8\")"
   ]
  },
  {
   "cell_type": "markdown",
   "metadata": {},
   "source": [
    "Файл содержит результаты учебного психометрического исследования, целью которого является выявление связи между уровнем экстраверсии человека и его склонности к участию в волонтёрской деятельности. Датафрейм содержит следующие столбцы:\n",
    "\n",
    "* `sex`: пол респондента (Женский, Мужской);\n",
    "* `volunteer`: регулярное участие в волонтёрской деятельности (Да, Нет);\n",
    "* `Q 1` - `Q 57`: ответы на вопросы по анкете Айзенка (Да, Нет), информацию об анкете и сами вопросы можно найти на [этой](http://ipp.hse.ru/57-testytest-ajzenka-ekstraversiya-introversiya-nejrotizm) странице."
   ]
  },
  {
   "cell_type": "code",
   "execution_count": 14,
   "metadata": {},
   "outputs": [],
   "source": [
    "ps = pd.read_csv(\"extraversion.csv\", encoding = \"UTF-8\")"
   ]
  },
  {
   "cell_type": "markdown",
   "metadata": {},
   "source": [
    "### Задание 2\n",
    "\n",
    "Определить, сколько в датафрейме строк и столбцов. Привести код и указать ответ в виде текста или комментария к коду."
   ]
  },
  {
   "cell_type": "code",
   "execution_count": 16,
   "metadata": {},
   "outputs": [
    {
     "data": {
      "text/plain": [
       "(52, 61)"
      ]
     },
     "execution_count": 16,
     "metadata": {},
     "output_type": "execute_result"
    }
   ],
   "source": [
    "ps.shape\n",
    "# 52 строки, 61 столбец"
   ]
  },
  {
   "cell_type": "markdown",
   "metadata": {},
   "source": [
    "### Задание 3\n",
    "\n",
    "Переименовать столбцы `Q 1`-`Q 57` в `Q1`-`Q57`, другими словами, убрать в названиях всех столбцов пробелы в середине (если есть). \n",
    "\n",
    "**Подсказка 1:** Метод `.replace()` для строк на [pythontutor.ru](https://pythontutor.ru/lessons/str/).\n",
    "\n",
    "**Подсказка 2:** Для выполнения этого задания можно написать функцию, которая будет заменять пробелы на «пустоту», а потом применить её с помощью функции `map()` ко всем элементам списка. Пример ниже иллюстрирует применение функции для изменения регистра текста."
   ]
  },
  {
   "cell_type": "code",
   "execution_count": 2,
   "metadata": {},
   "outputs": [
    {
     "data": {
      "text/plain": [
       "['ЯБЛОКО', 'ГРУША', 'СЛИВА']"
      ]
     },
     "execution_count": 2,
     "metadata": {},
     "output_type": "execute_result"
    }
   ],
   "source": [
    "# Пример\n",
    "\n",
    "L = ['яблоко', 'груша', 'слива']  # исходный список\n",
    "\n",
    "# функция принимает на вход строку x и возвращает её же, \n",
    "# но большими буквами – метод .upper()\n",
    "\n",
    "def f(x):\n",
    "    \"\"\"\n",
    "    Input: x is a string.\n",
    "    Output: x is a string.\n",
    "    Makes all letters uppercase. \n",
    "    \"\"\"\n",
    "    return x.upper()\n",
    "\n",
    "# результат: применяем функцию f к списку L через map и преобразуем в список\n",
    "# можно убрать list() вначале и убедиться, что он здесь нужен\n",
    "\n",
    "list(map(f, L))  "
   ]
  },
  {
   "cell_type": "code",
   "execution_count": 19,
   "metadata": {},
   "outputs": [],
   "source": [
    "def nospaces(x):\n",
    "    return x.replace(' ', '')\n",
    "\n",
    "new_columns = list(ps.columns)\n",
    "ps.columns = new_columns[:4] + list(map(nospaces, new_columns[4:]))"
   ]
  },
  {
   "cell_type": "markdown",
   "metadata": {},
   "source": [
    "### Задание 4\n",
    "\n",
    "Выбрать столбцы `Q1`, `Q3`, `Q8`, `Q10`, `Q13`, `Q17`, `Q22`, `Q25`, `Q27`, `Q39`, `Q44`, `Q46`, `Q49`, `Q53`, `Q56` и сохранить их в отдельный датафрейм `extra_yes`. \n",
    "\n",
    "Выбрать столбцы `Q5`, `Q15`, `Q20`, `Q29`, `Q32`, `Q34`, `Q37`,`Q41`, `Q51` и сохранить их в отдельный датафрейм `extra_no`.\n",
    "\n",
    "Эти столбцы будут использоваться для вычисления индекса экстраверсии."
   ]
  },
  {
   "cell_type": "code",
   "execution_count": 20,
   "metadata": {},
   "outputs": [],
   "source": [
    "extra_yes = pd.DataFrame(ps.loc[:, ['Q1', 'Q3', 'Q8', 'Q10', 'Q13', 'Q17', 'Q22', 'Q25', 'Q27', 'Q39', 'Q44', 'Q46', 'Q49', 'Q53', 'Q56']])\n",
    "extra_no = pd.DataFrame(ps.loc[:, ['Q5', 'Q15', 'Q20', 'Q29', 'Q32', 'Q34', 'Q37', 'Q41', 'Q51']])"
   ]
  },
  {
   "cell_type": "markdown",
   "metadata": {},
   "source": [
    "### Задание 5\n",
    "\n",
    "Посчитать для каждой строки в датафрейме `extra_yes` число ответов `\"Да\"` и полученный результат сохранить в переменную `extra_yes_sum`. Посчитать для каждой строки в датафрейме `extra_no` число ответов `\"Нет\"` и полученный результат сохранить в переменную `extra_no_sum`.\n",
    "\n",
    "**Подсказка 1:** метод `.isin()` для [датафреймов](https://pandas.pydata.org/pandas-docs/stable/reference/api/pandas.DataFrame.isin.html) `pandas`.\n",
    "\n",
    "**Подсказка 2:** метод `.sum()` для [датафреймов](https://pandas.pydata.org/pandas-docs/stable/reference/api/pandas.DataFrame.sum.html) `pandas`. "
   ]
  },
  {
   "cell_type": "code",
   "execution_count": 21,
   "metadata": {},
   "outputs": [],
   "source": [
    "extra_yes_sum = extra_yes.isin(['Да']).sum(axis=1)\n",
    "extra_no_sum = extra_no.isin(['Нет']).sum(axis=1)"
   ]
  },
  {
   "cell_type": "markdown",
   "metadata": {},
   "source": [
    "### Задание 6\n",
    "\n",
    "Добавить в исходный датафрейм столбец `extra`, который представляет собой индекс экстраверсии, который считается так: сумма числа ответов \"Да\" в `extra_yes` и числа ответов \"Нет\" в `extra_no`."
   ]
  },
  {
   "cell_type": "code",
   "execution_count": 22,
   "metadata": {},
   "outputs": [],
   "source": [
    "ps['extra'] = extra_yes_sum + extra_no_sum"
   ]
  },
  {
   "cell_type": "markdown",
   "metadata": {},
   "source": [
    "### Задание 7"
   ]
  },
  {
   "cell_type": "markdown",
   "metadata": {},
   "source": [
    "Добавить в исходный датафрейм столбец `female`, состоящий из значений 0 и 1 (0 — Мужской, 1 — Женский). \n",
    "\n",
    "**Подсказка:** возможно, пригодится метод `.astype()` для [Series](https://pandas.pydata.org/pandas-docs/version/0.23.4/generated/pandas.Series.astype.html) в `pandas`, он преобразует типы столбцов."
   ]
  },
  {
   "cell_type": "code",
   "execution_count": 23,
   "metadata": {},
   "outputs": [],
   "source": [
    "ps['female'] = ps['sex'].isin(['Женский']).astype(int)"
   ]
  },
  {
   "cell_type": "markdown",
   "metadata": {},
   "source": [
    "### Задание 8\n",
    "\n",
    "Выбрать из исходного датафрейма строки, которые соответствуют либо волонтёрам с индексом экстраверсии выше 15, либо не-волонтёрам с индексом экстраверсии ниже 15. Сохранить в датафрейм `pure`."
   ]
  },
  {
   "cell_type": "code",
   "execution_count": 28,
   "metadata": {},
   "outputs": [],
   "source": [
    "pure = ps[((ps['extra'] > 15) & (ps['volunteer'] == 'Да')) | (ps['extra'] < 15) & (ps['volunteer'] == 'Нет')]"
   ]
  },
  {
   "cell_type": "markdown",
   "metadata": {},
   "source": [
    "### Задание 9\n",
    "\n",
    "Определить (любым способом, кроме явного подсчёта), сколько волонтёров и не-волонтёров в датафрейме `pure`."
   ]
  },
  {
   "cell_type": "code",
   "execution_count": 29,
   "metadata": {},
   "outputs": [
    {
     "name": "stdout",
     "output_type": "stream",
     "text": [
      "Число волонтеров - 6,\n",
      "число не-волонтеров - 21\n"
     ]
    }
   ],
   "source": [
    "num_of_volunteers = pure[pure['extra'] > 15].shape[0]\n",
    "num_of_non_volunteers = pure[pure['extra'] < 15].shape[0]\n",
    "print(f'Число волонтеров - {num_of_volunteers},\\nчисло не-волонтеров - {num_of_non_volunteers}')"
   ]
  },
  {
   "cell_type": "markdown",
   "metadata": {},
   "source": [
    "### Задание 10\n",
    "\n",
    "Определить минимальное, максимальное, среднее и медианное значение индекса экстраверсии в датафрейме `pure`. Сохранить полученные результаты в отдельные переменные (их должно быть 4).\n",
    "\n",
    "Добавить в датафрейм `pure` столбец `high`, состоящий из 0 и 1, где 1 соответствует респондентам, уровень экстраверсии которых выше значения $m = \\max\\{\\text{median}, \\text{mean}\\}$, то есть максимума из медианного и среднего значения, а 0 — респондентам с уровнем экстраверсии не выше $m$."
   ]
  },
  {
   "cell_type": "code",
   "execution_count": 32,
   "metadata": {},
   "outputs": [
    {
     "name": "stdout",
     "output_type": "stream",
     "text": [
      "    Unnamed: 0  Unnamed: 0.1      sex volunteer   Q1   Q2   Q3   Q4   Q5   Q6  \\\n",
      "0            0             1  Женский       Нет   Да  Нет  Нет   Да   Да   Да   \n",
      "1            1             2  Женский        Да   Да   Да  Нет   Да   Да   Да   \n",
      "3            3             4  Женский       Нет   Да   Да  Нет  Нет   Да   Да   \n",
      "4            4             5  Женский       Нет   Да   Да  Нет   Да   Да   Да   \n",
      "7            7             8  Женский        Да   Да   Да   Да  Нет   Да   Да   \n",
      "8            8             9  Женский       Нет   Да   Да  Нет   Да   Да   Да   \n",
      "9            9            10  Женский        Да   Да   Да  Нет  Нет   Да  Нет   \n",
      "10          10            11  Мужской       Нет  Нет   Да  Нет  Нет   Да   Да   \n",
      "11          11            12  Женский        Да   Да   Да  Нет   Да   Да   Да   \n",
      "14          14            15  Женский       Нет  Нет  Нет  Нет   Да   Да  Нет   \n",
      "16          16            17  Женский       Нет   Да   Да  Нет  Нет  Нет   Да   \n",
      "18          18            19  Женский       Нет   Да   Да  Нет   Да   Да   Да   \n",
      "19          19            20  Женский       Нет  Нет  Нет   Да   Да   Да  Нет   \n",
      "20          20            21  Женский       Нет   Да   Да  Нет   Да   Да   Да   \n",
      "23          23            24  Мужской        Да   Да   Да  Нет  Нет   Да   Да   \n",
      "26          26            27  Женский       Нет   Да   Да  Нет  Нет   Да   Да   \n",
      "29          29            30  Женский       Нет  Нет  Нет  Нет  Нет   Да   Да   \n",
      "33          33            34  Мужской       Нет  Нет   Да  Нет   Да   Да  Нет   \n",
      "34          34            35  Женский       Нет   Да   Да   Да  Нет   Да   Да   \n",
      "37          37            38  Женский       Нет   Да  Нет  Нет  Нет   Да   Да   \n",
      "38          38            39  Женский       Нет   Да  Нет  Нет  Нет   Да  Нет   \n",
      "40          40            41  Женский       Нет   Да   Да  Нет  Нет   Да  Нет   \n",
      "43          43            44  Женский       Нет   Да   Да  Нет   Да   Да   Да   \n",
      "45          45            46  Женский       Нет   Да   Да  Нет  Нет   Да   Да   \n",
      "47          47            48  Женский       Нет  Нет  Нет  Нет   Да   Да   Да   \n",
      "48          48            49  Женский        Да   Да   Да  Нет   Да   Да   Да   \n",
      "50          50            51  Женский       Нет   Да   Да  Нет  Нет   Да  Нет   \n",
      "\n",
      "    ...  Q51  Q52  Q53  Q54  Q55  Q56  Q57 extra female high  \n",
      "0   ...   Да   Да  Нет  Нет  Нет  Нет   Да     5      1    0  \n",
      "1   ...  Нет  Нет   Да  Нет   Да   Да  Нет    16      1    1  \n",
      "3   ...   Да  Нет  Нет  Нет   Да  Нет  Нет     4      1    0  \n",
      "4   ...  Нет   Да   Да   Да   Да   Да  Нет    13      1    1  \n",
      "7   ...  Нет   Да   Да   Да   Да   Да  Нет    21      1    1  \n",
      "8   ...  Нет   Да   Да  Нет   Да   Да  Нет    12      1    1  \n",
      "9   ...  Нет  Нет   Да   Да   Да   Да  Нет    19      1    1  \n",
      "10  ...   Да  Нет   Да   Да   Да   Да  Нет     8      0    0  \n",
      "11  ...  Нет   Да   Да   Да   Да   Да  Нет    17      1    1  \n",
      "14  ...   Да   Да  Нет   Да   Да  Нет  Нет     6      1    0  \n",
      "16  ...   Да   Да  Нет   Да   Да   Да  Нет    14      1    1  \n",
      "18  ...  Нет   Да  Нет   Да   Да  Нет   Да    11      1    0  \n",
      "19  ...   Да   Да  Нет   Да  Нет   Да   Да     9      1    0  \n",
      "20  ...   Да   Да  Нет   Да   Да   Да  Нет    11      1    0  \n",
      "23  ...  Нет   Да   Да  Нет   Да   Да  Нет    17      0    1  \n",
      "26  ...   Да   Да   Да  Нет   Да  Нет  Нет    12      1    1  \n",
      "29  ...   Да   Да  Нет   Да   Да   Да  Нет     3      1    0  \n",
      "33  ...  Нет   Да  Нет  Нет  Нет   Да  Нет     9      0    0  \n",
      "34  ...  Нет  Нет  Нет  Нет   Да  Нет  Нет     9      1    0  \n",
      "37  ...  Нет  Нет  Нет  Нет   Да  Нет  Нет     8      1    0  \n",
      "38  ...  Нет  Нет  Нет  Нет   Да   Да   Да    10      1    0  \n",
      "40  ...  Нет   Да   Да  Нет   Да  Нет   Да    12      1    1  \n",
      "43  ...  Нет   Да  Нет  Нет  Нет   Да  Нет    10      1    0  \n",
      "45  ...  Нет   Да  Нет  Нет   Да   Да   Да    14      1    1  \n",
      "47  ...   Да   Да  Нет   Да  Нет  Нет  Нет     2      1    0  \n",
      "48  ...  Нет  Нет   Да   Да  Нет  Нет  Нет    18      1    1  \n",
      "50  ...  Нет   Да   Да  Нет   Да   Да   Да    13      1    1  \n",
      "\n",
      "[27 rows x 64 columns]\n"
     ]
    },
    {
     "name": "stderr",
     "output_type": "stream",
     "text": [
      "C:\\Users\\larinsi\\Anaconda3\\lib\\site-packages\\ipykernel_launcher.py:3: SettingWithCopyWarning: \n",
      "A value is trying to be set on a copy of a slice from a DataFrame.\n",
      "Try using .loc[row_indexer,col_indexer] = value instead\n",
      "\n",
      "See the caveats in the documentation: http://pandas.pydata.org/pandas-docs/stable/indexing.html#indexing-view-versus-copy\n",
      "  This is separate from the ipykernel package so we can avoid doing imports until\n"
     ]
    }
   ],
   "source": [
    "ps_min, ps_max, ps_median, ps_mean = pure[\"extra\"].describe()[[\"min\", \"max\", \"50%\", \"mean\"]]\n",
    "\n",
    "pure[\"high\"] = (pure[\"extra\"] > max(ps_median, ps_mean)).astype(int)\n",
    "print(pure)"
   ]
  },
  {
   "cell_type": "code",
   "execution_count": null,
   "metadata": {},
   "outputs": [],
   "source": []
  }
 ],
 "metadata": {
  "kernelspec": {
   "display_name": "Python 3",
   "language": "python",
   "name": "python3"
  },
  "language_info": {
   "codemirror_mode": {
    "name": "ipython",
    "version": 3
   },
   "file_extension": ".py",
   "mimetype": "text/x-python",
   "name": "python",
   "nbconvert_exporter": "python",
   "pygments_lexer": "ipython3",
   "version": "3.7.3"
  }
 },
 "nbformat": 4,
 "nbformat_minor": 2
}
