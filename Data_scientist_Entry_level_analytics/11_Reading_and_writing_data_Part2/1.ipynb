{
 "cells": [
  {
   "cell_type": "markdown",
   "metadata": {
    "id": "zgfg6PaTrknK"
   },
   "source": [
    "# Чтение и запись данных\n"
   ]
  },
  {
   "cell_type": "code",
   "execution_count": 1,
   "metadata": {
    "id": "qpd3wki0rknL"
   },
   "outputs": [],
   "source": [
    "import urllib.request as req\n",
    "import json\n",
    "import pandas as pd"
   ]
  },
  {
   "cell_type": "markdown",
   "metadata": {
    "id": "FOXDpSRnrknP"
   },
   "source": [
    "## Урок 1. Чтение данных из web-сервиса\n",
    "\n",
    "### Практика\n",
    "\n",
    "#### Задание 1\n",
    "\n",
    "Используя сервис MetaWeather, найдите идентификатор города Париж (Paris). Для запроса используйте адрес из следующей ячейки, заменив `%city%` на имя города."
   ]
  },
  {
   "cell_type": "code",
   "execution_count": 3,
   "metadata": {
    "id": "1Xljt65SrknP"
   },
   "outputs": [
    {
     "data": {
      "text/plain": [
       "[{'title': 'Paris',\n",
       "  'location_type': 'City',\n",
       "  'woeid': 615702,\n",
       "  'latt_long': '48.856930,2.341200'}]"
      ]
     },
     "execution_count": 3,
     "metadata": {},
     "output_type": "execute_result"
    }
   ],
   "source": [
    "url = \"https://www.metaweather.com/api/location/search/?query=paris\"\n",
    "with req.urlopen(url) as session:\n",
    "    response1 = session.read().decode()\n",
    "    data = json.loads(response1)\n",
    "data"
   ]
  },
  {
   "cell_type": "markdown",
   "metadata": {
    "id": "H0XwvPuJrknR"
   },
   "source": [
    "#### Задание 2\n",
    "\n",
    "Используя полученный идентификатор города, запросите данные о погоде в Париже за 28 мая 2020 года. Для запроса используйте адрес из следующей ячейки, заменив `%city_id%`, `%year%`, `%month%`, `%day%` на идентификатор города, год, месяц и день соответственно."
   ]
  },
  {
   "cell_type": "code",
   "execution_count": 4,
   "metadata": {
    "id": "tjsftok3rknS"
   },
   "outputs": [
    {
     "data": {
      "text/html": [
       "<div>\n",
       "<style scoped>\n",
       "    .dataframe tbody tr th:only-of-type {\n",
       "        vertical-align: middle;\n",
       "    }\n",
       "\n",
       "    .dataframe tbody tr th {\n",
       "        vertical-align: top;\n",
       "    }\n",
       "\n",
       "    .dataframe thead th {\n",
       "        text-align: right;\n",
       "    }\n",
       "</style>\n",
       "<table border=\"1\" class=\"dataframe\">\n",
       "  <thead>\n",
       "    <tr style=\"text-align: right;\">\n",
       "      <th></th>\n",
       "      <th>id</th>\n",
       "      <th>weather_state_name</th>\n",
       "      <th>weather_state_abbr</th>\n",
       "      <th>wind_direction_compass</th>\n",
       "      <th>created</th>\n",
       "      <th>applicable_date</th>\n",
       "      <th>min_temp</th>\n",
       "      <th>max_temp</th>\n",
       "      <th>the_temp</th>\n",
       "      <th>wind_speed</th>\n",
       "      <th>wind_direction</th>\n",
       "      <th>air_pressure</th>\n",
       "      <th>humidity</th>\n",
       "      <th>visibility</th>\n",
       "      <th>predictability</th>\n",
       "    </tr>\n",
       "  </thead>\n",
       "  <tbody>\n",
       "    <tr>\n",
       "      <th>0</th>\n",
       "      <td>6723109975490560</td>\n",
       "      <td>Clear</td>\n",
       "      <td>c</td>\n",
       "      <td>NE</td>\n",
       "      <td>2020-05-28T21:36:04.490586Z</td>\n",
       "      <td>2020-05-28</td>\n",
       "      <td>14.970</td>\n",
       "      <td>21.925</td>\n",
       "      <td>21.810</td>\n",
       "      <td>7.253747</td>\n",
       "      <td>45.331452</td>\n",
       "      <td>1028.0</td>\n",
       "      <td>43</td>\n",
       "      <td>15.078815</td>\n",
       "      <td>68</td>\n",
       "    </tr>\n",
       "    <tr>\n",
       "      <th>1</th>\n",
       "      <td>5582221102546944</td>\n",
       "      <td>Clear</td>\n",
       "      <td>c</td>\n",
       "      <td>NE</td>\n",
       "      <td>2020-05-28T18:36:05.696646Z</td>\n",
       "      <td>2020-05-28</td>\n",
       "      <td>13.895</td>\n",
       "      <td>24.470</td>\n",
       "      <td>24.165</td>\n",
       "      <td>7.170185</td>\n",
       "      <td>41.668908</td>\n",
       "      <td>1028.5</td>\n",
       "      <td>42</td>\n",
       "      <td>15.078815</td>\n",
       "      <td>68</td>\n",
       "    </tr>\n",
       "    <tr>\n",
       "      <th>2</th>\n",
       "      <td>4875719383449600</td>\n",
       "      <td>Clear</td>\n",
       "      <td>c</td>\n",
       "      <td>NE</td>\n",
       "      <td>2020-05-28T15:36:05.294001Z</td>\n",
       "      <td>2020-05-28</td>\n",
       "      <td>13.895</td>\n",
       "      <td>24.470</td>\n",
       "      <td>24.165</td>\n",
       "      <td>7.170185</td>\n",
       "      <td>41.668908</td>\n",
       "      <td>1028.5</td>\n",
       "      <td>42</td>\n",
       "      <td>15.078815</td>\n",
       "      <td>68</td>\n",
       "    </tr>\n",
       "    <tr>\n",
       "      <th>3</th>\n",
       "      <td>5781794072821760</td>\n",
       "      <td>Clear</td>\n",
       "      <td>c</td>\n",
       "      <td>NE</td>\n",
       "      <td>2020-05-28T12:36:04.965983Z</td>\n",
       "      <td>2020-05-28</td>\n",
       "      <td>13.865</td>\n",
       "      <td>23.555</td>\n",
       "      <td>22.340</td>\n",
       "      <td>7.230251</td>\n",
       "      <td>42.670098</td>\n",
       "      <td>1030.0</td>\n",
       "      <td>48</td>\n",
       "      <td>15.078815</td>\n",
       "      <td>68</td>\n",
       "    </tr>\n",
       "    <tr>\n",
       "      <th>4</th>\n",
       "      <td>5252630563520512</td>\n",
       "      <td>Clear</td>\n",
       "      <td>c</td>\n",
       "      <td>NE</td>\n",
       "      <td>2020-05-28T09:36:04.743683Z</td>\n",
       "      <td>2020-05-28</td>\n",
       "      <td>13.930</td>\n",
       "      <td>23.000</td>\n",
       "      <td>22.370</td>\n",
       "      <td>7.199636</td>\n",
       "      <td>43.334991</td>\n",
       "      <td>1030.0</td>\n",
       "      <td>47</td>\n",
       "      <td>14.516474</td>\n",
       "      <td>68</td>\n",
       "    </tr>\n",
       "  </tbody>\n",
       "</table>\n",
       "</div>"
      ],
      "text/plain": [
       "                 id weather_state_name weather_state_abbr  \\\n",
       "0  6723109975490560              Clear                  c   \n",
       "1  5582221102546944              Clear                  c   \n",
       "2  4875719383449600              Clear                  c   \n",
       "3  5781794072821760              Clear                  c   \n",
       "4  5252630563520512              Clear                  c   \n",
       "\n",
       "  wind_direction_compass                      created applicable_date  \\\n",
       "0                     NE  2020-05-28T21:36:04.490586Z      2020-05-28   \n",
       "1                     NE  2020-05-28T18:36:05.696646Z      2020-05-28   \n",
       "2                     NE  2020-05-28T15:36:05.294001Z      2020-05-28   \n",
       "3                     NE  2020-05-28T12:36:04.965983Z      2020-05-28   \n",
       "4                     NE  2020-05-28T09:36:04.743683Z      2020-05-28   \n",
       "\n",
       "   min_temp  max_temp  the_temp  wind_speed  wind_direction  air_pressure  \\\n",
       "0    14.970    21.925    21.810    7.253747       45.331452        1028.0   \n",
       "1    13.895    24.470    24.165    7.170185       41.668908        1028.5   \n",
       "2    13.895    24.470    24.165    7.170185       41.668908        1028.5   \n",
       "3    13.865    23.555    22.340    7.230251       42.670098        1030.0   \n",
       "4    13.930    23.000    22.370    7.199636       43.334991        1030.0   \n",
       "\n",
       "   humidity  visibility  predictability  \n",
       "0        43   15.078815              68  \n",
       "1        42   15.078815              68  \n",
       "2        42   15.078815              68  \n",
       "3        48   15.078815              68  \n",
       "4        47   14.516474              68  "
      ]
     },
     "execution_count": 4,
     "metadata": {},
     "output_type": "execute_result"
    }
   ],
   "source": [
    "url = 'https://www.metaweather.com/api/location/615702/2020/05/28/'\n",
    "df = pd.read_json(url)\n",
    "df.head()\n"
   ]
  },
  {
   "cell_type": "code",
   "execution_count": null,
   "metadata": {},
   "outputs": [],
   "source": []
  }
 ],
 "metadata": {
  "colab": {
   "collapsed_sections": [],
   "name": "1.ipynb",
   "provenance": []
  },
  "kernelspec": {
   "display_name": "Python 3",
   "language": "python",
   "name": "python3"
  },
  "language_info": {
   "codemirror_mode": {
    "name": "ipython",
    "version": 3
   },
   "file_extension": ".py",
   "mimetype": "text/x-python",
   "name": "python",
   "nbconvert_exporter": "python",
   "pygments_lexer": "ipython3",
   "version": "3.8.5"
  }
 },
 "nbformat": 4,
 "nbformat_minor": 1
}
