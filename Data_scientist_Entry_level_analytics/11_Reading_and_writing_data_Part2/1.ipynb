{
  "nbformat": 4,
  "nbformat_minor": 0,
  "metadata": {
    "kernelspec": {
      "display_name": "Python 3",
      "language": "python",
      "name": "python3"
    },
    "language_info": {
      "codemirror_mode": {
        "name": "ipython",
        "version": 3
      },
      "file_extension": ".py",
      "mimetype": "text/x-python",
      "name": "python",
      "nbconvert_exporter": "python",
      "pygments_lexer": "ipython3",
      "version": "3.7.4"
    },
    "colab": {
      "name": "1.ipynb",
      "provenance": [],
      "collapsed_sections": []
    }
  },
  "cells": [
    {
      "cell_type": "markdown",
      "metadata": {
        "id": "zgfg6PaTrknK"
      },
      "source": [
        "# Чтение и запись данных\n"
      ]
    },
    {
      "cell_type": "code",
      "metadata": {
        "id": "qpd3wki0rknL"
      },
      "source": [
        "import urllib.request as req\n",
        "import json\n",
        "import pandas as pd"
      ],
      "execution_count": null,
      "outputs": []
    },
    {
      "cell_type": "markdown",
      "metadata": {
        "id": "FOXDpSRnrknP"
      },
      "source": [
        "## Урок 1. Чтение данных из web-сервиса\n",
        "\n",
        "### Практика\n",
        "\n",
        "#### Задание 1\n",
        "\n",
        "Используя сервис MetaWeather, найдите идентификатор города Париж (Paris). Для запроса используйте адрес из следующей ячейки, заменив `%city%` на имя города."
      ]
    },
    {
      "cell_type": "code",
      "metadata": {
        "id": "1Xljt65SrknP"
      },
      "source": [
        "url = \"https://www.metaweather.com/api/location/search/?query=%city%\"\n"
      ],
      "execution_count": null,
      "outputs": []
    },
    {
      "cell_type": "markdown",
      "metadata": {
        "id": "H0XwvPuJrknR"
      },
      "source": [
        "#### Задание 2\n",
        "\n",
        "Используя полученный идентификатор города, запросите данные о погоде в Париже за 28 мая 2020 года. Для запроса используйте адрес из следующей ячейки, заменив `%city_id%`, `%year%`, `%month%`, `%day%` на идентификатор города, год, месяц и день соответственно."
      ]
    },
    {
      "cell_type": "code",
      "metadata": {
        "id": "tjsftok3rknS"
      },
      "source": [
        "url = 'https://www.metaweather.com/api/location/%city_id%/%year%/%month%/%day%/'\n"
      ],
      "execution_count": null,
      "outputs": []
    }
  ]
}