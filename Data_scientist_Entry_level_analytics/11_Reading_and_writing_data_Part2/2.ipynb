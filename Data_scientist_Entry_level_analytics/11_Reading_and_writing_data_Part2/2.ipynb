{
  "nbformat": 4,
  "nbformat_minor": 0,
  "metadata": {
    "kernelspec": {
      "display_name": "Python 3",
      "language": "python",
      "name": "python3"
    },
    "language_info": {
      "codemirror_mode": {
        "name": "ipython",
        "version": 3
      },
      "file_extension": ".py",
      "mimetype": "text/x-python",
      "name": "python",
      "nbconvert_exporter": "python",
      "pygments_lexer": "ipython3",
      "version": "3.7.4"
    },
    "colab": {
      "name": "2.ipynb",
      "provenance": [],
      "collapsed_sections": []
    }
  },
  "cells": [
    {
      "cell_type": "markdown",
      "metadata": {
        "id": "g5_bJDTG_QJw"
      },
      "source": [
        "# Чтение и запись данных\n"
      ]
    },
    {
      "cell_type": "code",
      "metadata": {
        "id": "vc64K_il_QJ0"
      },
      "source": [
        "import urllib.request as req\n",
        "import json\n",
        "import pandas as pd"
      ],
      "execution_count": null,
      "outputs": []
    },
    {
      "cell_type": "markdown",
      "metadata": {
        "id": "azHzSUyx_QKF"
      },
      "source": [
        "## Урок 2. Чтение и запись файлов в формате JSON\n",
        "\n",
        "### Практика\n",
        "\n",
        "#### Задание 1 \n",
        "\n",
        "Используя сервис MetaWeather, найдите идентификатор Москвы (Moscow). Для запроса используйте адрес из следующей ячейки, заменив `%city%` на имя города."
      ]
    },
    {
      "cell_type": "code",
      "metadata": {
        "id": "S-mrH_cC_QKJ"
      },
      "source": [
        "url = \"https://www.metaweather.com/api/location/search/?query=%city%\"\n"
      ],
      "execution_count": null,
      "outputs": []
    },
    {
      "cell_type": "markdown",
      "metadata": {
        "id": "rCWH6UNH_QKX"
      },
      "source": [
        "#### Задание 2 \n",
        "\n",
        "Используя полученный идентификатор города, запросите данные о погоде в Москве за 28 апреля 2020 года. Для запроса используйте адрес из следующей ячейки, заменив `%city_id%`, `%year%`, `%month%`, `%day%` на идентификатор города, год, месяц и день соответственно."
      ]
    },
    {
      "cell_type": "code",
      "metadata": {
        "id": "fKYwn-Iz_QKa"
      },
      "source": [
        "url = 'https://www.metaweather.com/api/location/%city_id%/%year%/%month%/%day%/'\n"
      ],
      "execution_count": null,
      "outputs": []
    },
    {
      "cell_type": "markdown",
      "metadata": {
        "id": "VeTB_VLo_QKl"
      },
      "source": [
        "#### Задание 3 \n",
        "\n",
        "Сохраните полученные данные в файл `file.json`. Для форматирования файла используйте четыре пробела."
      ]
    },
    {
      "cell_type": "code",
      "metadata": {
        "id": "6RKs950M_QKm"
      },
      "source": [
        ""
      ],
      "execution_count": null,
      "outputs": []
    },
    {
      "cell_type": "markdown",
      "metadata": {
        "id": "dpCG2qxv_QKw"
      },
      "source": [
        "#### Задание 4 \n",
        "\n",
        "Загрузите содержимое файла `file.json` в DataFrame и выведите первые пять строк на экран."
      ]
    },
    {
      "cell_type": "code",
      "metadata": {
        "id": "1wug7UER_QKx"
      },
      "source": [
        ""
      ],
      "execution_count": null,
      "outputs": []
    }
  ]
}