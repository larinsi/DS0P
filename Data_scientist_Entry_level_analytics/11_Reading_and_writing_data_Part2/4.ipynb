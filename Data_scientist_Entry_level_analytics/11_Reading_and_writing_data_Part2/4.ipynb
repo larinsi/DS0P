{
  "nbformat": 4,
  "nbformat_minor": 0,
  "metadata": {
    "kernelspec": {
      "display_name": "Python 3",
      "language": "python",
      "name": "python3"
    },
    "language_info": {
      "codemirror_mode": {
        "name": "ipython",
        "version": 3
      },
      "file_extension": ".py",
      "mimetype": "text/x-python",
      "name": "python",
      "nbconvert_exporter": "python",
      "pygments_lexer": "ipython3",
      "version": "3.7.4"
    },
    "colab": {
      "name": "4.ipynb",
      "provenance": []
    }
  },
  "cells": [
    {
      "cell_type": "markdown",
      "metadata": {
        "id": "Rq31lWboHLGc"
      },
      "source": [
        "# Чтение и запись данных\n"
      ]
    },
    {
      "cell_type": "code",
      "metadata": {
        "id": "ycgf4IfyHLGj"
      },
      "source": [
        "import pandas as pd\n",
        "import pymongo"
      ],
      "execution_count": null,
      "outputs": []
    },
    {
      "cell_type": "markdown",
      "metadata": {
        "id": "obr_sibHHLGk"
      },
      "source": [
        "## Урок 4. Работа с большими данными - MongoDB\n",
        "\n",
        "### Практика\n",
        "\n",
        "#### Задание 1.\n",
        "\n",
        "Подключитесь к коллекции `tags` базы данных `movies` MongoDB и выведите первый документ на экран. Используйте строку подключения из ячейки ниже."
      ]
    },
    {
      "cell_type": "code",
      "metadata": {
        "id": "gSnbge7KHLGl"
      },
      "source": [
        ""
      ],
      "execution_count": null,
      "outputs": []
    },
    {
      "cell_type": "markdown",
      "metadata": {
        "id": "A1iNrUdzHLGm"
      },
      "source": [
        "#### Задание 2.\n",
        "\n",
        "Найдите документы, в которых имя тега (поле `name`) 'friendship', преобразуйте результат поиска в список и выведите содержимое списка на экран"
      ]
    },
    {
      "cell_type": "code",
      "metadata": {
        "id": "9vyxtNSzHLGm"
      },
      "source": [
        ""
      ],
      "execution_count": null,
      "outputs": []
    },
    {
      "cell_type": "markdown",
      "metadata": {
        "id": "hhw_Ec4tHLGn"
      },
      "source": [
        "#### Задание 3.\n",
        "\n",
        "Преобразуйте список документов в pandas DataFrame и выведите первые 5 строк на экран"
      ]
    },
    {
      "cell_type": "code",
      "metadata": {
        "id": "Tlz_3HtJHLGn"
      },
      "source": [
        ""
      ],
      "execution_count": null,
      "outputs": []
    }
  ]
}