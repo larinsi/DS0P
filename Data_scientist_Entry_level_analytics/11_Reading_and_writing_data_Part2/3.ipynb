{
  "nbformat": 4,
  "nbformat_minor": 0,
  "metadata": {
    "kernelspec": {
      "display_name": "Python 3",
      "language": "python",
      "name": "python3"
    },
    "language_info": {
      "codemirror_mode": {
        "name": "ipython",
        "version": 3
      },
      "file_extension": ".py",
      "mimetype": "text/x-python",
      "name": "python",
      "nbconvert_exporter": "python",
      "pygments_lexer": "ipython3",
      "version": "3.7.4"
    },
    "colab": {
      "name": "3.ipynb",
      "provenance": [],
      "collapsed_sections": []
    }
  },
  "cells": [
    {
      "cell_type": "markdown",
      "metadata": {
        "id": "qV07DIWQ_Y4y"
      },
      "source": [
        "# Чтение и запись данных\n"
      ]
    },
    {
      "cell_type": "code",
      "metadata": {
        "id": "c14xe20t_Y41"
      },
      "source": [
        "import sqlalchemy\n",
        "import psycopg2\n",
        "import pandas as pd"
      ],
      "execution_count": null,
      "outputs": []
    },
    {
      "cell_type": "markdown",
      "metadata": {
        "id": "aRCcWdnV_Y5E"
      },
      "source": [
        "## Урок 3. Чтение из баз данных с помощью pandas и sqlalchemy\n",
        "\n",
        "### Практика\n",
        "\n",
        "#### Задание 1\n",
        "\n",
        "Подключитесь к базе данных, загрузите содержимое таблицы `course_purchases` в DataFrame и выведите первые 10 строк на экран."
      ]
    },
    {
      "cell_type": "code",
      "metadata": {
        "id": "AN0QBySk_Y5I"
      },
      "source": [
        ""
      ],
      "execution_count": null,
      "outputs": []
    },
    {
      "cell_type": "markdown",
      "metadata": {
        "id": "0htcnwRb_Y5V"
      },
      "source": [
        "#### Задание 2\n",
        "\n",
        "Используя DataFrame из предыдущего задания, определите для каждого курса количество пользователей, купивших его. Подсказка: используйте метод groupby."
      ]
    },
    {
      "cell_type": "code",
      "metadata": {
        "id": "paPpxP0L_Y5Y"
      },
      "source": [
        ""
      ],
      "execution_count": null,
      "outputs": []
    },
    {
      "cell_type": "markdown",
      "metadata": {
        "id": "KMzH2sXZ_Y5i"
      },
      "source": [
        "#### Задание 3. \n",
        "\n",
        "Используя SQL-запрос с группировкой (GROUP BY), определите для каждого курса количество пользователей, купивших его. Результат запроса загрузите в DataFrame и выведите первые 10 строк на экран."
      ]
    },
    {
      "cell_type": "code",
      "metadata": {
        "id": "Z2lJnyQ5_Y5k"
      },
      "source": [
        ""
      ],
      "execution_count": null,
      "outputs": []
    }
  ]
}