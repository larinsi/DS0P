{
  "nbformat": 4,
  "nbformat_minor": 0,
  "metadata": {
    "kernelspec": {
      "display_name": "Python 3",
      "language": "python",
      "name": "python3"
    },
    "language_info": {
      "codemirror_mode": {
        "name": "ipython",
        "version": 3
      },
      "file_extension": ".py",
      "mimetype": "text/x-python",
      "name": "python",
      "nbconvert_exporter": "python",
      "pygments_lexer": "ipython3",
      "version": "3.7.4"
    },
    "colab": {
      "name": "mid_anl_ab2_les_practice_1_solution.ipynb",
      "provenance": []
    }
  },
  "cells": [
    {
      "cell_type": "markdown",
      "metadata": {
        "id": "2YLX9SiElgWc"
      },
      "source": [
        "### Практическое задание 1: решения в Python"
      ]
    },
    {
      "cell_type": "code",
      "metadata": {
        "id": "g5siZWDnlgW0"
      },
      "source": [
        "import numpy as np\n",
        "import pandas as pd\n",
        "import random"
      ],
      "execution_count": null,
      "outputs": []
    },
    {
      "cell_type": "code",
      "metadata": {
        "id": "LFEdninElgXL"
      },
      "source": [
        "df = pd.read_csv(\"conversion.csv\") "
      ],
      "execution_count": null,
      "outputs": []
    },
    {
      "cell_type": "code",
      "metadata": {
        "id": "5ct8s2gtlgXe"
      },
      "source": [
        "p_old = df['OLD'].mean() \n",
        "p_new = df['NEW'].mean()"
      ],
      "execution_count": null,
      "outputs": []
    },
    {
      "cell_type": "code",
      "metadata": {
        "id": "sWUny8qalgXv"
      },
      "source": [
        "p_new - p_old"
      ],
      "execution_count": null,
      "outputs": []
    },
    {
      "cell_type": "code",
      "metadata": {
        "id": "RW6XHya-lgYA"
      },
      "source": [
        "differences = np.zeros((1, 1500)) "
      ],
      "execution_count": null,
      "outputs": []
    },
    {
      "cell_type": "code",
      "metadata": {
        "id": "nexXhfbzlgYZ"
      },
      "source": [
        "for i in range(0, 1500):\n",
        "    s1 = random.choices(df['OLD'], k = 800)\n",
        "    s2 = random.choices(df['NEW'], k = 800)\n",
        "    p1 = np.mean(s1)\n",
        "    p2 = np.mean(s2)\n",
        "    differences[0][i] = p2 - p1"
      ],
      "execution_count": null,
      "outputs": []
    },
    {
      "cell_type": "code",
      "metadata": {
        "id": "8G3wOXOIlgYy"
      },
      "source": [
        "((differences - np.mean(differences)) >= 0.6325).sum() "
      ],
      "execution_count": null,
      "outputs": []
    }
  ]
}