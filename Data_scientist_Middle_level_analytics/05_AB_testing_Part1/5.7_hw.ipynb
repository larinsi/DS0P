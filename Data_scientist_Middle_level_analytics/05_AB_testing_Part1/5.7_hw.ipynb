{
 "cells": [
  {
   "cell_type": "markdown",
   "id": "97f1af13",
   "metadata": {},
   "source": [
    "### Задача 1\n",
    "Для маркетингового исследования случайным образом необходимо отобрать N людей. Этим людям далее демонстрируется кофе марки Nescafe в упаковке с новым дизайном: вместо классической этикетки в коричнево-золотых тонах - новогодняя этикетка в красно-зеленых тонах. После этого фиксируется, сколько людей захотели купить этот кофе, а точнее, доля таких людей.\n",
    "\n",
    "Рассчитайте необходимый объем выборки для тестовой группы, если известно, что\n",
    "\n",
    "* выбран 95%-ный уровень доверия;\n",
    "* погрешность не должна превышать 3%;\n",
    "* нет определенных ожиданий относительно доли людей, которые захотят кофе с измененным дизайном этикетки (считается, что человек с равной вероютностью выберет кофе или не выберет)."
   ]
  },
  {
   "cell_type": "code",
   "execution_count": 4,
   "id": "c9389905",
   "metadata": {},
   "outputs": [],
   "source": [
    "def calculate_n(p, z, error):\n",
    "    return z**2 * p * (1 - p) / (error**2)"
   ]
  },
  {
   "cell_type": "code",
   "execution_count": 5,
   "id": "0b4c27fa",
   "metadata": {},
   "outputs": [
    {
     "name": "stdout",
     "output_type": "stream",
     "text": [
      "Объем выборки тестовой группы: 1067\n"
     ]
    }
   ],
   "source": [
    "z = 1.96\n",
    "p = 0.5\n",
    "error = 0.03\n",
    "print(f\"Объем выборки тестовой группы: {round(calculate_n(p, z, error))}\")"
   ]
  },
  {
   "cell_type": "code",
   "execution_count": null,
   "id": "7a554823",
   "metadata": {},
   "outputs": [],
   "source": []
  }
 ],
 "metadata": {
  "kernelspec": {
   "display_name": "Python 3",
   "language": "python",
   "name": "python3"
  },
  "language_info": {
   "codemirror_mode": {
    "name": "ipython",
    "version": 3
   },
   "file_extension": ".py",
   "mimetype": "text/x-python",
   "name": "python",
   "nbconvert_exporter": "python",
   "pygments_lexer": "ipython3",
   "version": "3.8.8"
  }
 },
 "nbformat": 4,
 "nbformat_minor": 5
}
