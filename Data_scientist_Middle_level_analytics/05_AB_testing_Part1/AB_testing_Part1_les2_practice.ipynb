{
 "cells": [
  {
   "cell_type": "code",
   "execution_count": 1,
   "id": "3fe58a67",
   "metadata": {},
   "outputs": [],
   "source": [
    "def calculation_n(z, p, error):\n",
    "    return z ** 2 * p * (1 - p) / (error ** 2)"
   ]
  },
  {
   "cell_type": "code",
   "execution_count": 3,
   "id": "e2944974",
   "metadata": {},
   "outputs": [
    {
     "name": "stdout",
     "output_type": "stream",
     "text": [
      "Размер выборки N: 1429\n"
     ]
    }
   ],
   "source": [
    "p = 0.7\n",
    "z = 1.65\n",
    "error = 0.02\n",
    "print(f\"Размер выборки N: {round(calculation_n(z, p, error))}\")"
   ]
  }
 ],
 "metadata": {
  "kernelspec": {
   "display_name": "Python 3",
   "language": "python",
   "name": "python3"
  },
  "language_info": {
   "codemirror_mode": {
    "name": "ipython",
    "version": 3
   },
   "file_extension": ".py",
   "mimetype": "text/x-python",
   "name": "python",
   "nbconvert_exporter": "python",
   "pygments_lexer": "ipython3",
   "version": "3.8.8"
  }
 },
 "nbformat": 4,
 "nbformat_minor": 5
}
