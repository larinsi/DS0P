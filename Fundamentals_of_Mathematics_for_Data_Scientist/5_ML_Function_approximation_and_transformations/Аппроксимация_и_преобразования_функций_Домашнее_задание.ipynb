{
 "cells": [
  {
   "cell_type": "markdown",
   "metadata": {
    "id": "-zOqnEVGugHU"
   },
   "source": [
    "# Блок 1.\n",
    "\n",
    "С помощью symPy найдите полиномы, описывающие данные наборы точек. Затем проведите полное исследование каждого полученного полинома: проверьте четность/нечетность, найдите нули, промежутки знакопостоянства. Постройте их графики. С помощью изменения промежутка для х добейтесь того, чтобы все нули были отображены на графике функции. <br><br><br>\n",
    "а) $(-4; -4268), (-3; -1227), (-1; -17), (1; 17), (3; 1227), (4; 4268)$<br><br>\n",
    "б)$ (-4; -16729), (-3; -3999), (-1; 5), (1; 1), (3; 4005), (4; 16735)$\n"
   ]
  },
  {
   "cell_type": "code",
   "execution_count": 7,
   "metadata": {
    "id": "mO8e_U97uxvk"
   },
   "outputs": [],
   "source": [
    "from sympy import *\n",
    "from sympy.plotting import plot\n",
    "a0, a1, a2, a3, a4, a5 = symbols('a0, a1, a2, a3, a4, a5')"
   ]
  },
  {
   "cell_type": "markdown",
   "metadata": {},
   "source": [
    "#### Точки:\n",
    "(−4;−4268),(−3;−1227),(−1;−17),(1;17),(3;1227),(4;4268)"
   ]
  },
  {
   "cell_type": "code",
   "execution_count": 2,
   "metadata": {},
   "outputs": [],
   "source": [
    "eq1_lp = a5*(-4)**5 + a4*(-4)**4 + a3*(-4)**3 + a2*(-4)**2 + a1*(-4) + a0 + 4268\n",
    "eq2_lp = a5*(-3)**5 + a4*(-3)**4 + a3*(-3)**3 + a2*(-3)**2 + a1*(-3) + a0 + 1227\n",
    "eq3_lp = a5*(-1)**5 + a4*(-1)**4 + a3*(-1)**3 + a2*(-1)**2 + a1*(-1) + a0 + 17\n",
    "eq4_lp = a5*(1)**5 + a4*(1)**4 + a3*(1)**3 + a2*(1)**2 + a1*(1) + a0 - 17\n",
    "eq5_lp = a5*(3)**5 + a4*(3)**4 + a3*(3)**3 + a2*(3)**2 + a1*(3) + a0 - 1227\n",
    "eq6_lp = a5*(4)**5 + a4*(4)**4 + a3*(4)**3 + a2*(4)**2 + a1*(4) + a0 - 4268"
   ]
  },
  {
   "cell_type": "code",
   "execution_count": 3,
   "metadata": {},
   "outputs": [
    {
     "data": {
      "text/latex": [
       "$\\displaystyle \\left\\{\\left( 3, \\  0, \\  19, \\  0, \\  -5, \\  0\\right)\\right\\}$"
      ],
      "text/plain": [
       "FiniteSet((3, 0, 19, 0, -5, 0))"
      ]
     },
     "execution_count": 3,
     "metadata": {},
     "output_type": "execute_result"
    }
   ],
   "source": [
    "nonlinsolve([eq1_lp, eq2_lp, eq3_lp, eq4_lp, eq5_lp, eq6_lp],\n",
    "            [a5, a4, a3, a2, a1, a0])"
   ]
  },
  {
   "cell_type": "markdown",
   "metadata": {},
   "source": [
    "Функция $3x^5+19x^3-5x$"
   ]
  },
  {
   "cell_type": "code",
   "execution_count": 5,
   "metadata": {},
   "outputs": [
    {
     "data": {
      "text/latex": [
       "$\\displaystyle 3 x^{5} + 19 x^{3} - 5 x$"
      ],
      "text/plain": [
       "3*x**5 + 19*x**3 - 5*x"
      ]
     },
     "execution_count": 5,
     "metadata": {},
     "output_type": "execute_result"
    }
   ],
   "source": [
    "x = Symbol('x')\n",
    "f1 = 3*x**5 + 19*x**3 - 5*x\n",
    "f1"
   ]
  },
  {
   "cell_type": "code",
   "execution_count": 6,
   "metadata": {},
   "outputs": [
    {
     "data": {
      "text/plain": [
       "[0,\n",
       " -I*sqrt(19/6 + sqrt(421)/6),\n",
       " I*sqrt(19/6 + sqrt(421)/6),\n",
       " -sqrt(-19/6 + sqrt(421)/6),\n",
       " sqrt(-19/6 + sqrt(421)/6)]"
      ]
     },
     "execution_count": 6,
     "metadata": {},
     "output_type": "execute_result"
    }
   ],
   "source": [
    "solve(f1)"
   ]
  },
  {
   "cell_type": "code",
   "execution_count": 13,
   "metadata": {},
   "outputs": [
    {
     "data": {
      "text/latex": [
       "$\\displaystyle \\left(x < 0 \\wedge - \\sqrt{- \\frac{19}{6} + \\frac{\\sqrt{421}}{6}} < x\\right) \\vee \\left(x < \\infty \\wedge \\sqrt{- \\frac{19}{6} + \\frac{\\sqrt{421}}{6}} < x\\right)$"
      ],
      "text/plain": [
       "((x < oo) & (sqrt(-19/6 + sqrt(421)/6) < x)) | ((x < 0) & (-sqrt(-19/6 + sqrt(421)/6) < x))"
      ]
     },
     "execution_count": 13,
     "metadata": {},
     "output_type": "execute_result"
    }
   ],
   "source": [
    "solve_univariate_inequality(f1>0, x)"
   ]
  },
  {
   "cell_type": "code",
   "execution_count": 14,
   "metadata": {},
   "outputs": [
    {
     "data": {
      "text/latex": [
       "$\\displaystyle \\left(-\\infty < x \\wedge x < - \\sqrt{- \\frac{19}{6} + \\frac{\\sqrt{421}}{6}}\\right) \\vee \\left(0 < x \\wedge x < \\sqrt{- \\frac{19}{6} + \\frac{\\sqrt{421}}{6}}\\right)$"
      ],
      "text/plain": [
       "((0 < x) & (x < sqrt(-19/6 + sqrt(421)/6))) | ((-oo < x) & (x < -sqrt(-19/6 + sqrt(421)/6)))"
      ]
     },
     "execution_count": 14,
     "metadata": {},
     "output_type": "execute_result"
    }
   ],
   "source": [
    "solve_univariate_inequality(f1<0, x)"
   ]
  },
  {
   "cell_type": "code",
   "execution_count": 48,
   "metadata": {},
   "outputs": [
    {
     "name": "stdout",
     "output_type": "stream",
     "text": [
      "False True\n"
     ]
    }
   ],
   "source": [
    "# Проверка на четность и нечетность\n",
    "print(f1 == f1.subs(x, -x), f1 == -f1.subs(x, -x))"
   ]
  },
  {
   "cell_type": "markdown",
   "metadata": {},
   "source": [
    "#### Функция $3x^5+19x^3-5x$:\n",
    "* Нули при $x=0$, $x=-i\\sqrt{\\frac{19}{6}+\\frac{\\sqrt{421}}{6}}$, $x=i\\sqrt{\\frac{19}{6}+\\frac{\\sqrt{421}}{6}}$, $x=-\\sqrt{-\\frac{19}{6}+\\frac{\\sqrt{421}}{6}}$, $x=\\sqrt{-\\frac{19}{6}+\\frac{\\sqrt{421}}{6}}$,\n",
    "* положительна при $-\\sqrt{-\\frac{19}{6}+\\frac{\\sqrt{421}}{6}}<x<0$ и $x>\\sqrt{-\\frac{19}{6}+\\frac{\\sqrt{421}}{6}}$,\n",
    "* отрицательна при $x<-\\sqrt{-\\frac{19}{6}+\\frac{\\sqrt{421}}{6}}$ и $0<x<\\sqrt{-\\frac{19}{6}+\\frac{\\sqrt{421}}{6}}$,\n",
    "* нечетная."
   ]
  },
  {
   "cell_type": "code",
   "execution_count": 12,
   "metadata": {},
   "outputs": [
    {
     "data": {
      "image/png": "[encoded data removed]",
      "text/plain": [
       "<Figure size 432x288 with 1 Axes>"
      ]
     },
     "metadata": {
      "needs_background": "light"
     },
     "output_type": "display_data"
    },
    {
     "data": {
      "text/plain": [
       "<sympy.plotting.plot.Plot at 0x2210e8ff7c0>"
      ]
     },
     "execution_count": 12,
     "metadata": {},
     "output_type": "execute_result"
    }
   ],
   "source": [
    "plot(f1, (x, -1, 1))"
   ]
  },
  {
   "cell_type": "markdown",
   "metadata": {},
   "source": [
    "#### Точки:\n",
    "(−4;−16729),(−3;−3999),(−1;5),(1;1),(3;4005),(4;16735)"
   ]
  },
  {
   "cell_type": "code",
   "execution_count": 23,
   "metadata": {},
   "outputs": [],
   "source": [
    "eq1_lp = a5*(-4)**5 + a4*(-4)**4 + a3*(-4)**3 + a2*(-4)**2 + a1*(-4) + a0 + 16729\n",
    "eq2_lp = a5*(-3)**5 + a4*(-3)**4 + a3*(-3)**3 + a2*(-3)**2 + a1*(-3) + a0 + 3999\n",
    "eq3_lp = a5*(-1)**5 + a4*(-1)**4 + a3*(-1)**3 + a2*(-1)**2 + a1*(-1) + a0 - 5\n",
    "eq4_lp = a5*(1)**5 + a4*(1)**4 + a3*(1)**3 + a2*(1)**2 + a1*(1) + a0 - 1\n",
    "eq5_lp = a5*(3)**5 + a4*(3)**4 + a3*(3)**3 + a2*(3)**2 + a1*(3) + a0 - 4005\n",
    "eq6_lp = a5*(4)**5 + a4*(4)**4 + a3*(4)**3 + a2*(4)**2 + a1*(4) + a0 - 16735"
   ]
  },
  {
   "cell_type": "code",
   "execution_count": 24,
   "metadata": {},
   "outputs": [
    {
     "data": {
      "text/latex": [
       "$\\displaystyle \\left\\{\\left( 16, \\  0, \\  7, \\  0, \\  -25, \\  3\\right)\\right\\}$"
      ],
      "text/plain": [
       "FiniteSet((16, 0, 7, 0, -25, 3))"
      ]
     },
     "execution_count": 24,
     "metadata": {},
     "output_type": "execute_result"
    }
   ],
   "source": [
    "nonlinsolve([eq1_lp, eq2_lp, eq3_lp, eq4_lp, eq5_lp, eq6_lp],\n",
    "            [a5, a4, a3, a2, a1, a0])"
   ]
  },
  {
   "cell_type": "markdown",
   "metadata": {},
   "source": [
    "Функция $16x^5+7x^3-25x+3$"
   ]
  },
  {
   "cell_type": "code",
   "execution_count": 25,
   "metadata": {},
   "outputs": [
    {
     "data": {
      "text/latex": [
       "$\\displaystyle 16 x^{5} + 7 x^{3} - 25 x + 3$"
      ],
      "text/plain": [
       "16*x**5 + 7*x**3 - 25*x + 3"
      ]
     },
     "execution_count": 25,
     "metadata": {},
     "output_type": "execute_result"
    }
   ],
   "source": [
    "f2 = 16*x**5 + 7*x**3 - 25*x + 3\n",
    "f2"
   ]
  },
  {
   "cell_type": "code",
   "execution_count": 43,
   "metadata": {},
   "outputs": [
    {
     "name": "stdout",
     "output_type": "stream",
     "text": [
      "[-1.05748920058586, 0.120506253533285, 0.986407581732483, -0.0247123173399549 - 1.22107053052891*I, -0.0247123173399549 + 1.22107053052891*I]\n"
     ]
    }
   ],
   "source": [
    "print([N(solution) for solution in solve(f2)])"
   ]
  },
  {
   "cell_type": "code",
   "execution_count": 44,
   "metadata": {},
   "outputs": [
    {
     "data": {
      "text/latex": [
       "$\\displaystyle \\left(x < \\infty \\wedge \\operatorname{CRootOf} {\\left(16 x^{5} + 7 x^{3} - 25 x + 3, 2\\right)} < x\\right) \\vee \\left(x < \\operatorname{CRootOf} {\\left(16 x^{5} + 7 x^{3} - 25 x + 3, 1\\right)} \\wedge \\operatorname{CRootOf} {\\left(16 x^{5} + 7 x^{3} - 25 x + 3, 0\\right)} < x\\right)$"
      ],
      "text/plain": [
       "((x < oo) & (CRootOf(16*x**5 + 7*x**3 - 25*x + 3, 2) < x)) | ((x < CRootOf(16*x**5 + 7*x**3 - 25*x + 3, 1)) & (CRootOf(16*x**5 + 7*x**3 - 25*x + 3, 0) < x))"
      ]
     },
     "execution_count": 44,
     "metadata": {},
     "output_type": "execute_result"
    }
   ],
   "source": [
    "solve_univariate_inequality(f2>0, x)"
   ]
  },
  {
   "cell_type": "code",
   "execution_count": 45,
   "metadata": {},
   "outputs": [
    {
     "data": {
      "text/latex": [
       "$\\displaystyle \\left(-\\infty < x \\wedge x < \\operatorname{CRootOf} {\\left(16 x^{5} + 7 x^{3} - 25 x + 3, 0\\right)}\\right) \\vee \\left(x < \\operatorname{CRootOf} {\\left(16 x^{5} + 7 x^{3} - 25 x + 3, 2\\right)} \\wedge \\operatorname{CRootOf} {\\left(16 x^{5} + 7 x^{3} - 25 x + 3, 1\\right)} < x\\right)$"
      ],
      "text/plain": [
       "((-oo < x) & (x < CRootOf(16*x**5 + 7*x**3 - 25*x + 3, 0))) | ((x < CRootOf(16*x**5 + 7*x**3 - 25*x + 3, 2)) & (CRootOf(16*x**5 + 7*x**3 - 25*x + 3, 1) < x))"
      ]
     },
     "execution_count": 45,
     "metadata": {},
     "output_type": "execute_result"
    }
   ],
   "source": [
    "solve_univariate_inequality(f2<0, x)"
   ]
  },
  {
   "cell_type": "code",
   "execution_count": 47,
   "metadata": {},
   "outputs": [
    {
     "name": "stdout",
     "output_type": "stream",
     "text": [
      "False False\n"
     ]
    }
   ],
   "source": [
    "# Проверка на четность и нечетность\n",
    "print(f2 == f2.subs(x, -x), f2 == -f2.subs(x, -x))"
   ]
  },
  {
   "cell_type": "markdown",
   "metadata": {},
   "source": [
    "#### Функция $16x^5+7x^3-25x+3$:\n",
    "* Нули при $x=-1.05748920058586$, $x=0.120506253533285$, $x=0.986407581732483$, $x=-0.0247123173399549-1.22107053052891*i$,  $x=-0.0247123173399549+1.22107053052891*i$,\n",
    "* отрицательна при $x<-1.05748920058586$ и $0.120506253533285<x<0.986407581732483$,\n",
    "* положительна при $-1.05748920058586<x<0.120506253533285$ и $x>0.986407581732483$\n",
    "* не является четной и нечетной."
   ]
  },
  {
   "cell_type": "code",
   "execution_count": 31,
   "metadata": {},
   "outputs": [
    {
     "data": {
      "image/png": "[encoded data removed]",
      "text/plain": [
       "<Figure size 432x288 with 1 Axes>"
      ]
     },
     "metadata": {
      "needs_background": "light"
     },
     "output_type": "display_data"
    },
    {
     "data": {
      "text/plain": [
       "<sympy.plotting.plot.Plot at 0x2210e8ef6a0>"
      ]
     },
     "execution_count": 31,
     "metadata": {},
     "output_type": "execute_result"
    }
   ],
   "source": [
    "plot(f2, (x, -1.5, 1.5))"
   ]
  },
  {
   "cell_type": "markdown",
   "metadata": {
    "id": "4jCUKC9CuyKO"
   },
   "source": [
    "# Блок 2."
   ]
  },
  {
   "cell_type": "code",
   "execution_count": 49,
   "metadata": {
    "id": "5ElcKCqet0wk"
   },
   "outputs": [],
   "source": [
    "from sympy import *\n",
    "from sympy.plotting import plot\n",
    "init_printing(use_unicode=False, wrap_line=False, no_global=True)"
   ]
  },
  {
   "cell_type": "code",
   "execution_count": 50,
   "metadata": {
    "id": "QwTY4Sq8t0w2"
   },
   "outputs": [],
   "source": [
    "import matplotlib.pyplot as plt\n",
    "import numpy as np"
   ]
  },
  {
   "cell_type": "code",
   "execution_count": 51,
   "metadata": {
    "id": "Y0t8k28Jt0xG"
   },
   "outputs": [],
   "source": [
    "x = Symbol('x')"
   ]
  },
  {
   "cell_type": "markdown",
   "metadata": {
    "id": "wLhMVWF9t0xQ"
   },
   "source": [
    "## 1.\n",
    "### Получите значение MSE меньшее 5."
   ]
  },
  {
   "cell_type": "code",
   "execution_count": 52,
   "metadata": {
    "id": "LX3-aD49t0xU"
   },
   "outputs": [],
   "source": [
    "def print_points_ands_function1(sympy_function):\n",
    "    def function(x_): return float(sympy_function.subs(x, x_))\n",
    "    \n",
    "    points_X = np.array([-2, -1, 0, 1, 2, 3, 3.5, 4, 4.5, 5])\n",
    "    points_Y = np.array([2, -4, 1, 8, 21, 40, 47, 65, 75, 92])\n",
    "    plt.xlim(-6, 10)\n",
    "    plt.ylim(-1, 100)\n",
    "    \n",
    "    plt.scatter(points_X, points_Y, c='r')\n",
    "    x_range = np.linspace(plt.xlim()[0], plt.xlim()[1], num=100)\n",
    "    function_Y = [function(x_) for x_ in x_range]\n",
    "    plt.plot(x_range, function_Y, 'b')\n",
    "    plt.show()\n",
    "    \n",
    "    MSE = sum([(points_Y[i] - function(points_X[i]))**2 for i in range(len(points_Y))]) / len(points_Y)\n",
    "    print(f'MSE = {MSE}')"
   ]
  },
  {
   "cell_type": "code",
   "execution_count": 53,
   "metadata": {
    "id": "tCcjAV0qt0xb",
    "outputId": "7d73b65e-59f0-4d31-c914-f97d7da81900"
   },
   "outputs": [
    {
     "name": "stderr",
     "output_type": "stream",
     "text": [
      "C:\\Users\\larin\\anaconda3\\envs\\MyEnv\\lib\\site-packages\\IPython\\lib\\latextools.py:126: MatplotlibDeprecationWarning: \n",
      "The to_png function was deprecated in Matplotlib 3.4 and will be removed two minor releases later. Use mathtext.math_to_image instead.\n",
      "  mt.to_png(f, s, fontsize=12, dpi=dpi, color=color)\n",
      "C:\\Users\\larin\\anaconda3\\envs\\MyEnv\\lib\\site-packages\\IPython\\lib\\latextools.py:126: MatplotlibDeprecationWarning: \n",
      "The to_rgba function was deprecated in Matplotlib 3.4 and will be removed two minor releases later. Use mathtext.math_to_image instead.\n",
      "  mt.to_png(f, s, fontsize=12, dpi=dpi, color=color)\n",
      "C:\\Users\\larin\\anaconda3\\envs\\MyEnv\\lib\\site-packages\\IPython\\lib\\latextools.py:126: MatplotlibDeprecationWarning: \n",
      "The to_mask function was deprecated in Matplotlib 3.4 and will be removed two minor releases later. Use mathtext.math_to_image instead.\n",
      "  mt.to_png(f, s, fontsize=12, dpi=dpi, color=color)\n",
      "C:\\Users\\larin\\anaconda3\\envs\\MyEnv\\lib\\site-packages\\IPython\\lib\\latextools.py:126: MatplotlibDeprecationWarning: \n",
      "The MathtextBackendBitmap class was deprecated in Matplotlib 3.4 and will be removed two minor releases later. Use mathtext.math_to_image instead.\n",
      "  mt.to_png(f, s, fontsize=12, dpi=dpi, color=color)\n"
     ]
    },
    {
     "data": {
      "image/png": "[encoded data removed]",
      "text/latex": [
       "$\\displaystyle 48 x^{2} - 128 x + 83$"
      ],
      "text/plain": [
       "    2             \n",
       "48*x  - 128*x + 83"
      ]
     },
     "execution_count": 53,
     "metadata": {},
     "output_type": "execute_result"
    }
   ],
   "source": [
    "f1 = 48 * x**2 - 128 * x + 83\n",
    "f1"
   ]
  },
  {
   "cell_type": "code",
   "execution_count": 54,
   "metadata": {
    "id": "VQwDN4XLt0xl",
    "outputId": "a46d8327-06b3-4fbc-fa5d-6a1e4648a22e"
   },
   "outputs": [
    {
     "data": {
      "image/png": "[encoded data removed]",
      "text/plain": [
       "<Figure size 432x288 with 1 Axes>"
      ]
     },
     "metadata": {
      "needs_background": "light"
     },
     "output_type": "display_data"
    },
    {
     "name": "stdout",
     "output_type": "stream",
     "text": [
      "MSE = 93691.3\n"
     ]
    }
   ],
   "source": [
    "print_points_ands_function1(f1)"
   ]
  },
  {
   "cell_type": "code",
   "execution_count": 71,
   "metadata": {},
   "outputs": [
    {
     "data": {
      "image/png": "[encoded data removed]",
      "text/plain": [
       "<Figure size 432x288 with 1 Axes>"
      ]
     },
     "metadata": {
      "needs_background": "light"
     },
     "output_type": "display_data"
    },
    {
     "name": "stdout",
     "output_type": "stream",
     "text": [
      "MSE = 3.1266471934463262\n"
     ]
    }
   ],
   "source": [
    "f1_new = f1.subs(x, (x+6.25)/4.1) \n",
    "print_points_ands_function1(f1_new)"
   ]
  },
  {
   "cell_type": "markdown",
   "metadata": {
    "id": "HRrtO4Lyt0xt"
   },
   "source": [
    "## 2.\n",
    "### Получите значение MSE меньшее 35."
   ]
  },
  {
   "cell_type": "code",
   "execution_count": 72,
   "metadata": {
    "id": "dm_YVXYgt0xw"
   },
   "outputs": [],
   "source": [
    "def print_points_ands_function2(sympy_function):\n",
    "    def function(x_): return float(sympy_function.subs(x, x_))\n",
    "    \n",
    "    points_X = np.array([-2, -1, 0, 1, 2, 3, 3.5, 4, 4.5, 5])\n",
    "    points_Y = np.array([-31, -9, 4, -1, 9, 24, 47, 92, 120, 170])\n",
    "    plt.xlim(-3, 6)\n",
    "    plt.ylim(-35, 200)\n",
    "    \n",
    "    plt.scatter(points_X, points_Y, c='r')\n",
    "    x_range = np.linspace(plt.xlim()[0], plt.xlim()[1], num=100)\n",
    "    function_Y = [function(x_) for x_ in x_range]\n",
    "    plt.plot(x_range, function_Y, 'b')\n",
    "    plt.show()\n",
    "    \n",
    "    MSE = sum([(points_Y[i] - function(points_X[i]))**2 for i in range(len(points_Y))]) / len(points_Y)\n",
    "    print(f'MSE = {MSE}')"
   ]
  },
  {
   "cell_type": "code",
   "execution_count": 73,
   "metadata": {
    "id": "7LMQiJDKt0x1",
    "outputId": "8b8d6fed-a7c9-4a8d-c9f8-9ace332dd838"
   },
   "outputs": [
    {
     "name": "stderr",
     "output_type": "stream",
     "text": [
      "C:\\Users\\larin\\anaconda3\\envs\\MyEnv\\lib\\site-packages\\IPython\\lib\\latextools.py:126: MatplotlibDeprecationWarning: \n",
      "The to_png function was deprecated in Matplotlib 3.4 and will be removed two minor releases later. Use mathtext.math_to_image instead.\n",
      "  mt.to_png(f, s, fontsize=12, dpi=dpi, color=color)\n",
      "C:\\Users\\larin\\anaconda3\\envs\\MyEnv\\lib\\site-packages\\IPython\\lib\\latextools.py:126: MatplotlibDeprecationWarning: \n",
      "The to_rgba function was deprecated in Matplotlib 3.4 and will be removed two minor releases later. Use mathtext.math_to_image instead.\n",
      "  mt.to_png(f, s, fontsize=12, dpi=dpi, color=color)\n",
      "C:\\Users\\larin\\anaconda3\\envs\\MyEnv\\lib\\site-packages\\IPython\\lib\\latextools.py:126: MatplotlibDeprecationWarning: \n",
      "The to_mask function was deprecated in Matplotlib 3.4 and will be removed two minor releases later. Use mathtext.math_to_image instead.\n",
      "  mt.to_png(f, s, fontsize=12, dpi=dpi, color=color)\n",
      "C:\\Users\\larin\\anaconda3\\envs\\MyEnv\\lib\\site-packages\\IPython\\lib\\latextools.py:126: MatplotlibDeprecationWarning: \n",
      "The MathtextBackendBitmap class was deprecated in Matplotlib 3.4 and will be removed two minor releases later. Use mathtext.math_to_image instead.\n",
      "  mt.to_png(f, s, fontsize=12, dpi=dpi, color=color)\n"
     ]
    },
    {
     "data": {
      "image/png": "[encoded data removed]",
      "text/latex": [
       "$\\displaystyle 4 x^{3} + 30 x^{2} + 74 x + 62$"
      ],
      "text/plain": [
       "   3       2            \n",
       "4*x  + 30*x  + 74*x + 62"
      ]
     },
     "execution_count": 73,
     "metadata": {},
     "output_type": "execute_result"
    }
   ],
   "source": [
    "f2 = 4 * x**3 + 30 * x**2 + 74 * x + 62\n",
    "f2"
   ]
  },
  {
   "cell_type": "code",
   "execution_count": 74,
   "metadata": {
    "id": "SjwUXoCXt0x6",
    "outputId": "a5e8c7e9-602e-430b-acd3-c8c5bd2b055e"
   },
   "outputs": [
    {
     "data": {
      "image/png": "[encoded data removed]",
      "text/plain": [
       "<Figure size 432x288 with 1 Axes>"
      ]
     },
     "metadata": {
      "needs_background": "light"
     },
     "output_type": "display_data"
    },
    {
     "name": "stdout",
     "output_type": "stream",
     "text": [
      "MSE = 607200.2\n"
     ]
    }
   ],
   "source": [
    "print_points_ands_function2(f2)"
   ]
  },
  {
   "cell_type": "code",
   "execution_count": 101,
   "metadata": {},
   "outputs": [
    {
     "data": {
      "image/png": "[encoded data removed]",
      "text/plain": [
       "<Figure size 432x288 with 1 Axes>"
      ]
     },
     "metadata": {
      "needs_background": "light"
     },
     "output_type": "display_data"
    },
    {
     "name": "stdout",
     "output_type": "stream",
     "text": [
      "MSE = 29.400590383758452\n"
     ]
    }
   ],
   "source": [
    "f2_new = f2.subs(x, (x-4.45)/1.5) * 1.9\n",
    "print_points_ands_function2(f2_new)"
   ]
  },
  {
   "cell_type": "markdown",
   "metadata": {
    "id": "xYJNX-nUt0x_"
   },
   "source": [
    "## 3.\n",
    "### Получите значение MSE меньшее 3300."
   ]
  },
  {
   "cell_type": "code",
   "execution_count": 102,
   "metadata": {
    "id": "UNLnKjvit0yB"
   },
   "outputs": [],
   "source": [
    "def print_points_ands_function3(sympy_function):\n",
    "    def function(x_): return float(sympy_function.subs(x, x_))\n",
    "    \n",
    "    points_X = np.array([-2, -1, 0, 1, 2, 3, 3.5, 4, 4.5, 5])\n",
    "    points_Y = np.array([60, 25, 4, -0, -57, -195, -295, -540, -700, -760])\n",
    "    plt.xlim(-10, 6)\n",
    "    plt.ylim(-850, 100)\n",
    "    \n",
    "    plt.scatter(points_X, points_Y, c='r')\n",
    "    x_range = np.linspace(plt.xlim()[0], plt.xlim()[1], num=100)\n",
    "    function_Y = [function(x_) for x_ in x_range]\n",
    "    plt.plot(x_range, function_Y, 'b')\n",
    "    plt.show()\n",
    "    \n",
    "    MSE = sum([(points_Y[i] - function(points_X[i]))**2 for i in range(len(points_Y))]) / len(points_Y)\n",
    "    print(f'MSE = {MSE}')"
   ]
  },
  {
   "cell_type": "code",
   "execution_count": 103,
   "metadata": {
    "id": "osbCVOuIt0yH",
    "outputId": "22bfe175-fcf5-4290-9dd1-3b2fc34ff029"
   },
   "outputs": [
    {
     "name": "stderr",
     "output_type": "stream",
     "text": [
      "C:\\Users\\larin\\anaconda3\\envs\\MyEnv\\lib\\site-packages\\IPython\\lib\\latextools.py:126: MatplotlibDeprecationWarning: \n",
      "The to_png function was deprecated in Matplotlib 3.4 and will be removed two minor releases later. Use mathtext.math_to_image instead.\n",
      "  mt.to_png(f, s, fontsize=12, dpi=dpi, color=color)\n",
      "C:\\Users\\larin\\anaconda3\\envs\\MyEnv\\lib\\site-packages\\IPython\\lib\\latextools.py:126: MatplotlibDeprecationWarning: \n",
      "The to_rgba function was deprecated in Matplotlib 3.4 and will be removed two minor releases later. Use mathtext.math_to_image instead.\n",
      "  mt.to_png(f, s, fontsize=12, dpi=dpi, color=color)\n",
      "C:\\Users\\larin\\anaconda3\\envs\\MyEnv\\lib\\site-packages\\IPython\\lib\\latextools.py:126: MatplotlibDeprecationWarning: \n",
      "The to_mask function was deprecated in Matplotlib 3.4 and will be removed two minor releases later. Use mathtext.math_to_image instead.\n",
      "  mt.to_png(f, s, fontsize=12, dpi=dpi, color=color)\n",
      "C:\\Users\\larin\\anaconda3\\envs\\MyEnv\\lib\\site-packages\\IPython\\lib\\latextools.py:126: MatplotlibDeprecationWarning: \n",
      "The MathtextBackendBitmap class was deprecated in Matplotlib 3.4 and will be removed two minor releases later. Use mathtext.math_to_image instead.\n",
      "  mt.to_png(f, s, fontsize=12, dpi=dpi, color=color)\n"
     ]
    },
    {
     "data": {
      "image/png": "[encoded data removed]",
      "text/latex": [
       "$\\displaystyle - 36 x^{3} - 756 x^{2} - 5334 x - 12636$"
      ],
      "text/plain": [
       "      3        2                 \n",
       "- 36*x  - 756*x  - 5334*x - 12636"
      ]
     },
     "execution_count": 103,
     "metadata": {},
     "output_type": "execute_result"
    }
   ],
   "source": [
    "f3 = -36 * x**3 - 756 * x**2 - 5334 * x - 12636\n",
    "f3"
   ]
  },
  {
   "cell_type": "code",
   "execution_count": 104,
   "metadata": {
    "id": "1T4lJVQPt0yR",
    "outputId": "ab86dbbf-6fd9-42a9-f5ef-6316179ace4f"
   },
   "outputs": [
    {
     "data": {
      "image/png": "[encoded data removed]",
      "text/plain": [
       "<Figure size 432x288 with 1 Axes>"
      ]
     },
     "metadata": {
      "needs_background": "light"
     },
     "output_type": "display_data"
    },
    {
     "name": "stdout",
     "output_type": "stream",
     "text": [
      "MSE = 1346344545.35\n"
     ]
    }
   ],
   "source": [
    "print_points_ands_function3(f3)"
   ]
  },
  {
   "cell_type": "code",
   "execution_count": 130,
   "metadata": {},
   "outputs": [
    {
     "data": {
      "image/png": "[encoded data removed]",
      "text/plain": [
       "<Figure size 432x288 with 1 Axes>"
      ]
     },
     "metadata": {
      "needs_background": "light"
     },
     "output_type": "display_data"
    },
    {
     "name": "stdout",
     "output_type": "stream",
     "text": [
      "MSE = 2095.291839641652\n"
     ]
    }
   ],
   "source": [
    "f3_new = f3.subs(x, (x-13.15)/1.9)\n",
    "print_points_ands_function3(f3_new)"
   ]
  },
  {
   "cell_type": "markdown",
   "metadata": {
    "id": "3jcBH1M3t0yZ"
   },
   "source": [
    "## 4.\n",
    "### Получите значение MSE меньшее 25."
   ]
  },
  {
   "cell_type": "code",
   "execution_count": 131,
   "metadata": {
    "id": "R4nnsc8zt0yb"
   },
   "outputs": [],
   "source": [
    "def print_points_ands_function4(sympy_function):\n",
    "    def function(x_): return float(sympy_function.subs(x, x_))\n",
    "    \n",
    "    points_X = np.array([-2, -1, 0, 1, 2, 3, 3.5, 4, 4.5, 5])\n",
    "    points_Y = np.array([-42, -37, -23, -36, -45, -80, -83, -110, -131, -155])\n",
    "    plt.xlim(-4, 20)\n",
    "    plt.ylim(-160, -10)\n",
    "    \n",
    "    plt.scatter(points_X, points_Y, c='r')\n",
    "    x_range = np.linspace(plt.xlim()[0], plt.xlim()[1], num=100)\n",
    "    function_Y = [function(x_) for x_ in x_range]\n",
    "    plt.plot(x_range, function_Y, 'b')\n",
    "    plt.show()\n",
    "    \n",
    "    MSE = sum([(points_Y[i] - function(points_X[i]))**2 for i in range(len(points_Y))]) / len(points_Y)\n",
    "    print(f'MSE = {MSE}')"
   ]
  },
  {
   "cell_type": "code",
   "execution_count": 132,
   "metadata": {
    "id": "Uq__GcfPt0yj",
    "outputId": "345572d8-35a9-47c2-d7c9-4769bd8d17e7"
   },
   "outputs": [
    {
     "name": "stderr",
     "output_type": "stream",
     "text": [
      "C:\\Users\\larin\\anaconda3\\envs\\MyEnv\\lib\\site-packages\\IPython\\lib\\latextools.py:126: MatplotlibDeprecationWarning: \n",
      "The to_png function was deprecated in Matplotlib 3.4 and will be removed two minor releases later. Use mathtext.math_to_image instead.\n",
      "  mt.to_png(f, s, fontsize=12, dpi=dpi, color=color)\n",
      "C:\\Users\\larin\\anaconda3\\envs\\MyEnv\\lib\\site-packages\\IPython\\lib\\latextools.py:126: MatplotlibDeprecationWarning: \n",
      "The to_rgba function was deprecated in Matplotlib 3.4 and will be removed two minor releases later. Use mathtext.math_to_image instead.\n",
      "  mt.to_png(f, s, fontsize=12, dpi=dpi, color=color)\n",
      "C:\\Users\\larin\\anaconda3\\envs\\MyEnv\\lib\\site-packages\\IPython\\lib\\latextools.py:126: MatplotlibDeprecationWarning: \n",
      "The to_mask function was deprecated in Matplotlib 3.4 and will be removed two minor releases later. Use mathtext.math_to_image instead.\n",
      "  mt.to_png(f, s, fontsize=12, dpi=dpi, color=color)\n",
      "C:\\Users\\larin\\anaconda3\\envs\\MyEnv\\lib\\site-packages\\IPython\\lib\\latextools.py:126: MatplotlibDeprecationWarning: \n",
      "The MathtextBackendBitmap class was deprecated in Matplotlib 3.4 and will be removed two minor releases later. Use mathtext.math_to_image instead.\n",
      "  mt.to_png(f, s, fontsize=12, dpi=dpi, color=color)\n"
     ]
    },
    {
     "data": {
      "image/png": "[encoded data removed]",
      "text/latex": [
       "$\\displaystyle - 1.25 x^{2} + 25 x - 152$"
      ],
      "text/plain": [
       "        2             \n",
       "- 1.25*x  + 25*x - 152"
      ]
     },
     "execution_count": 132,
     "metadata": {},
     "output_type": "execute_result"
    }
   ],
   "source": [
    "f4 = - 5 / 4 * x**2 + 25 * x - 152\n",
    "f4"
   ]
  },
  {
   "cell_type": "code",
   "execution_count": 133,
   "metadata": {
    "id": "Muwpsp8tt0yp",
    "outputId": "99828dab-4bd6-434b-fdc9-ee8fa9113858"
   },
   "outputs": [
    {
     "data": {
      "image/png": "[encoded data removed]",
      "text/plain": [
       "<Figure size 432x288 with 1 Axes>"
      ]
     },
     "metadata": {
      "needs_background": "light"
     },
     "output_type": "display_data"
    },
    {
     "name": "stdout",
     "output_type": "stream",
     "text": [
      "MSE = 9143.51953125\n"
     ]
    }
   ],
   "source": [
    "print_points_ands_function4(f4)"
   ]
  },
  {
   "cell_type": "code",
   "execution_count": 149,
   "metadata": {
    "id": "oTNLmWfDt0yt"
   },
   "outputs": [
    {
     "data": {
      "image/png": "[encoded data removed]",
      "text/plain": [
       "<Figure size 432x288 with 1 Axes>"
      ]
     },
     "metadata": {
      "needs_background": "light"
     },
     "output_type": "display_data"
    },
    {
     "name": "stdout",
     "output_type": "stream",
     "text": [
      "MSE = 19.713320312499874\n"
     ]
    }
   ],
   "source": [
    "f4_new = f4.subs(x, x+10) * 4.1 + 85\n",
    "print_points_ands_function4(f4_new)"
   ]
  },
  {
   "cell_type": "code",
   "execution_count": null,
   "metadata": {},
   "outputs": [],
   "source": []
  }
 ],
 "metadata": {
  "colab": {
   "collapsed_sections": [],
   "name": "Аппроксимация и преобразования функций. Домашнее задание.ipynb",
   "provenance": []
  },
  "kernelspec": {
   "display_name": "Python 3",
   "language": "python",
   "name": "python3"
  },
  "language_info": {
   "codemirror_mode": {
    "name": "ipython",
    "version": 3
   },
   "file_extension": ".py",
   "mimetype": "text/x-python",
   "name": "python",
   "nbconvert_exporter": "python",
   "pygments_lexer": "ipython3",
   "version": "3.8.8"
  }
 },
 "nbformat": 4,
 "nbformat_minor": 1
}
