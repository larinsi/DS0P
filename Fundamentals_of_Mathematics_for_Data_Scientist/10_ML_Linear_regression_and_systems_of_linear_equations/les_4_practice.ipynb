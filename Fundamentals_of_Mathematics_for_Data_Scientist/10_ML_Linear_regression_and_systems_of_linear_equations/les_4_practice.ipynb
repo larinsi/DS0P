{
 "cells": [
  {
   "cell_type": "code",
   "execution_count": 1,
   "id": "d5cd9fb0",
   "metadata": {},
   "outputs": [],
   "source": [
    "from sympy import *"
   ]
  },
  {
   "cell_type": "markdown",
   "id": "b6261a40",
   "metadata": {},
   "source": [
    "### Задача 1."
   ]
  },
  {
   "cell_type": "code",
   "execution_count": 3,
   "id": "faa8ac35",
   "metadata": {},
   "outputs": [
    {
     "data": {
      "text/latex": [
       "$\\displaystyle \\left[\\begin{matrix}2 & 5 & 11\\\\7 & -3 & -23\\end{matrix}\\right]$"
      ],
      "text/plain": [
       "Matrix([\n",
       "[2,  5,  11],\n",
       "[7, -3, -23]])"
      ]
     },
     "execution_count": 3,
     "metadata": {},
     "output_type": "execute_result"
    }
   ],
   "source": [
    "A_augmented = Matrix([[2, 5, 11],\n",
    "                      [7, -3, -23]])\n",
    "A_augmented"
   ]
  },
  {
   "cell_type": "code",
   "execution_count": 12,
   "id": "8a95d343",
   "metadata": {},
   "outputs": [
    {
     "data": {
      "text/latex": [
       "$\\displaystyle \\left\\{\\left( -2, \\  3\\right)\\right\\}$"
      ],
      "text/plain": [
       "FiniteSet((-2, 3))"
      ]
     },
     "execution_count": 12,
     "metadata": {},
     "output_type": "execute_result"
    }
   ],
   "source": [
    "x1, x2, x3 = symbols('x1, x2, x3')\n",
    "linsolve(A_augmented, [x1, x2])"
   ]
  },
  {
   "cell_type": "code",
   "execution_count": 7,
   "id": "e7cf0596",
   "metadata": {},
   "outputs": [
    {
     "data": {
      "text/latex": [
       "$\\displaystyle \\left[\\begin{matrix}-3 & 1 & -2\\\\3 & 5 & 8\\end{matrix}\\right]$"
      ],
      "text/plain": [
       "Matrix([\n",
       "[-3, 1, -2],\n",
       "[ 3, 5,  8]])"
      ]
     },
     "execution_count": 7,
     "metadata": {},
     "output_type": "execute_result"
    }
   ],
   "source": [
    "B_augmented = Matrix([[-3, 1, -2],\n",
    "                      [3, 5, 8]])\n",
    "B_augmented"
   ]
  },
  {
   "cell_type": "code",
   "execution_count": 8,
   "id": "58bb7f94",
   "metadata": {},
   "outputs": [
    {
     "data": {
      "text/latex": [
       "$\\displaystyle \\left\\{\\left( 1, \\  1\\right)\\right\\}$"
      ],
      "text/plain": [
       "FiniteSet((1, 1))"
      ]
     },
     "execution_count": 8,
     "metadata": {},
     "output_type": "execute_result"
    }
   ],
   "source": [
    "linsolve(B_augmented, [x1, x2])"
   ]
  },
  {
   "cell_type": "code",
   "execution_count": 9,
   "id": "30e32f50",
   "metadata": {},
   "outputs": [
    {
     "data": {
      "text/latex": [
       "$\\displaystyle \\left[\\begin{matrix}2 & 3 & 12\\\\3 & -1 & 7\\end{matrix}\\right]$"
      ],
      "text/plain": [
       "Matrix([\n",
       "[2,  3, 12],\n",
       "[3, -1,  7]])"
      ]
     },
     "execution_count": 9,
     "metadata": {},
     "output_type": "execute_result"
    }
   ],
   "source": [
    "C_augmented = Matrix([[2, 3, 12],\n",
    "                      [3, -1, 7]])\n",
    "C_augmented"
   ]
  },
  {
   "cell_type": "code",
   "execution_count": 10,
   "id": "6ae073df",
   "metadata": {},
   "outputs": [
    {
     "data": {
      "text/latex": [
       "$\\displaystyle \\left\\{\\left( 3, \\  2\\right)\\right\\}$"
      ],
      "text/plain": [
       "FiniteSet((3, 2))"
      ]
     },
     "execution_count": 10,
     "metadata": {},
     "output_type": "execute_result"
    }
   ],
   "source": [
    "linsolve(C_augmented, [x1, x2])"
   ]
  },
  {
   "cell_type": "code",
   "execution_count": 11,
   "id": "cb26629e",
   "metadata": {},
   "outputs": [
    {
     "data": {
      "text/latex": [
       "$\\displaystyle \\left[\\begin{matrix}1 & 1 & 2 & -1\\\\2 & -1 & 2 & -4\\\\4 & 1 & 4 & -2\\end{matrix}\\right]$"
      ],
      "text/plain": [
       "Matrix([\n",
       "[1,  1, 2, -1],\n",
       "[2, -1, 2, -4],\n",
       "[4,  1, 4, -2]])"
      ]
     },
     "execution_count": 11,
     "metadata": {},
     "output_type": "execute_result"
    }
   ],
   "source": [
    "D_augmented = Matrix([[1, 1, 2, -1],\n",
    "                      [2, -1, 2, -4],\n",
    "                      [4, 1, 4, -2]])\n",
    "D_augmented"
   ]
  },
  {
   "cell_type": "code",
   "execution_count": 13,
   "id": "9d9260cc",
   "metadata": {},
   "outputs": [
    {
     "data": {
      "text/latex": [
       "$\\displaystyle \\left\\{\\left( 1, \\  2, \\  -2\\right)\\right\\}$"
      ],
      "text/plain": [
       "FiniteSet((1, 2, -2))"
      ]
     },
     "execution_count": 13,
     "metadata": {},
     "output_type": "execute_result"
    }
   ],
   "source": [
    "linsolve(D_augmented, [x1, x2, x3])"
   ]
  },
  {
   "cell_type": "markdown",
   "id": "c7f6f692",
   "metadata": {},
   "source": [
    "### Задача 2."
   ]
  },
  {
   "cell_type": "code",
   "execution_count": 14,
   "id": "4d8abe1d",
   "metadata": {},
   "outputs": [
    {
     "data": {
      "text/latex": [
       "$\\displaystyle \\left[\\begin{matrix}19\\\\5\\end{matrix}\\right]$"
      ],
      "text/plain": [
       "Matrix([\n",
       "[19],\n",
       "[ 5]])"
      ]
     },
     "execution_count": 14,
     "metadata": {},
     "output_type": "execute_result"
    }
   ],
   "source": [
    "A = Matrix([[2, 5],\n",
    "            [7, -3]])\n",
    "a = Matrix([2, 3])\n",
    "A * a"
   ]
  },
  {
   "cell_type": "code",
   "execution_count": 15,
   "id": "a1535e97",
   "metadata": {},
   "outputs": [
    {
     "data": {
      "text/latex": [
       "$\\displaystyle \\left[\\begin{matrix}0\\\\18\\end{matrix}\\right]$"
      ],
      "text/plain": [
       "Matrix([\n",
       "[ 0],\n",
       "[18]])"
      ]
     },
     "execution_count": 15,
     "metadata": {},
     "output_type": "execute_result"
    }
   ],
   "source": [
    "B = Matrix([[-3, 1],\n",
    "            [3, 5]])\n",
    "b = Matrix([1, 3])\n",
    "B * b"
   ]
  },
  {
   "cell_type": "code",
   "execution_count": 16,
   "id": "c1628a46",
   "metadata": {},
   "outputs": [
    {
     "data": {
      "text/latex": [
       "$\\displaystyle \\left[\\begin{matrix}14\\\\10\\end{matrix}\\right]$"
      ],
      "text/plain": [
       "Matrix([\n",
       "[14],\n",
       "[10]])"
      ]
     },
     "execution_count": 16,
     "metadata": {},
     "output_type": "execute_result"
    }
   ],
   "source": [
    "C = Matrix([[2, 3],\n",
    "            [3, -1]])\n",
    "c = Matrix([4, 2])\n",
    "C * c"
   ]
  },
  {
   "cell_type": "code",
   "execution_count": 17,
   "id": "a0fcd46c",
   "metadata": {},
   "outputs": [
    {
     "data": {
      "text/latex": [
       "$\\displaystyle \\left[\\begin{matrix}15\\\\11\\\\31\\end{matrix}\\right]$"
      ],
      "text/plain": [
       "Matrix([\n",
       "[15],\n",
       "[11],\n",
       "[31]])"
      ]
     },
     "execution_count": 17,
     "metadata": {},
     "output_type": "execute_result"
    }
   ],
   "source": [
    "D = Matrix([[1, 1, 2],\n",
    "            [2, -1, 2],\n",
    "            [4, 1, 4]])\n",
    "d = Matrix([2, 3, 5])\n",
    "D * d"
   ]
  },
  {
   "cell_type": "code",
   "execution_count": null,
   "id": "e66515fd",
   "metadata": {},
   "outputs": [],
   "source": []
  }
 ],
 "metadata": {
  "kernelspec": {
   "display_name": "Python 3",
   "language": "python",
   "name": "python3"
  },
  "language_info": {
   "codemirror_mode": {
    "name": "ipython",
    "version": 3
   },
   "file_extension": ".py",
   "mimetype": "text/x-python",
   "name": "python",
   "nbconvert_exporter": "python",
   "pygments_lexer": "ipython3",
   "version": "3.8.8"
  }
 },
 "nbformat": 4,
 "nbformat_minor": 5
}
