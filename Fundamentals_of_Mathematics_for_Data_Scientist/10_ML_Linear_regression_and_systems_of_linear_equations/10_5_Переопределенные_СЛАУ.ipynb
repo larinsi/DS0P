{
  "nbformat": 4,
  "nbformat_minor": 0,
  "metadata": {
    "kernelspec": {
      "display_name": "Python 3",
      "language": "python",
      "name": "python3"
    },
    "language_info": {
      "codemirror_mode": {
        "name": "ipython",
        "version": 3
      },
      "file_extension": ".py",
      "mimetype": "text/x-python",
      "name": "python",
      "nbconvert_exporter": "python",
      "pygments_lexer": "ipython3",
      "version": "3.7.6"
    },
    "colab": {
      "name": "10.5 Переопределенные СЛАУ.ipynb",
      "provenance": []
    }
  },
  "cells": [
    {
      "cell_type": "code",
      "metadata": {
        "id": "xhhJ90U07c56"
      },
      "source": [
        "from sympy import *\n",
        "import numpy"
      ],
      "execution_count": null,
      "outputs": []
    },
    {
      "cell_type": "code",
      "metadata": {
        "id": "-vWbCFNq7c6K",
        "outputId": "bd4b13fe-edca-433a-b505-54b3ee1f4a44"
      },
      "source": [
        "a1, a2 = symbols('a1, a2')\n",
        "\n",
        "MSE = 1 / 4 * ((4.1 * a1 + 3.9 * a2 - 4.0)**2 + \\\n",
        "               (4.7 * a1 + 4.2 * a2 - 4.3)**2 + \\\n",
        "               (3.1 * a1 + 2.9 * a2 - 3.0)**2 + \\\n",
        "               (4.9 * a1 + 5.0 * a2 - 4.9)**2)\n",
        "MSE.subs({a1: 0, a2: 0})"
      ],
      "execution_count": null,
      "outputs": [
        {
          "output_type": "execute_result",
          "data": {
            "text/latex": "$\\displaystyle 16.875$",
            "text/plain": [
              "16.8750000000000"
            ]
          },
          "metadata": {
            "tags": []
          },
          "execution_count": 2
        }
      ]
    },
    {
      "cell_type": "code",
      "metadata": {
        "id": "MyqlW7Nx7c6Z",
        "outputId": "1a94048b-2847-4439-ffc9-a6527eb6a821"
      },
      "source": [
        "MSEa1 = diff(MSE, a1)\n",
        "MSEa1"
      ],
      "execution_count": null,
      "outputs": [
        {
          "output_type": "execute_result",
          "data": {
            "text/latex": "$\\displaystyle 36.26 a_{1} + 34.61 a_{2} - 34.96$",
            "text/plain": [
              "36.26*a1 + 34.61*a2 - 34.96"
            ]
          },
          "metadata": {
            "tags": []
          },
          "execution_count": 3
        }
      ]
    },
    {
      "cell_type": "code",
      "metadata": {
        "id": "f-SQvcfW7c6k",
        "outputId": "8a53af4d-9ed8-411d-c2ad-2df4f5cb8c46"
      },
      "source": [
        "MSEa2 = diff(MSE, a2)\n",
        "MSEa2"
      ],
      "execution_count": null,
      "outputs": [
        {
          "output_type": "execute_result",
          "data": {
            "text/latex": "$\\displaystyle 34.61 a_{1} + 33.13 a_{2} - 33.43$",
            "text/plain": [
              "34.61*a1 + 33.13*a2 - 33.43"
            ]
          },
          "metadata": {
            "tags": []
          },
          "execution_count": 4
        }
      ]
    },
    {
      "cell_type": "code",
      "metadata": {
        "id": "p5nX5ir_7c6t"
      },
      "source": [
        "step = 0.01"
      ],
      "execution_count": null,
      "outputs": []
    },
    {
      "cell_type": "code",
      "metadata": {
        "id": "wZnRQ_Ex7c61"
      },
      "source": [
        "point = numpy.array([0, 0])"
      ],
      "execution_count": null,
      "outputs": []
    },
    {
      "cell_type": "code",
      "metadata": {
        "id": "_gsBmERo7c66",
        "outputId": "27190158-89ac-4e14-840f-099255240c26"
      },
      "source": [
        "grad = numpy.array([MSEa1.subs({a1: point[0], a2: point[1]}), \n",
        "                    MSEa2.subs({a1: point[0], a2: point[1]})])\n",
        "grad"
      ],
      "execution_count": null,
      "outputs": [
        {
          "output_type": "execute_result",
          "data": {
            "text/plain": [
              "array([-34.9600000000000, -33.4300000000000], dtype=object)"
            ]
          },
          "metadata": {
            "tags": []
          },
          "execution_count": 8
        }
      ]
    },
    {
      "cell_type": "code",
      "metadata": {
        "id": "jd2cjwOj7c7A",
        "outputId": "8c2fb0f2-b7fa-46d5-fc25-3aa45149cf6b"
      },
      "source": [
        "next_point = point - step * grad\n",
        "next_point"
      ],
      "execution_count": null,
      "outputs": [
        {
          "output_type": "execute_result",
          "data": {
            "text/plain": [
              "array([0.349600000000000, 0.334300000000000], dtype=object)"
            ]
          },
          "metadata": {
            "tags": []
          },
          "execution_count": 9
        }
      ]
    },
    {
      "cell_type": "code",
      "metadata": {
        "id": "C4UUXFI67c7F",
        "outputId": "340fa9a3-74a3-4f11-b681-6562ee637ec6"
      },
      "source": [
        "MSE.subs({a1: next_point[0], a2: next_point[1]})"
      ],
      "execution_count": null,
      "outputs": [
        {
          "output_type": "execute_result",
          "data": {
            "text/latex": "$\\displaystyle 1.58934775845$",
            "text/plain": [
              "1.58934775845000"
            ]
          },
          "metadata": {
            "tags": []
          },
          "execution_count": 10
        }
      ]
    },
    {
      "cell_type": "code",
      "metadata": {
        "id": "TE3xV1nW7c7I"
      },
      "source": [
        ""
      ],
      "execution_count": null,
      "outputs": []
    }
  ]
}