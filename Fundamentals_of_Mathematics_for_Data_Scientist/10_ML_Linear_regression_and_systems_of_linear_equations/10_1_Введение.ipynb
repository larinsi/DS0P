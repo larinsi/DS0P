{
  "nbformat": 4,
  "nbformat_minor": 0,
  "metadata": {
    "kernelspec": {
      "display_name": "Python 3",
      "language": "python",
      "name": "python3"
    },
    "language_info": {
      "codemirror_mode": {
        "name": "ipython",
        "version": 3
      },
      "file_extension": ".py",
      "mimetype": "text/x-python",
      "name": "python",
      "nbconvert_exporter": "python",
      "pygments_lexer": "ipython3",
      "version": "3.7.6"
    },
    "colab": {
      "name": "10.1 Введение.ipynb",
      "provenance": [],
      "collapsed_sections": []
    }
  },
  "cells": [
    {
      "cell_type": "code",
      "metadata": {
        "id": "WulUuKuZ5X25"
      },
      "source": [
        "from sympy import *"
      ],
      "execution_count": null,
      "outputs": []
    },
    {
      "cell_type": "code",
      "metadata": {
        "id": "XQPKOAmv5X3K",
        "outputId": "783d8fda-2f48-4f9a-cfed-4eec1f9720ee"
      },
      "source": [
        "a1, a2 = symbols('a1, a2')\n",
        "\n",
        "MSE = 1 / 4 * ((1 * a1 + 2 * a2 - 5)**2 + \\\n",
        "               (5 * a1 + 3 * a2 - 6)**2 + \\\n",
        "               (2 * a1 + 4 * a2 - 10)**2 + \\\n",
        "               (3 * a1 + 7 * a2 - 8)**2)\n",
        "MSE.subs({a1: 0.57, a2: 0.91})"
      ],
      "execution_count": null,
      "outputs": [
        {
          "output_type": "execute_result",
          "data": {
            "text/latex": "$\\displaystyle 8.560825$",
            "text/plain": [
              "8.56082500000000"
            ]
          },
          "metadata": {
            "tags": []
          },
          "execution_count": 5
        }
      ]
    },
    {
      "cell_type": "code",
      "metadata": {
        "id": "Q8pQNTcs5X3Z",
        "outputId": "80f675d1-48ae-4d63-f42b-8378520f46eb"
      },
      "source": [
        "MSEa1 = diff(MSE, a1)\n",
        "MSEa1"
      ],
      "execution_count": null,
      "outputs": [
        {
          "output_type": "execute_result",
          "data": {
            "text/latex": "$\\displaystyle 19.5 a_{1} + 23.0 a_{2} - 39.5$",
            "text/plain": [
              "19.5*a1 + 23.0*a2 - 39.5"
            ]
          },
          "metadata": {
            "tags": []
          },
          "execution_count": 6
        }
      ]
    },
    {
      "cell_type": "code",
      "metadata": {
        "id": "EtvLNSEy5X3n",
        "outputId": "880f474c-df78-4572-85db-0ffe855d32e8"
      },
      "source": [
        "MSEa2 = diff(MSE, a2)\n",
        "MSEa2"
      ],
      "execution_count": null,
      "outputs": [
        {
          "output_type": "execute_result",
          "data": {
            "text/latex": "$\\displaystyle 23.0 a_{1} + 39.0 a_{2} - 62.0$",
            "text/plain": [
              "23.0*a1 + 39.0*a2 - 62.0"
            ]
          },
          "metadata": {
            "tags": []
          },
          "execution_count": 7
        }
      ]
    },
    {
      "cell_type": "code",
      "metadata": {
        "id": "MA7qXIB25X3y"
      },
      "source": [
        "step = 0.01"
      ],
      "execution_count": null,
      "outputs": []
    },
    {
      "cell_type": "code",
      "metadata": {
        "id": "I8MOOHRv5X36"
      },
      "source": [
        "[1, 3] - [2, 1]"
      ],
      "execution_count": null,
      "outputs": []
    },
    {
      "cell_type": "code",
      "metadata": {
        "id": "7oh1n7ox5X4B"
      },
      "source": [
        "import numpy"
      ],
      "execution_count": null,
      "outputs": []
    },
    {
      "cell_type": "code",
      "metadata": {
        "id": "6QWR2m4w5X4I",
        "outputId": "aaacdeb8-cf67-4fcc-efad-80c5f3028c94"
      },
      "source": [
        "numpy.array([1, 3]) - numpy.array([2, 1])"
      ],
      "execution_count": null,
      "outputs": [
        {
          "output_type": "execute_result",
          "data": {
            "text/plain": [
              "array([-1,  2])"
            ]
          },
          "metadata": {
            "tags": []
          },
          "execution_count": 9
        }
      ]
    },
    {
      "cell_type": "code",
      "metadata": {
        "id": "eLs1N-lm5X4S"
      },
      "source": [
        ""
      ],
      "execution_count": null,
      "outputs": []
    },
    {
      "cell_type": "code",
      "metadata": {
        "id": "78inLD625X4a"
      },
      "source": [
        "# point = numpy.array([0.57, 0.91])\n",
        "point = next_point"
      ],
      "execution_count": null,
      "outputs": []
    },
    {
      "cell_type": "code",
      "metadata": {
        "id": "H-cqqO8o5X4e",
        "outputId": "4d30f4a9-04c1-4758-d951-2e1700607e70"
      },
      "source": [
        "grad = numpy.array([MSEa1.subs({a1: point[0], a2: point[1]}), \n",
        "                    MSEa2.subs({a1: point[0], a2: point[1]})])\n",
        "grad"
      ],
      "execution_count": null,
      "outputs": [
        {
          "output_type": "execute_result",
          "data": {
            "text/plain": [
              "array([0.457965626928125, -1.10791948223125], dtype=object)"
            ]
          },
          "metadata": {
            "tags": []
          },
          "execution_count": 80
        }
      ]
    },
    {
      "cell_type": "code",
      "metadata": {
        "id": "5v7hex7f5X4l",
        "outputId": "99c87422-5d77-40ae-8f11-02b43e18b186"
      },
      "source": [
        "next_point = point - step * grad\n",
        "next_point"
      ],
      "execution_count": null,
      "outputs": [
        {
          "output_type": "execute_result",
          "data": {
            "text/plain": [
              "array([0.677246726199469, 1.17031185433481], dtype=object)"
            ]
          },
          "metadata": {
            "tags": []
          },
          "execution_count": 81
        }
      ]
    },
    {
      "cell_type": "code",
      "metadata": {
        "id": "hePJaxO55X4r",
        "outputId": "e5c4e4da-c4dd-48be-b94a-471165c176fd"
      },
      "source": [
        "MSE.subs({a1: next_point[0], a2: next_point[1]})"
      ],
      "execution_count": null,
      "outputs": [
        {
          "output_type": "execute_result",
          "data": {
            "text/latex": "$\\displaystyle 6.34873371109374$",
            "text/plain": [
              "6.34873371109374"
            ]
          },
          "metadata": {
            "tags": []
          },
          "execution_count": 82
        }
      ]
    },
    {
      "cell_type": "code",
      "metadata": {
        "id": "DF6oPHiG5X4v"
      },
      "source": [
        ""
      ],
      "execution_count": null,
      "outputs": []
    }
  ]
}