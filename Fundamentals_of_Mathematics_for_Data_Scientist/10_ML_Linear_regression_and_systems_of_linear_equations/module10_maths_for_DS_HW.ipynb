{
 "cells": [
  {
   "cell_type": "code",
   "execution_count": 21,
   "id": "cf1d14cd",
   "metadata": {},
   "outputs": [],
   "source": [
    "from sympy import *\n",
    "import numpy as np"
   ]
  },
  {
   "cell_type": "markdown",
   "id": "4c22c7e3",
   "metadata": {},
   "source": [
    "### Задание 1."
   ]
  },
  {
   "cell_type": "code",
   "execution_count": 2,
   "id": "814f0a92",
   "metadata": {},
   "outputs": [],
   "source": [
    "x, y = symbols('x, y')"
   ]
  },
  {
   "cell_type": "code",
   "execution_count": 3,
   "id": "b5bdc22a",
   "metadata": {},
   "outputs": [
    {
     "data": {
      "text/latex": [
       "$\\displaystyle \\left\\{\\left( -1, \\  -5\\right)\\right\\}$"
      ],
      "text/plain": [
       "FiniteSet((-1, -5))"
      ]
     },
     "execution_count": 3,
     "metadata": {},
     "output_type": "execute_result"
    }
   ],
   "source": [
    "A_augmented = Matrix([[-1, 7, -34],\n",
    "                      [8, 8, -48]])\n",
    "linsolve(A_augmented, [x, y])"
   ]
  },
  {
   "cell_type": "code",
   "execution_count": 4,
   "id": "80ae85c5",
   "metadata": {},
   "outputs": [
    {
     "data": {
      "text/latex": [
       "$\\displaystyle \\left\\{\\left( -1, \\  0\\right)\\right\\}$"
      ],
      "text/plain": [
       "FiniteSet((-1, 0))"
      ]
     },
     "execution_count": 4,
     "metadata": {},
     "output_type": "execute_result"
    }
   ],
   "source": [
    "B_augmented = Matrix([[4, -7, -4],\n",
    "                      [3, -4, -3]])\n",
    "linsolve(B_augmented, [x, y])"
   ]
  },
  {
   "cell_type": "code",
   "execution_count": 5,
   "id": "9aa9bbb4",
   "metadata": {},
   "outputs": [],
   "source": [
    "a, b = symbols('a, b')"
   ]
  },
  {
   "cell_type": "code",
   "execution_count": 6,
   "id": "1b6c51a5",
   "metadata": {},
   "outputs": [
    {
     "data": {
      "text/latex": [
       "$\\displaystyle \\left\\{\\left( 9, \\  2\\right)\\right\\}$"
      ],
      "text/plain": [
       "FiniteSet((9, 2))"
      ]
     },
     "execution_count": 6,
     "metadata": {},
     "output_type": "execute_result"
    }
   ],
   "source": [
    "C_augmented = Matrix([[8, -4, 64],\n",
    "                      [-3, 3, -21]])\n",
    "linsolve(C_augmented, [a, b])"
   ]
  },
  {
   "cell_type": "code",
   "execution_count": 7,
   "id": "efdc84f2",
   "metadata": {},
   "outputs": [],
   "source": [
    "x1, x2, x3 = symbols('x1, x2, x3')"
   ]
  },
  {
   "cell_type": "code",
   "execution_count": 8,
   "id": "fa068f21",
   "metadata": {},
   "outputs": [
    {
     "data": {
      "text/latex": [
       "$\\displaystyle \\left\\{\\left( -2, \\  -6, \\  -1\\right)\\right\\}$"
      ],
      "text/plain": [
       "FiniteSet((-2, -6, -1))"
      ]
     },
     "execution_count": 8,
     "metadata": {},
     "output_type": "execute_result"
    }
   ],
   "source": [
    "D_augmented = Matrix([[5, 7, -5, -47],\n",
    "                      [0, -2, 2, 10],\n",
    "                      [-4, -8, -7, 63]])\n",
    "linsolve(D_augmented, [x1, x2, x3])"
   ]
  },
  {
   "cell_type": "markdown",
   "id": "25c4d841",
   "metadata": {},
   "source": [
    "### Задание 2."
   ]
  },
  {
   "cell_type": "code",
   "execution_count": 11,
   "id": "896b36d0",
   "metadata": {},
   "outputs": [
    {
     "data": {
      "text/latex": [
       "$\\displaystyle \\left[\\begin{matrix}-34\\\\-48\\end{matrix}\\right]$"
      ],
      "text/plain": [
       "Matrix([\n",
       "[-34],\n",
       "[-48]])"
      ]
     },
     "execution_count": 11,
     "metadata": {},
     "output_type": "execute_result"
    }
   ],
   "source": [
    "Matrix([[-1, 7], [8, 8]]) * Matrix([-1, -5])"
   ]
  },
  {
   "cell_type": "code",
   "execution_count": 12,
   "id": "4e2f1511",
   "metadata": {},
   "outputs": [
    {
     "data": {
      "text/latex": [
       "$\\displaystyle \\left[\\begin{matrix}-4\\\\-3\\end{matrix}\\right]$"
      ],
      "text/plain": [
       "Matrix([\n",
       "[-4],\n",
       "[-3]])"
      ]
     },
     "execution_count": 12,
     "metadata": {},
     "output_type": "execute_result"
    }
   ],
   "source": [
    "Matrix([[4, -7], [3, -4]]) * Matrix([-1, 0])"
   ]
  },
  {
   "cell_type": "code",
   "execution_count": 13,
   "id": "0c18d72e",
   "metadata": {},
   "outputs": [
    {
     "data": {
      "text/latex": [
       "$\\displaystyle \\left[\\begin{matrix}64\\\\-21\\end{matrix}\\right]$"
      ],
      "text/plain": [
       "Matrix([\n",
       "[ 64],\n",
       "[-21]])"
      ]
     },
     "execution_count": 13,
     "metadata": {},
     "output_type": "execute_result"
    }
   ],
   "source": [
    "Matrix([[8, -4], [-3, 3]]) * Matrix([9, 2])"
   ]
  },
  {
   "cell_type": "code",
   "execution_count": 14,
   "id": "9642aca9",
   "metadata": {},
   "outputs": [
    {
     "data": {
      "text/latex": [
       "$\\displaystyle \\left[\\begin{matrix}-47\\\\10\\\\63\\end{matrix}\\right]$"
      ],
      "text/plain": [
       "Matrix([\n",
       "[-47],\n",
       "[ 10],\n",
       "[ 63]])"
      ]
     },
     "execution_count": 14,
     "metadata": {},
     "output_type": "execute_result"
    }
   ],
   "source": [
    "Matrix([[5, 7, -5], [0, -2, 2], [-4, -8, -7]]) * Matrix([-2, -6, -1])"
   ]
  },
  {
   "cell_type": "markdown",
   "id": "58597f6b",
   "metadata": {},
   "source": [
    "### Задание 3."
   ]
  },
  {
   "cell_type": "code",
   "execution_count": 15,
   "id": "167368d1",
   "metadata": {},
   "outputs": [],
   "source": [
    "z = Symbol('z')"
   ]
  },
  {
   "cell_type": "code",
   "execution_count": 16,
   "id": "598427f2",
   "metadata": {},
   "outputs": [],
   "source": [
    "MSE = 1/6 * ((5*x + 7*y - 5*z + 47)**2 + \\\n",
    "             (-2*y + 2*z - 10)**2 + \\\n",
    "             (-4*x - 8*y - 7*z - 63)**2 + \\\n",
    "             (x + y + 2*z + 1)**2 + \\\n",
    "             (2*x - y + 2*z + 4)**2 + \\\n",
    "             (4*x + y + 4*z + 2)**2)"
   ]
  },
  {
   "cell_type": "code",
   "execution_count": 17,
   "id": "1c478889",
   "metadata": {},
   "outputs": [
    {
     "data": {
      "text/latex": [
       "$\\displaystyle 20.6666666666667 x + 23.3333333333333 y + 8.33333333333333 z + 168.0$"
      ],
      "text/plain": [
       "20.6666666666667*x + 23.3333333333333*y + 8.33333333333333*z + 168.0"
      ]
     },
     "execution_count": 17,
     "metadata": {},
     "output_type": "execute_result"
    }
   ],
   "source": [
    "diff(MSE, x)"
   ]
  },
  {
   "cell_type": "code",
   "execution_count": 18,
   "id": "50fb69ad",
   "metadata": {},
   "outputs": [
    {
     "data": {
      "text/latex": [
       "$\\displaystyle 23.3333333333333 x + 40.0 y + 6.99999999999999 z + 284.0$"
      ],
      "text/plain": [
       "23.3333333333333*x + 40.0*y + 6.99999999999999*z + 284.0"
      ]
     },
     "execution_count": 18,
     "metadata": {},
     "output_type": "execute_result"
    }
   ],
   "source": [
    "diff(MSE, y)"
   ]
  },
  {
   "cell_type": "code",
   "execution_count": 19,
   "id": "dea7af59",
   "metadata": {},
   "outputs": [
    {
     "data": {
      "text/latex": [
       "$\\displaystyle 8.33333333333333 x + 6.99999999999999 y + 34.0 z + 68.0$"
      ],
      "text/plain": [
       "8.33333333333333*x + 6.99999999999999*y + 34.0*z + 68.0"
      ]
     },
     "execution_count": 19,
     "metadata": {},
     "output_type": "execute_result"
    }
   ],
   "source": [
    "diff(MSE, z)"
   ]
  },
  {
   "cell_type": "code",
   "execution_count": 25,
   "id": "a3ddae0c",
   "metadata": {},
   "outputs": [
    {
     "name": "stdout",
     "output_type": "stream",
     "text": [
      "MSE:  1049.83333333333\n",
      "Градиент:  [168.000000000000 284.000000000000 68.0000000000000]\n",
      "Точка:  [0 0 0]\n",
      "--------------------------------------------------------------\n",
      "MSE:  247.497333333333\n",
      "Градиент:  [61.3466666666667 126.440000000000 11.0000000000000]\n",
      "Точка:  [-1.68000000000000 -2.84000000000000 -0.680000000000000]\n",
      "--------------------------------------------------------------\n",
      "MSE:  104.486005072593\n",
      "Градиент:  [18.2490222222222 60.7797777777778 -6.70302222222221]\n",
      "Точка:  [-2.29346666666667 -4.10440000000000 -0.790000000000000]\n",
      "--------------------------------------------------------------\n",
      "MSE:  73.7744351503798\n",
      "Градиент:  [0.854194666666658 32.6789730370370 -10.1993309629630]\n",
      "Точка:  [-2.47595688888889 -4.71219777777778 -0.722969777777778]\n",
      "--------------------------------------------------------------\n",
      "MSE:  64.1857120851198\n",
      "Градиент:  [-6.09748835950617 20.1220249007408 -9.09026943703702]\n",
      "Точка:  [-2.48449883555556 -5.03898750814815 -0.620976468148148]\n",
      "--------------------------------------------------------------\n",
      "MSE:  59.5591801838142\n",
      "Градиент:  [-8.77495745562800 14.1322810849218 -6.89999554153744]\n",
      "Точка:  [-2.42352395196049 -5.24020775715556 -0.530073773777778]\n",
      "--------------------------------------------------------------\n",
      "MSE:  56.5686545495930\n",
      "Градиент:  [-9.68399887281848 11.0098584118406 -4.81201027872356]\n",
      "Точка:  [-2.33577437740421 -5.38153056800477 -0.461073818362404]\n",
      "--------------------------------------------------------------\n",
      "MSE:  54.3188045027199\n",
      "Градиент:  [-9.68399887281848 11.0098584118406 -4.81201027872356]\n",
      "Точка:  [-2.23893438867603 -5.49162915212318 -0.412953715575168]\n"
     ]
    }
   ],
   "source": [
    "step = 0.01\n",
    "point = np.array([0, 0, 0])\n",
    "while MSE.subs({x: point[0], y: point[1], z: point[2]}) >= 55:\n",
    "    print('MSE: ', MSE.subs({x: point[0], y: point[1], z: point[2]}))\n",
    "    grad = np.array([diff(MSE, x).subs({x: point[0], y: point[1], z: point[2]}),\n",
    "                     diff(MSE, y).subs({x: point[0], y: point[1], z: point[2]}),\n",
    "                     diff(MSE, z).subs({x: point[0], y: point[1], z: point[2]})])\n",
    "    print('Градиент: ', grad)\n",
    "    print('Точка: ', point)\n",
    "    print('--------------------------------------------------------------')\n",
    "    new_point = point - step * grad\n",
    "    point = new_point\n",
    "    \n",
    "    \n",
    "print('MSE: ', MSE.subs({x: point[0], y: point[1], z: point[2]}))\n",
    "print('Градиент: ', grad)\n",
    "print('Точка: ', point)"
   ]
  },
  {
   "cell_type": "code",
   "execution_count": null,
   "id": "5f3a6781",
   "metadata": {},
   "outputs": [],
   "source": []
  }
 ],
 "metadata": {
  "kernelspec": {
   "display_name": "Python 3",
   "language": "python",
   "name": "python3"
  },
  "language_info": {
   "codemirror_mode": {
    "name": "ipython",
    "version": 3
   },
   "file_extension": ".py",
   "mimetype": "text/x-python",
   "name": "python",
   "nbconvert_exporter": "python",
   "pygments_lexer": "ipython3",
   "version": "3.8.8"
  }
 },
 "nbformat": 4,
 "nbformat_minor": 5
}
