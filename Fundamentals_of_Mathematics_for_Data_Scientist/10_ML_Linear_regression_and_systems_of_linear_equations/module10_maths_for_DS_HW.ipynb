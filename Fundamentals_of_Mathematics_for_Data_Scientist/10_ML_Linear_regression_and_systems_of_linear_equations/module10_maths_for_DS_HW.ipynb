{
 "cells": [
  {
   "cell_type": "code",
   "execution_count": 1,
   "id": "04edc245",
   "metadata": {},
   "outputs": [],
   "source": [
    "from sympy import *"
   ]
  },
  {
   "cell_type": "markdown",
   "id": "93fe25ea",
   "metadata": {},
   "source": [
    "### Задание 1."
   ]
  },
  {
   "cell_type": "code",
   "execution_count": 2,
   "id": "5ef7b6b9",
   "metadata": {},
   "outputs": [],
   "source": [
    "x, y = symbols('x, y')"
   ]
  },
  {
   "cell_type": "code",
   "execution_count": 3,
   "id": "70894742",
   "metadata": {},
   "outputs": [
    {
     "data": {
      "text/latex": [
       "$\\displaystyle \\left\\{\\left( -1, \\  -5\\right)\\right\\}$"
      ],
      "text/plain": [
       "FiniteSet((-1, -5))"
      ]
     },
     "execution_count": 3,
     "metadata": {},
     "output_type": "execute_result"
    }
   ],
   "source": [
    "A_augmented = Matrix([[-1, 7, -34],\n",
    "                      [8, 8, -48]])\n",
    "linsolve(A_augmented, [x, y])"
   ]
  },
  {
   "cell_type": "code",
   "execution_count": 4,
   "id": "37dfe27f",
   "metadata": {},
   "outputs": [
    {
     "data": {
      "text/latex": [
       "$\\displaystyle \\left\\{\\left( -1, \\  0\\right)\\right\\}$"
      ],
      "text/plain": [
       "FiniteSet((-1, 0))"
      ]
     },
     "execution_count": 4,
     "metadata": {},
     "output_type": "execute_result"
    }
   ],
   "source": [
    "B_augmented = Matrix([[4, -7, -4],\n",
    "                      [3, -4, -3]])\n",
    "linsolve(B_augmented, [x, y])"
   ]
  },
  {
   "cell_type": "code",
   "execution_count": 5,
   "id": "9f512139",
   "metadata": {},
   "outputs": [],
   "source": [
    "a, b = symbols('a, b')"
   ]
  },
  {
   "cell_type": "code",
   "execution_count": 6,
   "id": "caf48bb0",
   "metadata": {},
   "outputs": [
    {
     "data": {
      "text/latex": [
       "$\\displaystyle \\left\\{\\left( 9, \\  2\\right)\\right\\}$"
      ],
      "text/plain": [
       "FiniteSet((9, 2))"
      ]
     },
     "execution_count": 6,
     "metadata": {},
     "output_type": "execute_result"
    }
   ],
   "source": [
    "C_augmented = Matrix([[8, -4, 64],\n",
    "                      [-3, 3, -21]])\n",
    "linsolve(C_augmented, [a, b])"
   ]
  },
  {
   "cell_type": "code",
   "execution_count": 7,
   "id": "5e1b2006",
   "metadata": {},
   "outputs": [],
   "source": [
    "x1, x2, x3 = symbols('x1, x2, x3')"
   ]
  },
  {
   "cell_type": "code",
   "execution_count": 8,
   "id": "285b8c87",
   "metadata": {},
   "outputs": [
    {
     "data": {
      "text/latex": [
       "$\\displaystyle \\left\\{\\left( -2, \\  -6, \\  -1\\right)\\right\\}$"
      ],
      "text/plain": [
       "FiniteSet((-2, -6, -1))"
      ]
     },
     "execution_count": 8,
     "metadata": {},
     "output_type": "execute_result"
    }
   ],
   "source": [
    "D_augmented = Matrix([[5, 7, -5, -47],\n",
    "                      [0, -2, 2, 10],\n",
    "                      [-4, -8, -7, 63]])\n",
    "linsolve(D_augmented, [x1, x2, x3])"
   ]
  },
  {
   "cell_type": "markdown",
   "id": "dce1f89d",
   "metadata": {},
   "source": [
    "### Задание 2."
   ]
  },
  {
   "cell_type": "code",
   "execution_count": null,
   "id": "72ef92ed",
   "metadata": {},
   "outputs": [],
   "source": []
  }
 ],
 "metadata": {
  "kernelspec": {
   "display_name": "Python 3",
   "language": "python",
   "name": "python3"
  },
  "language_info": {
   "codemirror_mode": {
    "name": "ipython",
    "version": 3
   },
   "file_extension": ".py",
   "mimetype": "text/x-python",
   "name": "python",
   "nbconvert_exporter": "python",
   "pygments_lexer": "ipython3",
   "version": "3.8.8"
  }
 },
 "nbformat": 4,
 "nbformat_minor": 5
}
