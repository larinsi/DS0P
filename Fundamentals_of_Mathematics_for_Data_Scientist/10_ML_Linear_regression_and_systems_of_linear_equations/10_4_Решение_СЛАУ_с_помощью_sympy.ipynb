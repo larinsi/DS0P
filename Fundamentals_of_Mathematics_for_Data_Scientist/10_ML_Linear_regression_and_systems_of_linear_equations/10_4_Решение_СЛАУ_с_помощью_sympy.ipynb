{
  "nbformat": 4,
  "nbformat_minor": 0,
  "metadata": {
    "kernelspec": {
      "display_name": "Python 3",
      "language": "python",
      "name": "python3"
    },
    "language_info": {
      "codemirror_mode": {
        "name": "ipython",
        "version": 3
      },
      "file_extension": ".py",
      "mimetype": "text/x-python",
      "name": "python",
      "nbconvert_exporter": "python",
      "pygments_lexer": "ipython3",
      "version": "3.7.6"
    },
    "colab": {
      "name": "10.4 Решение СЛАУ с помощью sympy.ipynb",
      "provenance": []
    }
  },
  "cells": [
    {
      "cell_type": "code",
      "metadata": {
        "id": "3GrT5NRm5yBM"
      },
      "source": [
        "from sympy import *\n",
        "import numpy"
      ],
      "execution_count": null,
      "outputs": []
    },
    {
      "cell_type": "code",
      "metadata": {
        "id": "sZsdZ1qe5yBa"
      },
      "source": [
        "a1, a2 = symbols('a1, a2')\n",
        "\n",
        "eq1 = 4.1 * a1 + 3.9 * a2 - 4\n",
        "eq2 = 4.7 * a1 + 4.2 * a2 - 4.3"
      ],
      "execution_count": null,
      "outputs": []
    },
    {
      "cell_type": "code",
      "metadata": {
        "id": "zxqxtSwE5yBk",
        "outputId": "37ea73bb-725b-491f-916a-b87fdc8949f0"
      },
      "source": [
        "nonlinsolve([eq1, eq2], [a1, a2])"
      ],
      "execution_count": null,
      "outputs": [
        {
          "output_type": "execute_result",
          "data": {
            "text/latex": "$\\displaystyle \\left\\{\\left( -0.0270270270270302, \\  1.05405405405406\\right)\\right\\}$",
            "text/plain": [
              "FiniteSet((-0.0270270270270302, 1.05405405405406))"
            ]
          },
          "metadata": {
            "tags": []
          },
          "execution_count": 3
        }
      ]
    },
    {
      "cell_type": "code",
      "metadata": {
        "id": "huvQmkVD5yBx",
        "outputId": "295f1d53-83e8-4892-b8ab-64a163c5bf11"
      },
      "source": [
        "(4 - 3.9 * 1.05) / 4.1"
      ],
      "execution_count": null,
      "outputs": [
        {
          "output_type": "execute_result",
          "data": {
            "text/plain": [
              "-0.023170731707317014"
            ]
          },
          "metadata": {
            "tags": []
          },
          "execution_count": 6
        }
      ]
    },
    {
      "cell_type": "code",
      "metadata": {
        "id": "cP1955W75yB6",
        "outputId": "f76fadaf-7b0b-4e26-f4c5-380f64053973"
      },
      "source": [
        "linsolve([eq1, eq2], [a1, a2])"
      ],
      "execution_count": null,
      "outputs": [
        {
          "output_type": "execute_result",
          "data": {
            "text/latex": "$\\displaystyle \\left\\{\\left( -0.0270270270270259, \\  1.05405405405405\\right)\\right\\}$",
            "text/plain": [
              "FiniteSet((-0.0270270270270259, 1.05405405405405))"
            ]
          },
          "metadata": {
            "tags": []
          },
          "execution_count": 7
        }
      ]
    },
    {
      "cell_type": "code",
      "metadata": {
        "id": "ozA1NDs45yCA",
        "outputId": "868714cc-4afc-4ef9-e5f9-a13181f5fc31"
      },
      "source": [
        "X_augmented = Matrix([[4.1, 3.9, 4], [4.7, 4.2, 4.3]])\n",
        "X_augmented"
      ],
      "execution_count": null,
      "outputs": [
        {
          "output_type": "execute_result",
          "data": {
            "text/latex": "$\\displaystyle \\left[\\begin{matrix}4.1 & 3.9 & 4\\\\4.7 & 4.2 & 4.3\\end{matrix}\\right]$",
            "text/plain": [
              "Matrix([\n",
              "[4.1, 3.9,   4],\n",
              "[4.7, 4.2, 4.3]])"
            ]
          },
          "metadata": {
            "tags": []
          },
          "execution_count": 23
        }
      ]
    },
    {
      "cell_type": "code",
      "metadata": {
        "id": "kH0MyhbA5yCI",
        "outputId": "96bdc436-0a35-4fb4-8232-c800a8ae7fd4"
      },
      "source": [
        "linsolve(X_augmented, [a1, a2])"
      ],
      "execution_count": null,
      "outputs": [
        {
          "output_type": "execute_result",
          "data": {
            "text/latex": "$\\displaystyle \\left\\{\\left( -0.0270270270270259, \\  1.05405405405405\\right)\\right\\}$",
            "text/plain": [
              "FiniteSet((-0.0270270270270259, 1.05405405405405))"
            ]
          },
          "metadata": {
            "tags": []
          },
          "execution_count": 20
        }
      ]
    },
    {
      "cell_type": "code",
      "metadata": {
        "id": "VNgjfpI_5yCP",
        "outputId": "ecf4651e-1bf1-4682-fb4f-900b1878236c"
      },
      "source": [
        "X = Matrix([[4.1, 3.9], [4.7, 4.2]])\n",
        "X"
      ],
      "execution_count": null,
      "outputs": [
        {
          "output_type": "execute_result",
          "data": {
            "text/latex": "$\\displaystyle \\left[\\begin{matrix}4.1 & 3.9\\\\4.7 & 4.2\\end{matrix}\\right]$",
            "text/plain": [
              "Matrix([\n",
              "[4.1, 3.9],\n",
              "[4.7, 4.2]])"
            ]
          },
          "metadata": {
            "tags": []
          },
          "execution_count": 24
        }
      ]
    },
    {
      "cell_type": "code",
      "metadata": {
        "id": "C4EYKAmh5yCU",
        "outputId": "48cec184-06d3-467e-e693-115774eb176b"
      },
      "source": [
        "a = Matrix([a1, a2])\n",
        "a"
      ],
      "execution_count": null,
      "outputs": [
        {
          "output_type": "execute_result",
          "data": {
            "text/latex": "$\\displaystyle \\left[\\begin{matrix}a_{1}\\\\a_{2}\\end{matrix}\\right]$",
            "text/plain": [
              "Matrix([\n",
              "[a1],\n",
              "[a2]])"
            ]
          },
          "metadata": {
            "tags": []
          },
          "execution_count": 27
        }
      ]
    },
    {
      "cell_type": "code",
      "metadata": {
        "id": "zY6W4uwR5yCZ",
        "outputId": "268cdd59-fa34-4b01-b062-d15fd58fcbab"
      },
      "source": [
        "X * a"
      ],
      "execution_count": null,
      "outputs": [
        {
          "output_type": "execute_result",
          "data": {
            "text/latex": "$\\displaystyle \\left[\\begin{matrix}4.1 a_{1} + 3.9 a_{2}\\\\4.7 a_{1} + 4.2 a_{2}\\end{matrix}\\right]$",
            "text/plain": [
              "Matrix([\n",
              "[4.1*a1 + 3.9*a2],\n",
              "[4.7*a1 + 4.2*a2]])"
            ]
          },
          "metadata": {
            "tags": []
          },
          "execution_count": 33
        }
      ]
    },
    {
      "cell_type": "code",
      "metadata": {
        "id": "gc5GbbVi5yCf",
        "outputId": "bd63ffed-e3af-4e17-fd74-b1a9ed806cd6"
      },
      "source": [
        "b = Matrix([4, 4.3])\n",
        "b"
      ],
      "execution_count": null,
      "outputs": [
        {
          "output_type": "execute_result",
          "data": {
            "text/latex": "$\\displaystyle \\left[\\begin{matrix}4\\\\4.3\\end{matrix}\\right]$",
            "text/plain": [
              "Matrix([\n",
              "[  4],\n",
              "[4.3]])"
            ]
          },
          "metadata": {
            "tags": []
          },
          "execution_count": 34
        }
      ]
    },
    {
      "cell_type": "code",
      "metadata": {
        "id": "Wyag2Fli5yCk",
        "outputId": "0e8935c4-c92a-45ae-e485-6098dbe9f8e3"
      },
      "source": [
        "X * a - b"
      ],
      "execution_count": null,
      "outputs": [
        {
          "output_type": "execute_result",
          "data": {
            "text/latex": "$\\displaystyle \\left[\\begin{matrix}4.1 a_{1} + 3.9 a_{2} - 4\\\\4.7 a_{1} + 4.2 a_{2} - 4.3\\end{matrix}\\right]$",
            "text/plain": [
              "Matrix([\n",
              "[  4.1*a1 + 3.9*a2 - 4],\n",
              "[4.7*a1 + 4.2*a2 - 4.3]])"
            ]
          },
          "metadata": {
            "tags": []
          },
          "execution_count": 35
        }
      ]
    },
    {
      "cell_type": "code",
      "metadata": {
        "id": "BifGEjAy5yCq",
        "outputId": "b383604f-542c-4955-bff3-0a9a58e17116"
      },
      "source": [
        "X = Matrix([[2, 5], [7, -3]])\n",
        "X"
      ],
      "execution_count": null,
      "outputs": [
        {
          "output_type": "execute_result",
          "data": {
            "text/latex": "$\\displaystyle \\left[\\begin{matrix}2 & 5\\\\7 & -3\\end{matrix}\\right]$",
            "text/plain": [
              "Matrix([\n",
              "[2,  5],\n",
              "[7, -3]])"
            ]
          },
          "metadata": {
            "tags": []
          },
          "execution_count": 40
        }
      ]
    },
    {
      "cell_type": "code",
      "metadata": {
        "id": "HPrsu5DD5yCv",
        "outputId": "c602ec5a-980e-4889-9150-86b8969f2448"
      },
      "source": [
        "y = Matrix([2, 3])\n",
        "y"
      ],
      "execution_count": null,
      "outputs": [
        {
          "output_type": "execute_result",
          "data": {
            "text/latex": "$\\displaystyle \\left[\\begin{matrix}2\\\\3\\end{matrix}\\right]$",
            "text/plain": [
              "Matrix([\n",
              "[2],\n",
              "[3]])"
            ]
          },
          "metadata": {
            "tags": []
          },
          "execution_count": 41
        }
      ]
    },
    {
      "cell_type": "code",
      "metadata": {
        "id": "EaFdHOSY5yC0",
        "outputId": "efb63cb2-cf67-4134-914c-ae4caa54a724"
      },
      "source": [
        "X * y"
      ],
      "execution_count": null,
      "outputs": [
        {
          "output_type": "execute_result",
          "data": {
            "text/latex": "$\\displaystyle \\left[\\begin{matrix}19\\\\5\\end{matrix}\\right]$",
            "text/plain": [
              "Matrix([\n",
              "[19],\n",
              "[ 5]])"
            ]
          },
          "metadata": {
            "tags": []
          },
          "execution_count": 42
        }
      ]
    }
  ]
}