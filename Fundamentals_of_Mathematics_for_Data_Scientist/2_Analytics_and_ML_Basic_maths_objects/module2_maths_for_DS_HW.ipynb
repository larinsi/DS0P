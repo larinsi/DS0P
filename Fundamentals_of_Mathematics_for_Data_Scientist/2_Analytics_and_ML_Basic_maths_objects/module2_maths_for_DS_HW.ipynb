{
 "cells": [
  {
   "cell_type": "code",
   "execution_count": 1,
   "id": "6978d025",
   "metadata": {},
   "outputs": [],
   "source": [
    "from sympy import *\n",
    "import numpy as np"
   ]
  },
  {
   "cell_type": "markdown",
   "id": "7a53d99e",
   "metadata": {},
   "source": [
    "#### Задача 1."
   ]
  },
  {
   "cell_type": "code",
   "execution_count": 5,
   "id": "732f9241",
   "metadata": {},
   "outputs": [
    {
     "data": {
      "text/latex": [
       "$\\displaystyle 2$"
      ],
      "text/plain": [
       "2"
      ]
     },
     "execution_count": 5,
     "metadata": {},
     "output_type": "execute_result"
    }
   ],
   "source": [
    "expression1 = (sqrt(13) + sqrt(7))**2 / (10 + sqrt(91))\n",
    "simplify(expression1)"
   ]
  },
  {
   "cell_type": "markdown",
   "id": "8adf9434",
   "metadata": {},
   "source": [
    "#### Задача 2."
   ]
  },
  {
   "cell_type": "code",
   "execution_count": 18,
   "id": "b7f73a03",
   "metadata": {},
   "outputs": [
    {
     "data": {
      "text/latex": [
       "$\\displaystyle \\frac{\\log{\\left(\\frac{10}{b^{3}} \\right)}}{\\log{\\left(10 \\right)}}$"
      ],
      "text/plain": [
       "log(10/b**3)/log(10)"
      ]
     },
     "execution_count": 18,
     "metadata": {},
     "output_type": "execute_result"
    }
   ],
   "source": [
    "b = Symbol('b')\n",
    "expression2 = log(10/b**3, 10)\n",
    "expression2.subs(log(b, 10), 5)\n",
    "#simplify(expression2)"
   ]
  },
  {
   "cell_type": "markdown",
   "id": "c06007dd",
   "metadata": {},
   "source": [
    "#### Задача 3."
   ]
  },
  {
   "cell_type": "code",
   "execution_count": 19,
   "id": "94792394",
   "metadata": {},
   "outputs": [
    {
     "data": {
      "text/latex": [
       "$\\displaystyle 6 a^{3}$"
      ],
      "text/plain": [
       "6*a**3"
      ]
     },
     "execution_count": 19,
     "metadata": {},
     "output_type": "execute_result"
    }
   ],
   "source": [
    "a = Symbol('a')\n",
    "expression3 = 2*a*(root(a, 3)**4)*3*root(a, 3)**2\n",
    "simplify(expression3)"
   ]
  },
  {
   "cell_type": "markdown",
   "id": "55f6e9f5",
   "metadata": {},
   "source": [
    "В этой задаче воспользовался свойством степеней чтобы вынести показатель степени из под корня, иначе `simplify` не упрощал выражение до конца."
   ]
  },
  {
   "cell_type": "code",
   "execution_count": null,
   "id": "a47043ee",
   "metadata": {},
   "outputs": [],
   "source": []
  }
 ],
 "metadata": {
  "kernelspec": {
   "display_name": "Python 3",
   "language": "python",
   "name": "python3"
  },
  "language_info": {
   "codemirror_mode": {
    "name": "ipython",
    "version": 3
   },
   "file_extension": ".py",
   "mimetype": "text/x-python",
   "name": "python",
   "nbconvert_exporter": "python",
   "pygments_lexer": "ipython3",
   "version": "3.8.8"
  }
 },
 "nbformat": 4,
 "nbformat_minor": 5
}
