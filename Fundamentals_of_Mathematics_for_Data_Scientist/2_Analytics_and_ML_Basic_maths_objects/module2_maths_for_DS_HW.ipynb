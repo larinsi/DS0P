{
 "cells": [
  {
   "cell_type": "code",
   "execution_count": 1,
   "id": "992030cf",
   "metadata": {},
   "outputs": [],
   "source": [
    "from sympy import *\n",
    "import numpy as np"
   ]
  },
  {
   "cell_type": "markdown",
   "id": "e90b8cf0",
   "metadata": {},
   "source": [
    "#### Задача 1."
   ]
  },
  {
   "cell_type": "code",
   "execution_count": 3,
   "id": "c141e815",
   "metadata": {},
   "outputs": [
    {
     "data": {
      "text/latex": [
       "$\\displaystyle 2.0$"
      ],
      "text/plain": [
       "2.00000000000000"
      ]
     },
     "execution_count": 3,
     "metadata": {},
     "output_type": "execute_result"
    }
   ],
   "source": [
    "expression1 = (np.sqrt(13) + np.sqrt(7))**2 / (10 + np.sqrt(91))\n",
    "simplify(expression1)"
   ]
  },
  {
   "cell_type": "code",
   "execution_count": null,
   "id": "a182f26f",
   "metadata": {},
   "outputs": [],
   "source": []
  }
 ],
 "metadata": {
  "kernelspec": {
   "display_name": "Python 3",
   "language": "python",
   "name": "python3"
  },
  "language_info": {
   "codemirror_mode": {
    "name": "ipython",
    "version": 3
   },
   "file_extension": ".py",
   "mimetype": "text/x-python",
   "name": "python",
   "nbconvert_exporter": "python",
   "pygments_lexer": "ipython3",
   "version": "3.8.8"
  }
 },
 "nbformat": 4,
 "nbformat_minor": 5
}
