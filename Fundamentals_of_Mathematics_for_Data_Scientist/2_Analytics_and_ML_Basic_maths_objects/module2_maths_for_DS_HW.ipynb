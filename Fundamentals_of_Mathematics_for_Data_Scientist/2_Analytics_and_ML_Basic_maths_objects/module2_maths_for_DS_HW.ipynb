{
 "cells": [
  {
   "cell_type": "code",
   "execution_count": 1,
   "id": "6978d025",
   "metadata": {},
   "outputs": [],
   "source": [
    "from sympy import *\n",
    "import numpy as np"
   ]
  },
  {
   "cell_type": "markdown",
   "id": "7a53d99e",
   "metadata": {},
   "source": [
    "#### Задача 1."
   ]
  },
  {
   "cell_type": "code",
   "execution_count": 2,
   "id": "732f9241",
   "metadata": {},
   "outputs": [
    {
     "data": {
      "text/latex": [
       "$\\displaystyle 2$"
      ],
      "text/plain": [
       "2"
      ]
     },
     "execution_count": 2,
     "metadata": {},
     "output_type": "execute_result"
    }
   ],
   "source": [
    "expression1 = (sqrt(13) + sqrt(7))**2 / (10 + sqrt(91))\n",
    "simplify(expression1)"
   ]
  },
  {
   "cell_type": "markdown",
   "id": "30d5f025",
   "metadata": {},
   "source": [
    "#### Задача 2."
   ]
  },
  {
   "cell_type": "code",
   "execution_count": 14,
   "id": "b7f73a03",
   "metadata": {},
   "outputs": [
    {
     "data": {
      "text/latex": [
       "$\\displaystyle -14$"
      ],
      "text/plain": [
       "-14"
      ]
     },
     "execution_count": 14,
     "metadata": {},
     "output_type": "execute_result"
    }
   ],
   "source": [
    "b = Symbol('b')\n",
    "expression2 = log(10/b**3, 10)\n",
    "simplify(expression2.subs(b, 10**5))"
   ]
  },
  {
   "cell_type": "markdown",
   "id": "e28344d6",
   "metadata": {},
   "source": [
    "#### Задача 3."
   ]
  },
  {
   "cell_type": "code",
   "execution_count": 4,
   "id": "8052d057",
   "metadata": {},
   "outputs": [
    {
     "data": {
      "text/latex": [
       "$\\displaystyle 6 a^{3}$"
      ],
      "text/plain": [
       "6*a**3"
      ]
     },
     "execution_count": 4,
     "metadata": {},
     "output_type": "execute_result"
    }
   ],
   "source": [
    "a = Symbol('a')\n",
    "expression3 = 2*a*(root(a, 3)**4)*3*root(a, 3)**2\n",
    "simplify(expression3)"
   ]
  },
  {
   "cell_type": "markdown",
   "id": "36b2e954",
   "metadata": {},
   "source": [
    "В этой задаче воспользовался свойством степеней чтобы вынести показатель степени из под корня, иначе `simplify` не упрощал выражение до конца."
   ]
  },
  {
   "cell_type": "markdown",
   "id": "2f8dffb3",
   "metadata": {},
   "source": [
    "#### Задача 4."
   ]
  },
  {
   "cell_type": "code",
   "execution_count": 11,
   "id": "5d3e8839",
   "metadata": {},
   "outputs": [],
   "source": [
    "def sum_of_ln(x):\n",
    "    result = 0\n",
    "    for i in range(1, x + 1):\n",
    "        result += log(i)\n",
    "    return result"
   ]
  },
  {
   "cell_type": "markdown",
   "id": "3be68142",
   "metadata": {},
   "source": [
    "#### Задача 5."
   ]
  },
  {
   "cell_type": "code",
   "execution_count": 9,
   "id": "543c0970",
   "metadata": {},
   "outputs": [],
   "source": [
    "def ln_of_multi(x):\n",
    "    result = 1\n",
    "    for i in range(1, x + 1):\n",
    "        result *= i\n",
    "    return log(result)"
   ]
  },
  {
   "cell_type": "markdown",
   "id": "f3882d95",
   "metadata": {},
   "source": [
    "#### Задача 6."
   ]
  },
  {
   "cell_type": "code",
   "execution_count": 16,
   "id": "47312b10",
   "metadata": {},
   "outputs": [
    {
     "name": "stdout",
     "output_type": "stream",
     "text": [
      "Введите число n: 10\n",
      "True\n"
     ]
    }
   ],
   "source": [
    "n = int(input('Введите число n: '))\n",
    "print(simplify(sum_of_ln(n)) == ln_of_multi(n))"
   ]
  },
  {
   "cell_type": "markdown",
   "id": "584bbe2a",
   "metadata": {},
   "source": [
    "Действительно, функции из задач 4 и 5 эквивалентны по свойству логарифма: сумма логарифмов с одинаковым основанием (задача 4) равна логарифму произведения (задача 5) логарифмируемых выражений."
   ]
  },
  {
   "cell_type": "markdown",
   "id": "1970a6b6",
   "metadata": {},
   "source": [
    "#### Задача 7."
   ]
  },
  {
   "cell_type": "code",
   "execution_count": 21,
   "id": "a13f859d",
   "metadata": {},
   "outputs": [
    {
     "data": {
      "text/latex": [
       "$\\displaystyle 4$"
      ],
      "text/plain": [
       "4"
      ]
     },
     "execution_count": 21,
     "metadata": {},
     "output_type": "execute_result"
    }
   ],
   "source": [
    "expression4 = (15*root(root(a, 28), 5)-7*(root(root(a, 20), 7)))/(2*root(root(a, 4), 35))\n",
    "expression4"
   ]
  },
  {
   "cell_type": "markdown",
   "id": "3e5b8652",
   "metadata": {},
   "source": [
    "#### Задача 8."
   ]
  },
  {
   "cell_type": "code",
   "execution_count": 15,
   "id": "eb841dcd",
   "metadata": {},
   "outputs": [
    {
     "data": {
      "text/latex": [
       "$\\displaystyle \\sqrt[3]{x \\left(4 - x\\right)}$"
      ],
      "text/plain": [
       "(x*(4 - x))**(1/3)"
      ]
     },
     "execution_count": 15,
     "metadata": {},
     "output_type": "execute_result"
    }
   ],
   "source": [
    "x = Symbol('x')\n",
    "g = Symbol('g')\n",
    "expression5 = root(x*(4-x), 3)\n",
    "expression6 = expression5.subs()"
   ]
  },
  {
   "cell_type": "markdown",
   "id": "e86e6fb3",
   "metadata": {},
   "source": [
    "#### Задача 9."
   ]
  },
  {
   "cell_type": "code",
   "execution_count": 16,
   "id": "2f15007a",
   "metadata": {},
   "outputs": [
    {
     "data": {
      "text/latex": [
       "$\\displaystyle 5$"
      ],
      "text/plain": [
       "5"
      ]
     },
     "execution_count": 16,
     "metadata": {},
     "output_type": "execute_result"
    }
   ],
   "source": [
    "expression7 = ((2*x**3)**4-(x**2)**6)/(3*x**12)\n",
    "expression7"
   ]
  },
  {
   "cell_type": "code",
   "execution_count": null,
   "id": "3ee8d897",
   "metadata": {},
   "outputs": [],
   "source": []
  }
 ],
 "metadata": {
  "kernelspec": {
   "display_name": "Python 3",
   "language": "python",
   "name": "python3"
  },
  "language_info": {
   "codemirror_mode": {
    "name": "ipython",
    "version": 3
   },
   "file_extension": ".py",
   "mimetype": "text/x-python",
   "name": "python",
   "nbconvert_exporter": "python",
   "pygments_lexer": "ipython3",
   "version": "3.8.8"
  }
 },
 "nbformat": 4,
 "nbformat_minor": 5
}
