{
 "cells": [
  {
   "cell_type": "markdown",
   "metadata": {
    "id": "yyo73hwFEoJt"
   },
   "source": [
    "## Преобразования функций и полиномы. Домашнее задание\n",
    "\n",
    "С помощью SymPy найдите полиномы, описывающие данные наборы точек. Затем проведите полное исследование каждого полученного полинома: проверьте четность/нечетность, найдите нули, промежутки знакопостоянства. Постройте их графики. С помощью изменения промежутка для х добейтесь того, чтобы все нули были отображены на графике функции.<br><br>\n",
    "Средний уровень <br><br>\n",
    "$(-2, 2), (-1, 1), (0, 0), (1, 1), (2, 2)$<br><br>\n",
    "Сложный уровень <br><br>\n",
    "$(-3, 33), (-2, 31), (-1, 18), (1, -18), (2, -31), (3, -33)$\n"
   ]
  },
  {
   "cell_type": "code",
   "execution_count": 1,
   "metadata": {
    "id": "bVBLXKfjEiEA"
   },
   "outputs": [],
   "source": [
    "from sympy import *"
   ]
  },
  {
   "cell_type": "code",
   "execution_count": 2,
   "metadata": {},
   "outputs": [],
   "source": [
    "x, a5, a4, a3, a2, a1, a0 = symbols('x,a5,a4,a3,a2,a1,a0')"
   ]
  },
  {
   "cell_type": "code",
   "execution_count": 3,
   "metadata": {},
   "outputs": [],
   "source": [
    "eq1_lp = 16*a4 - 8*a3 + 4*a2 - 2*a1 + a0 - 2\n",
    "eq2_lp = a4 - a3 + a2 - a1 + a0 - 1\n",
    "eq3_lp = a0\n",
    "eq4_lp = a4 + a3 + a2 + a1 + a0 - 1\n",
    "eq5_lp = 16*a4 + 8*a3 + 4*a2 + 2*a1 + a0 - 2"
   ]
  },
  {
   "cell_type": "code",
   "execution_count": 4,
   "metadata": {},
   "outputs": [
    {
     "data": {
      "text/latex": [
       "$\\displaystyle \\left\\{\\left( - \\frac{1}{6}, \\  0, \\  \\frac{7}{6}, \\  0, \\  0\\right)\\right\\}$"
      ],
      "text/plain": [
       "FiniteSet((-1/6, 0, 7/6, 0, 0))"
      ]
     },
     "execution_count": 4,
     "metadata": {},
     "output_type": "execute_result"
    }
   ],
   "source": [
    "nonlinsolve([eq1_lp, eq2_lp, eq3_lp, eq4_lp, eq5_lp], [a4, a3, a2, a1, a0])"
   ]
  },
  {
   "cell_type": "code",
   "execution_count": 6,
   "metadata": {},
   "outputs": [
    {
     "data": {
      "text/latex": [
       "$\\displaystyle - \\frac{x^{4}}{6} + \\frac{7 x^{2}}{6}$"
      ],
      "text/plain": [
       "-x**4/6 + 7*x**2/6"
      ]
     },
     "execution_count": 6,
     "metadata": {},
     "output_type": "execute_result"
    }
   ],
   "source": [
    "f1 = -x**4/6 + 7*x**2/6\n",
    "f1"
   ]
  },
  {
   "cell_type": "code",
   "execution_count": 7,
   "metadata": {},
   "outputs": [
    {
     "data": {
      "text/latex": [
       "$\\displaystyle 2$"
      ],
      "text/plain": [
       "2"
      ]
     },
     "execution_count": 7,
     "metadata": {},
     "output_type": "execute_result"
    }
   ],
   "source": [
    "f1.subs(x, -2)"
   ]
  },
  {
   "cell_type": "code",
   "execution_count": 8,
   "metadata": {},
   "outputs": [
    {
     "data": {
      "text/latex": [
       "$\\displaystyle 1$"
      ],
      "text/plain": [
       "1"
      ]
     },
     "execution_count": 8,
     "metadata": {},
     "output_type": "execute_result"
    }
   ],
   "source": [
    "f1.subs(x, -1)"
   ]
  },
  {
   "cell_type": "code",
   "execution_count": 9,
   "metadata": {},
   "outputs": [
    {
     "data": {
      "text/latex": [
       "$\\displaystyle 0$"
      ],
      "text/plain": [
       "0"
      ]
     },
     "execution_count": 9,
     "metadata": {},
     "output_type": "execute_result"
    }
   ],
   "source": [
    "f1.subs(x, 0)"
   ]
  },
  {
   "cell_type": "code",
   "execution_count": 10,
   "metadata": {},
   "outputs": [
    {
     "data": {
      "text/latex": [
       "$\\displaystyle 1$"
      ],
      "text/plain": [
       "1"
      ]
     },
     "execution_count": 10,
     "metadata": {},
     "output_type": "execute_result"
    }
   ],
   "source": [
    "f1.subs(x, 1)"
   ]
  },
  {
   "cell_type": "code",
   "execution_count": 11,
   "metadata": {},
   "outputs": [
    {
     "data": {
      "text/latex": [
       "$\\displaystyle 2$"
      ],
      "text/plain": [
       "2"
      ]
     },
     "execution_count": 11,
     "metadata": {},
     "output_type": "execute_result"
    }
   ],
   "source": [
    "f1.subs(x, 2)"
   ]
  },
  {
   "cell_type": "code",
   "execution_count": 17,
   "metadata": {},
   "outputs": [
    {
     "data": {
      "image/png": "[encoded data removed]",
      "text/plain": [
       "<Figure size 432x288 with 1 Axes>"
      ]
     },
     "metadata": {
      "needs_background": "light"
     },
     "output_type": "display_data"
    },
    {
     "data": {
      "text/plain": [
       "<sympy.plotting.plot.Plot at 0x13e421a7f40>"
      ]
     },
     "execution_count": 17,
     "metadata": {},
     "output_type": "execute_result"
    }
   ],
   "source": [
    "plot(f1, (x, -5, 5))"
   ]
  },
  {
   "cell_type": "code",
   "execution_count": 13,
   "metadata": {},
   "outputs": [
    {
     "data": {
      "text/plain": [
       "[0, -sqrt(7), sqrt(7)]"
      ]
     },
     "execution_count": 13,
     "metadata": {},
     "output_type": "execute_result"
    }
   ],
   "source": [
    "solve(f1)"
   ]
  },
  {
   "cell_type": "code",
   "execution_count": 14,
   "metadata": {},
   "outputs": [
    {
     "data": {
      "text/latex": [
       "$\\displaystyle x > - \\sqrt{7} \\wedge x < \\sqrt{7} \\wedge x \\neq 0$"
      ],
      "text/plain": [
       "Ne(x, 0) & (x < sqrt(7)) & (x > -sqrt(7))"
      ]
     },
     "execution_count": 14,
     "metadata": {},
     "output_type": "execute_result"
    }
   ],
   "source": [
    "solve_univariate_inequality(f1>0, x)"
   ]
  },
  {
   "cell_type": "code",
   "execution_count": 15,
   "metadata": {},
   "outputs": [
    {
     "data": {
      "text/latex": [
       "$\\displaystyle \\left(-\\infty < x \\wedge x < - \\sqrt{7}\\right) \\vee \\left(\\sqrt{7} < x \\wedge x < \\infty\\right)$"
      ],
      "text/plain": [
       "((x < oo) & (sqrt(7) < x)) | ((-oo < x) & (x < -sqrt(7)))"
      ]
     },
     "execution_count": 15,
     "metadata": {},
     "output_type": "execute_result"
    }
   ],
   "source": [
    "solve_univariate_inequality(f1<0, x)"
   ]
  },
  {
   "cell_type": "code",
   "execution_count": 40,
   "metadata": {},
   "outputs": [
    {
     "name": "stdout",
     "output_type": "stream",
     "text": [
      "True\n"
     ]
    }
   ],
   "source": [
    "print(f1.subs(x, -10) == f1.subs(x, 10))"
   ]
  },
  {
   "cell_type": "markdown",
   "metadata": {},
   "source": [
    "#### Функция $-\\frac{x^4}{6}+\\frac{7x^2}{6}$:\n",
    "* нули в точках $x=0$, $x=-\\sqrt7$ и $x=\\sqrt7$,\n",
    "* положительна при $-\\sqrt7<x<0$ и $0<x<\\sqrt7$,\n",
    "* отрицательна при $x<-\\sqrt7$ и $x>\\sqrt7$,\n",
    "* четная."
   ]
  },
  {
   "cell_type": "code",
   "execution_count": 19,
   "metadata": {},
   "outputs": [],
   "source": [
    "eq1_lp = -243*a5 + 81*a4 - 27*a3 + 9*a2 - 3*a1 + a0 - 33\n",
    "eq2_lp = -32*a5 + 16*a4 - 8*a3 + 4*a2 -2*a1 + a0 - 31\n",
    "eq3_lp = -a5 + a4 - a3 + a2 - a1 + a0 - 18\n",
    "eq4_lp = a5 + a4 + a3 + a2 + a1 + a0 + 18\n",
    "eq5_lp = 32*a5 + 16*a4 + 8*a3 + 4*a2 + 2*a1 + a0 + 31\n",
    "eq6_lp = 243*a5 + 81*a4 + 27*a3 + 9*a2 + 3*a1 + a0 + 33"
   ]
  },
  {
   "cell_type": "code",
   "execution_count": 20,
   "metadata": {},
   "outputs": [
    {
     "data": {
      "text/latex": [
       "$\\displaystyle \\left\\{\\left( \\frac{1}{120}, \\  0, \\  \\frac{19}{24}, \\  0, \\  - \\frac{94}{5}, \\  0\\right)\\right\\}$"
      ],
      "text/plain": [
       "FiniteSet((1/120, 0, 19/24, 0, -94/5, 0))"
      ]
     },
     "execution_count": 20,
     "metadata": {},
     "output_type": "execute_result"
    }
   ],
   "source": [
    "nonlinsolve([eq1_lp, eq2_lp, eq3_lp, eq4_lp, eq5_lp, eq6_lp],\n",
    "            [a5, a4, a3, a2, a1, a0])"
   ]
  },
  {
   "cell_type": "code",
   "execution_count": 21,
   "metadata": {},
   "outputs": [
    {
     "data": {
      "text/latex": [
       "$\\displaystyle \\frac{x^{5}}{120} + \\frac{19 x^{3}}{24} - \\frac{94 x}{5}$"
      ],
      "text/plain": [
       "x**5/120 + 19*x**3/24 - 94*x/5"
      ]
     },
     "execution_count": 21,
     "metadata": {},
     "output_type": "execute_result"
    }
   ],
   "source": [
    "f2 = x**5/120 + 19*x**3/24 - 94*x/5\n",
    "f2"
   ]
  },
  {
   "cell_type": "code",
   "execution_count": 32,
   "metadata": {},
   "outputs": [
    {
     "data": {
      "image/png": "[encoded data removed]",
      "text/plain": [
       "<Figure size 432x288 with 1 Axes>"
      ]
     },
     "metadata": {
      "needs_background": "light"
     },
     "output_type": "display_data"
    },
    {
     "data": {
      "text/plain": [
       "<sympy.plotting.plot.Plot at 0x13e42f75f40>"
      ]
     },
     "execution_count": 32,
     "metadata": {},
     "output_type": "execute_result"
    }
   ],
   "source": [
    "plot(f2, (x, -7.5, 7.5))"
   ]
  },
  {
   "cell_type": "code",
   "execution_count": 31,
   "metadata": {},
   "outputs": [
    {
     "data": {
      "text/plain": [
       "[0,\n",
       " -I*sqrt(95/2 + sqrt(18049)/2),\n",
       " I*sqrt(95/2 + sqrt(18049)/2),\n",
       " -sqrt(-95/2 + sqrt(18049)/2),\n",
       " sqrt(-95/2 + sqrt(18049)/2)]"
      ]
     },
     "execution_count": 31,
     "metadata": {},
     "output_type": "execute_result"
    }
   ],
   "source": [
    "solve(f2)"
   ]
  },
  {
   "cell_type": "code",
   "execution_count": 33,
   "metadata": {},
   "outputs": [
    {
     "data": {
      "text/latex": [
       "$\\displaystyle \\left(x < 0 \\wedge - \\sqrt{- \\frac{95}{2} + \\frac{\\sqrt{18049}}{2}} < x\\right) \\vee \\left(x < \\infty \\wedge \\sqrt{- \\frac{95}{2} + \\frac{\\sqrt{18049}}{2}} < x\\right)$"
      ],
      "text/plain": [
       "((x < oo) & (sqrt(-95/2 + sqrt(18049)/2) < x)) | ((x < 0) & (-sqrt(-95/2 + sqrt(18049)/2) < x))"
      ]
     },
     "execution_count": 33,
     "metadata": {},
     "output_type": "execute_result"
    }
   ],
   "source": [
    "solve_univariate_inequality(f2>0, x)"
   ]
  },
  {
   "cell_type": "code",
   "execution_count": 34,
   "metadata": {},
   "outputs": [
    {
     "data": {
      "text/latex": [
       "$\\displaystyle \\left(-\\infty < x \\wedge x < - \\sqrt{- \\frac{95}{2} + \\frac{\\sqrt{18049}}{2}}\\right) \\vee \\left(0 < x \\wedge x < \\sqrt{- \\frac{95}{2} + \\frac{\\sqrt{18049}}{2}}\\right)$"
      ],
      "text/plain": [
       "((0 < x) & (x < sqrt(-95/2 + sqrt(18049)/2))) | ((-oo < x) & (x < -sqrt(-95/2 + sqrt(18049)/2)))"
      ]
     },
     "execution_count": 34,
     "metadata": {},
     "output_type": "execute_result"
    }
   ],
   "source": [
    "solve_univariate_inequality(f2<0, x)"
   ]
  },
  {
   "cell_type": "code",
   "execution_count": 42,
   "metadata": {},
   "outputs": [
    {
     "name": "stdout",
     "output_type": "stream",
     "text": [
      "True\n"
     ]
    }
   ],
   "source": [
    "print(abs(f2.subs(x, -10)) == f2.subs(x, 10))"
   ]
  },
  {
   "cell_type": "markdown",
   "metadata": {},
   "source": [
    "#### Функция $\\frac{x^5}{120}+\\frac{19x^3}{24}-\\frac{94x}{5}$:\n",
    "* нули в точках $x=0$, $x=-i\\sqrt{\\frac{95}{2}+\\frac{\\sqrt{18049}}{2}}$, $x=i\\sqrt{\\frac{95}{2}+\\frac{\\sqrt{18049}}{2}}$, $x=-\\sqrt{-\\frac{95}{2}+\\frac{\\sqrt{18049}}{2}}$ и $x=\\sqrt{-\\frac{95}{2}+\\frac{\\sqrt{18049}}{2}}$,\n",
    "* положительная при $-\\sqrt{-\\frac{95}{2}+\\frac{\\sqrt{18049}}{2}}<x<0$ и $x>\\sqrt{-\\frac{95}{2}+\\frac{\\sqrt{18049}}{2}}$,\n",
    "* отрицательна при $x<-\\sqrt{-\\frac{95}{2}+\\frac{\\sqrt{18049}}{2}}$ и $0<x<\\sqrt{-\\frac{95}{2}+\\frac{\\sqrt{18049}}{2}}$,\n",
    "* нечетная."
   ]
  },
  {
   "cell_type": "code",
   "execution_count": null,
   "metadata": {},
   "outputs": [],
   "source": []
  }
 ],
 "metadata": {
  "colab": {
   "collapsed_sections": [],
   "name": "Преобразования функций и полиномы. Домашнее задание.ipynb",
   "provenance": []
  },
  "kernelspec": {
   "display_name": "Python 3",
   "language": "python",
   "name": "python3"
  },
  "language_info": {
   "codemirror_mode": {
    "name": "ipython",
    "version": 3
   },
   "file_extension": ".py",
   "mimetype": "text/x-python",
   "name": "python",
   "nbconvert_exporter": "python",
   "pygments_lexer": "ipython3",
   "version": "3.8.8"
  }
 },
 "nbformat": 4,
 "nbformat_minor": 1
}
