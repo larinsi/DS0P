{
 "cells": [
  {
   "cell_type": "code",
   "execution_count": 1,
   "id": "1b92593a",
   "metadata": {},
   "outputs": [],
   "source": [
    "from sympy import *\n",
    "import numpy as np"
   ]
  },
  {
   "cell_type": "markdown",
   "id": "2ab59145",
   "metadata": {},
   "source": [
    "### Задача 1.\n",
    "\n",
    "\n",
    "Вычислите значения выражений."
   ]
  },
  {
   "cell_type": "code",
   "execution_count": 2,
   "id": "9a0b2e0e",
   "metadata": {},
   "outputs": [
    {
     "data": {
      "text/plain": [
       "1632"
      ]
     },
     "execution_count": 2,
     "metadata": {},
     "output_type": "execute_result"
    }
   ],
   "source": [
    "a = np.array([2, 5, 0, 6, 8, 10, 6, 7, 5, 7], dtype=np.int32)\n",
    "b = np.array([8, 6, 7, 9, 6, 6, 2, 3, 2, 3], dtype=np.int32)\n",
    "np.dot(3*a, 2*b)"
   ]
  },
  {
   "cell_type": "code",
   "execution_count": 3,
   "id": "4a3b8270",
   "metadata": {},
   "outputs": [
    {
     "data": {
      "text/plain": [
       "4950"
      ]
     },
     "execution_count": 3,
     "metadata": {},
     "output_type": "execute_result"
    }
   ],
   "source": [
    "a = np.array([9, 6, 7, 7, 0, 1, 6, 8, 1, 2], dtype=np.int32)\n",
    "b = np.array([0, 2, 2, 6, 7, 8, 8, 3, 1, 8], dtype=np.int32)\n",
    "np.dot(6*a, 5*b)"
   ]
  },
  {
   "cell_type": "code",
   "execution_count": 4,
   "id": "60a584a8",
   "metadata": {},
   "outputs": [
    {
     "data": {
      "text/plain": [
       "272"
      ]
     },
     "execution_count": 4,
     "metadata": {},
     "output_type": "execute_result"
    }
   ],
   "source": [
    "a = np.array([2, 5, 0, 6, 8, 10, 6, 7, 5, 7], dtype=np.int32)\n",
    "b = np.array([8, 6, 7, 9, 6, 6, 2, 3, 2, 3], dtype=np.int32)\n",
    "np.dot(a, b)"
   ]
  },
  {
   "cell_type": "code",
   "execution_count": 5,
   "id": "4bb0cca6",
   "metadata": {},
   "outputs": [
    {
     "data": {
      "text/plain": [
       "165"
      ]
     },
     "execution_count": 5,
     "metadata": {},
     "output_type": "execute_result"
    }
   ],
   "source": [
    "a = np.array([9, 6, 7, 7, 0, 1, 6, 8, 1, 2], dtype=np.int32)\n",
    "b = np.array([0, 2, 2, 6, 7, 8, 8, 3, 1, 8], dtype=np.int32)\n",
    "np.dot(a, b)"
   ]
  },
  {
   "cell_type": "markdown",
   "id": "9be78697",
   "metadata": {},
   "source": [
    "### Задача 2.\n",
    "Для следующих заданий сделайте в Python функцию, реализующую транспонирование матрицы произвольной размерности, пользуясь данным в модуле определением. Функция должна принимать и возвращать либо numpy.array, либо двумерный список (list)."
   ]
  },
  {
   "cell_type": "code",
   "execution_count": 6,
   "id": "85e8f50d",
   "metadata": {},
   "outputs": [],
   "source": [
    "def transpose(x):\n",
    "    x_tr = np.zeros(shape=(x.shape[1], x.shape[0]), dtype=np.int32)\n",
    "    for i in range(0, x.shape[0]):\n",
    "        for j in range(0, x.shape[1]):\n",
    "            x_tr[j][i] = x[i][j]\n",
    "    return x_tr\n",
    "    "
   ]
  },
  {
   "cell_type": "code",
   "execution_count": 7,
   "id": "0930b79a",
   "metadata": {},
   "outputs": [
    {
     "name": "stdout",
     "output_type": "stream",
     "text": [
      "[[ 2  1  7  4]\n",
      " [ 5  6  7  3]\n",
      " [ 9  8  2 12]\n",
      " [11 14 15 15]]\n",
      "[[ 2  5  9 11]\n",
      " [ 1  6  8 14]\n",
      " [ 7  7  2 15]\n",
      " [ 4  3 12 15]]\n"
     ]
    }
   ],
   "source": [
    "a = np.array([[2, 1, 7, 4],\n",
    "              [5, 6, 7, 3],\n",
    "              [9, 8, 2, 12],\n",
    "              [11, 14, 15, 15]])\n",
    "print(a)\n",
    "print(transpose(a))"
   ]
  },
  {
   "cell_type": "code",
   "execution_count": 8,
   "id": "60618b09",
   "metadata": {},
   "outputs": [
    {
     "name": "stdout",
     "output_type": "stream",
     "text": [
      "[[ 3  7  8  3  6]\n",
      " [ 2  5  9  4 13]]\n",
      "[[ 3  2]\n",
      " [ 7  5]\n",
      " [ 8  9]\n",
      " [ 3  4]\n",
      " [ 6 13]]\n"
     ]
    }
   ],
   "source": [
    "b = np.array([[3, 7, 8, 3, 6],\n",
    "              [2, 5, 9, 4, 13]])\n",
    "print(b)\n",
    "print(transpose(b))"
   ]
  },
  {
   "cell_type": "markdown",
   "id": "8fce7003",
   "metadata": {},
   "source": [
    "### Задача 3.\n",
    "\n",
    "\n",
    "Завершите начатый в последнем уроке градиентный спуск. Вы можете решать эту задачу с помощью SymPy или вручную. Двигайтесь из точки в точку в направлении антиградиента, размер шага оставьте равным 0.01. Обратите внимание, что в каждой новой точке антиградиент будет разным. Добейтесь величины MSE меньше 6,36. Сколько шагов градиентного спуска вам потребовалось для этого?"
   ]
  },
  {
   "cell_type": "code",
   "execution_count": 9,
   "id": "46d43fea",
   "metadata": {},
   "outputs": [],
   "source": [
    "a2, a1 = symbols('a2, a1')"
   ]
  },
  {
   "cell_type": "code",
   "execution_count": 10,
   "id": "8fb99467",
   "metadata": {},
   "outputs": [
    {
     "data": {
      "text/latex": [
       "$\\displaystyle 0.25 \\left(a_{1} + 2 a_{2} - 5\\right)^{2} + 0.25 \\left(2 a_{1} + 4 a_{2} - 10\\right)^{2} + 0.25 \\left(3 a_{1} + 7 a_{2} - 8\\right)^{2} + 0.25 \\left(5 a_{1} + 3 a_{2} - 6\\right)^{2}$"
      ],
      "text/plain": [
       "0.25*(a1 + 2*a2 - 5)**2 + 0.25*(2*a1 + 4*a2 - 10)**2 + 0.25*(3*a1 + 7*a2 - 8)**2 + 0.25*(5*a1 + 3*a2 - 6)**2"
      ]
     },
     "execution_count": 10,
     "metadata": {},
     "output_type": "execute_result"
    }
   ],
   "source": [
    "MSE = 1/4 * ((a1*1 + a2*2 - 5)**2 + \\\n",
    "             (a1*5 + a2*3 - 6)**2 + \\\n",
    "             (a1*2 + a2*4 - 10)**2 + \\\n",
    "             (a1*3 + a2*7 - 8)**2)\n",
    "MSE"
   ]
  },
  {
   "cell_type": "code",
   "execution_count": 11,
   "id": "584132e9",
   "metadata": {},
   "outputs": [
    {
     "data": {
      "text/latex": [
       "$\\displaystyle 19.5 a_{1} + 23.0 a_{2} - 39.5$"
      ],
      "text/plain": [
       "19.5*a1 + 23.0*a2 - 39.5"
      ]
     },
     "execution_count": 11,
     "metadata": {},
     "output_type": "execute_result"
    }
   ],
   "source": [
    "diff(MSE, a1)"
   ]
  },
  {
   "cell_type": "code",
   "execution_count": 12,
   "id": "b8663a72",
   "metadata": {},
   "outputs": [
    {
     "data": {
      "text/latex": [
       "$\\displaystyle 23.0 a_{1} + 39.0 a_{2} - 62.0$"
      ],
      "text/plain": [
       "23.0*a1 + 39.0*a2 - 62.0"
      ]
     },
     "execution_count": 12,
     "metadata": {},
     "output_type": "execute_result"
    }
   ],
   "source": [
    "diff(MSE, a2)"
   ]
  },
  {
   "cell_type": "code",
   "execution_count": 13,
   "id": "bbec80a5",
   "metadata": {},
   "outputs": [
    {
     "data": {
      "text/latex": [
       "$\\displaystyle 56.25$"
      ],
      "text/plain": [
       "56.2500000000000"
      ]
     },
     "execution_count": 13,
     "metadata": {},
     "output_type": "execute_result"
    }
   ],
   "source": [
    "MSE.subs({a1: 0, a2: 0})"
   ]
  },
  {
   "cell_type": "code",
   "execution_count": 14,
   "id": "11c144a8",
   "metadata": {},
   "outputs": [
    {
     "data": {
      "text/plain": [
       "array([-39.5000000000000, -62.0000000000000], dtype=object)"
      ]
     },
     "execution_count": 14,
     "metadata": {},
     "output_type": "execute_result"
    }
   ],
   "source": [
    "grad0 = np.array([diff(MSE, a1).subs({a1: 0, a2: 0}),\n",
    "                  diff(MSE, a2).subs({a1: 0, a2: 0})])\n",
    "grad0"
   ]
  },
  {
   "cell_type": "code",
   "execution_count": 15,
   "id": "fe9d19be",
   "metadata": {},
   "outputs": [
    {
     "data": {
      "text/latex": [
       "$\\displaystyle 16.85724375$"
      ],
      "text/plain": [
       "16.8572437500000"
      ]
     },
     "execution_count": 15,
     "metadata": {},
     "output_type": "execute_result"
    }
   ],
   "source": [
    "MSE.subs({a1: 0.395, a2: 0.62})"
   ]
  },
  {
   "cell_type": "code",
   "execution_count": 16,
   "id": "052d07c3",
   "metadata": {},
   "outputs": [
    {
     "data": {
      "text/plain": [
       "array([-17.5375000000000, -28.7350000000000], dtype=object)"
      ]
     },
     "execution_count": 16,
     "metadata": {},
     "output_type": "execute_result"
    }
   ],
   "source": [
    "grad1 = np.array([diff(MSE, a1).subs({a1: 0.395, a2: 0.62}),\n",
    "                  diff(MSE, a2).subs({a1: 0.395, a2: 0.62})])\n",
    "grad1"
   ]
  },
  {
   "cell_type": "code",
   "execution_count": 17,
   "id": "b82a9344",
   "metadata": {},
   "outputs": [
    {
     "data": {
      "text/latex": [
       "$\\displaystyle 8.6012005$"
      ],
      "text/plain": [
       "8.60120050000000"
      ]
     },
     "execution_count": 17,
     "metadata": {},
     "output_type": "execute_result"
    }
   ],
   "source": [
    "MSE.subs({a1: 0.395+0.175, a2: 0.62+0.287})"
   ]
  },
  {
   "cell_type": "code",
   "execution_count": 18,
   "id": "5ba155b0",
   "metadata": {},
   "outputs": [
    {
     "data": {
      "text/plain": [
       "array([-7.52400000000000, -13.5170000000000], dtype=object)"
      ]
     },
     "execution_count": 18,
     "metadata": {},
     "output_type": "execute_result"
    }
   ],
   "source": [
    "grad2 = np.array([diff(MSE, a1).subs({a1: 0.395+0.175, a2: 0.62+0.287}),\n",
    "                  diff(MSE, a2).subs({a1: 0.395+0.175, a2: 0.62+0.287})])\n",
    "grad2"
   ]
  },
  {
   "cell_type": "code",
   "execution_count": 19,
   "id": "0372d724",
   "metadata": {},
   "outputs": [
    {
     "data": {
      "text/latex": [
       "$\\displaystyle 6.85521175$"
      ],
      "text/plain": [
       "6.85521175000000"
      ]
     },
     "execution_count": 19,
     "metadata": {},
     "output_type": "execute_result"
    }
   ],
   "source": [
    "MSE.subs({a1: 0.395+0.175+0.075, a2: 0.62+0.287+0.135})"
   ]
  },
  {
   "cell_type": "code",
   "execution_count": 20,
   "id": "12256b1e",
   "metadata": {},
   "outputs": [
    {
     "data": {
      "text/plain": [
       "array([-2.95650000000000, -6.52700000000000], dtype=object)"
      ]
     },
     "execution_count": 20,
     "metadata": {},
     "output_type": "execute_result"
    }
   ],
   "source": [
    "grad3 = np.array([diff(MSE, a1).subs({a1: 0.395+0.175+0.075, a2: 0.62+0.287+0.135}),\n",
    "                  diff(MSE, a2).subs({a1: 0.395+0.175+0.075, a2: 0.62+0.287+0.135})])\n",
    "grad3"
   ]
  },
  {
   "cell_type": "code",
   "execution_count": 21,
   "id": "af022ac9",
   "metadata": {},
   "outputs": [
    {
     "data": {
      "text/latex": [
       "$\\displaystyle 6.47827425$"
      ],
      "text/plain": [
       "6.47827425000000"
      ]
     },
     "execution_count": 21,
     "metadata": {},
     "output_type": "execute_result"
    }
   ],
   "source": [
    "MSE.subs({a1: 0.395+0.175+0.075+0.03, a2: 0.62+0.287+0.135+0.065})"
   ]
  },
  {
   "cell_type": "code",
   "execution_count": 22,
   "id": "61f95de9",
   "metadata": {},
   "outputs": [
    {
     "data": {
      "text/plain": [
       "array([-0.876500000000000, -3.30200000000000], dtype=object)"
      ]
     },
     "execution_count": 22,
     "metadata": {},
     "output_type": "execute_result"
    }
   ],
   "source": [
    "grad4 = np.array([diff(MSE, a1).subs({a1: 0.395+0.175+0.075+0.03, a2: 0.62+0.287+0.135+0.065}),\n",
    "                  diff(MSE, a2).subs({a1: 0.395+0.175+0.075+0.03, a2: 0.62+0.287+0.135+0.065})])\n",
    "grad4"
   ]
  },
  {
   "cell_type": "code",
   "execution_count": 23,
   "id": "f363d54b",
   "metadata": {},
   "outputs": [
    {
     "data": {
      "text/latex": [
       "$\\displaystyle 6.3902594775$"
      ],
      "text/plain": [
       "6.39025947750000"
      ]
     },
     "execution_count": 23,
     "metadata": {},
     "output_type": "execute_result"
    }
   ],
   "source": [
    "MSE.subs({a1: 0.395+0.175+0.075+0.03+0.0087, a2: 0.62+0.287+0.135+0.065+0.033})"
   ]
  },
  {
   "cell_type": "code",
   "execution_count": 25,
   "id": "59a5d1b6",
   "metadata": {},
   "outputs": [
    {
     "data": {
      "text/plain": [
       "array([0.0521500000000010, -1.81490000000001], dtype=object)"
      ]
     },
     "execution_count": 25,
     "metadata": {},
     "output_type": "execute_result"
    }
   ],
   "source": [
    "grad5 = np.array([diff(MSE, a1).subs({a1: 0.395+0.175+0.075+0.03+0.0087, a2: 0.62+0.287+0.135+0.065+0.033}),\n",
    "                  diff(MSE, a2).subs({a1: 0.395+0.175+0.075+0.03+0.0087, a2: 0.62+0.287+0.135+0.065+0.033})])\n",
    "grad5"
   ]
  },
  {
   "cell_type": "code",
   "execution_count": 28,
   "id": "ffb3bdc6",
   "metadata": {},
   "outputs": [
    {
     "data": {
      "text/latex": [
       "$\\displaystyle 6.36367864$"
      ],
      "text/plain": [
       "6.36367864000000"
      ]
     },
     "execution_count": 28,
     "metadata": {},
     "output_type": "execute_result"
    }
   ],
   "source": [
    "MSE.subs({a1: 0.395+0.175+0.075+0.03+0.0087-0.0005, a2: 0.62+0.287+0.135+0.065+0.033+0.018})"
   ]
  },
  {
   "cell_type": "code",
   "execution_count": 29,
   "id": "af748909",
   "metadata": {},
   "outputs": [
    {
     "data": {
      "text/plain": [
       "array([0.456399999999999, -1.12440000000000], dtype=object)"
      ]
     },
     "execution_count": 29,
     "metadata": {},
     "output_type": "execute_result"
    }
   ],
   "source": [
    "grad6 = np.array([diff(MSE, a1).subs({a1: 0.395+0.175+0.075+0.03+0.0087-0.0005, a2: 0.62+0.287+0.135+0.065+0.033+0.018}),\n",
    "                  diff(MSE, a2).subs({a1: 0.395+0.175+0.075+0.03+0.0087-0.0005, a2: 0.62+0.287+0.135+0.065+0.033+0.018})])\n",
    "grad6"
   ]
  },
  {
   "cell_type": "code",
   "execution_count": 30,
   "id": "389c4710",
   "metadata": {},
   "outputs": [
    {
     "data": {
      "text/latex": [
       "$\\displaystyle 6.35119639$"
      ],
      "text/plain": [
       "6.35119639000000"
      ]
     },
     "execution_count": 30,
     "metadata": {},
     "output_type": "execute_result"
    }
   ],
   "source": [
    "MSE.subs({a1: 0.395+0.175+0.075+0.03+0.0087-0.0005-0.005, a2: 0.62+0.287+0.135+0.065+0.033+0.018+0.01})"
   ]
  },
  {
   "cell_type": "code",
   "execution_count": 31,
   "id": "f3dc749b",
   "metadata": {},
   "outputs": [
    {
     "data": {
      "text/plain": [
       "array([0.588900000000002, -0.849399999999996], dtype=object)"
      ]
     },
     "execution_count": 31,
     "metadata": {},
     "output_type": "execute_result"
    }
   ],
   "source": [
    "grad7 = np.array([diff(MSE, a1).subs({a1: 0.395+0.175+0.075+0.03+0.0087-0.0005-0.005,\n",
    "                                      a2: 0.62+0.287+0.135+0.065+0.033+0.018+0.01}),\n",
    "                  diff(MSE, a2).subs({a1: 0.395+0.175+0.075+0.03+0.0087-0.0005-0.005,\n",
    "                                      a2: 0.62+0.287+0.135+0.065+0.033+0.018+0.01})])\n",
    "grad7"
   ]
  },
  {
   "cell_type": "code",
   "execution_count": 32,
   "id": "58a2ff60",
   "metadata": {},
   "outputs": [
    {
     "data": {
      "text/latex": [
       "$\\displaystyle 6.34136279$"
      ],
      "text/plain": [
       "6.34136279000000"
      ]
     },
     "execution_count": 32,
     "metadata": {},
     "output_type": "execute_result"
    }
   ],
   "source": [
    "MSE.subs({a1: 0.395+0.175+0.075+0.03+0.0087-0.0005-0.005-0.006,\n",
    "          a2: 0.62+0.287+0.135+0.065+0.033+0.018+0.01+0.008})"
   ]
  },
  {
   "cell_type": "code",
   "execution_count": 33,
   "id": "d6996706",
   "metadata": {},
   "outputs": [
    {
     "data": {
      "text/plain": [
       "array([0.655899999999999, -0.675400000000003], dtype=object)"
      ]
     },
     "execution_count": 33,
     "metadata": {},
     "output_type": "execute_result"
    }
   ],
   "source": [
    "grad8 = np.array([diff(MSE, a1).subs({a1: 0.395+0.175+0.075+0.03+0.0087-0.0005-0.005-0.006,\n",
    "                                      a2: 0.62+0.287+0.135+0.065+0.033+0.018+0.01+0.008}),\n",
    "                  diff(MSE, a2).subs({a1: 0.395+0.175+0.075+0.03+0.0087-0.0005-0.005-0.006,\n",
    "                                      a2: 0.62+0.287+0.135+0.065+0.033+0.018+0.01+0.008})])\n",
    "grad8"
   ]
  },
  {
   "cell_type": "code",
   "execution_count": 34,
   "id": "d2da0c0f",
   "metadata": {},
   "outputs": [
    {
     "data": {
      "text/latex": [
       "$\\displaystyle 6.33234994$"
      ],
      "text/plain": [
       "6.33234994000000"
      ]
     },
     "execution_count": 34,
     "metadata": {},
     "output_type": "execute_result"
    }
   ],
   "source": [
    "MSE.subs({a1: 0.395+0.175+0.075+0.03+0.0087-0.0005-0.005-0.006-0.007,\n",
    "          a2: 0.62+0.287+0.135+0.065+0.033+0.018+0.01+0.008+0.007})"
   ]
  },
  {
   "cell_type": "code",
   "execution_count": null,
   "id": "34397ca0",
   "metadata": {},
   "outputs": [],
   "source": []
  }
 ],
 "metadata": {
  "kernelspec": {
   "display_name": "Python 3",
   "language": "python",
   "name": "python3"
  },
  "language_info": {
   "codemirror_mode": {
    "name": "ipython",
    "version": 3
   },
   "file_extension": ".py",
   "mimetype": "text/x-python",
   "name": "python",
   "nbconvert_exporter": "python",
   "pygments_lexer": "ipython3",
   "version": "3.8.8"
  }
 },
 "nbformat": 4,
 "nbformat_minor": 5
}
