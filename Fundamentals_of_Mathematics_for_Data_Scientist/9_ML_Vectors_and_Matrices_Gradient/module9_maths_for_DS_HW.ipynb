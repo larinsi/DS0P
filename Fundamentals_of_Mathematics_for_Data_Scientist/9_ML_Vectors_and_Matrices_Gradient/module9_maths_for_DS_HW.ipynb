{
 "cells": [
  {
   "cell_type": "code",
   "execution_count": 1,
   "id": "1b92593a",
   "metadata": {},
   "outputs": [],
   "source": [
    "from sympy import *\n",
    "import numpy as np"
   ]
  },
  {
   "cell_type": "markdown",
   "id": "2ab59145",
   "metadata": {},
   "source": [
    "### Задача 1.\n",
    "\n",
    "\n",
    "Вычислите значения выражений."
   ]
  },
  {
   "cell_type": "code",
   "execution_count": 2,
   "id": "9a0b2e0e",
   "metadata": {},
   "outputs": [
    {
     "data": {
      "text/plain": [
       "1632"
      ]
     },
     "execution_count": 2,
     "metadata": {},
     "output_type": "execute_result"
    }
   ],
   "source": [
    "a = np.array([2, 5, 0, 6, 8, 10, 6, 7, 5, 7], dtype=np.int32)\n",
    "b = np.array([8, 6, 7, 9, 6, 6, 2, 3, 2, 3], dtype=np.int32)\n",
    "np.dot(3*a, 2*b)"
   ]
  },
  {
   "cell_type": "code",
   "execution_count": 3,
   "id": "4a3b8270",
   "metadata": {},
   "outputs": [
    {
     "data": {
      "text/plain": [
       "4950"
      ]
     },
     "execution_count": 3,
     "metadata": {},
     "output_type": "execute_result"
    }
   ],
   "source": [
    "a = np.array([9, 6, 7, 7, 0, 1, 6, 8, 1, 2], dtype=np.int32)\n",
    "b = np.array([0, 2, 2, 6, 7, 8, 8, 3, 1, 8], dtype=np.int32)\n",
    "np.dot(6*a, 5*b)"
   ]
  },
  {
   "cell_type": "code",
   "execution_count": 4,
   "id": "60a584a8",
   "metadata": {},
   "outputs": [
    {
     "data": {
      "text/plain": [
       "272"
      ]
     },
     "execution_count": 4,
     "metadata": {},
     "output_type": "execute_result"
    }
   ],
   "source": [
    "a = np.array([2, 5, 0, 6, 8, 10, 6, 7, 5, 7], dtype=np.int32)\n",
    "b = np.array([8, 6, 7, 9, 6, 6, 2, 3, 2, 3], dtype=np.int32)\n",
    "np.dot(a, b)"
   ]
  },
  {
   "cell_type": "code",
   "execution_count": 5,
   "id": "4bb0cca6",
   "metadata": {},
   "outputs": [
    {
     "data": {
      "text/plain": [
       "165"
      ]
     },
     "execution_count": 5,
     "metadata": {},
     "output_type": "execute_result"
    }
   ],
   "source": [
    "a = np.array([9, 6, 7, 7, 0, 1, 6, 8, 1, 2], dtype=np.int32)\n",
    "b = np.array([0, 2, 2, 6, 7, 8, 8, 3, 1, 8], dtype=np.int32)\n",
    "np.dot(a, b)"
   ]
  },
  {
   "cell_type": "markdown",
   "id": "9be78697",
   "metadata": {},
   "source": [
    "### Задача 2.\n",
    "Для следующих заданий сделайте в Python функцию, реализующую транспонирование матрицы произвольной размерности, пользуясь данным в модуле определением. Функция должна принимать и возвращать либо numpy.array, либо двумерный список (list)."
   ]
  },
  {
   "cell_type": "code",
   "execution_count": 6,
   "id": "85e8f50d",
   "metadata": {},
   "outputs": [],
   "source": [
    "def transpose(x):\n",
    "    x_tr = np.zeros(shape=(x.shape[1], x.shape[0]), dtype=np.int32)\n",
    "    for i in range(0, x.shape[0]):\n",
    "        for j in range(0, x.shape[1]):\n",
    "            x_tr[j][i] = x[i][j]\n",
    "    return x_tr\n",
    "    "
   ]
  },
  {
   "cell_type": "code",
   "execution_count": 7,
   "id": "0930b79a",
   "metadata": {},
   "outputs": [
    {
     "name": "stdout",
     "output_type": "stream",
     "text": [
      "[[ 2  1  7  4]\n",
      " [ 5  6  7  3]\n",
      " [ 9  8  2 12]\n",
      " [11 14 15 15]]\n",
      "[[ 2  5  9 11]\n",
      " [ 1  6  8 14]\n",
      " [ 7  7  2 15]\n",
      " [ 4  3 12 15]]\n"
     ]
    }
   ],
   "source": [
    "a = np.array([[2, 1, 7, 4],\n",
    "              [5, 6, 7, 3],\n",
    "              [9, 8, 2, 12],\n",
    "              [11, 14, 15, 15]])\n",
    "print(a)\n",
    "print(transpose(a))"
   ]
  },
  {
   "cell_type": "code",
   "execution_count": 8,
   "id": "60618b09",
   "metadata": {},
   "outputs": [
    {
     "name": "stdout",
     "output_type": "stream",
     "text": [
      "[[ 3  7  8  3  6]\n",
      " [ 2  5  9  4 13]]\n",
      "[[ 3  2]\n",
      " [ 7  5]\n",
      " [ 8  9]\n",
      " [ 3  4]\n",
      " [ 6 13]]\n"
     ]
    }
   ],
   "source": [
    "b = np.array([[3, 7, 8, 3, 6],\n",
    "              [2, 5, 9, 4, 13]])\n",
    "print(b)\n",
    "print(transpose(b))"
   ]
  },
  {
   "cell_type": "markdown",
   "id": "8fce7003",
   "metadata": {},
   "source": [
    "### Задача 3.\n",
    "\n",
    "\n",
    "Завершите начатый в последнем уроке градиентный спуск. Вы можете решать эту задачу с помощью SymPy или вручную. Двигайтесь из точки в точку в направлении антиградиента, размер шага оставьте равным 0.01. Обратите внимание, что в каждой новой точке антиградиент будет разным. Добейтесь величины MSE меньше 6,36. Сколько шагов градиентного спуска вам потребовалось для этого?"
   ]
  },
  {
   "cell_type": "code",
   "execution_count": 9,
   "id": "46d43fea",
   "metadata": {},
   "outputs": [],
   "source": [
    "a1, a2 = symbols('a1, a2')"
   ]
  },
  {
   "cell_type": "code",
   "execution_count": 10,
   "id": "af131e04",
   "metadata": {},
   "outputs": [
    {
     "data": {
      "text/latex": [
       "$\\displaystyle 0.25 \\left(a_{1} + 2 a_{2} - 5\\right)^{2} + 0.25 \\left(2 a_{1} + 4 a_{2} - 10\\right)^{2} + 0.25 \\left(3 a_{1} + 7 a_{2} - 8\\right)^{2} + 0.25 \\left(5 a_{1} + 3 a_{2} - 6\\right)^{2}$"
      ],
      "text/plain": [
       "0.25*(a1 + 2*a2 - 5)**2 + 0.25*(2*a1 + 4*a2 - 10)**2 + 0.25*(3*a1 + 7*a2 - 8)**2 + 0.25*(5*a1 + 3*a2 - 6)**2"
      ]
     },
     "execution_count": 10,
     "metadata": {},
     "output_type": "execute_result"
    }
   ],
   "source": [
    "MSE = 1/4 * ((a1*1 + a2*2 - 5)**2 + \\\n",
    "             (a1*5 + a2*3 - 6)**2 + \\\n",
    "             (a1*2 + a2*4 - 10)**2 + \\\n",
    "             (a1*3 + a2*7 - 8)**2)\n",
    "MSE"
   ]
  },
  {
   "cell_type": "code",
   "execution_count": 11,
   "id": "bcfa354b",
   "metadata": {},
   "outputs": [
    {
     "data": {
      "text/latex": [
       "$\\displaystyle 19.5 a_{1} + 23.0 a_{2} - 39.5$"
      ],
      "text/plain": [
       "19.5*a1 + 23.0*a2 - 39.5"
      ]
     },
     "execution_count": 11,
     "metadata": {},
     "output_type": "execute_result"
    }
   ],
   "source": [
    "diff(MSE, a1)"
   ]
  },
  {
   "cell_type": "code",
   "execution_count": 12,
   "id": "98752868",
   "metadata": {},
   "outputs": [
    {
     "data": {
      "text/latex": [
       "$\\displaystyle 23.0 a_{1} + 39.0 a_{2} - 62.0$"
      ],
      "text/plain": [
       "23.0*a1 + 39.0*a2 - 62.0"
      ]
     },
     "execution_count": 12,
     "metadata": {},
     "output_type": "execute_result"
    }
   ],
   "source": [
    "diff(MSE, a2)"
   ]
  },
  {
   "cell_type": "code",
   "execution_count": 34,
   "id": "dcb647de",
   "metadata": {},
   "outputs": [],
   "source": [
    "step = 0.01"
   ]
  },
  {
   "cell_type": "code",
   "execution_count": 47,
   "id": "29638566",
   "metadata": {},
   "outputs": [
    {
     "name": "stdout",
     "output_type": "stream",
     "text": [
      "Итерация:  1\n",
      "Точка:  [0 0]\n",
      "MSE:  56.2500000000000\n",
      "Градиент:  [-39.5000000000000 -62.0000000000000]\n",
      "-----------------------------------------------\n",
      "Итерация:  2\n",
      "Точка:  [0.395000000000000 0.620000000000000]\n",
      "MSE:  16.8572437500000\n",
      "Градиент:  [-17.5375000000000 -28.7350000000000]\n",
      "-----------------------------------------------\n",
      "Итерация:  3\n",
      "Точка:  [0.570375000000000 0.907350000000000]\n",
      "MSE:  8.59365482859375\n",
      "Градиент:  [-7.50863750000000 -13.4947250000000]\n",
      "-----------------------------------------------\n",
      "Итерация:  4\n",
      "Точка:  [0.645461375000000 1.04229725000000]\n",
      "MSE:  6.85191449679269\n",
      "Градиент:  [-2.94066643750000 -6.50479562500000]\n",
      "-----------------------------------------------\n",
      "Итерация:  5\n",
      "Точка:  [0.674868039375000 1.10734520625000]\n",
      "MSE:  6.47725148826285\n",
      "Градиент:  [-0.871133488437501 -3.29157205062501]\n",
      "-----------------------------------------------\n",
      "Итерация:  6\n",
      "Точка:  [0.683579374259375 1.14026092675625]\n",
      "MSE:  6.38978037646670\n",
      "Градиент:  [0.0557991134515632 -1.80749824854063]\n",
      "-----------------------------------------------\n",
      "Итерация:  7\n",
      "Точка:  [0.683021383124860 1.15833590924166]\n",
      "MSE:  6.36322055427526\n",
      "Градиент:  [0.460642883492852 -1.11540772770364]\n",
      "-----------------------------------------------\n",
      "Итерация:  8\n",
      "Точка:  [0.678414954289931 1.16948998651869]\n",
      "MSE:  6.35010849011797\n",
      "Градиент:  [0.460642883492852 -1.11540772770364]\n"
     ]
    }
   ],
   "source": [
    "# Градиентный спуск до значения MSE < 6.36\n",
    "step = 0.01\n",
    "point = np.array([0, 0])\n",
    "counter = 1\n",
    "\n",
    "while MSE.subs({a1: point[0], a2: point[1]}) >= 6.36:\n",
    "    print('Итерация: ', counter)\n",
    "    print('Точка: ', point)\n",
    "    print('MSE: ', MSE.subs({a1: point[0], a2: point[1]}))\n",
    "    grad = np.array([diff(MSE, a1).subs({a1: point[0], a2: point[1]}),\n",
    "                     diff(MSE, a2).subs({a1: point[0], a2: point[1]})])\n",
    "    print('Градиент: ', grad)\n",
    "    new_point = point - step * grad\n",
    "    counter += 1\n",
    "    print('-----------------------------------------------')\n",
    "    point = new_point\n",
    "\n",
    "print('Итерация: ', counter)\n",
    "print('Точка: ', point)\n",
    "print('MSE: ', MSE.subs({a1: point[0], a2: point[1]}))\n",
    "print('Градиент: ', grad)"
   ]
  },
  {
   "cell_type": "code",
   "execution_count": null,
   "id": "7b3e342e",
   "metadata": {},
   "outputs": [],
   "source": []
  }
 ],
 "metadata": {
  "kernelspec": {
   "display_name": "Python 3",
   "language": "python",
   "name": "python3"
  },
  "language_info": {
   "codemirror_mode": {
    "name": "ipython",
    "version": 3
   },
   "file_extension": ".py",
   "mimetype": "text/x-python",
   "name": "python",
   "nbconvert_exporter": "python",
   "pygments_lexer": "ipython3",
   "version": "3.8.8"
  }
 },
 "nbformat": 4,
 "nbformat_minor": 5
}
