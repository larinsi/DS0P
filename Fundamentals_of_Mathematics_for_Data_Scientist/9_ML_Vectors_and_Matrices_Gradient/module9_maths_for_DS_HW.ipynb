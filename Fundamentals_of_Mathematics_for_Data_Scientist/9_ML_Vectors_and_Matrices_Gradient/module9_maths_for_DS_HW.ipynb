{
 "cells": [
  {
   "cell_type": "code",
   "execution_count": 1,
   "id": "1b92593a",
   "metadata": {},
   "outputs": [],
   "source": [
    "from sympy import *\n",
    "import numpy as np"
   ]
  },
  {
   "cell_type": "markdown",
   "id": "767c1840",
   "metadata": {},
   "source": [
    "### Задача 1.\n",
    "\n",
    "\n",
    "Вычислите значения выражений."
   ]
  },
  {
   "cell_type": "code",
   "execution_count": 12,
   "id": "ee7ba071",
   "metadata": {},
   "outputs": [
    {
     "data": {
      "text/plain": [
       "1632"
      ]
     },
     "execution_count": 12,
     "metadata": {},
     "output_type": "execute_result"
    }
   ],
   "source": [
    "a = np.array([2, 5, 0, 6, 8, 10, 6, 7, 5, 7], dtype=np.int32)\n",
    "b = np.array([8, 6, 7, 9, 6, 6, 2, 3, 2, 3], dtype=np.int32)\n",
    "np.dot(3*a, 2*b)"
   ]
  },
  {
   "cell_type": "code",
   "execution_count": 11,
   "id": "d320a63d",
   "metadata": {},
   "outputs": [
    {
     "data": {
      "text/plain": [
       "4950"
      ]
     },
     "execution_count": 11,
     "metadata": {},
     "output_type": "execute_result"
    }
   ],
   "source": [
    "a = np.array([9, 6, 7, 7, 0, 1, 6, 8, 1, 2], dtype=np.int32)\n",
    "b = np.array([0, 2, 2, 6, 7, 8, 8, 3, 1, 8], dtype=np.int32)\n",
    "np.dot(6*a, 5*b)"
   ]
  },
  {
   "cell_type": "code",
   "execution_count": 13,
   "id": "93f8ef73",
   "metadata": {},
   "outputs": [
    {
     "data": {
      "text/plain": [
       "272"
      ]
     },
     "execution_count": 13,
     "metadata": {},
     "output_type": "execute_result"
    }
   ],
   "source": [
    "a = np.array([2, 5, 0, 6, 8, 10, 6, 7, 5, 7], dtype=np.int32)\n",
    "b = np.array([8, 6, 7, 9, 6, 6, 2, 3, 2, 3], dtype=np.int32)\n",
    "np.dot(a, b)"
   ]
  },
  {
   "cell_type": "code",
   "execution_count": 14,
   "id": "ef59534d",
   "metadata": {},
   "outputs": [
    {
     "data": {
      "text/plain": [
       "165"
      ]
     },
     "execution_count": 14,
     "metadata": {},
     "output_type": "execute_result"
    }
   ],
   "source": [
    "a = np.array([9, 6, 7, 7, 0, 1, 6, 8, 1, 2], dtype=np.int32)\n",
    "b = np.array([0, 2, 2, 6, 7, 8, 8, 3, 1, 8], dtype=np.int32)\n",
    "np.dot(a, b)"
   ]
  },
  {
   "cell_type": "markdown",
   "id": "9be78697",
   "metadata": {},
   "source": [
    "### Задача 2.\n",
    "Для следующих заданий сделайте в Python функцию, реализующую транспонирование матрицы произвольной размерности, пользуясь данным в модуле определением. Функция должна принимать и возвращать либо numpy.array, либо двумерный список (list)."
   ]
  },
  {
   "cell_type": "code",
   "execution_count": 2,
   "id": "85e8f50d",
   "metadata": {},
   "outputs": [],
   "source": [
    "def transpose(x):\n",
    "    x_tr = np.zeros(shape=(x.shape[1], x.shape[0]), dtype=np.int32)\n",
    "    for i in range(0, x.shape[0]):\n",
    "        for j in range(0, x.shape[1]):\n",
    "            x_tr[j][i] = x[i][j]\n",
    "    return x_tr\n",
    "    "
   ]
  },
  {
   "cell_type": "code",
   "execution_count": 3,
   "id": "0930b79a",
   "metadata": {},
   "outputs": [
    {
     "name": "stdout",
     "output_type": "stream",
     "text": [
      "[[ 2  1  7  4]\n",
      " [ 5  6  7  3]\n",
      " [ 9  8  2 12]\n",
      " [11 14 15 15]]\n",
      "[[ 2  5  9 11]\n",
      " [ 1  6  8 14]\n",
      " [ 7  7  2 15]\n",
      " [ 4  3 12 15]]\n"
     ]
    }
   ],
   "source": [
    "a = np.array([[2, 1, 7, 4],\n",
    "              [5, 6, 7, 3],\n",
    "              [9, 8, 2, 12],\n",
    "              [11, 14, 15, 15]])\n",
    "print(a)\n",
    "print(transpose(a))"
   ]
  },
  {
   "cell_type": "code",
   "execution_count": 4,
   "id": "60618b09",
   "metadata": {},
   "outputs": [
    {
     "name": "stdout",
     "output_type": "stream",
     "text": [
      "[[ 3  7  8  3  6]\n",
      " [ 2  5  9  4 13]]\n",
      "[[ 3  2]\n",
      " [ 7  5]\n",
      " [ 8  9]\n",
      " [ 3  4]\n",
      " [ 6 13]]\n"
     ]
    }
   ],
   "source": [
    "b = np.array([[3, 7, 8, 3, 6],\n",
    "              [2, 5, 9, 4, 13]])\n",
    "print(b)\n",
    "print(transpose(b))"
   ]
  },
  {
   "cell_type": "code",
   "execution_count": null,
   "id": "8506dc5e",
   "metadata": {},
   "outputs": [],
   "source": []
  }
 ],
 "metadata": {
  "kernelspec": {
   "display_name": "Python 3",
   "language": "python",
   "name": "python3"
  },
  "language_info": {
   "codemirror_mode": {
    "name": "ipython",
    "version": 3
   },
   "file_extension": ".py",
   "mimetype": "text/x-python",
   "name": "python",
   "nbconvert_exporter": "python",
   "pygments_lexer": "ipython3",
   "version": "3.8.8"
  }
 },
 "nbformat": 4,
 "nbformat_minor": 5
}
