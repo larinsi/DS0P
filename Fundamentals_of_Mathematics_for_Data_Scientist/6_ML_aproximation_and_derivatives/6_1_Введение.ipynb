{
  "nbformat": 4,
  "nbformat_minor": 0,
  "metadata": {
    "kernelspec": {
      "display_name": "Python 3",
      "language": "python",
      "name": "python3"
    },
    "language_info": {
      "codemirror_mode": {
        "name": "ipython",
        "version": 3
      },
      "file_extension": ".py",
      "mimetype": "text/x-python",
      "name": "python",
      "nbconvert_exporter": "python",
      "pygments_lexer": "ipython3",
      "version": "3.7.3"
    },
    "colab": {
      "name": "6.1 Введение.ipynb",
      "provenance": [],
      "collapsed_sections": []
    }
  },
  "cells": [
    {
      "cell_type": "code",
      "metadata": {
        "id": "U_zIIF5vnXXl"
      },
      "source": [
        "from sympy import *\n",
        "from sympy.plotting import plot\n",
        "init_printing(use_unicode=False, wrap_line=False, no_global=True)"
      ],
      "execution_count": null,
      "outputs": []
    },
    {
      "cell_type": "code",
      "metadata": {
        "id": "-U9gmeVFnXX_"
      },
      "source": [
        "import matplotlib.pyplot as plt\n",
        "import numpy as np"
      ],
      "execution_count": null,
      "outputs": []
    },
    {
      "cell_type": "code",
      "metadata": {
        "id": "A_oXpwrVnXYN"
      },
      "source": [
        "x = Symbol('x')"
      ],
      "execution_count": null,
      "outputs": []
    },
    {
      "cell_type": "code",
      "metadata": {
        "id": "hyIdZN6UnXYd"
      },
      "source": [
        "def print_points_ands_function4(sympy_function):\n",
        "    def function(x_): return float(sympy_function.subs(x, x_))\n",
        "    \n",
        "    points_X = np.array([-2, -1, 0, 1, 2, 3, 3.5, 4, 4.5, 5])\n",
        "    points_Y = np.array([-42, -37, -23, -36, -45, -80, -83, -110, -131, -155])\n",
        "    plt.xlim(-4, 20)\n",
        "    plt.ylim(-160, -10)\n",
        "    \n",
        "    plt.scatter(points_X, points_Y, c='r')\n",
        "    x_range = np.linspace(plt.xlim()[0], plt.xlim()[1], num=100)\n",
        "    function_Y = [function(x_) for x_ in x_range]\n",
        "    plt.plot(x_range, function_Y, 'b')\n",
        "    plt.show()\n",
        "    \n",
        "    MSE = sum([(points_Y[i] - function(points_X[i]))**2 for i in range(len(points_Y))]) / len(points_Y)\n",
        "    print(f'MSE = {MSE}')"
      ],
      "execution_count": null,
      "outputs": []
    },
    {
      "cell_type": "code",
      "metadata": {
        "id": "EMeya1mmnXYp",
        "outputId": "5e79819d-a17a-4371-c634-925e85a8f1c9"
      },
      "source": [
        "f4 = - 5 / 4 * x**2 + 25 * x - 152\n",
        "f4"
      ],
      "execution_count": null,
      "outputs": [
        {
          "output_type": "execute_result",
          "data": {
            "image/png": "[encoded data removed]",
            "text/latex": "$\\displaystyle - 1.25 x^{2} + 25 x - 152$",
            "text/plain": [
              "        2             \n",
              "- 1.25*x  + 25*x - 152"
            ]
          },
          "metadata": {
            "tags": []
          },
          "execution_count": 5
        }
      ]
    },
    {
      "cell_type": "code",
      "metadata": {
        "id": "pF-LEocBnXY2",
        "outputId": "c1757789-7a9e-4cda-c6f7-f016b3af36e6"
      },
      "source": [
        "print_points_ands_function4(f4)"
      ],
      "execution_count": null,
      "outputs": [
        {
          "output_type": "display_data",
          "data": {
            "image/png": "[encoded data removed]",
            "text/plain": [
              "<Figure size 432x288 with 1 Axes>"
            ]
          },
          "metadata": {
            "tags": [],
            "needs_background": "light"
          }
        },
        {
          "output_type": "stream",
          "text": [
            "MSE = 9143.51953125\n"
          ],
          "name": "stdout"
        }
      ]
    },
    {
      "cell_type": "code",
      "metadata": {
        "id": "vETRmkwvnXZC",
        "outputId": "6af57c84-e909-45d0-94ef-b1e278f97aef"
      },
      "source": [
        "f4_1 = expand(f4.subs(x, x + 10))\n",
        "f4_1"
      ],
      "execution_count": null,
      "outputs": [
        {
          "output_type": "execute_result",
          "data": {
            "image/png": "[encoded data removed]",
            "text/latex": "$\\displaystyle - 1.25 x^{2} - 27.0$",
            "text/plain": [
              "        2       \n",
              "- 1.25*x  - 27.0"
            ]
          },
          "metadata": {
            "tags": []
          },
          "execution_count": 7
        }
      ]
    },
    {
      "cell_type": "code",
      "metadata": {
        "id": "qy0chccOnXZJ",
        "outputId": "5c965c4c-dc9a-4e91-ad2d-ab12bd875130"
      },
      "source": [
        "print_points_ands_function4(f4_1)"
      ],
      "execution_count": null,
      "outputs": [
        {
          "output_type": "display_data",
          "data": {
            "image/png": "[encoded data removed]",
            "text/plain": [
              "<Figure size 432x288 with 1 Axes>"
            ]
          },
          "metadata": {
            "tags": [],
            "needs_background": "light"
          }
        },
        {
          "output_type": "stream",
          "text": [
            "MSE = 2334.14453125\n"
          ],
          "name": "stdout"
        }
      ]
    },
    {
      "cell_type": "code",
      "metadata": {
        "id": "yEtOEIF4nXZR",
        "outputId": "74d38acc-b922-49a9-a6e0-b835dca0ccb5"
      },
      "source": [
        "f4_2 = f4_1.subs(x, x*2)\n",
        "f4_2"
      ],
      "execution_count": null,
      "outputs": [
        {
          "output_type": "execute_result",
          "data": {
            "image/png": "[encoded data removed]",
            "text/latex": "$\\displaystyle - 5.0 x^{2} - 27.0$",
            "text/plain": [
              "       2       \n",
              "- 5.0*x  - 27.0"
            ]
          },
          "metadata": {
            "tags": []
          },
          "execution_count": 9
        }
      ]
    },
    {
      "cell_type": "code",
      "metadata": {
        "id": "yuKJztkQnXZW",
        "outputId": "f05d6d1c-30de-4649-c8a8-23bcb7a1d24f"
      },
      "source": [
        "print_points_ands_function4(f4_2)"
      ],
      "execution_count": null,
      "outputs": [
        {
          "output_type": "display_data",
          "data": {
            "image/png": "[encoded data removed]",
            "text/plain": [
              "<Figure size 432x288 with 1 Axes>"
            ]
          },
          "metadata": {
            "tags": [],
            "needs_background": "light"
          }
        },
        {
          "output_type": "stream",
          "text": [
            "MSE = 20.3125\n"
          ],
          "name": "stdout"
        }
      ]
    },
    {
      "cell_type": "code",
      "metadata": {
        "id": "IuFLA8bfnXZd"
      },
      "source": [
        ""
      ],
      "execution_count": null,
      "outputs": []
    }
  ]
}