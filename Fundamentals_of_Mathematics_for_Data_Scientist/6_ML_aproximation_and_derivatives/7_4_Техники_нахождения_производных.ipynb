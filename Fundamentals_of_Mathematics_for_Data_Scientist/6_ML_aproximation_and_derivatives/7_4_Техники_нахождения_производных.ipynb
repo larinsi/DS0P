{
  "nbformat": 4,
  "nbformat_minor": 0,
  "metadata": {
    "kernelspec": {
      "display_name": "Python 3",
      "language": "python",
      "name": "python3"
    },
    "language_info": {
      "codemirror_mode": {
        "name": "ipython",
        "version": 3
      },
      "file_extension": ".py",
      "mimetype": "text/x-python",
      "name": "python",
      "nbconvert_exporter": "python",
      "pygments_lexer": "ipython3",
      "version": "3.7.3"
    },
    "colab": {
      "name": "7.4 Техники нахождения производных.ipynb",
      "provenance": [],
      "collapsed_sections": []
    }
  },
  "cells": [
    {
      "cell_type": "code",
      "metadata": {
        "id": "vAIdrSvvnhAf"
      },
      "source": [
        "from sympy import *\n",
        "from sympy.plotting import plot\n",
        "init_printing(use_unicode=False, wrap_line=False, no_global=True)"
      ],
      "execution_count": null,
      "outputs": []
    },
    {
      "cell_type": "code",
      "metadata": {
        "id": "sC2_ZzJPnhAu"
      },
      "source": [
        "x = Symbol('x')"
      ],
      "execution_count": null,
      "outputs": []
    },
    {
      "cell_type": "code",
      "metadata": {
        "id": "QEfsUDhwnhA8",
        "outputId": "cef46bd0-dfe9-4e9f-e2b4-7968b4ff8e0f"
      },
      "source": [
        "f = x**3 - 2 * x**2 + x - 6\n",
        "f"
      ],
      "execution_count": null,
      "outputs": [
        {
          "output_type": "execute_result",
          "data": {
            "image/png": "[encoded data removed]",
            "text/latex": "$\\displaystyle x^{3} - 2 x^{2} + x - 6$",
            "text/plain": [
              " 3      2        \n",
              "x  - 2*x  + x - 6"
            ]
          },
          "metadata": {
            "tags": []
          },
          "execution_count": 4
        }
      ]
    },
    {
      "cell_type": "code",
      "metadata": {
        "id": "36t025_BnhBJ",
        "outputId": "e80ee30a-0f9d-4be7-e71a-8e241b8abb5c"
      },
      "source": [
        "diff_f = 3 * x**2 - 4 * x + 1\n",
        "diff_f"
      ],
      "execution_count": null,
      "outputs": [
        {
          "output_type": "execute_result",
          "data": {
            "image/png": "[encoded data removed]",
            "text/latex": "$\\displaystyle 3 x^{2} - 4 x + 1$",
            "text/plain": [
              "   2          \n",
              "3*x  - 4*x + 1"
            ]
          },
          "metadata": {
            "tags": []
          },
          "execution_count": 8
        }
      ]
    },
    {
      "cell_type": "code",
      "metadata": {
        "id": "C8plV0LCnhBU",
        "outputId": "5cc0c0ba-75b7-4108-8b07-f787fe9bf1c6"
      },
      "source": [
        "solve_univariate_inequality(diff_f > 0, x)"
      ],
      "execution_count": null,
      "outputs": [
        {
          "output_type": "execute_result",
          "data": {
            "image/png": "[encoded data removed]",
            "text/latex": "$\\displaystyle \\left(-\\infty < x \\wedge x < \\frac{1}{3}\\right) \\vee \\left(1 < x \\wedge x < \\infty\\right)$",
            "text/plain": [
              "Or(And(-oo < x, x < 1/3), And(1 < x, x < oo))"
            ]
          },
          "metadata": {
            "tags": []
          },
          "execution_count": 9
        }
      ]
    },
    {
      "cell_type": "code",
      "metadata": {
        "id": "6isVIucQnhBd",
        "outputId": "df22422c-aea1-4138-d322-df16d53612d9"
      },
      "source": [
        "solve_univariate_inequality(diff_f < 0, x)"
      ],
      "execution_count": null,
      "outputs": [
        {
          "output_type": "execute_result",
          "data": {
            "image/png": "[encoded data removed]",
            "text/latex": "$\\displaystyle \\frac{1}{3} < x \\wedge x < 1$",
            "text/plain": [
              "And(1/3 < x, x < 1)"
            ]
          },
          "metadata": {
            "tags": []
          },
          "execution_count": 11
        }
      ]
    },
    {
      "cell_type": "code",
      "metadata": {
        "id": "tgC5t54mnhBp",
        "outputId": "12a435e0-db95-4fdf-d5f2-53048b170a1f"
      },
      "source": [
        "solve(diff_f)"
      ],
      "execution_count": null,
      "outputs": [
        {
          "output_type": "execute_result",
          "data": {
            "image/png": "[encoded data removed]",
            "text/latex": "$\\displaystyle \\left[ \\frac{1}{3}, \\  1\\right]$",
            "text/plain": [
              "[1/3, 1]"
            ]
          },
          "metadata": {
            "tags": []
          },
          "execution_count": 12
        }
      ]
    },
    {
      "cell_type": "code",
      "metadata": {
        "id": "uRibHLNcnhBz",
        "outputId": "12526d78-fc39-4b70-8eb1-aeaae7e10c03"
      },
      "source": [
        "plot(f)"
      ],
      "execution_count": null,
      "outputs": [
        {
          "output_type": "display_data",
          "data": {
            "image/png": "[encoded data removed]",
            "text/plain": [
              "<Figure size 432x288 with 1 Axes>"
            ]
          },
          "metadata": {
            "tags": [],
            "needs_background": "light"
          }
        },
        {
          "output_type": "execute_result",
          "data": {
            "text/plain": [
              "<sympy.plotting.plot.Plot at 0x11cb00dd8>"
            ]
          },
          "metadata": {
            "tags": []
          },
          "execution_count": 16
        }
      ]
    },
    {
      "cell_type": "code",
      "metadata": {
        "id": "mjksv6CMnhB6",
        "outputId": "162b3a84-1c5b-4099-e11a-741599e03141"
      },
      "source": [
        "plot(f, (x, -0.5, 1.5))"
      ],
      "execution_count": null,
      "outputs": [
        {
          "output_type": "display_data",
          "data": {
            "image/png": "[encoded data removed]",
            "text/plain": [
              "<Figure size 432x288 with 1 Axes>"
            ]
          },
          "metadata": {
            "tags": [],
            "needs_background": "light"
          }
        },
        {
          "output_type": "execute_result",
          "data": {
            "text/plain": [
              "<sympy.plotting.plot.Plot at 0x11ccd6ba8>"
            ]
          },
          "metadata": {
            "tags": []
          },
          "execution_count": 18
        }
      ]
    }
  ]
}