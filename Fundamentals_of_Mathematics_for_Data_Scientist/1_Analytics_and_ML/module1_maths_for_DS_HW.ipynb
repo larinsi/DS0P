{
 "cells": [
  {
   "cell_type": "code",
   "execution_count": 1,
   "id": "a7f00d46",
   "metadata": {},
   "outputs": [],
   "source": [
    "from sympy import *"
   ]
  },
  {
   "cell_type": "code",
   "execution_count": 3,
   "id": "9ec1defc",
   "metadata": {},
   "outputs": [],
   "source": [
    "x = Symbol('x')\n",
    "y = Symbol('y')"
   ]
  },
  {
   "cell_type": "code",
   "execution_count": 5,
   "id": "c03dea49",
   "metadata": {},
   "outputs": [
    {
     "data": {
      "text/latex": [
       "$\\displaystyle 9 y^{2}$"
      ],
      "text/plain": [
       "9*y**2"
      ]
     },
     "execution_count": 5,
     "metadata": {},
     "output_type": "execute_result"
    }
   ],
   "source": [
    "expression1 = (2*x+3*y)**2 - 3*x*(4/3*x+4*y)\n",
    "simplify(expression1)"
   ]
  },
  {
   "cell_type": "code",
   "execution_count": null,
   "id": "6afc7bd5",
   "metadata": {},
   "outputs": [],
   "source": []
  }
 ],
 "metadata": {
  "kernelspec": {
   "display_name": "Python 3",
   "language": "python",
   "name": "python3"
  },
  "language_info": {
   "codemirror_mode": {
    "name": "ipython",
    "version": 3
   },
   "file_extension": ".py",
   "mimetype": "text/x-python",
   "name": "python",
   "nbconvert_exporter": "python",
   "pygments_lexer": "ipython3",
   "version": "3.8.8"
  }
 },
 "nbformat": 4,
 "nbformat_minor": 5
}
