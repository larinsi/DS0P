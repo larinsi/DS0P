{
 "cells": [
  {
   "cell_type": "code",
   "execution_count": 15,
   "id": "a7f00d46",
   "metadata": {},
   "outputs": [],
   "source": [
    "from sympy import *"
   ]
  },
  {
   "cell_type": "code",
   "execution_count": 16,
   "id": "9ec1defc",
   "metadata": {},
   "outputs": [],
   "source": [
    "x = Symbol('x')\n",
    "y = Symbol('y')"
   ]
  },
  {
   "cell_type": "code",
   "execution_count": 17,
   "id": "c03dea49",
   "metadata": {},
   "outputs": [
    {
     "data": {
      "text/latex": [
       "$\\displaystyle 9 y^{2}$"
      ],
      "text/plain": [
       "9*y**2"
      ]
     },
     "execution_count": 17,
     "metadata": {},
     "output_type": "execute_result"
    }
   ],
   "source": [
    "expression1 = (2*x+3*y)**2 - 3*x*(4/3*x+4*y)\n",
    "simplify(expression1)"
   ]
  },
  {
   "cell_type": "markdown",
   "id": "78c128fa",
   "metadata": {},
   "source": [
    "После упрощения на бумаге получилось $9y^2$, при $x=-1.038$ и $y=\\sqrt3$ значение выражения равно $27$."
   ]
  },
  {
   "cell_type": "code",
   "execution_count": 18,
   "id": "c6e636a0",
   "metadata": {},
   "outputs": [
    {
     "data": {
      "text/latex": [
       "$\\displaystyle 4 a^{2} + 49 b^{2}$"
      ],
      "text/plain": [
       "4*a**2 + 49*b**2"
      ]
     },
     "execution_count": 18,
     "metadata": {},
     "output_type": "execute_result"
    }
   ],
   "source": [
    "a = Symbol('a')\n",
    "b = Symbol('b')\n",
    "expression2 = 28*a*b+(2*a-7*b)**2\n",
    "simplify(expression2)"
   ]
  },
  {
   "cell_type": "markdown",
   "id": "9f8c50fb",
   "metadata": {},
   "source": [
    "После упрощения на бумаге получилось $4a^2+49b^2$, при $a=\\sqrt15$ и $b=\\sqrt8$ значение выражения равно $452$."
   ]
  },
  {
   "cell_type": "code",
   "execution_count": 19,
   "id": "76b21d1e",
   "metadata": {},
   "outputs": [
    {
     "data": {
      "text/latex": [
       "$\\displaystyle \\frac{7}{10 a}$"
      ],
      "text/plain": [
       "7/(10*a)"
      ]
     },
     "execution_count": 19,
     "metadata": {},
     "output_type": "execute_result"
    }
   ],
   "source": [
    "expression3 = (a/2+a/5)*(1/a**2)\n",
    "simplify(expression3)"
   ]
  },
  {
   "cell_type": "markdown",
   "id": "59611172",
   "metadata": {},
   "source": [
    "После упрощения на бумаге получилось $\\frac{1}{a} * 0.7$, при $a=0.7$ значение выражения равно $1$."
   ]
  },
  {
   "cell_type": "code",
   "execution_count": 22,
   "id": "b2a4d88c",
   "metadata": {},
   "outputs": [
    {
     "data": {
      "text/latex": [
       "$\\displaystyle x$"
      ],
      "text/plain": [
       "x"
      ]
     },
     "execution_count": 22,
     "metadata": {},
     "output_type": "execute_result"
    }
   ],
   "source": [
    "expression4 = (x-(6*x/(x+2)))/((x-4)/(x+2))\n",
    "simplify(expression4)"
   ]
  },
  {
   "cell_type": "markdown",
   "id": "9ab0dce0",
   "metadata": {},
   "source": [
    "После упрощения на бумаге получилось $x$, при $x=5$ значение выражения равно $5$."
   ]
  },
  {
   "cell_type": "code",
   "execution_count": 24,
   "id": "6d26e45e",
   "metadata": {},
   "outputs": [
    {
     "data": {
      "text/latex": [
       "$\\displaystyle 9 a^{2} + 4 b^{2}$"
      ],
      "text/plain": [
       "9*a**2 + 4*b**2"
      ]
     },
     "execution_count": 24,
     "metadata": {},
     "output_type": "execute_result"
    }
   ],
   "source": [
    "expression5 = (4/a**2+9/b**2)*(a*b)**2\n",
    "simplify(expression5)"
   ]
  },
  {
   "cell_type": "markdown",
   "id": "95e6de54",
   "metadata": {},
   "source": [
    "После упрощения на бумаге получилось $4b^2+9a^2$"
   ]
  },
  {
   "cell_type": "code",
   "execution_count": null,
   "id": "a7dee0f4",
   "metadata": {},
   "outputs": [],
   "source": []
  }
 ],
 "metadata": {
  "kernelspec": {
   "display_name": "Python 3",
   "language": "python",
   "name": "python3"
  },
  "language_info": {
   "codemirror_mode": {
    "name": "ipython",
    "version": 3
   },
   "file_extension": ".py",
   "mimetype": "text/x-python",
   "name": "python",
   "nbconvert_exporter": "python",
   "pygments_lexer": "ipython3",
   "version": "3.8.8"
  }
 },
 "nbformat": 4,
 "nbformat_minor": 5
}
