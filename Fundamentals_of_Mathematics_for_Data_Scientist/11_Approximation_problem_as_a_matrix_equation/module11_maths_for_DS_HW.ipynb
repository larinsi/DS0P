{
 "cells": [
  {
   "cell_type": "code",
   "execution_count": 26,
   "id": "5b256b30",
   "metadata": {},
   "outputs": [],
   "source": [
    "from sympy import *\n",
    "import numpy as np"
   ]
  },
  {
   "cell_type": "markdown",
   "id": "69cd0b05",
   "metadata": {},
   "source": [
    "### Задача 1."
   ]
  },
  {
   "cell_type": "code",
   "execution_count": 2,
   "id": "9a3e3269",
   "metadata": {},
   "outputs": [],
   "source": [
    "x1, x2 = symbols('x1, x2')"
   ]
  },
  {
   "cell_type": "code",
   "execution_count": 5,
   "id": "01d4939b",
   "metadata": {},
   "outputs": [
    {
     "data": {
      "text/latex": [
       "$\\displaystyle \\left\\{\\left( -5, \\  4\\right)\\right\\}$"
      ],
      "text/plain": [
       "FiniteSet((-5, 4))"
      ]
     },
     "execution_count": 5,
     "metadata": {},
     "output_type": "execute_result"
    }
   ],
   "source": [
    "linsolve(Matrix([[2, 3, 2], [0, 1, 4]]), [x1, x2])"
   ]
  },
  {
   "cell_type": "code",
   "execution_count": 6,
   "id": "3c7f386e",
   "metadata": {},
   "outputs": [],
   "source": [
    "x, y = symbols('x, y')"
   ]
  },
  {
   "cell_type": "code",
   "execution_count": 8,
   "id": "476917ac",
   "metadata": {},
   "outputs": [
    {
     "data": {
      "text/latex": [
       "$\\displaystyle \\left\\{\\left( -12, \\  3\\right)\\right\\}$"
      ],
      "text/plain": [
       "FiniteSet((-12, 3))"
      ]
     },
     "execution_count": 8,
     "metadata": {},
     "output_type": "execute_result"
    }
   ],
   "source": [
    "linsolve(Matrix([[1, 5, 3], [0, 3, 9]]), [x, y])"
   ]
  },
  {
   "cell_type": "code",
   "execution_count": 9,
   "id": "932d833f",
   "metadata": {},
   "outputs": [],
   "source": [
    "z = Symbol('z')"
   ]
  },
  {
   "cell_type": "code",
   "execution_count": 10,
   "id": "e82eb98a",
   "metadata": {},
   "outputs": [
    {
     "data": {
      "text/latex": [
       "$\\displaystyle \\left\\{\\left( 1, \\  1, \\  3\\right)\\right\\}$"
      ],
      "text/plain": [
       "FiniteSet((1, 1, 3))"
      ]
     },
     "execution_count": 10,
     "metadata": {},
     "output_type": "execute_result"
    }
   ],
   "source": [
    "linsolve(Matrix([[2, 3, -1, 2],\n",
    "                 [0, 1, 1, 4],\n",
    "                 [1, -1, 2, 6]]), [x, y, z])"
   ]
  },
  {
   "cell_type": "code",
   "execution_count": 11,
   "id": "8eeb3032",
   "metadata": {},
   "outputs": [
    {
     "data": {
      "text/latex": [
       "$\\displaystyle \\left\\{\\left( -15, \\  5, \\  1\\right)\\right\\}$"
      ],
      "text/plain": [
       "FiniteSet((-15, 5, 1))"
      ]
     },
     "execution_count": 11,
     "metadata": {},
     "output_type": "execute_result"
    }
   ],
   "source": [
    "linsolve(Matrix([[1, 5, -2, 8],\n",
    "                 [0, 3, 1, 16],\n",
    "                 [-4, -6, 2, 32]]), [x, y, z])"
   ]
  },
  {
   "cell_type": "markdown",
   "id": "bd7f9a8a",
   "metadata": {},
   "source": [
    "### Задача 2.   "
   ]
  },
  {
   "cell_type": "code",
   "execution_count": 12,
   "id": "efb25820",
   "metadata": {},
   "outputs": [
    {
     "data": {
      "text/latex": [
       "$\\displaystyle \\left[\\begin{matrix}1.0 & 2.0\\\\5.0 & 3.0\\\\2.0 & 4.0\\\\3.0 & 7.0\\end{matrix}\\right]$"
      ],
      "text/plain": [
       "Matrix([\n",
       "[1.0, 2.0],\n",
       "[5.0, 3.0],\n",
       "[2.0, 4.0],\n",
       "[3.0, 7.0]])"
      ]
     },
     "execution_count": 12,
     "metadata": {},
     "output_type": "execute_result"
    }
   ],
   "source": [
    "X = Matrix([[1.0, 2.0],\n",
    "            [5.0, 3.0],\n",
    "            [2.0, 4.0],\n",
    "            [3.0, 7.0]])\n",
    "X"
   ]
  },
  {
   "cell_type": "code",
   "execution_count": 13,
   "id": "08ff0896",
   "metadata": {},
   "outputs": [
    {
     "data": {
      "text/latex": [
       "$\\displaystyle \\left[\\begin{matrix}5.0\\\\6.0\\\\10.0\\\\8.0\\end{matrix}\\right]$"
      ],
      "text/plain": [
       "Matrix([\n",
       "[ 5.0],\n",
       "[ 6.0],\n",
       "[10.0],\n",
       "[ 8.0]])"
      ]
     },
     "execution_count": 13,
     "metadata": {},
     "output_type": "execute_result"
    }
   ],
   "source": [
    "b = Matrix([ 5.0, 6.0, 10.0, 8.0])\n",
    "b"
   ]
  },
  {
   "cell_type": "code",
   "execution_count": 28,
   "id": "2d6c4c9a",
   "metadata": {},
   "outputs": [
    {
     "data": {
      "text/latex": [
       "$\\displaystyle \\left[\\begin{matrix}0.494600431965442\\\\1.29805615550756\\end{matrix}\\right]$"
      ],
      "text/plain": [
       "Matrix([\n",
       "[0.494600431965442],\n",
       "[ 1.29805615550756]])"
      ]
     },
     "execution_count": 28,
     "metadata": {},
     "output_type": "execute_result"
    }
   ],
   "source": [
    "point_mat = (X.T * X) ** (-1) * X.T * b\n",
    "point_mat"
   ]
  },
  {
   "cell_type": "code",
   "execution_count": 19,
   "id": "5dc57831",
   "metadata": {},
   "outputs": [],
   "source": [
    "a1, a2 = symbols('a1, a2')"
   ]
  },
  {
   "cell_type": "code",
   "execution_count": 20,
   "id": "c758baf7",
   "metadata": {},
   "outputs": [
    {
     "data": {
      "text/latex": [
       "$\\displaystyle 0.25 \\left(a_{1} + 2 a_{2} - 5\\right)^{2} + 0.25 \\left(2 a_{1} + 4 a_{2} - 10\\right)^{2} + 0.25 \\left(3 a_{1} + 7 a_{2} - 8\\right)^{2} + 0.25 \\left(5 a_{1} + 3 a_{2} - 6\\right)^{2}$"
      ],
      "text/plain": [
       "0.25*(a1 + 2*a2 - 5)**2 + 0.25*(2*a1 + 4*a2 - 10)**2 + 0.25*(3*a1 + 7*a2 - 8)**2 + 0.25*(5*a1 + 3*a2 - 6)**2"
      ]
     },
     "execution_count": 20,
     "metadata": {},
     "output_type": "execute_result"
    }
   ],
   "source": [
    "MSE = 1/4 * ((a1*1 + a2*2 - 5)**2 + \\\n",
    "             (a1*5 + a2*3 - 6)**2 + \\\n",
    "             (a1*2 + a2*4 - 10)**2 + \\\n",
    "             (a1*3 + a2*7 - 8)**2)\n",
    "MSE"
   ]
  },
  {
   "cell_type": "code",
   "execution_count": 29,
   "id": "d7fbc5f4",
   "metadata": {},
   "outputs": [
    {
     "data": {
      "text/latex": [
       "$\\displaystyle 6.24190064794816$"
      ],
      "text/plain": [
       "6.24190064794816"
      ]
     },
     "execution_count": 29,
     "metadata": {},
     "output_type": "execute_result"
    }
   ],
   "source": [
    "MSE.subs({a1: point_mat[0], a2: point_mat[1]})"
   ]
  },
  {
   "cell_type": "code",
   "execution_count": 33,
   "id": "ef3a0859",
   "metadata": {},
   "outputs": [
    {
     "name": "stdout",
     "output_type": "stream",
     "text": [
      "Итерация:  8\n",
      "Точка:  [0.678414954289931 1.16948998651869]\n",
      "MSE:  6.35010849011797\n",
      "Градиент:  [0.460642883492852 -1.11540772770364]\n"
     ]
    }
   ],
   "source": [
    "# Градиентный спуск до значения MSE < 6.36\n",
    "step = 0.01\n",
    "point = np.array([0, 0])\n",
    "counter = 1\n",
    "\n",
    "while MSE.subs({a1: point[0], a2: point[1]}) >= 6.36:\n",
    "    grad = np.array([diff(MSE, a1).subs({a1: point[0], a2: point[1]}),\n",
    "                     diff(MSE, a2).subs({a1: point[0], a2: point[1]})])\n",
    "    new_point = point - step * grad\n",
    "    counter += 1\n",
    "    point = new_point\n",
    "\n",
    "print('Итерация: ', counter)\n",
    "print('Точка: ', point)\n",
    "print('MSE: ', MSE.subs({a1: point[0], a2: point[1]}))\n",
    "print('Градиент: ', grad)"
   ]
  },
  {
   "cell_type": "code",
   "execution_count": 32,
   "id": "25a4ac17",
   "metadata": {},
   "outputs": [
    {
     "name": "stdout",
     "output_type": "stream",
     "text": [
      "0.108207842169801\n"
     ]
    }
   ],
   "source": [
    "# Точность решения методом обратных матриц \n",
    "# по сравнению с градиентным спуском с шагом 0.01 из точки (0, 0) на 8 итераций\n",
    "\n",
    "print(MSE.subs({a1: point[0], a2: point[1]}) - MSE.subs({a1: point_mat[0], a2: point_mat[1]}))"
   ]
  },
  {
   "cell_type": "code",
   "execution_count": null,
   "id": "f4df34cb",
   "metadata": {},
   "outputs": [],
   "source": []
  }
 ],
 "metadata": {
  "kernelspec": {
   "display_name": "Python 3",
   "language": "python",
   "name": "python3"
  },
  "language_info": {
   "codemirror_mode": {
    "name": "ipython",
    "version": 3
   },
   "file_extension": ".py",
   "mimetype": "text/x-python",
   "name": "python",
   "nbconvert_exporter": "python",
   "pygments_lexer": "ipython3",
   "version": "3.8.8"
  }
 },
 "nbformat": 4,
 "nbformat_minor": 5
}
