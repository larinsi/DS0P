{
 "cells": [
  {
   "cell_type": "code",
   "execution_count": 1,
   "id": "7391a087",
   "metadata": {},
   "outputs": [],
   "source": [
    "from sympy import *"
   ]
  },
  {
   "cell_type": "markdown",
   "id": "cb51735d",
   "metadata": {},
   "source": [
    "### Задача 1."
   ]
  },
  {
   "cell_type": "code",
   "execution_count": 2,
   "id": "3f3d0a9a",
   "metadata": {},
   "outputs": [],
   "source": [
    "x1, x2 = symbols('x1, x2')"
   ]
  },
  {
   "cell_type": "code",
   "execution_count": 5,
   "id": "468d680d",
   "metadata": {},
   "outputs": [
    {
     "data": {
      "text/latex": [
       "$\\displaystyle \\left\\{\\left( -5, \\  4\\right)\\right\\}$"
      ],
      "text/plain": [
       "FiniteSet((-5, 4))"
      ]
     },
     "execution_count": 5,
     "metadata": {},
     "output_type": "execute_result"
    }
   ],
   "source": [
    "linsolve(Matrix([[2, 3, 2], [0, 1, 4]]), [x1, x2])"
   ]
  },
  {
   "cell_type": "code",
   "execution_count": 6,
   "id": "e99f39e7",
   "metadata": {},
   "outputs": [],
   "source": [
    "x, y = symbols('x, y')"
   ]
  },
  {
   "cell_type": "code",
   "execution_count": 8,
   "id": "9ae4bf2c",
   "metadata": {},
   "outputs": [
    {
     "data": {
      "text/latex": [
       "$\\displaystyle \\left\\{\\left( -12, \\  3\\right)\\right\\}$"
      ],
      "text/plain": [
       "FiniteSet((-12, 3))"
      ]
     },
     "execution_count": 8,
     "metadata": {},
     "output_type": "execute_result"
    }
   ],
   "source": [
    "linsolve(Matrix([[1, 5, 3], [0, 3, 9]]), [x, y])"
   ]
  },
  {
   "cell_type": "code",
   "execution_count": 9,
   "id": "99729022",
   "metadata": {},
   "outputs": [],
   "source": [
    "z = Symbol('z')"
   ]
  },
  {
   "cell_type": "code",
   "execution_count": 10,
   "id": "b4fe26bd",
   "metadata": {},
   "outputs": [
    {
     "data": {
      "text/latex": [
       "$\\displaystyle \\left\\{\\left( 1, \\  1, \\  3\\right)\\right\\}$"
      ],
      "text/plain": [
       "FiniteSet((1, 1, 3))"
      ]
     },
     "execution_count": 10,
     "metadata": {},
     "output_type": "execute_result"
    }
   ],
   "source": [
    "linsolve(Matrix([[2, 3, -1, 2],\n",
    "                 [0, 1, 1, 4],\n",
    "                 [1, -1, 2, 6]]), [x, y, z])"
   ]
  },
  {
   "cell_type": "code",
   "execution_count": 11,
   "id": "9b25a5bd",
   "metadata": {},
   "outputs": [
    {
     "data": {
      "text/latex": [
       "$\\displaystyle \\left\\{\\left( -15, \\  5, \\  1\\right)\\right\\}$"
      ],
      "text/plain": [
       "FiniteSet((-15, 5, 1))"
      ]
     },
     "execution_count": 11,
     "metadata": {},
     "output_type": "execute_result"
    }
   ],
   "source": [
    "linsolve(Matrix([[1, 5, -2, 8],\n",
    "                 [0, 3, 1, 16],\n",
    "                 [-4, -6, 2, 32]]), [x, y, z])"
   ]
  },
  {
   "cell_type": "code",
   "execution_count": null,
   "id": "4ad2b85d",
   "metadata": {},
   "outputs": [],
   "source": []
  }
 ],
 "metadata": {
  "kernelspec": {
   "display_name": "Python 3",
   "language": "python",
   "name": "python3"
  },
  "language_info": {
   "codemirror_mode": {
    "name": "ipython",
    "version": 3
   },
   "file_extension": ".py",
   "mimetype": "text/x-python",
   "name": "python",
   "nbconvert_exporter": "python",
   "pygments_lexer": "ipython3",
   "version": "3.8.8"
  }
 },
 "nbformat": 4,
 "nbformat_minor": 5
}
