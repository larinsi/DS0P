{
 "cells": [
  {
   "cell_type": "code",
   "execution_count": 1,
   "id": "bdaaf484",
   "metadata": {},
   "outputs": [],
   "source": [
    "from sympy import *"
   ]
  },
  {
   "cell_type": "code",
   "execution_count": 2,
   "id": "37a0cc41",
   "metadata": {},
   "outputs": [],
   "source": [
    "x, y = symbols('x, y')"
   ]
  },
  {
   "cell_type": "code",
   "execution_count": 3,
   "id": "0702080e",
   "metadata": {},
   "outputs": [
    {
     "data": {
      "text/latex": [
       "$\\displaystyle \\left\\{\\left( -2, \\  3\\right)\\right\\}$"
      ],
      "text/plain": [
       "FiniteSet((-2, 3))"
      ]
     },
     "execution_count": 3,
     "metadata": {},
     "output_type": "execute_result"
    }
   ],
   "source": [
    "linsolve(Matrix([[2, 5, 11],\n",
    "                 [7, -3, -23]]), [x, y])"
   ]
  },
  {
   "cell_type": "code",
   "execution_count": 4,
   "id": "21b629e0",
   "metadata": {},
   "outputs": [
    {
     "data": {
      "text/latex": [
       "$\\displaystyle \\left\\{\\left( 1, \\  1\\right)\\right\\}$"
      ],
      "text/plain": [
       "FiniteSet((1, 1))"
      ]
     },
     "execution_count": 4,
     "metadata": {},
     "output_type": "execute_result"
    }
   ],
   "source": [
    "linsolve(Matrix([[-3, 1, -2],\n",
    "                 [3, 5, 8]]), [x, y])"
   ]
  },
  {
   "cell_type": "code",
   "execution_count": 5,
   "id": "a6d788d4",
   "metadata": {},
   "outputs": [
    {
     "data": {
      "text/latex": [
       "$\\displaystyle \\left\\{\\left( 3, \\  2\\right)\\right\\}$"
      ],
      "text/plain": [
       "FiniteSet((3, 2))"
      ]
     },
     "execution_count": 5,
     "metadata": {},
     "output_type": "execute_result"
    }
   ],
   "source": [
    "linsolve(Matrix([[2, 3, 12],\n",
    "                 [3, -1, 7]]), [x, y])"
   ]
  },
  {
   "cell_type": "code",
   "execution_count": null,
   "id": "1fd01fc0",
   "metadata": {},
   "outputs": [],
   "source": []
  }
 ],
 "metadata": {
  "kernelspec": {
   "display_name": "Python 3",
   "language": "python",
   "name": "python3"
  },
  "language_info": {
   "codemirror_mode": {
    "name": "ipython",
    "version": 3
   },
   "file_extension": ".py",
   "mimetype": "text/x-python",
   "name": "python",
   "nbconvert_exporter": "python",
   "pygments_lexer": "ipython3",
   "version": "3.8.8"
  }
 },
 "nbformat": 4,
 "nbformat_minor": 5
}
