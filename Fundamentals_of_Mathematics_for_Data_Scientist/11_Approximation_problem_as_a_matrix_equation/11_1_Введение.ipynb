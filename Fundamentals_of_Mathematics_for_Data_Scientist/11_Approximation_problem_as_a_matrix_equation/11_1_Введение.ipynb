{
  "nbformat": 4,
  "nbformat_minor": 0,
  "metadata": {
    "kernelspec": {
      "display_name": "Python 3",
      "language": "python",
      "name": "python3"
    },
    "language_info": {
      "codemirror_mode": {
        "name": "ipython",
        "version": 3
      },
      "file_extension": ".py",
      "mimetype": "text/x-python",
      "name": "python",
      "nbconvert_exporter": "python",
      "pygments_lexer": "ipython3",
      "version": "3.7.6"
    },
    "colab": {
      "name": "11.1 Введение.ipynb",
      "provenance": []
    }
  },
  "cells": [
    {
      "cell_type": "code",
      "metadata": {
        "id": "g2aKKLKBMpU9"
      },
      "source": [
        "from sympy import *\n",
        "import numpy"
      ],
      "execution_count": null,
      "outputs": []
    },
    {
      "cell_type": "code",
      "metadata": {
        "id": "PddYlKpFMpVQ",
        "outputId": "cb4534bc-4c98-4c1d-9fe6-b86aaec080ea"
      },
      "source": [
        "x, y, z = symbols('x, y, z')\n",
        "\n",
        "MSE = 1 / 6 * ((5 * x + 7 * y - 5 * z + 47)**2 + \\\n",
        "               (- 2 * y + 2 * z - 10)**2 + \\\n",
        "               (-4 * x - 8 * y - 7 * z - 63)**2 + \\\n",
        "               (x + y + 2 * z + 1)**2 + \\\n",
        "               (2 * x - y + 2 * z + 4)**2 + \\\n",
        "               (4 * x + y + 4 * z + 2)**2)\n",
        "MSE.subs({x: 0, y: 0, z: 0})"
      ],
      "execution_count": null,
      "outputs": [
        {
          "output_type": "execute_result",
          "data": {
            "text/latex": "$\\displaystyle 1049.83333333333$",
            "text/plain": [
              "1049.83333333333"
            ]
          },
          "metadata": {
            "tags": []
          },
          "execution_count": 2
        }
      ]
    },
    {
      "cell_type": "code",
      "metadata": {
        "id": "Roua7XyVMpVg",
        "outputId": "a1c7a4be-02c6-4857-9951-ab9e438c9a24"
      },
      "source": [
        "MSEx = diff(MSE, x)\n",
        "MSEx"
      ],
      "execution_count": null,
      "outputs": [
        {
          "output_type": "execute_result",
          "data": {
            "text/latex": "$\\displaystyle 20.6666666666667 x + 23.3333333333333 y + 8.33333333333333 z + 168.0$",
            "text/plain": [
              "20.6666666666667*x + 23.3333333333333*y + 8.33333333333333*z + 168.0"
            ]
          },
          "metadata": {
            "tags": []
          },
          "execution_count": 3
        }
      ]
    },
    {
      "cell_type": "code",
      "metadata": {
        "id": "W9VV7t1sMpVu",
        "outputId": "80f83b4d-8d02-4def-8798-abbee172cc01"
      },
      "source": [
        "MSEy = diff(MSE, y)\n",
        "MSEy"
      ],
      "execution_count": null,
      "outputs": [
        {
          "output_type": "execute_result",
          "data": {
            "text/latex": "$\\displaystyle 23.3333333333333 x + 40.0 y + 6.99999999999999 z + 284.0$",
            "text/plain": [
              "23.3333333333333*x + 40.0*y + 6.99999999999999*z + 284.0"
            ]
          },
          "metadata": {
            "tags": []
          },
          "execution_count": 4
        }
      ]
    },
    {
      "cell_type": "code",
      "metadata": {
        "id": "KuS8xzjYMpV3",
        "outputId": "9386ecaa-82d5-4d96-cd71-e8a392d62d76"
      },
      "source": [
        "MSEz = diff(MSE, z)\n",
        "MSEz"
      ],
      "execution_count": null,
      "outputs": [
        {
          "output_type": "execute_result",
          "data": {
            "text/latex": "$\\displaystyle 8.33333333333333 x + 6.99999999999999 y + 34.0 z + 68.0$",
            "text/plain": [
              "8.33333333333333*x + 6.99999999999999*y + 34.0*z + 68.0"
            ]
          },
          "metadata": {
            "tags": []
          },
          "execution_count": 5
        }
      ]
    },
    {
      "cell_type": "code",
      "metadata": {
        "id": "tBcYyxOHMpWA"
      },
      "source": [
        "step = 0.01"
      ],
      "execution_count": null,
      "outputs": []
    },
    {
      "cell_type": "code",
      "metadata": {
        "id": "65DnB-N_MpWI"
      },
      "source": [
        "# point = numpy.array([0, 0, 0])\n",
        "point = next_point"
      ],
      "execution_count": null,
      "outputs": []
    },
    {
      "cell_type": "code",
      "metadata": {
        "id": "BDHdMztYMpWQ",
        "outputId": "a0a4af4c-95f8-4926-96e2-6354f46831ab"
      },
      "source": [
        "grad = numpy.array([MSEx.subs({x: point[0], y: point[1], z: point[2]}), \n",
        "                    MSEy.subs({x: point[0], y: point[1], z: point[2]}), \n",
        "                    MSEz.subs({x: point[0], y: point[1], z: point[2]})])\n",
        "grad"
      ],
      "execution_count": null,
      "outputs": [
        {
          "output_type": "execute_result",
          "data": {
            "text/plain": [
              "array([-9.68399887281848, 11.0098584118406, -4.81201027872356],\n",
              "      dtype=object)"
            ]
          },
          "metadata": {
            "tags": []
          },
          "execution_count": 32
        }
      ]
    },
    {
      "cell_type": "code",
      "metadata": {
        "id": "hLc0trWlMpWW",
        "outputId": "5a7be863-62fa-4500-ae1d-a33966e69d7c"
      },
      "source": [
        "next_point = point - step * grad\n",
        "next_point"
      ],
      "execution_count": null,
      "outputs": [
        {
          "output_type": "execute_result",
          "data": {
            "text/plain": [
              "array([-2.23893438867603, -5.49162915212318, -0.412953715575168],\n",
              "      dtype=object)"
            ]
          },
          "metadata": {
            "tags": []
          },
          "execution_count": 33
        }
      ]
    },
    {
      "cell_type": "code",
      "metadata": {
        "id": "VaEK_Y28MpWf",
        "outputId": "c94ce47f-3f29-4a0b-db68-3b06de71f8f3"
      },
      "source": [
        "MSE.subs({x: next_point[0], y: next_point[1], z: next_point[2]})"
      ],
      "execution_count": null,
      "outputs": [
        {
          "output_type": "execute_result",
          "data": {
            "text/latex": "$\\displaystyle 54.3188045027199$",
            "text/plain": [
              "54.3188045027199"
            ]
          },
          "metadata": {
            "tags": []
          },
          "execution_count": 34
        }
      ]
    },
    {
      "cell_type": "code",
      "metadata": {
        "id": "jXkxxjn1MpWk"
      },
      "source": [
        ""
      ],
      "execution_count": null,
      "outputs": []
    }
  ]
}