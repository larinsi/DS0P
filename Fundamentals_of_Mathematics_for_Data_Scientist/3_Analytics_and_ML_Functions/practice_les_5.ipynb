{
 "cells": [
  {
   "cell_type": "markdown",
   "metadata": {
    "id": "XBfSbTeDk7SZ"
   },
   "source": [
    "## Практика. Исследование параболы с помощью SymPy\n",
    "\n",
    "\n",
    "Итак, мы познакомились с несколькими инструментами для исследования функций. Для закрепления материала мы подготовили несколько практических заданий. Практика будет состоять из двух частей. В первой части нужно понять по эскизу графика функции, какие у нее знаки коэффициентов. <br><br>\n",
    "Во второй части практики исследуйте все типы элементарных функций, по примеру того, как я исследовал параболу в этом уроке. "
   ]
  },
  {
   "cell_type": "markdown",
   "metadata": {
    "id": "5ZLPTbegmvMB"
   },
   "source": [
    "### Первая часть\n",
    "![practice_les-2_pos_1-2.png](https://sun9-58.userapi.com/c858228/v858228580/11d5ae/MzvyoLZ5ttY.jpg)![practice_les-2_pos_2-2.png](https://sun9-58.userapi.com/c858228/v858228580/11d5bc/yhr6c1d3LoI.jpg)<br>\n",
    "\n",
    "![practice_les-2_pos_1-1.png](https://sun9-52.userapi.com/c858228/v858228580/11d5a7/WY1EKnfr_Ro.jpg)![practice_les-2_pos_2-1.png](https://sun9-43.userapi.com/c858228/v858228580/11d5b5/cRGlFAOaPeA.jpg)<br>"
   ]
  },
  {
   "cell_type": "markdown",
   "metadata": {
    "id": "kqo0XVTqpE1Y"
   },
   "source": [
    "### Вторая часть\n",
    "\n",
    "\n",
    "Импортируйте библиотеку и модуль `plot`, вызовите команду для красивой отрисовки формул. Постройте график каждой функции, проверьте, является ли она четной, нечетной или ни той, ни другой по виду графика и с помощью подстановки значений. Проверьте свойства коэффициентов, которые были упомянуты в уроке про элементарные функции, покрутите линейную функцию, варьируя угловой коэффициент, и подвигайте графики линейной функции и параболу вверх и вниз, меняя свободный член. Графики показательной функции и корня также можно двигать вверх и вниз, добавляя к ним положительные и отрицательные числа, например $f(x)=e^x+1$ –  это график функции $f(x)=e^x$, сдвинутый вверх на единицу. <br>\n",
    "<br>\n",
    "Для параболы проверьте свойство коэффициента при икс в квадрате. Будьте внимательны с промежутками для переменной (областью определения), не сломайте `symPy` :)\n"
   ]
  },
  {
   "cell_type": "markdown",
   "metadata": {
    "id": "SdaRZOdcpuXd"
   },
   "source": [
    "**(1)** В качестве примера показательной функции используйте экспоненциальную функцию $e^x$. В `symPy` ее можно объявить так:"
   ]
  },
  {
   "cell_type": "code",
   "execution_count": 8,
   "metadata": {},
   "outputs": [],
   "source": [
    "from sympy import *\n",
    "from sympy.plotting import plot\n",
    "init_printing(use_unicode=False, wrap_line=False, no_global=True)\n",
    "x = Symbol('x')"
   ]
  },
  {
   "cell_type": "code",
   "execution_count": 7,
   "metadata": {
    "id": "7r4i3FmLpt0s"
   },
   "outputs": [
    {
     "data": {
      "image/png": "[encoded data removed]",
      "text/latex": [
       "$\\displaystyle e^{x}$"
      ],
      "text/plain": [
       " x\n",
       "e "
      ]
     },
     "execution_count": 7,
     "metadata": {},
     "output_type": "execute_result"
    }
   ],
   "source": [
    "f = exp(x)\n",
    "f"
   ]
  },
  {
   "cell_type": "code",
   "execution_count": 9,
   "metadata": {},
   "outputs": [
    {
     "data": {
      "image/png": "[encoded data removed]",
      "text/plain": [
       "<Figure size 432x288 with 1 Axes>"
      ]
     },
     "metadata": {
      "needs_background": "light"
     },
     "output_type": "display_data"
    },
    {
     "data": {
      "text/plain": [
       "<sympy.plotting.plot.Plot at 0x2ac6c3bec40>"
      ]
     },
     "execution_count": 9,
     "metadata": {},
     "output_type": "execute_result"
    }
   ],
   "source": [
    "plot(f)"
   ]
  },
  {
   "cell_type": "code",
   "execution_count": 10,
   "metadata": {},
   "outputs": [
    {
     "name": "stdout",
     "output_type": "stream",
     "text": [
      "False\n"
     ]
    }
   ],
   "source": [
    "print(f.subs(x, 10) == f.subs(x, -10))"
   ]
  },
  {
   "cell_type": "markdown",
   "metadata": {
    "id": "J7Nzu-X0qPve"
   },
   "source": [
    "**(2)** В качестве примера логарифмической функции используйте натуральный логарифм. В `symPy` его можно объявить так:"
   ]
  },
  {
   "cell_type": "code",
   "execution_count": 11,
   "metadata": {
    "id": "pvzIk4xSqVta"
   },
   "outputs": [
    {
     "name": "stderr",
     "output_type": "stream",
     "text": [
      "C:\\Users\\larin\\anaconda3\\envs\\MyEnv\\lib\\site-packages\\IPython\\lib\\latextools.py:126: MatplotlibDeprecationWarning: \n",
      "The to_png function was deprecated in Matplotlib 3.4 and will be removed two minor releases later. Use mathtext.math_to_image instead.\n",
      "  mt.to_png(f, s, fontsize=12, dpi=dpi, color=color)\n",
      "C:\\Users\\larin\\anaconda3\\envs\\MyEnv\\lib\\site-packages\\IPython\\lib\\latextools.py:126: MatplotlibDeprecationWarning: \n",
      "The to_rgba function was deprecated in Matplotlib 3.4 and will be removed two minor releases later. Use mathtext.math_to_image instead.\n",
      "  mt.to_png(f, s, fontsize=12, dpi=dpi, color=color)\n",
      "C:\\Users\\larin\\anaconda3\\envs\\MyEnv\\lib\\site-packages\\IPython\\lib\\latextools.py:126: MatplotlibDeprecationWarning: \n",
      "The to_mask function was deprecated in Matplotlib 3.4 and will be removed two minor releases later. Use mathtext.math_to_image instead.\n",
      "  mt.to_png(f, s, fontsize=12, dpi=dpi, color=color)\n",
      "C:\\Users\\larin\\anaconda3\\envs\\MyEnv\\lib\\site-packages\\IPython\\lib\\latextools.py:126: MatplotlibDeprecationWarning: \n",
      "The MathtextBackendBitmap class was deprecated in Matplotlib 3.4 and will be removed two minor releases later. Use mathtext.math_to_image instead.\n",
      "  mt.to_png(f, s, fontsize=12, dpi=dpi, color=color)\n"
     ]
    },
    {
     "data": {
      "image/png": "[encoded data removed]",
      "text/latex": [
       "$\\displaystyle \\log{\\left(x \\right)}$"
      ],
      "text/plain": [
       "log(x)"
      ]
     },
     "execution_count": 11,
     "metadata": {},
     "output_type": "execute_result"
    }
   ],
   "source": [
    "f2 = ln(x)\n",
    "f2"
   ]
  },
  {
   "cell_type": "code",
   "execution_count": 12,
   "metadata": {},
   "outputs": [
    {
     "data": {
      "image/png": "[encoded data removed]",
      "text/plain": [
       "<Figure size 432x288 with 1 Axes>"
      ]
     },
     "metadata": {
      "needs_background": "light"
     },
     "output_type": "display_data"
    },
    {
     "data": {
      "text/plain": [
       "<sympy.plotting.plot.Plot at 0x2ac6c355b20>"
      ]
     },
     "execution_count": 12,
     "metadata": {},
     "output_type": "execute_result"
    }
   ],
   "source": [
    "plot(f2)"
   ]
  },
  {
   "cell_type": "code",
   "execution_count": 13,
   "metadata": {},
   "outputs": [
    {
     "name": "stdout",
     "output_type": "stream",
     "text": [
      "False\n"
     ]
    }
   ],
   "source": [
    "print(f2.subs(x, 10) == f2.subs(x, -10))"
   ]
  },
  {
   "cell_type": "markdown",
   "metadata": {
    "id": "cIpbJ597qa7z"
   },
   "source": [
    "**(3)** В качестве примера одной квадратичной функции используйте следующую функцию:   $f(x)=2x^2+3x-5$."
   ]
  },
  {
   "cell_type": "code",
   "execution_count": 14,
   "metadata": {},
   "outputs": [
    {
     "data": {
      "image/png": "[encoded data removed]",
      "text/latex": [
       "$\\displaystyle 2 x^{2} + 3 x - 5$"
      ],
      "text/plain": [
       "   2          \n",
       "2*x  + 3*x - 5"
      ]
     },
     "execution_count": 14,
     "metadata": {},
     "output_type": "execute_result"
    }
   ],
   "source": [
    "f3 = 2*x**2 +3*x - 5\n",
    "f3"
   ]
  },
  {
   "cell_type": "code",
   "execution_count": 15,
   "metadata": {},
   "outputs": [
    {
     "data": {
      "image/png": "[encoded data removed]",
      "text/plain": [
       "<Figure size 432x288 with 1 Axes>"
      ]
     },
     "metadata": {
      "needs_background": "light"
     },
     "output_type": "display_data"
    },
    {
     "data": {
      "text/plain": [
       "<sympy.plotting.plot.Plot at 0x2ac68316c10>"
      ]
     },
     "execution_count": 15,
     "metadata": {},
     "output_type": "execute_result"
    }
   ],
   "source": [
    "plot(f3)"
   ]
  },
  {
   "cell_type": "code",
   "execution_count": 16,
   "metadata": {},
   "outputs": [
    {
     "name": "stdout",
     "output_type": "stream",
     "text": [
      "False\n"
     ]
    }
   ],
   "source": [
    "print(f3.subs(x, 10) == f3.subs(x, -10))"
   ]
  },
  {
   "cell_type": "markdown",
   "metadata": {
    "id": "gRdTqWbJqmEK"
   },
   "source": [
    "**(4)** В качестве примера другой квадратичной функции используйте следующую функцию:   $f(x)=5x^2-8$."
   ]
  },
  {
   "cell_type": "code",
   "execution_count": 17,
   "metadata": {},
   "outputs": [
    {
     "data": {
      "image/png": "[encoded data removed]",
      "text/latex": [
       "$\\displaystyle 5 x^{2} - 8$"
      ],
      "text/plain": [
       "   2    \n",
       "5*x  - 8"
      ]
     },
     "execution_count": 17,
     "metadata": {},
     "output_type": "execute_result"
    }
   ],
   "source": [
    "f4 = 5*x**2 - 8\n",
    "f4"
   ]
  },
  {
   "cell_type": "code",
   "execution_count": 18,
   "metadata": {},
   "outputs": [
    {
     "data": {
      "image/png": "[encoded data removed]",
      "text/plain": [
       "<Figure size 432x288 with 1 Axes>"
      ]
     },
     "metadata": {
      "needs_background": "light"
     },
     "output_type": "display_data"
    },
    {
     "data": {
      "text/plain": [
       "<sympy.plotting.plot.Plot at 0x2ac6dc06e20>"
      ]
     },
     "execution_count": 18,
     "metadata": {},
     "output_type": "execute_result"
    }
   ],
   "source": [
    "plot(f4)"
   ]
  },
  {
   "cell_type": "code",
   "execution_count": 21,
   "metadata": {},
   "outputs": [
    {
     "name": "stdout",
     "output_type": "stream",
     "text": [
      "True\n"
     ]
    }
   ],
   "source": [
    "print(f4.subs(x, 10) == f4.subs(x, -10))"
   ]
  },
  {
   "cell_type": "markdown",
   "metadata": {
    "id": "e0xydv-Hqte7"
   },
   "source": [
    "**(5)** В качестве функции корня используйте просто корень: $f(x)=\\sqrt(x)$."
   ]
  },
  {
   "cell_type": "code",
   "execution_count": 22,
   "metadata": {
    "id": "996Gvn0Wuer7"
   },
   "outputs": [
    {
     "data": {
      "image/png": "[encoded data removed]",
      "text/latex": [
       "$\\displaystyle \\sqrt{x}$"
      ],
      "text/plain": [
       "  ___\n",
       "\\/ x "
      ]
     },
     "execution_count": 22,
     "metadata": {},
     "output_type": "execute_result"
    }
   ],
   "source": [
    "f5 = sqrt(x)\n",
    "f5"
   ]
  },
  {
   "cell_type": "code",
   "execution_count": 23,
   "metadata": {},
   "outputs": [
    {
     "data": {
      "image/png": "[encoded data removed]",
      "text/plain": [
       "<Figure size 432x288 with 1 Axes>"
      ]
     },
     "metadata": {
      "needs_background": "light"
     },
     "output_type": "display_data"
    },
    {
     "data": {
      "text/plain": [
       "<sympy.plotting.plot.Plot at 0x2ac6dc3c2b0>"
      ]
     },
     "execution_count": 23,
     "metadata": {},
     "output_type": "execute_result"
    }
   ],
   "source": [
    "plot(f5)"
   ]
  },
  {
   "cell_type": "code",
   "execution_count": 24,
   "metadata": {},
   "outputs": [
    {
     "name": "stdout",
     "output_type": "stream",
     "text": [
      "False\n"
     ]
    }
   ],
   "source": [
    "print(f5.subs(x, 10) == f5.subs(x, -10))"
   ]
  },
  {
   "cell_type": "code",
   "execution_count": null,
   "metadata": {},
   "outputs": [],
   "source": []
  }
 ],
 "metadata": {
  "colab": {
   "collapsed_sections": [],
   "name": "practice_les-5.ipynb",
   "provenance": []
  },
  "kernelspec": {
   "display_name": "Python 3",
   "language": "python",
   "name": "python3"
  },
  "language_info": {
   "codemirror_mode": {
    "name": "ipython",
    "version": 3
   },
   "file_extension": ".py",
   "mimetype": "text/x-python",
   "name": "python",
   "nbconvert_exporter": "python",
   "pygments_lexer": "ipython3",
   "version": "3.8.8"
  }
 },
 "nbformat": 4,
 "nbformat_minor": 1
}
