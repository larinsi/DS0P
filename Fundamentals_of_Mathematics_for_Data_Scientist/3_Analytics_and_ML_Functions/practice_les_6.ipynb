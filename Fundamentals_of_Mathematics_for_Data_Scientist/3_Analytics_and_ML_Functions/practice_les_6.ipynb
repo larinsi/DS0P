{
  "nbformat": 4,
  "nbformat_minor": 0,
  "metadata": {
    "colab": {
      "name": "practice_les-6.ipynb",
      "provenance": [],
      "collapsed_sections": []
    },
    "kernelspec": {
      "name": "python3",
      "display_name": "Python 3"
    }
  },
  "cells": [
    {
      "cell_type": "markdown",
      "metadata": {
        "id": "gh5MFNIuwemF"
      },
      "source": [
        "## Практика. Дополнительный функционал SymPy для исследования функций.\n",
        "\n",
        "В качестве практики найдите нули  и промежутки знакопостоянства функций, с которыми вы работали в рамках предыдущей практики:\n",
        "1. $f(x)=e^x$\n",
        "2. $f(x)=ln(x)$\n",
        "3. $f(x)=2x^2+3x-5$\n",
        "4. $f(x)=\\sqrt x$\n",
        "<br>\n",
        "\n",
        "Проверьте, согласуются ли найденные вами значения с поведением графика.\n",
        "\n"
      ]
    },
    {
      "cell_type": "code",
      "metadata": {
        "id": "dH1cEQ2-zu_i"
      },
      "source": [
        ""
      ],
      "execution_count": null,
      "outputs": []
    }
  ]
}