{
  "nbformat": 4,
  "nbformat_minor": 0,
  "metadata": {
    "kernelspec": {
      "display_name": "Python 3",
      "language": "python",
      "name": "python3"
    },
    "language_info": {
      "codemirror_mode": {
        "name": "ipython",
        "version": 3
      },
      "file_extension": ".py",
      "mimetype": "text/x-python",
      "name": "python",
      "nbconvert_exporter": "python",
      "pygments_lexer": "ipython3",
      "version": "3.7.3"
    },
    "colab": {
      "name": " Функции нескольких переменных, их свойства и графики. Домашнее задание.ipynb",
      "provenance": []
    }
  },
  "cells": [
    {
      "cell_type": "code",
      "metadata": {
        "id": "q3J9DOECb5_2"
      },
      "source": [
        "from sympy import *\n",
        "from sympy.plotting import plot\n",
        "init_printing(use_unicode=False, wrap_line=False, no_global=True)"
      ],
      "execution_count": null,
      "outputs": []
    },
    {
      "cell_type": "code",
      "metadata": {
        "id": "jn-CkFvkb6AM"
      },
      "source": [
        "import matplotlib.pyplot as plt\n",
        "import numpy as np"
      ],
      "execution_count": null,
      "outputs": []
    },
    {
      "cell_type": "code",
      "metadata": {
        "id": "LaGJX0iLb6Ak"
      },
      "source": [
        "x = Symbol('x')"
      ],
      "execution_count": null,
      "outputs": []
    },
    {
      "cell_type": "markdown",
      "metadata": {
        "id": "WCSmBqn-b6Ay"
      },
      "source": [
        "# Задание 1.\n",
        "## 1.\n",
        "### Получите значение MSE меньшее 0.75."
      ]
    },
    {
      "cell_type": "code",
      "metadata": {
        "id": "8pE3GhS2b6A2"
      },
      "source": [
        "def print_points_ands_function1(sympy_function):\n",
        "    def function(x_): return float(sympy_function.subs(x, x_))\n",
        "    \n",
        "    points_X = np.array([-2, -1, 0, 1, 2, 3, 3.5, 4, 4.5, 5])\n",
        "    points_Y = np.array([3, 1, -0.5, 1.2, 2.5, 0.8, -2, -3.5, -3, -5])\n",
        "    plt.xlim(-10, 10)\n",
        "    plt.ylim(-5, 5)\n",
        "    \n",
        "    plt.scatter(points_X, points_Y, c='r')\n",
        "    x_range = np.linspace(plt.xlim()[0], plt.xlim()[1], num=100)\n",
        "    function_Y = [function(x_) for x_ in x_range]\n",
        "    plt.plot(x_range, function_Y, 'b')\n",
        "    plt.show()\n",
        "    \n",
        "    MSE = sum([(points_Y[i] - function(points_X[i]))**2 for i in range(len(points_Y))]) / len(points_Y)\n",
        "    print(f'MSE = {MSE}')"
      ],
      "execution_count": null,
      "outputs": []
    },
    {
      "cell_type": "code",
      "metadata": {
        "id": "q3jsbisXb6BF",
        "outputId": "4e7fcce6-4bba-42b0-d6ee-e4983bab2fda"
      },
      "source": [
        "f1 = 2 * x * sin(2 * x + 5) + 5 * sin(2 * x + 5) + 2\n",
        "f1"
      ],
      "execution_count": null,
      "outputs": [
        {
          "output_type": "execute_result",
          "data": {
            "image/png": "[encoded data removed]",
            "text/latex": "$\\displaystyle 2 x \\sin{\\left(2 x + 5 \\right)} + 5 \\sin{\\left(2 x + 5 \\right)} + 2$",
            "text/plain": [
              "2*x*sin(2*x + 5) + 5*sin(2*x + 5) + 2"
            ]
          },
          "metadata": {
            "tags": []
          },
          "execution_count": 14
        }
      ]
    },
    {
      "cell_type": "code",
      "metadata": {
        "id": "xFrevaNnb6BT",
        "outputId": "c48633f6-e0c0-43f0-b25f-06ec1f4e5e26"
      },
      "source": [
        "print_points_ands_function1(f1)"
      ],
      "execution_count": null,
      "outputs": [
        {
          "output_type": "display_data",
          "data": {
            "image/png": "[encoded data removed]",
            "text/plain": [
              "<Figure size 432x288 with 1 Axes>"
            ]
          },
          "metadata": {
            "tags": [],
            "needs_background": "light"
          }
        },
        {
          "output_type": "stream",
          "text": [
            "MSE = 90.56454338961888\n"
          ],
          "name": "stdout"
        }
      ]
    },
    {
      "cell_type": "markdown",
      "metadata": {
        "id": "zyEXM-ORb6Bi"
      },
      "source": [
        "## 2.\n",
        "### Получите значение MSE меньшее 0.1."
      ]
    },
    {
      "cell_type": "code",
      "metadata": {
        "id": "MS7lAOmRb6Bl"
      },
      "source": [
        "def print_points_ands_function2(sympy_function):\n",
        "    def function(x_): return float(sympy_function.subs(x, x_))\n",
        "    \n",
        "    points_X = np.array([0, 1, 2, 3, 3.5, 4, 4.5, 5, 6, 6.5, 7, 8, 9])\n",
        "    points_Y = np.array([0.5, 1.2, 0.7, 1.2, 1.1, 0.7, 0.65, 0.9, 0.95, 0.3, 0.8, 0.5, 0.0])\n",
        "    plt.xlim(-1, 20)\n",
        "    plt.ylim(-2, 2)\n",
        "    \n",
        "    plt.scatter(points_X, points_Y, c='r')\n",
        "    x_range = np.linspace(plt.xlim()[0] + 1, plt.xlim()[1], num=100)\n",
        "    function_Y = [function(x_) for x_ in x_range]\n",
        "    plt.plot(x_range, function_Y, 'b')\n",
        "    plt.show()\n",
        "    \n",
        "    MSE = sum([(points_Y[i] - function(points_X[i]))**2 for i in range(len(points_Y))]) / len(points_Y)\n",
        "    print(f'MSE = {MSE}')"
      ],
      "execution_count": null,
      "outputs": []
    },
    {
      "cell_type": "code",
      "metadata": {
        "id": "ER0-pvhQb6Bw",
        "outputId": "5536a221-dfd6-4429-baf3-c445709e5cf4"
      },
      "source": [
        "f2 = sin(sqrt(3) *sqrt(x)) - 1\n",
        "f2"
      ],
      "execution_count": null,
      "outputs": [
        {
          "output_type": "execute_result",
          "data": {
            "image/png": "[encoded data removed]",
            "text/latex": "$\\displaystyle \\sin{\\left(\\sqrt{3} \\sqrt{x} \\right)} - 1$",
            "text/plain": [
              "   /  ___   ___\\    \n",
              "sin\\\\/ 3 *\\/ x / - 1"
            ]
          },
          "metadata": {
            "tags": []
          },
          "execution_count": 57
        }
      ]
    },
    {
      "cell_type": "code",
      "metadata": {
        "id": "VdD2dtF8b6B3",
        "outputId": "04cf5d1e-d7bf-4753-c0ff-a67021152aa7"
      },
      "source": [
        "print_points_ands_function2(f2)"
      ],
      "execution_count": null,
      "outputs": [
        {
          "output_type": "display_data",
          "data": {
            "image/png": "[encoded data removed]",
            "text/plain": [
              "<Figure size 432x288 with 1 Axes>"
            ]
          },
          "metadata": {
            "tags": [],
            "needs_background": "light"
          }
        },
        {
          "output_type": "stream",
          "text": [
            "MSE = 4.609003555572037\n"
          ],
          "name": "stdout"
        }
      ]
    },
    {
      "cell_type": "markdown",
      "metadata": {
        "id": "SqRiUGFrcJzc"
      },
      "source": [
        "# Задание 2.\n",
        "\n",
        "Постройте графики функций 2 переменных. Найдите их нули и затем постройте графики их нулей, если они не представляют собой выражения вида {x: ...}. <br>\n",
        "а) $f(x,y)=xy^2$.\n",
        "б) $f(x,y)=y^2sin(\\pi x)$.\n",
        "в)$f(x,y)=x sin(x) sin(y)$."
      ]
    },
    {
      "cell_type": "code",
      "metadata": {
        "id": "Q2KTLMy0dBKk"
      },
      "source": [
        ""
      ],
      "execution_count": null,
      "outputs": []
    },
    {
      "cell_type": "markdown",
      "metadata": {
        "id": "P5H2CoPmdBoo"
      },
      "source": [
        "# Задание 3.\n",
        "\n",
        "\n",
        "## а)\n",
        "\n",
        "Дана функция:\n",
        "$$f(x_1,x_2,x_3,x_4)=a_4x_4+a_3x_3+a_2x_2+a_1x_1+a_0$$\n",
        "Данная функция отвечает на вопрос: “является ли текст спамом или нет?”. Если является, функция возвращает 1, если нет – 0. Переменная $x_1$ равна количеству раз, которое в тексте встретилось в одной из своих форм слово “покупать”. Переменная $x_2$ равна 1, если в тексте есть слово “скидка” и 0 в противном случае. Переменная $x_3$ равна 1, если в тексте есть слово “акция” и 0 в противном случае. $x_4$ равна длине текста в словах.\n",
        "\n",
        "### 1. Запишите функцию в виде:\n",
        "``` название функции: область определения → область значений ```\n",
        "\n",
        "**Ответ:**\n",
        "\n",
        "\n"
      ]
    },
    {
      "cell_type": "markdown",
      "metadata": {
        "id": "r85U00YOe5p8"
      },
      "source": [
        "### 2. Какую размерность будет иметь задаваемая этой функцией гиперплоскость?\n",
        "\n",
        "**Ответ:**"
      ]
    },
    {
      "cell_type": "markdown",
      "metadata": {
        "id": "f6f0d8hse9sM"
      },
      "source": [
        "## б)\n",
        "\n",
        "Дана функция:\n",
        "$$f(x_1,x_2,x_3)=a_3x_3+a_2x_2+a_1x_1+a_0$$\n",
        "Данная функция отвечает на вопрос: “с какой вероятностью клиент сделает вклад?”. Переменная $x_1$ равна количеству раз, которое клиент делал вклады ранее. Переменная $x_2$ равна сумме всех этих вкладов. Переменная $x_3$ равна 1, если у клиента есть вклад в данный момент, и 0 в противном случае.\n",
        "\n",
        "### 1. Запишите функцию в виде:\n",
        "``` название функции: область определения → область значений ```\n",
        "\n",
        "**Ответ:**\n"
      ]
    },
    {
      "cell_type": "markdown",
      "metadata": {
        "id": "KIi-XtuYfdlU"
      },
      "source": [
        "### 2. Какую размерность будет иметь задаваемая этой функцией гиперплоскость?\n",
        "\n",
        "**Ответ:**"
      ]
    },
    {
      "cell_type": "markdown",
      "metadata": {
        "id": "Gl30Eu_QffLA"
      },
      "source": [
        "## в)\n",
        "\n",
        "Дана функция:\n",
        "$$f(x_1,x_2,x_3,x_4)=a_4x_4+a_3x_3+a_2x_2+a_1x_1+a_0$$\n",
        "\n",
        "Данная функция отвечает на вопрос: “болен ли пациент гриппом?”. Переменная $x_1$ равна 1, если пациент привит от гриппа, и 0 в противном случае. Переменная $x_2$ равна температуре пациента. Переменная $x_3$ равна 1, если у пациента есть кашель, и 0 в противном случае. $x_4$ равна 1, если у пациента есть насморк, и 0 в противном случае.\n",
        "\n",
        "### 1. Запишите функцию в виде:\n",
        "``` название функции: область определения → область значений ```\n",
        "\n",
        "**Ответ:**"
      ]
    },
    {
      "cell_type": "markdown",
      "metadata": {
        "id": "-bFsmyAtf_hi"
      },
      "source": [
        "### 2. Какую размерность будет иметь задаваемая этой функцией гиперплоскость?\n",
        "\n",
        "**Ответ:**"
      ]
    }
  ]
}