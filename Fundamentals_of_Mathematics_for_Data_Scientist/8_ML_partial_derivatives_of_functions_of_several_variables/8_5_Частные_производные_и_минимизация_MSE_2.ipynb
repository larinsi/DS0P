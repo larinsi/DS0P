{
 "cells": [
  {
   "cell_type": "code",
   "execution_count": null,
   "metadata": {
    "id": "NuNRQwqGQvKT"
   },
   "outputs": [],
   "source": [
    "from sympy import *"
   ]
  },
  {
   "cell_type": "code",
   "execution_count": null,
   "metadata": {
    "id": "I07mZMS9QvKW"
   },
   "outputs": [],
   "source": [
    "a2, a1, a0 = symbols('a2, a1, a0')"
   ]
  },
  {
   "cell_type": "code",
   "execution_count": null,
   "metadata": {
    "id": "jLPA5beXQvKY"
   },
   "outputs": [],
   "source": [
    "MSEa2 = 1/3 * (28 * a2 + 5000 * a1 + 12 * a0 - 5000)\n",
    "MSEa1 = 1/3 * (5000 * a2 + 1090000 * a1 + 2400 * a0 - 1010000)\n",
    "MSEa0 = 1/3 * (12 * a2 + 2400 * a1 + 6 * a0 - 2200)"
   ]
  },
  {
   "cell_type": "code",
   "execution_count": null,
   "metadata": {
    "id": "5vgb9gWPQvKa",
    "outputId": "cb13f2dd-ea66-4d13-c6f8-25da5931eaa2"
   },
   "outputs": [
    {
     "data": {
      "text/latex": [
       "$\\displaystyle 4.0 a_{0} + 1666.66666666667 a_{1} + 9.33333333333333 a_{2} - 1666.66666666667$"
      ],
      "text/plain": [
       "4.0*a0 + 1666.66666666667*a1 + 9.33333333333333*a2 - 1666.66666666667"
      ]
     },
     "execution_count": 9,
     "metadata": {
      "tags": []
     },
     "output_type": "execute_result"
    }
   ],
   "source": [
    "MSEa2"
   ]
  },
  {
   "cell_type": "code",
   "execution_count": null,
   "metadata": {
    "id": "Dzr1nyJwQvKd",
    "outputId": "90c5b4a1-211a-4197-da87-f3c8deff690d"
   },
   "outputs": [
    {
     "data": {
      "text/latex": [
       "$\\displaystyle 800.0 a_{0} + 363333.333333333 a_{1} + 1666.66666666667 a_{2} - 336666.666666667$"
      ],
      "text/plain": [
       "800.0*a0 + 363333.333333333*a1 + 1666.66666666667*a2 - 336666.666666667"
      ]
     },
     "execution_count": 5,
     "metadata": {
      "tags": []
     },
     "output_type": "execute_result"
    }
   ],
   "source": [
    "MSEa1"
   ]
  },
  {
   "cell_type": "code",
   "execution_count": null,
   "metadata": {
    "id": "F59QThxKQvKg",
    "outputId": "8b9f8a12-0d8c-4915-9063-991cd0438e7b"
   },
   "outputs": [
    {
     "data": {
      "text/latex": [
       "$\\displaystyle 2.0 a_{0} + 800.0 a_{1} + 4.0 a_{2} - 733.333333333333$"
      ],
      "text/plain": [
       "2.0*a0 + 800.0*a1 + 4.0*a2 - 733.333333333333"
      ]
     },
     "execution_count": 6,
     "metadata": {
      "tags": []
     },
     "output_type": "execute_result"
    }
   ],
   "source": [
    "MSEa0"
   ]
  },
  {
   "cell_type": "code",
   "execution_count": null,
   "metadata": {
    "id": "wnpLBVmhQvKi",
    "outputId": "a375f409-06ca-43ef-9e93-43e0810386b4"
   },
   "outputs": [
    {
     "data": {
      "text/latex": [
       "$\\displaystyle \\left\\{\\left( 108.333333333333, \\  0.833333333333333, \\  -183.333333333334\\right)\\right\\}$"
      ],
      "text/plain": [
       "{(108.333333333333, 0.833333333333333, -183.333333333334)}"
      ]
     },
     "execution_count": 10,
     "metadata": {
      "tags": []
     },
     "output_type": "execute_result"
    }
   ],
   "source": [
    "nonlinsolve([MSEa2, MSEa1, MSEa0], [a2, a1, a0])"
   ]
  },
  {
   "cell_type": "code",
   "execution_count": null,
   "metadata": {
    "id": "jemTloufQvKl",
    "outputId": "6671a860-9cdd-4c26-84dc-fc2c5be5c8ae"
   },
   "outputs": [
    {
     "data": {
      "text/latex": [
       "$\\displaystyle 0.333333333333333 \\left(a_{0} + 200 a_{1} + 2 a_{2} - 200\\right)^{2} + 0.333333333333333 \\left(a_{0} + 450 a_{1} + a_{2} - 300\\right)^{2} + 0.333333333333333 \\left(a_{0} + 550 a_{1} + 3 a_{2} - 600\\right)^{2}$"
      ],
      "text/plain": [
       "0.333333333333333*(a0 + 200*a1 + 2*a2 - 200)**2 + 0.333333333333333*(a0 + 450*a1 + a2 - 300)**2 + 0.333333333333333*(a0 + 550*a1 + 3*a2 - 600)**2"
      ]
     },
     "execution_count": 11,
     "metadata": {
      "tags": []
     },
     "output_type": "execute_result"
    }
   ],
   "source": [
    "MSE = 1/3 * (((a2 * 2 + a1 * 200 + a0) - 200)**2 + \\\n",
    "             ((a2 * 1 + a1 * 450 + a0) - 300)**2 + \\\n",
    "             ((a2 * 3 + a1 * 550 + a0) - 600)**2)\n",
    "MSE"
   ]
  },
  {
   "cell_type": "code",
   "execution_count": null,
   "metadata": {
    "id": "rg_M4mDVQvKn",
    "outputId": "dd7f14f5-a2e9-4069-d977-5b3822454e8f"
   },
   "outputs": [
    {
     "data": {
      "text/latex": [
       "$\\displaystyle 219074.074074074$"
      ],
      "text/plain": [
       "219074.074074074"
      ]
     },
     "execution_count": 13,
     "metadata": {
      "tags": []
     },
     "output_type": "execute_result"
    }
   ],
   "source": [
    "MSE.subs({a2: -108.333333333333, a1: 0.833333333333333, a0: -183.333333333334})"
   ]
  },
  {
   "cell_type": "code",
   "execution_count": null,
   "metadata": {
    "id": "lpcKTk3zQvKp"
   },
   "outputs": [],
   "source": [
    "x2, x1 = symbols('x2, x1')"
   ]
  },
  {
   "cell_type": "code",
   "execution_count": null,
   "metadata": {
    "id": "YEmkdOs4QvKr",
    "outputId": "9031cfb8-5dd8-4f34-8654-b54393f72b74"
   },
   "outputs": [
    {
     "data": {
      "text/latex": [
       "$\\displaystyle 0.833333333333333 x_{1} + 108.333333333333 x_{2} - 183.333333333333$"
      ],
      "text/plain": [
       "0.833333333333333*x1 + 108.333333333333*x2 - 183.333333333333"
      ]
     },
     "execution_count": 20,
     "metadata": {
      "tags": []
     },
     "output_type": "execute_result"
    }
   ],
   "source": [
    "f = 325 / 3 * x2 + 2.5 / 3 * x1 - 550 / 3 \n",
    "f"
   ]
  },
  {
   "cell_type": "code",
   "execution_count": null,
   "metadata": {
    "id": "Z31JxEzUQvKt",
    "outputId": "ac6f9146-8d00-41bc-a338-1bdc3fbf3929"
   },
   "outputs": [
    {
     "data": {
      "text/latex": [
       "$\\displaystyle 666.666666666667$"
      ],
      "text/plain": [
       "666.666666666667"
      ]
     },
     "execution_count": 21,
     "metadata": {
      "tags": []
     },
     "output_type": "execute_result"
    }
   ],
   "source": [
    "f.subs({'x1': 500, 'x2': 4})"
   ]
  },
  {
   "cell_type": "code",
   "execution_count": null,
   "metadata": {
    "id": "YL4NqTqXQvKv"
   },
   "outputs": [],
   "source": []
  }
 ],
 "metadata": {
  "colab": {
   "name": "8.5 Частные производные и минимизация MSE.ipynb",
   "provenance": []
  },
  "kernelspec": {
   "display_name": "Python 3",
   "language": "python",
   "name": "python3"
  },
  "language_info": {
   "codemirror_mode": {
    "name": "ipython",
    "version": 3
   },
   "file_extension": ".py",
   "mimetype": "text/x-python",
   "name": "python",
   "nbconvert_exporter": "python",
   "pygments_lexer": "ipython3",
   "version": "3.8.8"
  }
 },
 "nbformat": 4,
 "nbformat_minor": 1
}
