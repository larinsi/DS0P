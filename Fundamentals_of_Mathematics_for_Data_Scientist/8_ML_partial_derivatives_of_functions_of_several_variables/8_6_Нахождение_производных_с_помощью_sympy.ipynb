{
  "nbformat": 4,
  "nbformat_minor": 0,
  "metadata": {
    "kernelspec": {
      "display_name": "Python 3",
      "language": "python",
      "name": "python3"
    },
    "language_info": {
      "codemirror_mode": {
        "name": "ipython",
        "version": 3
      },
      "file_extension": ".py",
      "mimetype": "text/x-python",
      "name": "python",
      "nbconvert_exporter": "python",
      "pygments_lexer": "ipython3",
      "version": "3.7.3"
    },
    "colab": {
      "name": "8.6 Нахождение производных с помощью sympy.ipynb",
      "provenance": []
    }
  },
  "cells": [
    {
      "cell_type": "code",
      "metadata": {
        "id": "5ZFl33wuQelS"
      },
      "source": [
        "from sympy import *"
      ],
      "execution_count": null,
      "outputs": []
    },
    {
      "cell_type": "code",
      "metadata": {
        "id": "nHjvcendQelZ"
      },
      "source": [
        "x = Symbol('x')"
      ],
      "execution_count": null,
      "outputs": []
    },
    {
      "cell_type": "code",
      "metadata": {
        "id": "INcuPY52Qele",
        "colab": {
          "base_uri": "https://localhost:8080/",
          "height": 34
        },
        "outputId": "08c01d45-86f1-4180-bf3b-57efa34926ac"
      },
      "source": [
        "th = (exp(x) - exp(-x)) / (exp(x) + exp(-x))\n",
        "th"
      ],
      "execution_count": null,
      "outputs": [
        {
          "output_type": "execute_result",
          "data": {
            "text/plain": [
              "(exp(x) - exp(-x))/(exp(x) + exp(-x))"
            ]
          },
          "metadata": {
            "tags": []
          },
          "execution_count": 6
        }
      ]
    },
    {
      "cell_type": "code",
      "metadata": {
        "id": "dEUCC4z2Qelj",
        "colab": {
          "base_uri": "https://localhost:8080/",
          "height": 34
        },
        "outputId": "a78347e5-f600-436c-8fc1-2bb6deb59661"
      },
      "source": [
        "diff(th)"
      ],
      "execution_count": null,
      "outputs": [
        {
          "output_type": "execute_result",
          "data": {
            "text/plain": [
              "(-exp(x) + exp(-x))*(exp(x) - exp(-x))/(exp(x) + exp(-x))**2 + 1"
            ]
          },
          "metadata": {
            "tags": []
          },
          "execution_count": 7
        }
      ]
    },
    {
      "cell_type": "code",
      "metadata": {
        "id": "GrPbP-ucQelo",
        "colab": {
          "base_uri": "https://localhost:8080/",
          "height": 34
        },
        "outputId": "8e254226-5f97-43bc-ae5a-75567962aff3"
      },
      "source": [
        "tanh(x)"
      ],
      "execution_count": null,
      "outputs": [
        {
          "output_type": "execute_result",
          "data": {
            "text/plain": [
              "tanh(x)"
            ]
          },
          "metadata": {
            "tags": []
          },
          "execution_count": 8
        }
      ]
    },
    {
      "cell_type": "code",
      "metadata": {
        "id": "xm3dSGC6Qelt",
        "colab": {
          "base_uri": "https://localhost:8080/",
          "height": 34
        },
        "outputId": "29169e15-cc4b-44a1-a046-6a119f0c88a8"
      },
      "source": [
        "diff(tanh(x))"
      ],
      "execution_count": null,
      "outputs": [
        {
          "output_type": "execute_result",
          "data": {
            "text/plain": [
              "-tanh(x)**2 + 1"
            ]
          },
          "metadata": {
            "tags": []
          },
          "execution_count": 9
        }
      ]
    },
    {
      "cell_type": "code",
      "metadata": {
        "id": "6qUku1JTQelx"
      },
      "source": [
        "a2, a1, a0 = symbols('a2, a1, a0')"
      ],
      "execution_count": null,
      "outputs": []
    },
    {
      "cell_type": "code",
      "metadata": {
        "id": "xnB7cAiLQel2",
        "outputId": "549c2116-cc8d-4510-e762-804346d67802"
      },
      "source": [
        "MSE = 1/3 * (((a2 * 2 + a1 * 200 + a0) - 200)**2 + \\\n",
        "             ((a2 * 1 + a1 * 450 + a0) - 300)**2 + \\\n",
        "             ((a2 * 3 + a1 * 550 + a0) - 600)**2)\n",
        "MSE"
      ],
      "execution_count": null,
      "outputs": [
        {
          "output_type": "execute_result",
          "data": {
            "text/latex": "$\\displaystyle 0.333333333333333 \\left(a_{0} + 200 a_{1} + 2 a_{2} - 200\\right)^{2} + 0.333333333333333 \\left(a_{0} + 450 a_{1} + a_{2} - 300\\right)^{2} + 0.333333333333333 \\left(a_{0} + 550 a_{1} + 3 a_{2} - 600\\right)^{2}$",
            "text/plain": [
              "0.333333333333333*(a0 + 200*a1 + 2*a2 - 200)**2 + 0.333333333333333*(a0 + 450*a1 + a2 - 300)**2 + 0.333333333333333*(a0 + 550*a1 + 3*a2 - 600)**2"
            ]
          },
          "metadata": {
            "tags": []
          },
          "execution_count": 19
        }
      ]
    },
    {
      "cell_type": "code",
      "metadata": {
        "id": "5_2OMlHWQel6"
      },
      "source": [
        "MSEa2 = 1/3 * (28 * a2 + 5000 * a1 + 12 * a0 - 5000)\n",
        "MSEa1 = 1/3 * (5000 * a2 + 1090000 * a1 + 2400 * a0 - 1010000)\n",
        "MSEa0 = 1/3 * (12 * a2 + 2400 * a1 + 6 * a0 - 2200)"
      ],
      "execution_count": null,
      "outputs": []
    },
    {
      "cell_type": "code",
      "metadata": {
        "id": "2coBoLUKQel8",
        "outputId": "24a694b1-0b97-49d8-bf21-5d234c2b5365"
      },
      "source": [
        "diff(MSE, a2)"
      ],
      "execution_count": null,
      "outputs": [
        {
          "output_type": "execute_result",
          "data": {
            "text/latex": "$\\displaystyle 4.0 a_{0} + 1666.66666666667 a_{1} + 9.33333333333333 a_{2} - 1666.66666666667$",
            "text/plain": [
              "4.0*a0 + 1666.66666666667*a1 + 9.33333333333333*a2 - 1666.66666666667"
            ]
          },
          "metadata": {
            "tags": []
          },
          "execution_count": 26
        }
      ]
    },
    {
      "cell_type": "code",
      "metadata": {
        "id": "OOFszVy2Qel_",
        "outputId": "cd37d904-f92e-405c-8384-3cc4e9c5439d"
      },
      "source": [
        "MSEa2"
      ],
      "execution_count": null,
      "outputs": [
        {
          "output_type": "execute_result",
          "data": {
            "text/latex": "$\\displaystyle 4.0 a_{0} + 1666.66666666667 a_{1} + 9.33333333333333 a_{2} - 1666.66666666667$",
            "text/plain": [
              "4.0*a0 + 1666.66666666667*a1 + 9.33333333333333*a2 - 1666.66666666667"
            ]
          },
          "metadata": {
            "tags": []
          },
          "execution_count": 24
        }
      ]
    },
    {
      "cell_type": "code",
      "metadata": {
        "id": "IaW-jePzQemC",
        "outputId": "b164abc7-c898-406c-89e3-53f5fb42f0ee"
      },
      "source": [
        "diff(MSE, a1)"
      ],
      "execution_count": null,
      "outputs": [
        {
          "output_type": "execute_result",
          "data": {
            "text/latex": "$\\displaystyle 800.0 a_{0} + 363333.333333333 a_{1} + 1666.66666666667 a_{2} - 336666.666666667$",
            "text/plain": [
              "800.0*a0 + 363333.333333333*a1 + 1666.66666666667*a2 - 336666.666666667"
            ]
          },
          "metadata": {
            "tags": []
          },
          "execution_count": 28
        }
      ]
    },
    {
      "cell_type": "code",
      "metadata": {
        "id": "H_n_LHg_QemE",
        "outputId": "e06074d3-15b1-4a29-983e-129d530242b9"
      },
      "source": [
        "MSEa1"
      ],
      "execution_count": null,
      "outputs": [
        {
          "output_type": "execute_result",
          "data": {
            "text/latex": "$\\displaystyle 800.0 a_{0} + 363333.333333333 a_{1} + 1666.66666666667 a_{2} - 336666.666666667$",
            "text/plain": [
              "800.0*a0 + 363333.333333333*a1 + 1666.66666666667*a2 - 336666.666666667"
            ]
          },
          "metadata": {
            "tags": []
          },
          "execution_count": 29
        }
      ]
    }
  ]
}