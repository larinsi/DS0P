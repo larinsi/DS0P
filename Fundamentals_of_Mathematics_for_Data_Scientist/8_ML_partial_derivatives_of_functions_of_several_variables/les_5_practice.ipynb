{
 "cells": [
  {
   "cell_type": "code",
   "execution_count": 1,
   "id": "3c072c06",
   "metadata": {},
   "outputs": [],
   "source": [
    "from sympy import *"
   ]
  },
  {
   "cell_type": "code",
   "execution_count": 2,
   "id": "f9027873",
   "metadata": {},
   "outputs": [],
   "source": [
    "x2, x1, a2, a1, a0 = symbols('x2, x1, a2, a1, a0')"
   ]
  },
  {
   "cell_type": "code",
   "execution_count": 3,
   "id": "990b3d30",
   "metadata": {},
   "outputs": [],
   "source": [
    "MSEa2 = 1/3 * (1147112*a2 + 6728*a1 +2332*a0 - 922600)\n",
    "MSEa1 = 1/3 * (6728*a2 + 42*a1 +14*a0 - 5000)\n",
    "MSEa0 = 1/3 * (2332*a2 + 14*a1 +6*a0 - 2400)"
   ]
  },
  {
   "cell_type": "code",
   "execution_count": 4,
   "id": "5eddc680",
   "metadata": {},
   "outputs": [
    {
     "data": {
      "text/latex": [
       "$\\displaystyle \\left\\{\\left( 1.14438763087412, \\  -222.047723399075, \\  473.326028731434\\right)\\right\\}$"
      ],
      "text/plain": [
       "FiniteSet((1.14438763087412, -222.047723399075, 473.326028731434))"
      ]
     },
     "execution_count": 4,
     "metadata": {},
     "output_type": "execute_result"
    }
   ],
   "source": [
    "nonlinsolve([MSEa2, MSEa1, MSEa0], [a2, a1, a0])"
   ]
  },
  {
   "cell_type": "code",
   "execution_count": 5,
   "id": "34f0c650",
   "metadata": {},
   "outputs": [
    {
     "data": {
      "text/latex": [
       "$\\displaystyle - 222.047723399075 x_{1} + 1.14438763087412 x_{2} + 473.326028731434$"
      ],
      "text/plain": [
       "-222.047723399075*x1 + 1.14438763087412*x2 + 473.326028731434"
      ]
     },
     "execution_count": 5,
     "metadata": {},
     "output_type": "execute_result"
    }
   ],
   "source": [
    "f = 1.14438763087412*x2 - 222.047723399075*x1 + 473.326028731434\n",
    "f"
   ]
  },
  {
   "cell_type": "code",
   "execution_count": 6,
   "id": "f0c89d9c",
   "metadata": {},
   "outputs": [
    {
     "data": {
      "text/latex": [
       "$\\displaystyle 347.297297297298$"
      ],
      "text/plain": [
       "347.297297297298"
      ]
     },
     "execution_count": 6,
     "metadata": {},
     "output_type": "execute_result"
    }
   ],
   "source": [
    "f.subs({x2 : 666, x1 : 4})"
   ]
  },
  {
   "cell_type": "code",
   "execution_count": 7,
   "id": "db2f2dee",
   "metadata": {},
   "outputs": [
    {
     "data": {
      "text/latex": [
       "$\\displaystyle 0.333333333333333 \\left(a_{0} + a_{1} + 300 a_{2} - 450\\right)^{2} + 0.333333333333333 \\left(a_{0} + 2 a_{1} + 200 a_{2} - 200\\right)^{2} + 0.333333333333333 \\left(a_{0} + 4 a_{1} + 666 a_{2} - 550\\right)^{2}$"
      ],
      "text/plain": [
       "0.333333333333333*(a0 + a1 + 300*a2 - 450)**2 + 0.333333333333333*(a0 + 2*a1 + 200*a2 - 200)**2 + 0.333333333333333*(a0 + 4*a1 + 666*a2 - 550)**2"
      ]
     },
     "execution_count": 7,
     "metadata": {},
     "output_type": "execute_result"
    }
   ],
   "source": [
    "MSE = 1/3 * ((200*a2 + 2*a1 + a0 - 200)**2 + \\\n",
    "             (300*a2 + 1*a1 + a0 - 450)**2 + \\\n",
    "             (666*a2 + 4*a1 + a0 - 550)**2)\n",
    "MSE"
   ]
  },
  {
   "cell_type": "code",
   "execution_count": 17,
   "id": "b32659d6",
   "metadata": {},
   "outputs": [
    {
     "data": {
      "text/latex": [
       "$\\displaystyle 2332.0 a_{0} + 6728.0 a_{1} + 1147112.0 a_{2} - 1082600.0$"
      ],
      "text/plain": [
       "2332.0*a0 + 6728.0*a1 + 1147112.0*a2 - 1082600.0"
      ]
     },
     "execution_count": 17,
     "metadata": {},
     "output_type": "execute_result"
    }
   ],
   "source": [
    "diff(MSE, a2)"
   ]
  },
  {
   "cell_type": "code",
   "execution_count": 9,
   "id": "ea5aab6a",
   "metadata": {},
   "outputs": [
    {
     "data": {
      "text/latex": [
       "$\\displaystyle 777.333333333333 a_{0} + 2242.66666666667 a_{1} + 382370.666666667 a_{2} - 307533.333333333$"
      ],
      "text/plain": [
       "777.333333333333*a0 + 2242.66666666667*a1 + 382370.666666667*a2 - 307533.333333333"
      ]
     },
     "execution_count": 9,
     "metadata": {},
     "output_type": "execute_result"
    }
   ],
   "source": [
    "MSEa2"
   ]
  },
  {
   "cell_type": "code",
   "execution_count": 10,
   "id": "49f20bf9",
   "metadata": {},
   "outputs": [
    {
     "data": {
      "text/latex": [
       "$\\displaystyle 4.66666666666667 a_{0} + 14.0 a_{1} + 2242.66666666667 a_{2} - 2033.33333333333$"
      ],
      "text/plain": [
       "4.66666666666667*a0 + 14.0*a1 + 2242.66666666667*a2 - 2033.33333333333"
      ]
     },
     "execution_count": 10,
     "metadata": {},
     "output_type": "execute_result"
    }
   ],
   "source": [
    "diff(MSE, a1)"
   ]
  },
  {
   "cell_type": "code",
   "execution_count": 11,
   "id": "8b344d35",
   "metadata": {},
   "outputs": [
    {
     "data": {
      "text/latex": [
       "$\\displaystyle 4.66666666666667 a_{0} + 14.0 a_{1} + 2242.66666666667 a_{2} - 1666.66666666667$"
      ],
      "text/plain": [
       "4.66666666666667*a0 + 14.0*a1 + 2242.66666666667*a2 - 1666.66666666667"
      ]
     },
     "execution_count": 11,
     "metadata": {},
     "output_type": "execute_result"
    }
   ],
   "source": [
    "MSEa1"
   ]
  },
  {
   "cell_type": "code",
   "execution_count": 12,
   "id": "3ebca197",
   "metadata": {},
   "outputs": [
    {
     "data": {
      "text/latex": [
       "$\\displaystyle 2.0 a_{0} + 4.66666666666667 a_{1} + 777.333333333333 a_{2} - 800.0$"
      ],
      "text/plain": [
       "2.0*a0 + 4.66666666666667*a1 + 777.333333333333*a2 - 800.0"
      ]
     },
     "execution_count": 12,
     "metadata": {},
     "output_type": "execute_result"
    }
   ],
   "source": [
    "diff(MSE, a0)"
   ]
  },
  {
   "cell_type": "code",
   "execution_count": 13,
   "id": "3db21e5c",
   "metadata": {},
   "outputs": [
    {
     "data": {
      "text/latex": [
       "$\\displaystyle 2.0 a_{0} + 4.66666666666667 a_{1} + 777.333333333333 a_{2} - 800.0$"
      ],
      "text/plain": [
       "2.0*a0 + 4.66666666666667*a1 + 777.333333333333*a2 - 800.0"
      ]
     },
     "execution_count": 13,
     "metadata": {},
     "output_type": "execute_result"
    }
   ],
   "source": [
    "MSEa0"
   ]
  },
  {
   "cell_type": "code",
   "execution_count": 14,
   "id": "b3abb8ee",
   "metadata": {},
   "outputs": [
    {
     "data": {
      "text/latex": [
       "$\\displaystyle \\left\\{\\left( 1.27627627627628, \\  -122.372372372373, \\  189.48948948949\\right)\\right\\}$"
      ],
      "text/plain": [
       "FiniteSet((1.27627627627628, -122.372372372373, 189.48948948949))"
      ]
     },
     "execution_count": 14,
     "metadata": {},
     "output_type": "execute_result"
    }
   ],
   "source": [
    "nonlinsolve([diff(MSE, a2), diff(MSE, a1), diff(MSE, a0)], [a2, a1, a0])"
   ]
  },
  {
   "cell_type": "code",
   "execution_count": 15,
   "id": "411199c3",
   "metadata": {},
   "outputs": [
    {
     "data": {
      "text/latex": [
       "$\\displaystyle 550.000000000001$"
      ],
      "text/plain": [
       "550.000000000001"
      ]
     },
     "execution_count": 15,
     "metadata": {},
     "output_type": "execute_result"
    }
   ],
   "source": [
    "f = 1.27627627627628*x2 - 122.372372372373*x1 + 189.48948948949\n",
    "f.subs({x2 : 666, x1 : 4})"
   ]
  },
  {
   "cell_type": "code",
   "execution_count": null,
   "id": "573efb4c",
   "metadata": {},
   "outputs": [],
   "source": []
  }
 ],
 "metadata": {
  "kernelspec": {
   "display_name": "Python 3",
   "language": "python",
   "name": "python3"
  },
  "language_info": {
   "codemirror_mode": {
    "name": "ipython",
    "version": 3
   },
   "file_extension": ".py",
   "mimetype": "text/x-python",
   "name": "python",
   "nbconvert_exporter": "python",
   "pygments_lexer": "ipython3",
   "version": "3.8.8"
  }
 },
 "nbformat": 4,
 "nbformat_minor": 5
}
