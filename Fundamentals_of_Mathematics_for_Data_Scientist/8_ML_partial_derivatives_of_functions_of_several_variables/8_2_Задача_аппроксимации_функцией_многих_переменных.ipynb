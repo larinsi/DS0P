{
  "nbformat": 4,
  "nbformat_minor": 0,
  "metadata": {
    "kernelspec": {
      "display_name": "Python 3",
      "language": "python",
      "name": "python3"
    },
    "language_info": {
      "codemirror_mode": {
        "name": "ipython",
        "version": 3
      },
      "file_extension": ".py",
      "mimetype": "text/x-python",
      "name": "python",
      "nbconvert_exporter": "python",
      "pygments_lexer": "ipython3",
      "version": "3.7.3"
    },
    "colab": {
      "name": "8.2 Задача аппроксимации функцией многих переменных.ipynb",
      "provenance": []
    }
  },
  "cells": [
    {
      "cell_type": "code",
      "metadata": {
        "id": "wEP34qLTbF7d"
      },
      "source": [
        "from sympy import *\n",
        "from sympy.plotting import plot3d\n",
        "init_printing(use_unicode=False, wrap_line=False, no_global=True)"
      ],
      "execution_count": null,
      "outputs": []
    },
    {
      "cell_type": "code",
      "metadata": {
        "id": "9enxQ0AebF7g"
      },
      "source": [
        "a2, a1, a0 = symbols('a2, a1, a0')"
      ],
      "execution_count": null,
      "outputs": []
    },
    {
      "cell_type": "code",
      "metadata": {
        "id": "n2YCBm8zbF7j",
        "outputId": "260e5cb6-ad30-42db-97e2-b85f1b49866c"
      },
      "source": [
        "MSE = 1/3 * (((a2 * 2 + a1 * 200 + a0) - 200)**2 + \\\n",
        "             ((a2 * 1 + a1 * 450 + a0) - 300)**2 + \\\n",
        "             ((a2 * 3 + a1 * 550 + a0) - 600)**2)\n",
        "MSE"
      ],
      "execution_count": null,
      "outputs": [
        {
          "output_type": "execute_result",
          "data": {
            "image/png": "[encoded data removed]",
            "text/latex": "$\\displaystyle 0.333333333333333 \\left(a_{0} + 200 a_{1} + 2 a_{2} - 200\\right)^{2} + 0.333333333333333 \\left(a_{0} + 450 a_{1} + a_{2} - 300\\right)^{2} + 0.333333333333333 \\left(a_{0} + 550 a_{1} + 3 a_{2} - 600\\right)^{2}$",
            "text/plain": [
              "                                            2                                             2                                               2\n",
              "0.333333333333333*(a0 + 200*a1 + 2*a2 - 200)  + 0.333333333333333*(a0 + 450*a1 + a2 - 300)  + 0.333333333333333*(a0 + 550*a1 + 3*a2 - 600) "
            ]
          },
          "metadata": {
            "tags": []
          },
          "execution_count": 48
        }
      ]
    },
    {
      "cell_type": "code",
      "metadata": {
        "id": "PK4M0YXLbF7m",
        "outputId": "d2f24a01-f3fb-4d5e-c679-a38d26a82f5f"
      },
      "source": [
        "{a2: 1, a1: 2, a0: 3}"
      ],
      "execution_count": null,
      "outputs": [
        {
          "output_type": "execute_result",
          "data": {
            "image/png": "[encoded data removed]",
            "text/latex": "$\\displaystyle \\left\\{ a_{0} : 3, \\  a_{1} : 2, \\  a_{2} : 1\\right\\}$",
            "text/plain": [
              "{a0: 3, a1: 2, a2: 1}"
            ]
          },
          "metadata": {
            "tags": []
          },
          "execution_count": 49
        }
      ]
    },
    {
      "cell_type": "code",
      "metadata": {
        "id": "WR3AT30SbF7o"
      },
      "source": [
        "# f1 = 100 * x2 - 1 * x1 - 100\n",
        "# f2 = 200 * x2 + 3 * x1 + 20"
      ],
      "execution_count": null,
      "outputs": []
    },
    {
      "cell_type": "code",
      "metadata": {
        "id": "G-gOpvaNbF7r",
        "outputId": "a953c8b7-629d-4599-9126-15e7d5ec9d94"
      },
      "source": [
        "MSE.subs({a2: 100, a1: -1, a0: -100})"
      ],
      "execution_count": null,
      "outputs": [
        {
          "output_type": "execute_result",
          "data": {
            "image/png": "[encoded data removed]",
            "text/latex": "$\\displaystyle 518333.333333333$",
            "text/plain": [
              "518333.333333333"
            ]
          },
          "metadata": {
            "tags": []
          },
          "execution_count": 51
        }
      ]
    },
    {
      "cell_type": "code",
      "metadata": {
        "id": "RR_ty5_YbF7t",
        "outputId": "1e047512-6935-48dc-e812-c3131f62cd44"
      },
      "source": [
        "MSE.subs({a2: 200, a1: 3, a0: 20})"
      ],
      "execution_count": null,
      "outputs": [
        {
          "output_type": "execute_result",
          "data": {
            "image/png": "[encoded data removed]",
            "text/latex": "$\\displaystyle 1691400.0$",
            "text/plain": [
              "1691400.00000000"
            ]
          },
          "metadata": {
            "tags": []
          },
          "execution_count": 52
        }
      ]
    }
  ]
}