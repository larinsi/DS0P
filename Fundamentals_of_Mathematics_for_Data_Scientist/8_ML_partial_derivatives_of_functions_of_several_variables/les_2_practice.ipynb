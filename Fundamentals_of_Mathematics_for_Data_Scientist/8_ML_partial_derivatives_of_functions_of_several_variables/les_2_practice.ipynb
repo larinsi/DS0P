{
 "cells": [
  {
   "cell_type": "code",
   "execution_count": 1,
   "id": "f2e65f80",
   "metadata": {},
   "outputs": [],
   "source": [
    "from sympy import *"
   ]
  },
  {
   "cell_type": "code",
   "execution_count": 2,
   "id": "36268539",
   "metadata": {},
   "outputs": [],
   "source": [
    "a2, a1, a0 = symbols('a2, a1, a0')"
   ]
  },
  {
   "cell_type": "code",
   "execution_count": 3,
   "id": "ddc5dfdc",
   "metadata": {},
   "outputs": [
    {
     "data": {
      "text/latex": [
       "$\\displaystyle 0.333333333333333 \\left(a_{0} + 15 a_{1} - 5 a_{2} - 20\\right)^{2} + 0.333333333333333 \\left(a_{0} + 30 a_{1} + 10 a_{2} - 7\\right)^{2} + 0.333333333333333 \\left(a_{0} + 31 a_{1} + 16 a_{2} + 4\\right)^{2}$"
      ],
      "text/plain": [
       "0.333333333333333*(a0 + 15*a1 - 5*a2 - 20)**2 + 0.333333333333333*(a0 + 30*a1 + 10*a2 - 7)**2 + 0.333333333333333*(a0 + 31*a1 + 16*a2 + 4)**2"
      ]
     },
     "execution_count": 3,
     "metadata": {},
     "output_type": "execute_result"
    }
   ],
   "source": [
    "MSE = 1/3 * (((a2 * 10 + a1 * 30 + a0) - 7)**2 + ((a2 * (-5) + a1 * 15 + a0) - 20)**2 + ((a2 * 16 + a1 * 31 + a0) + 4)**2)\n",
    "MSE"
   ]
  },
  {
   "cell_type": "markdown",
   "id": "37040a19",
   "metadata": {},
   "source": [
    "$f_1=-2x_2+x_1-7$, $f_2=20x_2+3x_1-4$"
   ]
  },
  {
   "cell_type": "code",
   "execution_count": 5,
   "id": "f7101a3e",
   "metadata": {},
   "outputs": [
    {
     "data": {
      "text/latex": [
       "$\\displaystyle 12.0$"
      ],
      "text/plain": [
       "12.0000000000000"
      ]
     },
     "execution_count": 5,
     "metadata": {},
     "output_type": "execute_result"
    }
   ],
   "source": [
    "#f1\n",
    "MSE.subs({a2: -2, a1: 1, a0: -7})"
   ]
  },
  {
   "cell_type": "code",
   "execution_count": 6,
   "id": "b29029fb",
   "metadata": {},
   "outputs": [
    {
     "data": {
      "text/latex": [
       "$\\displaystyle 84883.6666666667$"
      ],
      "text/plain": [
       "84883.6666666667"
      ]
     },
     "execution_count": 6,
     "metadata": {},
     "output_type": "execute_result"
    }
   ],
   "source": [
    "#f2\n",
    "MSE.subs({a2: 20, a1: 3, a0: -4})"
   ]
  },
  {
   "cell_type": "markdown",
   "id": "0e5629d9",
   "metadata": {},
   "source": [
    "Первая функция лучше, т.к. имеет меньшую среднеквадратичную ошибку."
   ]
  },
  {
   "cell_type": "code",
   "execution_count": 7,
   "id": "2d1c6adb",
   "metadata": {},
   "outputs": [
    {
     "data": {
      "text/latex": [
       "$\\displaystyle 0.333333333333333 \\left(a_{0} + 17 a_{1} + 16 a_{2} - 13\\right)^{2} + 0.333333333333333 \\left(a_{0} + 28 a_{1} - 3 a_{2} - 42\\right)^{2} + 0.333333333333333 \\left(a_{0} + 85 a_{1} + 14 a_{2} + 39\\right)^{2}$"
      ],
      "text/plain": [
       "0.333333333333333*(a0 + 17*a1 + 16*a2 - 13)**2 + 0.333333333333333*(a0 + 28*a1 - 3*a2 - 42)**2 + 0.333333333333333*(a0 + 85*a1 + 14*a2 + 39)**2"
      ]
     },
     "execution_count": 7,
     "metadata": {},
     "output_type": "execute_result"
    }
   ],
   "source": [
    "MSE = 1/3 * (((a2 * 16 + a1 * 17 + a0) - 13)**2 + ((a2 * (-3) + a1 * 28 + a0) - 42)**2 + ((a2 * 14 + a1 * 85 + a0) + 39)**2)\n",
    "MSE"
   ]
  },
  {
   "cell_type": "markdown",
   "id": "6cba9753",
   "metadata": {},
   "source": [
    "$f_1=-2x_2-x_1+60$, $f_2=2x_2+17x_1-9$"
   ]
  },
  {
   "cell_type": "code",
   "execution_count": 8,
   "id": "b90da02e",
   "metadata": {},
   "outputs": [
    {
     "data": {
      "text/latex": [
       "$\\displaystyle 72.0$"
      ],
      "text/plain": [
       "72.0000000000000"
      ]
     },
     "execution_count": 8,
     "metadata": {},
     "output_type": "execute_result"
    }
   ],
   "source": [
    "#f1\n",
    "MSE.subs({a2: -2, a1: -1, a0: 60})"
   ]
  },
  {
   "cell_type": "code",
   "execution_count": 9,
   "id": "7b7cefdd",
   "metadata": {},
   "outputs": [
    {
     "data": {
      "text/latex": [
       "$\\displaystyle 841323.666666667$"
      ],
      "text/plain": [
       "841323.666666667"
      ]
     },
     "execution_count": 9,
     "metadata": {},
     "output_type": "execute_result"
    }
   ],
   "source": [
    "#f2\n",
    "MSE.subs({a2: 2, a1: 17, a0: -9})"
   ]
  },
  {
   "cell_type": "markdown",
   "id": "3405fa0f",
   "metadata": {},
   "source": [
    "Первая функция лучше, т.к. имеет меньшую среднеквадратичную ошибку."
   ]
  },
  {
   "cell_type": "code",
   "execution_count": 10,
   "id": "dd7007e1",
   "metadata": {},
   "outputs": [
    {
     "data": {
      "text/latex": [
       "$\\displaystyle 0.333333333333333 \\left(a_{0} + 39 a_{1} + 7 a_{2} + 60\\right)^{2} + 0.333333333333333 \\left(a_{0} + 48 a_{1} + 12 a_{2} - 17\\right)^{2} + 0.333333333333333 \\left(a_{0} + 55 a_{1} + 3 a_{2} - 83\\right)^{2}$"
      ],
      "text/plain": [
       "0.333333333333333*(a0 + 39*a1 + 7*a2 + 60)**2 + 0.333333333333333*(a0 + 48*a1 + 12*a2 - 17)**2 + 0.333333333333333*(a0 + 55*a1 + 3*a2 - 83)**2"
      ]
     },
     "execution_count": 10,
     "metadata": {},
     "output_type": "execute_result"
    }
   ],
   "source": [
    "MSE = 1/3 * (((a2 * 7 + a1 * 39 + a0) + 60)**2 + ((a2 * 12 + a1 * 48 + a0) - 17)**2 + ((a2 * 3 + a1 * 55 + a0) - 83)**2)\n",
    "MSE"
   ]
  },
  {
   "cell_type": "markdown",
   "id": "8fe6976b",
   "metadata": {},
   "source": [
    "$f_1=-4x_2+7x_1-11$, $f_2=-0.5x_2+9x_1-400$"
   ]
  },
  {
   "cell_type": "code",
   "execution_count": 11,
   "id": "ef53884e",
   "metadata": {},
   "outputs": [
    {
     "data": {
      "text/latex": [
       "$\\displaystyle 77292.3333333333$"
      ],
      "text/plain": [
       "77292.3333333333"
      ]
     },
     "execution_count": 11,
     "metadata": {},
     "output_type": "execute_result"
    }
   ],
   "source": [
    "#f1\n",
    "MSE.subs({a2: -4, a1: 7, a0: -11})"
   ]
  },
  {
   "cell_type": "code",
   "execution_count": 12,
   "id": "6501b822",
   "metadata": {},
   "outputs": [
    {
     "data": {
      "text/latex": [
       "$\\displaystyle 82.5$"
      ],
      "text/plain": [
       "82.5000000000000"
      ]
     },
     "execution_count": 12,
     "metadata": {},
     "output_type": "execute_result"
    }
   ],
   "source": [
    "#f2\n",
    "MSE.subs({a2: -0.5, a1: 9, a0: -400})"
   ]
  },
  {
   "cell_type": "markdown",
   "id": "4c15362e",
   "metadata": {},
   "source": [
    "Вторая функция лучше, т.к. имеет меньшую среднеквадратичную ошибку."
   ]
  },
  {
   "cell_type": "code",
   "execution_count": null,
   "id": "82364de0",
   "metadata": {},
   "outputs": [],
   "source": []
  }
 ],
 "metadata": {
  "kernelspec": {
   "display_name": "Python 3",
   "language": "python",
   "name": "python3"
  },
  "language_info": {
   "codemirror_mode": {
    "name": "ipython",
    "version": 3
   },
   "file_extension": ".py",
   "mimetype": "text/x-python",
   "name": "python",
   "nbconvert_exporter": "python",
   "pygments_lexer": "ipython3",
   "version": "3.8.8"
  }
 },
 "nbformat": 4,
 "nbformat_minor": 5
}
