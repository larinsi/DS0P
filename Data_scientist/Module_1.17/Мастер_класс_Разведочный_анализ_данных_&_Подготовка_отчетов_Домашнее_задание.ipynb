{
 "cells": [
  {
   "cell_type": "markdown",
   "metadata": {
    "_cell_guid": "f8818773-a629-472e-9cc1-54fb35e99670",
    "_uuid": "b3df1cdd81022580f5a7613271b1309641b26157",
    "id": "lxhqbhwbbzkG"
   },
   "source": [
    "# Skillbox — Мастер-класс: Разведочный анализ данных + Подготовка отчётов — Kiva.org\n",
    "***"
   ]
  },
  {
   "cell_type": "markdown",
   "metadata": {
    "id": "sb2LxV_0bzng"
   },
   "source": [
    "# 4. Домашнее задание\n",
    "***"
   ]
  },
  {
   "cell_type": "code",
   "execution_count": 1,
   "metadata": {
    "id": "0Sw1jasUMtpY"
   },
   "outputs": [],
   "source": [
    "import numpy as np\n",
    "import pandas as pd\n",
    "import math\n",
    "import missingno as msno\n",
    "from datetime import datetime, timedelta\n",
    "\n",
    "import matplotlib.pyplot as plt\n",
    "%matplotlib inline\n",
    "import seaborn as sns\n",
    "plt.style.use('seaborn-darkgrid')\n",
    "palette = plt.get_cmap('Set2')\n",
    "\n",
    "import os"
   ]
  },
  {
   "cell_type": "code",
   "execution_count": 2,
   "metadata": {
    "id": "fcTAuqVtMtXj"
   },
   "outputs": [],
   "source": [
    "df_kiva_loans = pd.read_csv(\"../kiva/kiva_loans.csv\")\n",
    "df_mpi = pd.read_csv(\"../kiva/kiva_mpi_region_locations.csv\")"
   ]
  },
  {
   "cell_type": "code",
   "execution_count": 3,
   "metadata": {},
   "outputs": [
    {
     "data": {
      "text/html": [
       "<div>\n",
       "<style scoped>\n",
       "    .dataframe tbody tr th:only-of-type {\n",
       "        vertical-align: middle;\n",
       "    }\n",
       "\n",
       "    .dataframe tbody tr th {\n",
       "        vertical-align: top;\n",
       "    }\n",
       "\n",
       "    .dataframe thead th {\n",
       "        text-align: right;\n",
       "    }\n",
       "</style>\n",
       "<table border=\"1\" class=\"dataframe\">\n",
       "  <thead>\n",
       "    <tr style=\"text-align: right;\">\n",
       "      <th></th>\n",
       "      <th>id</th>\n",
       "      <th>funded_amount</th>\n",
       "      <th>loan_amount</th>\n",
       "      <th>activity</th>\n",
       "      <th>sector</th>\n",
       "      <th>use</th>\n",
       "      <th>country_code</th>\n",
       "      <th>country</th>\n",
       "      <th>region</th>\n",
       "      <th>currency</th>\n",
       "      <th>partner_id</th>\n",
       "      <th>posted_time</th>\n",
       "      <th>disbursed_time</th>\n",
       "      <th>funded_time</th>\n",
       "      <th>term_in_months</th>\n",
       "      <th>lender_count</th>\n",
       "      <th>tags</th>\n",
       "      <th>borrower_genders</th>\n",
       "      <th>repayment_interval</th>\n",
       "      <th>date</th>\n",
       "    </tr>\n",
       "  </thead>\n",
       "  <tbody>\n",
       "    <tr>\n",
       "      <th>0</th>\n",
       "      <td>653051</td>\n",
       "      <td>300.0</td>\n",
       "      <td>300.0</td>\n",
       "      <td>Fruits &amp; Vegetables</td>\n",
       "      <td>Food</td>\n",
       "      <td>To buy seasonal, fresh fruits to sell.</td>\n",
       "      <td>PK</td>\n",
       "      <td>Pakistan</td>\n",
       "      <td>Lahore</td>\n",
       "      <td>PKR</td>\n",
       "      <td>247.0</td>\n",
       "      <td>2014-01-01 06:12:39+00:00</td>\n",
       "      <td>2013-12-17 08:00:00+00:00</td>\n",
       "      <td>2014-01-02 10:06:32+00:00</td>\n",
       "      <td>12.0</td>\n",
       "      <td>12</td>\n",
       "      <td>NaN</td>\n",
       "      <td>female</td>\n",
       "      <td>irregular</td>\n",
       "      <td>2014-01-01</td>\n",
       "    </tr>\n",
       "    <tr>\n",
       "      <th>1</th>\n",
       "      <td>653053</td>\n",
       "      <td>575.0</td>\n",
       "      <td>575.0</td>\n",
       "      <td>Rickshaw</td>\n",
       "      <td>Transportation</td>\n",
       "      <td>to repair and maintain the auto rickshaw used ...</td>\n",
       "      <td>PK</td>\n",
       "      <td>Pakistan</td>\n",
       "      <td>Lahore</td>\n",
       "      <td>PKR</td>\n",
       "      <td>247.0</td>\n",
       "      <td>2014-01-01 06:51:08+00:00</td>\n",
       "      <td>2013-12-17 08:00:00+00:00</td>\n",
       "      <td>2014-01-02 09:17:23+00:00</td>\n",
       "      <td>11.0</td>\n",
       "      <td>14</td>\n",
       "      <td>NaN</td>\n",
       "      <td>female, female</td>\n",
       "      <td>irregular</td>\n",
       "      <td>2014-01-01</td>\n",
       "    </tr>\n",
       "    <tr>\n",
       "      <th>2</th>\n",
       "      <td>653068</td>\n",
       "      <td>150.0</td>\n",
       "      <td>150.0</td>\n",
       "      <td>Transportation</td>\n",
       "      <td>Transportation</td>\n",
       "      <td>To repair their old cycle-van and buy another ...</td>\n",
       "      <td>IN</td>\n",
       "      <td>India</td>\n",
       "      <td>Maynaguri</td>\n",
       "      <td>INR</td>\n",
       "      <td>334.0</td>\n",
       "      <td>2014-01-01 09:58:07+00:00</td>\n",
       "      <td>2013-12-17 08:00:00+00:00</td>\n",
       "      <td>2014-01-01 16:01:36+00:00</td>\n",
       "      <td>43.0</td>\n",
       "      <td>6</td>\n",
       "      <td>user_favorite, user_favorite</td>\n",
       "      <td>female</td>\n",
       "      <td>bullet</td>\n",
       "      <td>2014-01-01</td>\n",
       "    </tr>\n",
       "    <tr>\n",
       "      <th>3</th>\n",
       "      <td>653063</td>\n",
       "      <td>200.0</td>\n",
       "      <td>200.0</td>\n",
       "      <td>Embroidery</td>\n",
       "      <td>Arts</td>\n",
       "      <td>to purchase an embroidery machine and a variet...</td>\n",
       "      <td>PK</td>\n",
       "      <td>Pakistan</td>\n",
       "      <td>Lahore</td>\n",
       "      <td>PKR</td>\n",
       "      <td>247.0</td>\n",
       "      <td>2014-01-01 08:03:11+00:00</td>\n",
       "      <td>2013-12-24 08:00:00+00:00</td>\n",
       "      <td>2014-01-01 13:00:00+00:00</td>\n",
       "      <td>11.0</td>\n",
       "      <td>8</td>\n",
       "      <td>NaN</td>\n",
       "      <td>female</td>\n",
       "      <td>irregular</td>\n",
       "      <td>2014-01-01</td>\n",
       "    </tr>\n",
       "    <tr>\n",
       "      <th>4</th>\n",
       "      <td>653084</td>\n",
       "      <td>400.0</td>\n",
       "      <td>400.0</td>\n",
       "      <td>Milk Sales</td>\n",
       "      <td>Food</td>\n",
       "      <td>to purchase one buffalo.</td>\n",
       "      <td>PK</td>\n",
       "      <td>Pakistan</td>\n",
       "      <td>Abdul Hakeem</td>\n",
       "      <td>PKR</td>\n",
       "      <td>245.0</td>\n",
       "      <td>2014-01-01 11:53:19+00:00</td>\n",
       "      <td>2013-12-17 08:00:00+00:00</td>\n",
       "      <td>2014-01-01 19:18:51+00:00</td>\n",
       "      <td>14.0</td>\n",
       "      <td>16</td>\n",
       "      <td>NaN</td>\n",
       "      <td>female</td>\n",
       "      <td>monthly</td>\n",
       "      <td>2014-01-01</td>\n",
       "    </tr>\n",
       "  </tbody>\n",
       "</table>\n",
       "</div>"
      ],
      "text/plain": [
       "       id  funded_amount  loan_amount             activity          sector  \\\n",
       "0  653051          300.0        300.0  Fruits & Vegetables            Food   \n",
       "1  653053          575.0        575.0             Rickshaw  Transportation   \n",
       "2  653068          150.0        150.0       Transportation  Transportation   \n",
       "3  653063          200.0        200.0           Embroidery            Arts   \n",
       "4  653084          400.0        400.0           Milk Sales            Food   \n",
       "\n",
       "                                                 use country_code   country  \\\n",
       "0            To buy seasonal, fresh fruits to sell.            PK  Pakistan   \n",
       "1  to repair and maintain the auto rickshaw used ...           PK  Pakistan   \n",
       "2  To repair their old cycle-van and buy another ...           IN     India   \n",
       "3  to purchase an embroidery machine and a variet...           PK  Pakistan   \n",
       "4                           to purchase one buffalo.           PK  Pakistan   \n",
       "\n",
       "         region currency  partner_id                posted_time  \\\n",
       "0        Lahore      PKR       247.0  2014-01-01 06:12:39+00:00   \n",
       "1        Lahore      PKR       247.0  2014-01-01 06:51:08+00:00   \n",
       "2     Maynaguri      INR       334.0  2014-01-01 09:58:07+00:00   \n",
       "3        Lahore      PKR       247.0  2014-01-01 08:03:11+00:00   \n",
       "4  Abdul Hakeem      PKR       245.0  2014-01-01 11:53:19+00:00   \n",
       "\n",
       "              disbursed_time                funded_time  term_in_months  \\\n",
       "0  2013-12-17 08:00:00+00:00  2014-01-02 10:06:32+00:00            12.0   \n",
       "1  2013-12-17 08:00:00+00:00  2014-01-02 09:17:23+00:00            11.0   \n",
       "2  2013-12-17 08:00:00+00:00  2014-01-01 16:01:36+00:00            43.0   \n",
       "3  2013-12-24 08:00:00+00:00  2014-01-01 13:00:00+00:00            11.0   \n",
       "4  2013-12-17 08:00:00+00:00  2014-01-01 19:18:51+00:00            14.0   \n",
       "\n",
       "   lender_count                          tags borrower_genders  \\\n",
       "0            12                           NaN           female   \n",
       "1            14                           NaN   female, female   \n",
       "2             6  user_favorite, user_favorite           female   \n",
       "3             8                           NaN           female   \n",
       "4            16                           NaN           female   \n",
       "\n",
       "  repayment_interval        date  \n",
       "0          irregular  2014-01-01  \n",
       "1          irregular  2014-01-01  \n",
       "2             bullet  2014-01-01  \n",
       "3          irregular  2014-01-01  \n",
       "4            monthly  2014-01-01  "
      ]
     },
     "execution_count": 3,
     "metadata": {},
     "output_type": "execute_result"
    }
   ],
   "source": [
    "df_kiva_loans.head(5)"
   ]
  },
  {
   "cell_type": "code",
   "execution_count": 4,
   "metadata": {},
   "outputs": [
    {
     "data": {
      "text/html": [
       "<div>\n",
       "<style scoped>\n",
       "    .dataframe tbody tr th:only-of-type {\n",
       "        vertical-align: middle;\n",
       "    }\n",
       "\n",
       "    .dataframe tbody tr th {\n",
       "        vertical-align: top;\n",
       "    }\n",
       "\n",
       "    .dataframe thead th {\n",
       "        text-align: right;\n",
       "    }\n",
       "</style>\n",
       "<table border=\"1\" class=\"dataframe\">\n",
       "  <thead>\n",
       "    <tr style=\"text-align: right;\">\n",
       "      <th></th>\n",
       "      <th>LocationName</th>\n",
       "      <th>ISO</th>\n",
       "      <th>country</th>\n",
       "      <th>region</th>\n",
       "      <th>world_region</th>\n",
       "      <th>MPI</th>\n",
       "      <th>geo</th>\n",
       "      <th>lat</th>\n",
       "      <th>lon</th>\n",
       "    </tr>\n",
       "  </thead>\n",
       "  <tbody>\n",
       "    <tr>\n",
       "      <th>0</th>\n",
       "      <td>Badakhshan, Afghanistan</td>\n",
       "      <td>AFG</td>\n",
       "      <td>Afghanistan</td>\n",
       "      <td>Badakhshan</td>\n",
       "      <td>South Asia</td>\n",
       "      <td>0.387</td>\n",
       "      <td>(36.7347725, 70.81199529999999)</td>\n",
       "      <td>36.734772</td>\n",
       "      <td>70.811995</td>\n",
       "    </tr>\n",
       "    <tr>\n",
       "      <th>1</th>\n",
       "      <td>Badghis, Afghanistan</td>\n",
       "      <td>AFG</td>\n",
       "      <td>Afghanistan</td>\n",
       "      <td>Badghis</td>\n",
       "      <td>South Asia</td>\n",
       "      <td>0.466</td>\n",
       "      <td>(35.1671339, 63.7695384)</td>\n",
       "      <td>35.167134</td>\n",
       "      <td>63.769538</td>\n",
       "    </tr>\n",
       "    <tr>\n",
       "      <th>2</th>\n",
       "      <td>Baghlan, Afghanistan</td>\n",
       "      <td>AFG</td>\n",
       "      <td>Afghanistan</td>\n",
       "      <td>Baghlan</td>\n",
       "      <td>South Asia</td>\n",
       "      <td>0.300</td>\n",
       "      <td>(35.8042947, 69.2877535)</td>\n",
       "      <td>35.804295</td>\n",
       "      <td>69.287754</td>\n",
       "    </tr>\n",
       "    <tr>\n",
       "      <th>3</th>\n",
       "      <td>Balkh, Afghanistan</td>\n",
       "      <td>AFG</td>\n",
       "      <td>Afghanistan</td>\n",
       "      <td>Balkh</td>\n",
       "      <td>South Asia</td>\n",
       "      <td>0.301</td>\n",
       "      <td>(36.7550603, 66.8975372)</td>\n",
       "      <td>36.755060</td>\n",
       "      <td>66.897537</td>\n",
       "    </tr>\n",
       "    <tr>\n",
       "      <th>4</th>\n",
       "      <td>Bamyan, Afghanistan</td>\n",
       "      <td>AFG</td>\n",
       "      <td>Afghanistan</td>\n",
       "      <td>Bamyan</td>\n",
       "      <td>South Asia</td>\n",
       "      <td>0.325</td>\n",
       "      <td>(34.8100067, 67.8212104)</td>\n",
       "      <td>34.810007</td>\n",
       "      <td>67.821210</td>\n",
       "    </tr>\n",
       "  </tbody>\n",
       "</table>\n",
       "</div>"
      ],
      "text/plain": [
       "              LocationName  ISO      country      region world_region    MPI  \\\n",
       "0  Badakhshan, Afghanistan  AFG  Afghanistan  Badakhshan   South Asia  0.387   \n",
       "1     Badghis, Afghanistan  AFG  Afghanistan     Badghis   South Asia  0.466   \n",
       "2     Baghlan, Afghanistan  AFG  Afghanistan     Baghlan   South Asia  0.300   \n",
       "3       Balkh, Afghanistan  AFG  Afghanistan       Balkh   South Asia  0.301   \n",
       "4      Bamyan, Afghanistan  AFG  Afghanistan      Bamyan   South Asia  0.325   \n",
       "\n",
       "                               geo        lat        lon  \n",
       "0  (36.7347725, 70.81199529999999)  36.734772  70.811995  \n",
       "1         (35.1671339, 63.7695384)  35.167134  63.769538  \n",
       "2         (35.8042947, 69.2877535)  35.804295  69.287754  \n",
       "3         (36.7550603, 66.8975372)  36.755060  66.897537  \n",
       "4         (34.8100067, 67.8212104)  34.810007  67.821210  "
      ]
     },
     "execution_count": 4,
     "metadata": {},
     "output_type": "execute_result"
    }
   ],
   "source": [
    "df_mpi.head()"
   ]
  },
  {
   "cell_type": "code",
   "execution_count": 5,
   "metadata": {},
   "outputs": [],
   "source": [
    "df_mpi_grouped = df_mpi\\\n",
    "    .groupby(['ISO', 'country', 'world_region'])['MPI']\\\n",
    "    .mean()\\\n",
    "    .fillna(0)\\\n",
    "    .reset_index()"
   ]
  },
  {
   "cell_type": "code",
   "execution_count": 6,
   "metadata": {},
   "outputs": [
    {
     "data": {
      "text/html": [
       "<div>\n",
       "<style scoped>\n",
       "    .dataframe tbody tr th:only-of-type {\n",
       "        vertical-align: middle;\n",
       "    }\n",
       "\n",
       "    .dataframe tbody tr th {\n",
       "        vertical-align: top;\n",
       "    }\n",
       "\n",
       "    .dataframe thead th {\n",
       "        text-align: right;\n",
       "    }\n",
       "</style>\n",
       "<table border=\"1\" class=\"dataframe\">\n",
       "  <thead>\n",
       "    <tr style=\"text-align: right;\">\n",
       "      <th></th>\n",
       "      <th>id</th>\n",
       "      <th>funded_amount</th>\n",
       "      <th>loan_amount</th>\n",
       "      <th>activity</th>\n",
       "      <th>sector</th>\n",
       "      <th>use</th>\n",
       "      <th>country_code</th>\n",
       "      <th>country</th>\n",
       "      <th>region</th>\n",
       "      <th>currency</th>\n",
       "      <th>...</th>\n",
       "      <th>funded_time</th>\n",
       "      <th>term_in_months</th>\n",
       "      <th>lender_count</th>\n",
       "      <th>tags</th>\n",
       "      <th>borrower_genders</th>\n",
       "      <th>repayment_interval</th>\n",
       "      <th>date</th>\n",
       "      <th>ISO</th>\n",
       "      <th>world_region</th>\n",
       "      <th>MPI</th>\n",
       "    </tr>\n",
       "  </thead>\n",
       "  <tbody>\n",
       "    <tr>\n",
       "      <th>0</th>\n",
       "      <td>653051</td>\n",
       "      <td>300.0</td>\n",
       "      <td>300.0</td>\n",
       "      <td>Fruits &amp; Vegetables</td>\n",
       "      <td>Food</td>\n",
       "      <td>To buy seasonal, fresh fruits to sell.</td>\n",
       "      <td>PK</td>\n",
       "      <td>Pakistan</td>\n",
       "      <td>Lahore</td>\n",
       "      <td>PKR</td>\n",
       "      <td>...</td>\n",
       "      <td>2014-01-02 10:06:32+00:00</td>\n",
       "      <td>12.0</td>\n",
       "      <td>12</td>\n",
       "      <td>NaN</td>\n",
       "      <td>female</td>\n",
       "      <td>irregular</td>\n",
       "      <td>2014-01-01</td>\n",
       "      <td>PAK</td>\n",
       "      <td>South Asia</td>\n",
       "      <td>0.233167</td>\n",
       "    </tr>\n",
       "    <tr>\n",
       "      <th>1</th>\n",
       "      <td>653053</td>\n",
       "      <td>575.0</td>\n",
       "      <td>575.0</td>\n",
       "      <td>Rickshaw</td>\n",
       "      <td>Transportation</td>\n",
       "      <td>to repair and maintain the auto rickshaw used ...</td>\n",
       "      <td>PK</td>\n",
       "      <td>Pakistan</td>\n",
       "      <td>Lahore</td>\n",
       "      <td>PKR</td>\n",
       "      <td>...</td>\n",
       "      <td>2014-01-02 09:17:23+00:00</td>\n",
       "      <td>11.0</td>\n",
       "      <td>14</td>\n",
       "      <td>NaN</td>\n",
       "      <td>female, female</td>\n",
       "      <td>irregular</td>\n",
       "      <td>2014-01-01</td>\n",
       "      <td>PAK</td>\n",
       "      <td>South Asia</td>\n",
       "      <td>0.233167</td>\n",
       "    </tr>\n",
       "    <tr>\n",
       "      <th>2</th>\n",
       "      <td>653068</td>\n",
       "      <td>150.0</td>\n",
       "      <td>150.0</td>\n",
       "      <td>Transportation</td>\n",
       "      <td>Transportation</td>\n",
       "      <td>To repair their old cycle-van and buy another ...</td>\n",
       "      <td>IN</td>\n",
       "      <td>India</td>\n",
       "      <td>Maynaguri</td>\n",
       "      <td>INR</td>\n",
       "      <td>...</td>\n",
       "      <td>2014-01-01 16:01:36+00:00</td>\n",
       "      <td>43.0</td>\n",
       "      <td>6</td>\n",
       "      <td>user_favorite, user_favorite</td>\n",
       "      <td>female</td>\n",
       "      <td>bullet</td>\n",
       "      <td>2014-01-01</td>\n",
       "      <td>IND</td>\n",
       "      <td>South Asia</td>\n",
       "      <td>0.000000</td>\n",
       "    </tr>\n",
       "    <tr>\n",
       "      <th>3</th>\n",
       "      <td>653063</td>\n",
       "      <td>200.0</td>\n",
       "      <td>200.0</td>\n",
       "      <td>Embroidery</td>\n",
       "      <td>Arts</td>\n",
       "      <td>to purchase an embroidery machine and a variet...</td>\n",
       "      <td>PK</td>\n",
       "      <td>Pakistan</td>\n",
       "      <td>Lahore</td>\n",
       "      <td>PKR</td>\n",
       "      <td>...</td>\n",
       "      <td>2014-01-01 13:00:00+00:00</td>\n",
       "      <td>11.0</td>\n",
       "      <td>8</td>\n",
       "      <td>NaN</td>\n",
       "      <td>female</td>\n",
       "      <td>irregular</td>\n",
       "      <td>2014-01-01</td>\n",
       "      <td>PAK</td>\n",
       "      <td>South Asia</td>\n",
       "      <td>0.233167</td>\n",
       "    </tr>\n",
       "    <tr>\n",
       "      <th>4</th>\n",
       "      <td>653084</td>\n",
       "      <td>400.0</td>\n",
       "      <td>400.0</td>\n",
       "      <td>Milk Sales</td>\n",
       "      <td>Food</td>\n",
       "      <td>to purchase one buffalo.</td>\n",
       "      <td>PK</td>\n",
       "      <td>Pakistan</td>\n",
       "      <td>Abdul Hakeem</td>\n",
       "      <td>PKR</td>\n",
       "      <td>...</td>\n",
       "      <td>2014-01-01 19:18:51+00:00</td>\n",
       "      <td>14.0</td>\n",
       "      <td>16</td>\n",
       "      <td>NaN</td>\n",
       "      <td>female</td>\n",
       "      <td>monthly</td>\n",
       "      <td>2014-01-01</td>\n",
       "      <td>PAK</td>\n",
       "      <td>South Asia</td>\n",
       "      <td>0.233167</td>\n",
       "    </tr>\n",
       "  </tbody>\n",
       "</table>\n",
       "<p>5 rows × 23 columns</p>\n",
       "</div>"
      ],
      "text/plain": [
       "       id  funded_amount  loan_amount             activity          sector  \\\n",
       "0  653051          300.0        300.0  Fruits & Vegetables            Food   \n",
       "1  653053          575.0        575.0             Rickshaw  Transportation   \n",
       "2  653068          150.0        150.0       Transportation  Transportation   \n",
       "3  653063          200.0        200.0           Embroidery            Arts   \n",
       "4  653084          400.0        400.0           Milk Sales            Food   \n",
       "\n",
       "                                                 use country_code   country  \\\n",
       "0            To buy seasonal, fresh fruits to sell.            PK  Pakistan   \n",
       "1  to repair and maintain the auto rickshaw used ...           PK  Pakistan   \n",
       "2  To repair their old cycle-van and buy another ...           IN     India   \n",
       "3  to purchase an embroidery machine and a variet...           PK  Pakistan   \n",
       "4                           to purchase one buffalo.           PK  Pakistan   \n",
       "\n",
       "         region currency  ...                funded_time term_in_months  \\\n",
       "0        Lahore      PKR  ...  2014-01-02 10:06:32+00:00           12.0   \n",
       "1        Lahore      PKR  ...  2014-01-02 09:17:23+00:00           11.0   \n",
       "2     Maynaguri      INR  ...  2014-01-01 16:01:36+00:00           43.0   \n",
       "3        Lahore      PKR  ...  2014-01-01 13:00:00+00:00           11.0   \n",
       "4  Abdul Hakeem      PKR  ...  2014-01-01 19:18:51+00:00           14.0   \n",
       "\n",
       "  lender_count                          tags  borrower_genders  \\\n",
       "0           12                           NaN            female   \n",
       "1           14                           NaN    female, female   \n",
       "2            6  user_favorite, user_favorite            female   \n",
       "3            8                           NaN            female   \n",
       "4           16                           NaN            female   \n",
       "\n",
       "   repayment_interval        date  ISO world_region       MPI  \n",
       "0           irregular  2014-01-01  PAK   South Asia  0.233167  \n",
       "1           irregular  2014-01-01  PAK   South Asia  0.233167  \n",
       "2              bullet  2014-01-01  IND   South Asia  0.000000  \n",
       "3           irregular  2014-01-01  PAK   South Asia  0.233167  \n",
       "4             monthly  2014-01-01  PAK   South Asia  0.233167  \n",
       "\n",
       "[5 rows x 23 columns]"
      ]
     },
     "execution_count": 6,
     "metadata": {},
     "output_type": "execute_result"
    }
   ],
   "source": [
    "df_kiva_loans = df_kiva_loans.merge(df_mpi_grouped, how='left', on='country')\n",
    "df_kiva_loans.head()"
   ]
  },
  {
   "cell_type": "code",
   "execution_count": 7,
   "metadata": {},
   "outputs": [],
   "source": [
    "countries = df_kiva_loans['country'].value_counts()[df_kiva_loans['country'].value_counts(normalize=True)> 0.005]"
   ]
  },
  {
   "cell_type": "code",
   "execution_count": 9,
   "metadata": {},
   "outputs": [],
   "source": [
    "df_kiva_loans['borrower_genders'] = [elem if elem in ['female','male'] else 'group' for elem in df_kiva_loans['borrower_genders'] ]\n"
   ]
  },
  {
   "cell_type": "markdown",
   "metadata": {
    "id": "yAGPSgFVbznh"
   },
   "source": [
    "## 4.1. Самостоятельная работа\n",
    "***"
   ]
  },
  {
   "cell_type": "markdown",
   "metadata": {
    "id": "04Waz3uubznh"
   },
   "source": [
    "- А в каких странах преобладают мужчины? Группа людей? (п. 2.2.2.)\n",
    "- Изучите несколько займов с очень большими суммами. Что можно сказать о назначении этих заявок? В каких странах они оформлены? Каков гендерный состав заявителей? (п. 2.4.2.)\n",
    "- Попробуйте найти связь между странами (регионами), полом заёмщика и суммой заявки. Какие выводы можно сделать из этих данных? (п. 2.4.3.)"
   ]
  },
  {
   "cell_type": "markdown",
   "metadata": {},
   "source": [
    "### П. 2.2.2\n",
    "А в каких странах преобладают мужчины?"
   ]
  },
  {
   "cell_type": "code",
   "execution_count": 29,
   "metadata": {},
   "outputs": [],
   "source": [
    "df_gender_by_country = \\\n",
    "    df_kiva_loans[df_kiva_loans['country'].isin(countries.index.values)]\\\n",
    "    .groupby(['country', 'borrower_genders'])['borrower_genders']\\\n",
    "    .count()\\\n",
    "    .groupby(level=0).apply(lambda x: 100 * x / x.sum())\\\n",
    "    .unstack('borrower_genders')\\\n",
    "    .fillna(0)\\\n",
    "    .sort_values(by='male')[-20:]\n",
    "\n",
    "df_gender_by_country = df_gender_by_country[['male', 'female', 'group']]"
   ]
  },
  {
   "cell_type": "code",
   "execution_count": 30,
   "metadata": {},
   "outputs": [
    {
     "data": {
      "image/png": "[encoded data removed]",
      "text/plain": [
       "<Figure size 1440x720 with 1 Axes>"
      ]
     },
     "metadata": {},
     "output_type": "display_data"
    }
   ],
   "source": [
    "plot = df_gender_by_country.plot.barh(\n",
    "        figsize=(20,10)\n",
    "        , fontsize=16\n",
    "        , stacked=True\n",
    "        , title='Гендерная структура заемщиков')\n",
    "plot.title.set_size(18)\n",
    "plot.legend(loc=1, bbox_to_anchor=(1.2, 1), fontsize=16)\n",
    "plot.set(ylabel=None, xlabel=None)\n",
    "plt.show()"
   ]
  },
  {
   "cell_type": "markdown",
   "metadata": {},
   "source": [
    "Среди заемщиков преобладают мужчины в таких странах как:\n",
    "* Нигерия\n",
    "* Палестина\n",
    "* Уганда"
   ]
  },
  {
   "cell_type": "markdown",
   "metadata": {},
   "source": [
    "Группы людей?"
   ]
  },
  {
   "cell_type": "code",
   "execution_count": 31,
   "metadata": {},
   "outputs": [],
   "source": [
    "df_gender_by_country = \\\n",
    "    df_kiva_loans[df_kiva_loans['country'].isin(countries.index.values)]\\\n",
    "    .groupby(['country', 'borrower_genders'])['borrower_genders']\\\n",
    "    .count()\\\n",
    "    .groupby(level=0).apply(lambda x: 100 * x / x.sum())\\\n",
    "    .unstack('borrower_genders')\\\n",
    "    .fillna(0)\\\n",
    "    .sort_values(by='group')[-20:]\n",
    "\n",
    "df_gender_by_country = df_gender_by_country[['group', 'female', 'male']]"
   ]
  },
  {
   "cell_type": "code",
   "execution_count": 32,
   "metadata": {},
   "outputs": [
    {
     "data": {
      "image/png": "[encoded data removed]",
      "text/plain": [
       "<Figure size 1440x720 with 1 Axes>"
      ]
     },
     "metadata": {},
     "output_type": "display_data"
    }
   ],
   "source": [
    "plot = df_gender_by_country.plot.barh(\n",
    "        figsize=(20,10)\n",
    "        , fontsize=16\n",
    "        , stacked=True\n",
    "        , title='Гендерная структура заемщиков')\n",
    "plot.title.set_size(18)\n",
    "plot.legend(loc=1, bbox_to_anchor=(1.2, 1), fontsize=16)\n",
    "plot.set(ylabel=None, xlabel=None)\n",
    "plt.show()"
   ]
  },
  {
   "cell_type": "markdown",
   "metadata": {},
   "source": [
    "В следующих странах преобладают группы заемщиков:\n",
    "* Мали\n",
    "* Камбоджа\n",
    "* Гватемала\n",
    "* Танзания\n",
    "* Гана\n",
    "* Парагвай\n",
    "* Руанда"
   ]
  },
  {
   "cell_type": "markdown",
   "metadata": {},
   "source": [
    "### П. 2.4.2"
   ]
  },
  {
   "cell_type": "markdown",
   "metadata": {},
   "source": [
    "Изучите несколько займов с очень большими суммами. Что можно сказать о назначении этих заявок? В каких странах они оформлены? Каков гендерный состав заявителей?"
   ]
  },
  {
   "cell_type": "code",
   "execution_count": 33,
   "metadata": {
    "scrolled": true
   },
   "outputs": [
    {
     "data": {
      "text/plain": [
       "70499     create more than 300 jobs for women and farmer...\n",
       "34196     to buy and sell Barefoot Power's Solar Lightin...\n",
       "586970    to generate income to over 600 fishermen in Ta...\n",
       "538248    to enable 5,000 additional small-holder farmer...\n",
       "540849                                                  NaN\n",
       "541006    to bolster logistics of affordable water distr...\n",
       "544548    to provide community trauma services in South ...\n",
       "548513    to distribute solar home systems throughout ru...\n",
       "563074    to provide life-changing clean cookstoves and ...\n",
       "565733    to pay 600 farming families 100% above market ...\n",
       "583307    to support 800+ farmers by improving their pro...\n",
       "604502    to add value and jobs to the local economy by ...\n",
       "523659    to train & equip 200 rural merchants in Mozamb...\n",
       "614869    create jobs through environmentally-friendly m...\n",
       "614922    to set up 13 new clean water businesses in nor...\n",
       "618264    to provide income opportunities in remote Indo...\n",
       "621860    to distribute 400 pay-as-you-go solar home sys...\n",
       "631904    double cashew nut export output and hire about...\n",
       "657346    Impact Hub Accra improve its innovation and en...\n",
       "659727    expand their retail sales channels and create ...\n",
       "526100    to distribute 200+ innovative & affordable pay...\n",
       "523634    to mitigate CO2 & household air pollution, whi...\n",
       "43182     To buy and sell Barefoot Power's solar lightin...\n",
       "408295    to set up a garment social business that will ...\n",
       "53634        To buy and sell Barefoot Power solar lighting.\n",
       "126839    to buy and plant resin producing pine trees. T...\n",
       "163727    to fund its growing loan book and further deve...\n",
       "210975    To work with 17 farming cooperatives to proces...\n",
       "223120    to provide loans and career services for the l...\n",
       "375404                                                  NaN\n",
       "383723    to generate USD1.2mm in fuel savings and impac...\n",
       "408465                                                  NaN\n",
       "509048    to purchase chicken feed & a delivery vehicle ...\n",
       "447374    to increase smallholder farmers’ incomes by bu...\n",
       "490191    To purchase raw materials in order to produce ...\n",
       "492809    to expand weather, farming information and fin...\n",
       "494470    To pay smallholder coffee farmers in rural Ken...\n",
       "496715    to fund the harvest of seeds of 6,000 smallhol...\n",
       "505895                                                  NaN\n",
       "507237    to generate income opportunities for 1250+ low...\n",
       "660807    to distribute 400 pay-as-you-go solar systems ...\n",
       "Name: use, dtype: object"
      ]
     },
     "execution_count": 33,
     "metadata": {},
     "output_type": "execute_result"
    }
   ],
   "source": [
    "df_kiva_large_loans = df_kiva_loans[df_kiva_loans['loan_amount'] >= 50000]\\\n",
    ".sort_values('loan_amount', ascending=False)\\\n",
    "[['loan_amount', 'sector', 'use', 'country', 'borrower_genders']]\n",
    "df_kiva_large_loans['use']"
   ]
  },
  {
   "cell_type": "code",
   "execution_count": 39,
   "metadata": {},
   "outputs": [
    {
     "ename": "AttributeError",
     "evalue": "'DataFrameGroupBy' object has no attribute 'sort_values'",
     "output_type": "error",
     "traceback": [
      "\u001b[0;31m---------------------------------------------------------------------------\u001b[0m",
      "\u001b[0;31mAttributeError\u001b[0m                            Traceback (most recent call last)",
      "\u001b[0;32m<ipython-input-39-68baf718b7fb>\u001b[0m in \u001b[0;36m<module>\u001b[0;34m\u001b[0m\n\u001b[0;32m----> 1\u001b[0;31m \u001b[0mdf_kiva_large_loans\u001b[0m\u001b[0;34m.\u001b[0m\u001b[0mgroupby\u001b[0m\u001b[0;34m(\u001b[0m\u001b[0;34m'sector'\u001b[0m\u001b[0;34m)\u001b[0m\u001b[0;34m.\u001b[0m\u001b[0msort_values\u001b[0m\u001b[0;34m(\u001b[0m\u001b[0;34m'sector'\u001b[0m\u001b[0;34m,\u001b[0m \u001b[0mascending\u001b[0m\u001b[0;34m=\u001b[0m\u001b[0;32mFalse\u001b[0m\u001b[0;34m)\u001b[0m\u001b[0;34m\u001b[0m\u001b[0;34m\u001b[0m\u001b[0m\n\u001b[0m",
      "\u001b[0;32m~/anaconda3/lib/python3.8/site-packages/pandas/core/groupby/groupby.py\u001b[0m in \u001b[0;36m__getattr__\u001b[0;34m(self, attr)\u001b[0m\n\u001b[1;32m    701\u001b[0m             \u001b[0;32mreturn\u001b[0m \u001b[0mself\u001b[0m\u001b[0;34m[\u001b[0m\u001b[0mattr\u001b[0m\u001b[0;34m]\u001b[0m\u001b[0;34m\u001b[0m\u001b[0;34m\u001b[0m\u001b[0m\n\u001b[1;32m    702\u001b[0m \u001b[0;34m\u001b[0m\u001b[0m\n\u001b[0;32m--> 703\u001b[0;31m         raise AttributeError(\n\u001b[0m\u001b[1;32m    704\u001b[0m             \u001b[0;34mf\"'{type(self).__name__}' object has no attribute '{attr}'\"\u001b[0m\u001b[0;34m\u001b[0m\u001b[0;34m\u001b[0m\u001b[0m\n\u001b[1;32m    705\u001b[0m         )\n",
      "\u001b[0;31mAttributeError\u001b[0m: 'DataFrameGroupBy' object has no attribute 'sort_values'"
     ]
    }
   ],
   "source": [
    "df_kiva_large_loans.groupby('sector').sort_values('sector', ascending=False)"
   ]
  },
  {
   "cell_type": "markdown",
   "metadata": {
    "id": "4J8NsnCsbznh"
   },
   "source": [
    "## 4.2. Домашняя работа\n",
    "***"
   ]
  },
  {
   "cell_type": "markdown",
   "metadata": {
    "id": "Ev97SUmzbznh"
   },
   "source": [
    "Расширьте наш отчёт исследованием следующих вопросов:\n",
    "\n",
    "- Зависимость пола заёмщика от региона планеты, сектора экономики.\n",
    "- Влияние такого атрибута займа, как **Количество кредиторов** (lender_count), на суммы и сроки займов.\n",
    "- Влияние показателя **MPI** (многомерный индекс бедности) в разных странах на суммы займов и сроки погашения.\n",
    "- Зависимости таких метрик, как «Сумма займа», «Срок займа», «Время финансирования заявки», «Ежемесячный платёж», в разрезе **макрорегионов**."
   ]
  }
 ],
 "metadata": {
  "colab": {
   "collapsed_sections": [],
   "name": "Мастер-класс: Разведочный анализ данных & Подготовка отчетов. Домашнее задание.ipynb",
   "provenance": []
  },
  "kernelspec": {
   "display_name": "Python 3",
   "language": "python",
   "name": "python3"
  },
  "language_info": {
   "codemirror_mode": {
    "name": "ipython",
    "version": 3
   },
   "file_extension": ".py",
   "mimetype": "text/x-python",
   "name": "python",
   "nbconvert_exporter": "python",
   "pygments_lexer": "ipython3",
   "version": "3.8.5"
  },
  "toc-showtags": false
 },
 "nbformat": 4,
 "nbformat_minor": 1
}
