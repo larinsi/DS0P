{
  "nbformat": 4,
  "nbformat_minor": 0,
  "metadata": {
    "kernelspec": {
      "display_name": "Python 3",
      "language": "python",
      "name": "python3"
    },
    "language_info": {
      "codemirror_mode": {
        "name": "ipython",
        "version": 3
      },
      "file_extension": ".py",
      "mimetype": "text/x-python",
      "name": "python",
      "nbconvert_exporter": "python",
      "pygments_lexer": "ipython3",
      "version": "3.7.4"
    },
    "colab": {
      "name": "Урок 3. Практика.ipynb",
      "provenance": []
    }
  },
  "cells": [
    {
      "cell_type": "markdown",
      "metadata": {
        "id": "obUevg_hAgTi"
      },
      "source": [
        "# Продвинутая визуализация с matplotlib"
      ]
    },
    {
      "cell_type": "code",
      "metadata": {
        "id": "YoCeAZpyAgTp"
      },
      "source": [
        "import pandas as pd\n",
        "import matplotlib.pyplot as plt"
      ],
      "execution_count": null,
      "outputs": []
    },
    {
      "cell_type": "markdown",
      "metadata": {
        "id": "YF9tfuWJAgTq"
      },
      "source": [
        "## Урок 3. Несколько графиков на одном полотне\n",
        "\n",
        "### Практика\n",
        "\n",
        "#### Задание 1\n",
        "\n",
        "Постройте на одном полотне 3 линейных графика изменения минимальной зарплаты в штатах Аляска, Калифорния и Вашингтон. Графики расположите друг под другом. "
      ]
    },
    {
      "cell_type": "code",
      "metadata": {
        "id": "g6ibIP_TAgTq"
      },
      "source": [
        ""
      ],
      "execution_count": null,
      "outputs": []
    }
  ]
}