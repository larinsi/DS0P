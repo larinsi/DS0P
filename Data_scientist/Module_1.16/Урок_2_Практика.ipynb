{
  "nbformat": 4,
  "nbformat_minor": 0,
  "metadata": {
    "kernelspec": {
      "display_name": "Python 3",
      "language": "python",
      "name": "python3"
    },
    "language_info": {
      "codemirror_mode": {
        "name": "ipython",
        "version": 3
      },
      "file_extension": ".py",
      "mimetype": "text/x-python",
      "name": "python",
      "nbconvert_exporter": "python",
      "pygments_lexer": "ipython3",
      "version": "3.7.4"
    },
    "colab": {
      "name": "Урок 2. Практика.ipynb",
      "provenance": []
    }
  },
  "cells": [
    {
      "cell_type": "markdown",
      "metadata": {
        "id": "kp1p3Bs7PDpt"
      },
      "source": [
        "# Визуализация с seaborn"
      ]
    },
    {
      "cell_type": "code",
      "metadata": {
        "id": "k7AeHsUUPDp0"
      },
      "source": [
        "import pandas as pd\n",
        "import matplotlib.pyplot as plt\n",
        "import seaborn as sns\n",
        "plt.style.use('seaborn')"
      ],
      "execution_count": null,
      "outputs": []
    },
    {
      "cell_type": "markdown",
      "metadata": {
        "id": "j4Px6MJ-PDp1"
      },
      "source": [
        "## Урок 2. Построение основных графиков в seaborn\n",
        "\n",
        "### Практика\n",
        "\n",
        "#### Задание 1\n",
        "\n",
        "Постройте точечный график, на котором по оси х будет указан год, а на оси у - население. Задайте цвет каждой отметки в зависимости от величины минимальной зарплаты в конкретном штате и конкретном году."
      ]
    },
    {
      "cell_type": "code",
      "metadata": {
        "id": "geu3xymEPDp1"
      },
      "source": [
        ""
      ],
      "execution_count": null,
      "outputs": []
    }
  ]
}