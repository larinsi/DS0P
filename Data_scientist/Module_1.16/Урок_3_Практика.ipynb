{
  "nbformat": 4,
  "nbformat_minor": 0,
  "metadata": {
    "kernelspec": {
      "display_name": "Python 3",
      "language": "python",
      "name": "python3"
    },
    "language_info": {
      "codemirror_mode": {
        "name": "ipython",
        "version": 3
      },
      "file_extension": ".py",
      "mimetype": "text/x-python",
      "name": "python",
      "nbconvert_exporter": "python",
      "pygments_lexer": "ipython3",
      "version": "3.7.4"
    },
    "colab": {
      "name": "Урок 3. Практика.ipynb",
      "provenance": []
    }
  },
  "cells": [
    {
      "cell_type": "markdown",
      "metadata": {
        "id": "z8Vjo_exfb1Q"
      },
      "source": [
        "# Визуализация с seaborn"
      ]
    },
    {
      "cell_type": "code",
      "metadata": {
        "id": "v13VXCk_fb1X"
      },
      "source": [
        "import pandas as pd\n",
        "import matplotlib.pyplot as plt\n",
        "import seaborn as sns\n",
        "plt.style.use('seaborn')"
      ],
      "execution_count": null,
      "outputs": []
    },
    {
      "cell_type": "markdown",
      "metadata": {
        "id": "Di8UZ26Nfb1Y"
      },
      "source": [
        "## Урок 3. Построение составных графиков\n",
        "\n",
        "### Практика\n",
        "\n",
        "#### Задание 1\n",
        "\n",
        "Постройте FacetGrid, в котором строкам сетки будут соответствовать значения чистоты бриллианта, а столбцам сетки - значения огранки. Внутри сетки постройте точечные графики зависимости цены от высоты бриллианта (это параметр z). Разным цветом на графиках укажите бриллианты разного цвета."
      ]
    },
    {
      "cell_type": "code",
      "metadata": {
        "id": "PNkXemlAfb1Z"
      },
      "source": [
        ""
      ],
      "execution_count": null,
      "outputs": []
    }
  ]
}