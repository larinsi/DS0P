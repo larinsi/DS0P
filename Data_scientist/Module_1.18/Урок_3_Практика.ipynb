{
  "nbformat": 4,
  "nbformat_minor": 0,
  "metadata": {
    "kernelspec": {
      "display_name": "Python 3",
      "language": "python",
      "name": "python3"
    },
    "language_info": {
      "codemirror_mode": {
        "name": "ipython",
        "version": 3
      },
      "file_extension": ".py",
      "mimetype": "text/x-python",
      "name": "python",
      "nbconvert_exporter": "python",
      "pygments_lexer": "ipython3",
      "version": "3.7.4"
    },
    "colab": {
      "name": "Урок 3. Практика.ipynb",
      "provenance": [],
      "collapsed_sections": []
    }
  },
  "cells": [
    {
      "cell_type": "markdown",
      "metadata": {
        "id": "mcE6WSpQa7aM"
      },
      "source": [
        "# Чтение и запись данных\n"
      ]
    },
    {
      "cell_type": "code",
      "metadata": {
        "id": "rQ-sRrpda7aO"
      },
      "source": [
        "import pandas as pd"
      ],
      "execution_count": null,
      "outputs": []
    },
    {
      "cell_type": "markdown",
      "metadata": {
        "id": "a7jgjFEaa7aT"
      },
      "source": [
        "## Урок 4. Запись файлов в формате csv\n",
        "\n",
        "### Практика\n",
        "\n",
        "#### Задание 1. \n",
        "\n",
        "Скачайте файл Practice2_1.csv, загрузите его в DataFrame с помощью библиотеки pandas и выведите первые 5 строк этого файла на экран. После этого сохраните этот DataFrame в файл MyPractice2_1.csv, при этом укажите в качестве разделителя символ точки с запятой `;` и задайте столбцу-индексу имя \"index\". "
      ]
    },
    {
      "cell_type": "code",
      "metadata": {
        "id": "H8OFF7Rva7aU"
      },
      "source": [
        ""
      ],
      "execution_count": null,
      "outputs": []
    },
    {
      "cell_type": "code",
      "metadata": {
        "id": "4RRilZtQa7aY"
      },
      "source": [
        ""
      ],
      "execution_count": null,
      "outputs": []
    },
    {
      "cell_type": "markdown",
      "metadata": {
        "id": "TVDoNeBSa7ac"
      },
      "source": [
        "#### Задание 2. \n",
        "\n",
        "Снова выведите первые 5 строк файла Practice2_1.csv на экран. Обратите внимание на столбец `AvgTemperature`. В нем указана температура в градусах Фаренгейта. На основе столбца `AvgTemperature` cоздайте новый столбец с названием `AvgTemperature_2`, который будет содержать значения температуры, возведенные в квадрат. Затем сохраните этот DataFrame в файл MyPractice2_1.csv, используя в качестве разделителя запятую."
      ]
    },
    {
      "cell_type": "code",
      "metadata": {
        "id": "XmXx3o_aa7ad"
      },
      "source": [
        ""
      ],
      "execution_count": null,
      "outputs": []
    },
    {
      "cell_type": "code",
      "metadata": {
        "id": "UyF1R6B_a7ah"
      },
      "source": [
        ""
      ],
      "execution_count": null,
      "outputs": []
    },
    {
      "cell_type": "code",
      "metadata": {
        "id": "vLEvyOOEa7al"
      },
      "source": [
        ""
      ],
      "execution_count": null,
      "outputs": []
    }
  ]
}