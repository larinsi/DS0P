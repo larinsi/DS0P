{
 "cells": [
  {
   "cell_type": "markdown",
   "metadata": {
    "id": "0IjWMBr-bEaW"
   },
   "source": [
    "# Чтение и запись данных\n"
   ]
  },
  {
   "cell_type": "code",
   "execution_count": 1,
   "metadata": {
    "id": "uxDnEMa-bEaY"
   },
   "outputs": [],
   "source": [
    "import pandas as pd"
   ]
  },
  {
   "cell_type": "markdown",
   "metadata": {
    "id": "HGo1RQEqbEac"
   },
   "source": [
    "## Урок 2. Чтение файлов в формате CSV \n",
    "\n",
    "### Практика\n",
    "\n",
    "#### Задание 1\n",
    "\n",
    "Откройте файл Practice1_1.csv, загрузите его в DataFrame с помощью библиотеки pandas и выведите первые 5 строк этого файла на экран. Выведите на экран название **предпоследнего** столбца этого файла. Обратите внимание, что при загрузке файла вам может потребоваться явно указать разделитель столбцов."
   ]
  },
  {
   "cell_type": "code",
   "execution_count": 3,
   "metadata": {
    "id": "KJ475YH4bEac"
   },
   "outputs": [
    {
     "data": {
      "text/html": [
       "<div>\n",
       "<style scoped>\n",
       "    .dataframe tbody tr th:only-of-type {\n",
       "        vertical-align: middle;\n",
       "    }\n",
       "\n",
       "    .dataframe tbody tr th {\n",
       "        vertical-align: top;\n",
       "    }\n",
       "\n",
       "    .dataframe thead th {\n",
       "        text-align: right;\n",
       "    }\n",
       "</style>\n",
       "<table border=\"1\" class=\"dataframe\">\n",
       "  <thead>\n",
       "    <tr style=\"text-align: right;\">\n",
       "      <th></th>\n",
       "      <th>Date</th>\n",
       "      <th>Country</th>\n",
       "      <th>State</th>\n",
       "      <th>City</th>\n",
       "      <th>AvgTemperature</th>\n",
       "    </tr>\n",
       "  </thead>\n",
       "  <tbody>\n",
       "    <tr>\n",
       "      <th>0</th>\n",
       "      <td>2012-12-02</td>\n",
       "      <td>US</td>\n",
       "      <td>Additional Territories</td>\n",
       "      <td>San Juan Puerto Rico</td>\n",
       "      <td>79.4</td>\n",
       "    </tr>\n",
       "    <tr>\n",
       "      <th>1</th>\n",
       "      <td>2012-12-03</td>\n",
       "      <td>US</td>\n",
       "      <td>Additional Territories</td>\n",
       "      <td>San Juan Puerto Rico</td>\n",
       "      <td>77.9</td>\n",
       "    </tr>\n",
       "    <tr>\n",
       "      <th>2</th>\n",
       "      <td>2012-12-04</td>\n",
       "      <td>US</td>\n",
       "      <td>Additional Territories</td>\n",
       "      <td>San Juan Puerto Rico</td>\n",
       "      <td>79.8</td>\n",
       "    </tr>\n",
       "    <tr>\n",
       "      <th>3</th>\n",
       "      <td>2012-12-05</td>\n",
       "      <td>US</td>\n",
       "      <td>Additional Territories</td>\n",
       "      <td>San Juan Puerto Rico</td>\n",
       "      <td>80.2</td>\n",
       "    </tr>\n",
       "    <tr>\n",
       "      <th>4</th>\n",
       "      <td>2012-12-06</td>\n",
       "      <td>US</td>\n",
       "      <td>Additional Territories</td>\n",
       "      <td>San Juan Puerto Rico</td>\n",
       "      <td>78.2</td>\n",
       "    </tr>\n",
       "  </tbody>\n",
       "</table>\n",
       "</div>"
      ],
      "text/plain": [
       "         Date Country                   State                  City  \\\n",
       "0  2012-12-02      US  Additional Territories  San Juan Puerto Rico   \n",
       "1  2012-12-03      US  Additional Territories  San Juan Puerto Rico   \n",
       "2  2012-12-04      US  Additional Territories  San Juan Puerto Rico   \n",
       "3  2012-12-05      US  Additional Territories  San Juan Puerto Rico   \n",
       "4  2012-12-06      US  Additional Territories  San Juan Puerto Rico   \n",
       "\n",
       "   AvgTemperature  \n",
       "0            79.4  \n",
       "1            77.9  \n",
       "2            79.8  \n",
       "3            80.2  \n",
       "4            78.2  "
      ]
     },
     "execution_count": 3,
     "metadata": {},
     "output_type": "execute_result"
    }
   ],
   "source": [
    "df = pd.read_csv('Урок 2. Практика. Данные/Practice1_1.csv')\n",
    "df.head()"
   ]
  },
  {
   "cell_type": "code",
   "execution_count": 6,
   "metadata": {
    "id": "EuSnaIUYbEai"
   },
   "outputs": [
    {
     "data": {
      "text/plain": [
       "'City'"
      ]
     },
     "execution_count": 6,
     "metadata": {},
     "output_type": "execute_result"
    }
   ],
   "source": [
    "df.columns[-2]"
   ]
  },
  {
   "cell_type": "markdown",
   "metadata": {
    "id": "RzPKh-d_bEal"
   },
   "source": [
    "#### Задание 2. \n",
    "\n",
    "Откройте файл Practice1_2.csv и загрузите его в DataFrame с помощью библиотеки pandas, указав правильный разделитель столбцов и выбрав столбец-индекс."
   ]
  },
  {
   "cell_type": "code",
   "execution_count": 10,
   "metadata": {
    "id": "8uepvG0bbEan"
   },
   "outputs": [
    {
     "data": {
      "text/html": [
       "<div>\n",
       "<style scoped>\n",
       "    .dataframe tbody tr th:only-of-type {\n",
       "        vertical-align: middle;\n",
       "    }\n",
       "\n",
       "    .dataframe tbody tr th {\n",
       "        vertical-align: top;\n",
       "    }\n",
       "\n",
       "    .dataframe thead th {\n",
       "        text-align: right;\n",
       "    }\n",
       "</style>\n",
       "<table border=\"1\" class=\"dataframe\">\n",
       "  <thead>\n",
       "    <tr style=\"text-align: right;\">\n",
       "      <th></th>\n",
       "      <th>Date</th>\n",
       "      <th>Country</th>\n",
       "      <th>State</th>\n",
       "      <th>City</th>\n",
       "      <th>AvgTemperature</th>\n",
       "    </tr>\n",
       "  </thead>\n",
       "  <tbody>\n",
       "    <tr>\n",
       "      <th>56334</th>\n",
       "      <td>2012-12-02</td>\n",
       "      <td>US</td>\n",
       "      <td>Additional Territories</td>\n",
       "      <td>San Juan Puerto Rico</td>\n",
       "      <td>79.4</td>\n",
       "    </tr>\n",
       "    <tr>\n",
       "      <th>56335</th>\n",
       "      <td>2012-12-03</td>\n",
       "      <td>US</td>\n",
       "      <td>Additional Territories</td>\n",
       "      <td>San Juan Puerto Rico</td>\n",
       "      <td>77.9</td>\n",
       "    </tr>\n",
       "    <tr>\n",
       "      <th>56336</th>\n",
       "      <td>2012-12-04</td>\n",
       "      <td>US</td>\n",
       "      <td>Additional Territories</td>\n",
       "      <td>San Juan Puerto Rico</td>\n",
       "      <td>79.8</td>\n",
       "    </tr>\n",
       "    <tr>\n",
       "      <th>56337</th>\n",
       "      <td>2012-12-05</td>\n",
       "      <td>US</td>\n",
       "      <td>Additional Territories</td>\n",
       "      <td>San Juan Puerto Rico</td>\n",
       "      <td>80.2</td>\n",
       "    </tr>\n",
       "    <tr>\n",
       "      <th>56338</th>\n",
       "      <td>2012-12-06</td>\n",
       "      <td>US</td>\n",
       "      <td>Additional Territories</td>\n",
       "      <td>San Juan Puerto Rico</td>\n",
       "      <td>78.2</td>\n",
       "    </tr>\n",
       "  </tbody>\n",
       "</table>\n",
       "</div>"
      ],
      "text/plain": [
       "             Date Country                   State                  City  \\\n",
       "56334  2012-12-02      US  Additional Territories  San Juan Puerto Rico   \n",
       "56335  2012-12-03      US  Additional Territories  San Juan Puerto Rico   \n",
       "56336  2012-12-04      US  Additional Territories  San Juan Puerto Rico   \n",
       "56337  2012-12-05      US  Additional Territories  San Juan Puerto Rico   \n",
       "56338  2012-12-06      US  Additional Territories  San Juan Puerto Rico   \n",
       "\n",
       "       AvgTemperature  \n",
       "56334            79.4  \n",
       "56335            77.9  \n",
       "56336            79.8  \n",
       "56337            80.2  \n",
       "56338            78.2  "
      ]
     },
     "execution_count": 10,
     "metadata": {},
     "output_type": "execute_result"
    }
   ],
   "source": [
    "df1 = pd.read_csv('Урок 2. Практика. Данные/Practice1_2.csv', sep=';', index_col=0)\n",
    "df1.head()"
   ]
  },
  {
   "cell_type": "markdown",
   "metadata": {
    "id": "N1uR_1qQbEar"
   },
   "source": [
    "#### Задание 3\n",
    "\n",
    "Откройте файл Practice1_3.csv, загрузите его в DataFrame с помощью библиотеки pandas и выведите первые 5 строк этого файла на экран. Выведите на экран все записи, в которых значение температуры превышает 30 градусов. Обратите внимание, что вам может потребоваться явно указать разделитель столбцов."
   ]
  },
  {
   "cell_type": "code",
   "execution_count": 12,
   "metadata": {
    "id": "HLZiNQ2rbEar"
   },
   "outputs": [
    {
     "data": {
      "text/html": [
       "<div>\n",
       "<style scoped>\n",
       "    .dataframe tbody tr th:only-of-type {\n",
       "        vertical-align: middle;\n",
       "    }\n",
       "\n",
       "    .dataframe tbody tr th {\n",
       "        vertical-align: top;\n",
       "    }\n",
       "\n",
       "    .dataframe thead th {\n",
       "        text-align: right;\n",
       "    }\n",
       "</style>\n",
       "<table border=\"1\" class=\"dataframe\">\n",
       "  <thead>\n",
       "    <tr style=\"text-align: right;\">\n",
       "      <th></th>\n",
       "      <th>Date</th>\n",
       "      <th>Country</th>\n",
       "      <th>State</th>\n",
       "      <th>City</th>\n",
       "      <th>AvgTemperature</th>\n",
       "    </tr>\n",
       "  </thead>\n",
       "  <tbody>\n",
       "    <tr>\n",
       "      <th>0</th>\n",
       "      <td>2012-01-03</td>\n",
       "      <td>US</td>\n",
       "      <td>Alabama</td>\n",
       "      <td>Birmingham</td>\n",
       "      <td>30.9</td>\n",
       "    </tr>\n",
       "    <tr>\n",
       "      <th>1</th>\n",
       "      <td>2012-01-04</td>\n",
       "      <td>US</td>\n",
       "      <td>Alabama</td>\n",
       "      <td>Birmingham</td>\n",
       "      <td>34.7</td>\n",
       "    </tr>\n",
       "    <tr>\n",
       "      <th>2</th>\n",
       "      <td>2012-01-13</td>\n",
       "      <td>US</td>\n",
       "      <td>Alabama</td>\n",
       "      <td>Birmingham</td>\n",
       "      <td>31.6</td>\n",
       "    </tr>\n",
       "    <tr>\n",
       "      <th>3</th>\n",
       "      <td>2012-02-12</td>\n",
       "      <td>US</td>\n",
       "      <td>Alabama</td>\n",
       "      <td>Birmingham</td>\n",
       "      <td>29.5</td>\n",
       "    </tr>\n",
       "    <tr>\n",
       "      <th>4</th>\n",
       "      <td>2012-02-13</td>\n",
       "      <td>US</td>\n",
       "      <td>Alabama</td>\n",
       "      <td>Birmingham</td>\n",
       "      <td>34.8</td>\n",
       "    </tr>\n",
       "  </tbody>\n",
       "</table>\n",
       "</div>"
      ],
      "text/plain": [
       "         Date Country    State        City  AvgTemperature\n",
       "0  2012-01-03      US  Alabama  Birmingham            30.9\n",
       "1  2012-01-04      US  Alabama  Birmingham            34.7\n",
       "2  2012-01-13      US  Alabama  Birmingham            31.6\n",
       "3  2012-02-12      US  Alabama  Birmingham            29.5\n",
       "4  2012-02-13      US  Alabama  Birmingham            34.8"
      ]
     },
     "execution_count": 12,
     "metadata": {},
     "output_type": "execute_result"
    }
   ],
   "source": [
    "df2 = pd.read_csv('Урок 2. Практика. Данные/Practice1_3.csv')\n",
    "df2.head()"
   ]
  },
  {
   "cell_type": "code",
   "execution_count": 13,
   "metadata": {
    "id": "8IJ-8GG3bEav"
   },
   "outputs": [
    {
     "data": {
      "text/html": [
       "<div>\n",
       "<style scoped>\n",
       "    .dataframe tbody tr th:only-of-type {\n",
       "        vertical-align: middle;\n",
       "    }\n",
       "\n",
       "    .dataframe tbody tr th {\n",
       "        vertical-align: top;\n",
       "    }\n",
       "\n",
       "    .dataframe thead th {\n",
       "        text-align: right;\n",
       "    }\n",
       "</style>\n",
       "<table border=\"1\" class=\"dataframe\">\n",
       "  <thead>\n",
       "    <tr style=\"text-align: right;\">\n",
       "      <th></th>\n",
       "      <th>Date</th>\n",
       "      <th>Country</th>\n",
       "      <th>State</th>\n",
       "      <th>City</th>\n",
       "      <th>AvgTemperature</th>\n",
       "    </tr>\n",
       "  </thead>\n",
       "  <tbody>\n",
       "    <tr>\n",
       "      <th>0</th>\n",
       "      <td>2012-01-03</td>\n",
       "      <td>US</td>\n",
       "      <td>Alabama</td>\n",
       "      <td>Birmingham</td>\n",
       "      <td>30.9</td>\n",
       "    </tr>\n",
       "    <tr>\n",
       "      <th>1</th>\n",
       "      <td>2012-01-04</td>\n",
       "      <td>US</td>\n",
       "      <td>Alabama</td>\n",
       "      <td>Birmingham</td>\n",
       "      <td>34.7</td>\n",
       "    </tr>\n",
       "    <tr>\n",
       "      <th>2</th>\n",
       "      <td>2012-01-13</td>\n",
       "      <td>US</td>\n",
       "      <td>Alabama</td>\n",
       "      <td>Birmingham</td>\n",
       "      <td>31.6</td>\n",
       "    </tr>\n",
       "    <tr>\n",
       "      <th>4</th>\n",
       "      <td>2012-02-13</td>\n",
       "      <td>US</td>\n",
       "      <td>Alabama</td>\n",
       "      <td>Birmingham</td>\n",
       "      <td>34.8</td>\n",
       "    </tr>\n",
       "    <tr>\n",
       "      <th>5</th>\n",
       "      <td>2012-12-27</td>\n",
       "      <td>US</td>\n",
       "      <td>Alabama</td>\n",
       "      <td>Birmingham</td>\n",
       "      <td>34.3</td>\n",
       "    </tr>\n",
       "    <tr>\n",
       "      <th>6</th>\n",
       "      <td>2012-12-30</td>\n",
       "      <td>US</td>\n",
       "      <td>Alabama</td>\n",
       "      <td>Birmingham</td>\n",
       "      <td>34.5</td>\n",
       "    </tr>\n",
       "    <tr>\n",
       "      <th>8</th>\n",
       "      <td>2012-01-04</td>\n",
       "      <td>US</td>\n",
       "      <td>Alabama</td>\n",
       "      <td>Huntsville</td>\n",
       "      <td>32.6</td>\n",
       "    </tr>\n",
       "    <tr>\n",
       "      <th>9</th>\n",
       "      <td>2012-01-13</td>\n",
       "      <td>US</td>\n",
       "      <td>Alabama</td>\n",
       "      <td>Huntsville</td>\n",
       "      <td>30.1</td>\n",
       "    </tr>\n",
       "    <tr>\n",
       "      <th>10</th>\n",
       "      <td>2012-02-11</td>\n",
       "      <td>US</td>\n",
       "      <td>Alabama</td>\n",
       "      <td>Huntsville</td>\n",
       "      <td>34.8</td>\n",
       "    </tr>\n",
       "    <tr>\n",
       "      <th>12</th>\n",
       "      <td>2012-02-13</td>\n",
       "      <td>US</td>\n",
       "      <td>Alabama</td>\n",
       "      <td>Huntsville</td>\n",
       "      <td>31.5</td>\n",
       "    </tr>\n",
       "    <tr>\n",
       "      <th>13</th>\n",
       "      <td>2012-12-30</td>\n",
       "      <td>US</td>\n",
       "      <td>Alabama</td>\n",
       "      <td>Huntsville</td>\n",
       "      <td>34.1</td>\n",
       "    </tr>\n",
       "    <tr>\n",
       "      <th>14</th>\n",
       "      <td>2012-01-04</td>\n",
       "      <td>US</td>\n",
       "      <td>Alabama</td>\n",
       "      <td>Montgomery</td>\n",
       "      <td>34.3</td>\n",
       "    </tr>\n",
       "    <tr>\n",
       "      <th>15</th>\n",
       "      <td>2012-02-12</td>\n",
       "      <td>US</td>\n",
       "      <td>Alabama</td>\n",
       "      <td>Montgomery</td>\n",
       "      <td>33.3</td>\n",
       "    </tr>\n",
       "  </tbody>\n",
       "</table>\n",
       "</div>"
      ],
      "text/plain": [
       "          Date Country    State        City  AvgTemperature\n",
       "0   2012-01-03      US  Alabama  Birmingham            30.9\n",
       "1   2012-01-04      US  Alabama  Birmingham            34.7\n",
       "2   2012-01-13      US  Alabama  Birmingham            31.6\n",
       "4   2012-02-13      US  Alabama  Birmingham            34.8\n",
       "5   2012-12-27      US  Alabama  Birmingham            34.3\n",
       "6   2012-12-30      US  Alabama  Birmingham            34.5\n",
       "8   2012-01-04      US  Alabama  Huntsville            32.6\n",
       "9   2012-01-13      US  Alabama  Huntsville            30.1\n",
       "10  2012-02-11      US  Alabama  Huntsville            34.8\n",
       "12  2012-02-13      US  Alabama  Huntsville            31.5\n",
       "13  2012-12-30      US  Alabama  Huntsville            34.1\n",
       "14  2012-01-04      US  Alabama  Montgomery            34.3\n",
       "15  2012-02-12      US  Alabama  Montgomery            33.3"
      ]
     },
     "execution_count": 13,
     "metadata": {},
     "output_type": "execute_result"
    }
   ],
   "source": [
    "df2[df2['AvgTemperature'] > 30]"
   ]
  },
  {
   "cell_type": "code",
   "execution_count": null,
   "metadata": {},
   "outputs": [],
   "source": []
  }
 ],
 "metadata": {
  "colab": {
   "collapsed_sections": [],
   "name": "Урок 2. Практика.ipynb",
   "provenance": []
  },
  "kernelspec": {
   "display_name": "Python 3",
   "language": "python",
   "name": "python3"
  },
  "language_info": {
   "codemirror_mode": {
    "name": "ipython",
    "version": 3
   },
   "file_extension": ".py",
   "mimetype": "text/x-python",
   "name": "python",
   "nbconvert_exporter": "python",
   "pygments_lexer": "ipython3",
   "version": "3.8.5"
  }
 },
 "nbformat": 4,
 "nbformat_minor": 1
}
