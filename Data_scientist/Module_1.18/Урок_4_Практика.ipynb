{
  "nbformat": 4,
  "nbformat_minor": 0,
  "metadata": {
    "kernelspec": {
      "display_name": "Python 3",
      "language": "python",
      "name": "python3"
    },
    "language_info": {
      "codemirror_mode": {
        "name": "ipython",
        "version": 3
      },
      "file_extension": ".py",
      "mimetype": "text/x-python",
      "name": "python",
      "nbconvert_exporter": "python",
      "pygments_lexer": "ipython3",
      "version": "3.7.4"
    },
    "colab": {
      "name": "Урок 4. Практика.ipynb",
      "provenance": [],
      "collapsed_sections": []
    }
  },
  "cells": [
    {
      "cell_type": "markdown",
      "metadata": {
        "id": "jl_pG5GC5ceN"
      },
      "source": [
        "# Чтение и запись данных\n"
      ]
    },
    {
      "cell_type": "code",
      "metadata": {
        "id": "TploE7yd5ceO"
      },
      "source": [
        "import pandas as pd"
      ],
      "execution_count": null,
      "outputs": []
    },
    {
      "cell_type": "markdown",
      "metadata": {
        "id": "0lIFNVV65ceT"
      },
      "source": [
        "## Урок 4. Форматирование дат\n",
        "\n",
        "### Практика\n",
        "\n",
        "#### Задание 1.\n",
        "\n",
        "Скачайте файл Practice3_1.csv, загрузите его в DataFrame с помощью библиотеки pandas и выведите первые 5 строк этого файла на экран. Определите, какой формат дат используется в столбце `Date`. После этого загрузите файл Practice3_1.csv в DataFrame снова, использовав параметры `parse_dates` и `dayfirst`."
      ]
    },
    {
      "cell_type": "code",
      "metadata": {
        "id": "TJk1TLCh5ceU"
      },
      "source": [
        ""
      ],
      "execution_count": null,
      "outputs": []
    },
    {
      "cell_type": "markdown",
      "metadata": {
        "id": "edg9eYS35ceZ"
      },
      "source": [
        "#### Задание 2. \n",
        "\n",
        "На основе столбца \"Date\" создайте новый столбец \"Month\", который будет содержать _номер месяца_ (от 1 до 12), соответствующего дате в каждой строке. Затем сохраните этот DataFrame в файл MyPractice3_1.csv, используя в качестве разделителя точку с запятой `;`."
      ]
    },
    {
      "cell_type": "code",
      "metadata": {
        "id": "KwWakEIc5cea"
      },
      "source": [
        ""
      ],
      "execution_count": null,
      "outputs": []
    },
    {
      "cell_type": "code",
      "metadata": {
        "id": "Jtn7l0Ds5cef"
      },
      "source": [
        ""
      ],
      "execution_count": null,
      "outputs": []
    }
  ]
}