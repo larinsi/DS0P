{
  "nbformat": 4,
  "nbformat_minor": 0,
  "metadata": {
    "colab": {
      "name": "4_6_practice.ipynb",
      "provenance": [],
      "authorship_tag": "ABX9TyO+MRHVNJsZVDR5VCtxzVgv"
    },
    "kernelspec": {
      "name": "python3",
      "display_name": "Python 3"
    },
    "language_info": {
      "name": "python"
    }
  },
  "cells": [
    {
      "cell_type": "code",
      "execution_count": 46,
      "metadata": {
        "id": "DlgSSu099y8L"
      },
      "outputs": [],
      "source": [
        "import numpy as np\n",
        "\n",
        "def convolution(input_arr: np.array, convolution: np.array):\n",
        "  assert convolution.shape == (3, 3)\n",
        "  result = np.zeros((input_arr.shape[0], input_arr.shape[1]))\n",
        "  for i in range(1, input_arr.shape[0]-1):\n",
        "      for j in range(1, input_arr.shape[1]-1):\n",
        "          result[i][j] = np.sum(np.multiply(input_arr[i-1:i+2, j-1:j+2], convolution))\n",
        "  return result[1:-1, 1:-1]"
      ]
    },
    {
      "cell_type": "code",
      "source": [
        "A = np.array([[3, 3, 2, 1, 0],\n",
        "              [0, 0, 1, 3, 1],\n",
        "              [3, 1, 2, 2, 3],\n",
        "              [2, 0, 0, 2, 2],\n",
        "              [2, 0, 0, 0, 1]])\n",
        "in_matrix = np.array([[0, 1, 2],\n",
        "                      [2, 2, 0],\n",
        "                      [0, 1, 2]])\n",
        "\n",
        "print(A, \"\\n\", convolution(A, in_matrix))"
      ],
      "metadata": {
        "colab": {
          "base_uri": "https://localhost:8080/"
        },
        "id": "NXL1Z5Tz-nvV",
        "outputId": "03910f40-77a1-40dd-d658-5c6e22e3776a"
      },
      "execution_count": 47,
      "outputs": [
        {
          "output_type": "stream",
          "name": "stdout",
          "text": [
            "[[3 3 2 1 0]\n",
            " [0 0 1 3 1]\n",
            " [3 1 2 2 3]\n",
            " [2 0 0 2 2]\n",
            " [2 0 0 0 1]] \n",
            " [[12. 12. 17.]\n",
            " [10. 17. 19.]\n",
            " [ 9.  6. 14.]]\n"
          ]
        }
      ]
    },
    {
      "cell_type": "code",
      "source": [
        ""
      ],
      "metadata": {
        "id": "4fQr8TzaK4rr"
      },
      "execution_count": 47,
      "outputs": []
    }
  ]
}