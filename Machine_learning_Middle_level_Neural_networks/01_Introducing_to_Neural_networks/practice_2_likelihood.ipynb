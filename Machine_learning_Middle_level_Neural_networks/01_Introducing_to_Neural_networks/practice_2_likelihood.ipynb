{
 "cells": [
  {
   "cell_type": "markdown",
   "metadata": {
    "id": "Nbhpoh-KJZwF"
   },
   "source": [
    "**Задание 1** Реализуйте функции, необходимые для вычисления правдоподобия и логарифма правдоподобия."
   ]
  },
  {
   "cell_type": "code",
   "execution_count": 1,
   "metadata": {
    "id": "h476vhs2ysAZ"
   },
   "outputs": [],
   "source": [
    "import numpy as np\n",
    "import matplotlib.pyplot as plt"
   ]
  },
  {
   "cell_type": "code",
   "execution_count": 2,
   "metadata": {
    "id": "p-fV2G3iJYCk"
   },
   "outputs": [],
   "source": [
    "def p_hat(p, y):\n",
    "    # p - предсказанная моделью вероятность класса 1\n",
    "    # y - реальный класс (0 или 1)\n",
    "\n",
    "    # функция должна вернуть вероятность класса y, при предсказании\n",
    "    # модели p\n",
    "\n",
    "    # < YOUR CODE STARTS HERE >\n",
    "    return p if y == 1 else 1 - p\n",
    "    # < YOUR CODE ENDS HERE >\n",
    "\n",
    "def log_p_hat(p, y):\n",
    "    return np.log(p_hat(p, y))\n",
    "\n",
    "def likelihood(ps, ys):\n",
    "    # ps - предсказанные вероятности класса 1 моделю для N объектов\n",
    "    # ys - реальные классы N объектов\n",
    "\n",
    "    # функция должна использовать p_hat и возвращать правдоподобие\n",
    "    \n",
    "    likelihood_ = None\n",
    "    # < YOUR CODE STARTS HERE >\n",
    "    for i in range(len(ps)):\n",
    "        if i == 0:\n",
    "            likelihood_ = p_hat(ps[i], ys[i])\n",
    "        else:\n",
    "            likelihood_ *= p_hat(ps[i], ys[i])\n",
    "    # < YOUR CODE ENDS HERE >\n",
    "    return likelihood_\n",
    "\n",
    "def loglikelihood(ps, ys):\n",
    "    # ps - предсказанные вероятности класса 1 моделю для N объектов\n",
    "    # ys - реальные классы N объектов\n",
    "\n",
    "    # функция должна использовать log_p_hat и возвращать логарифм правдоподобия\n",
    "    # (на количество делить не нужно)\n",
    "\n",
    "    p = np.clip(ps, a_min=1e-6, a_max=1-1e-6)\n",
    "    log_probs = [log_p_hat(p, y) for (p, y) in zip(ps, ys)]\n",
    "    loglikelihood_ = None\n",
    "    # < YOUR CODE STARTS HERE >\n",
    "    for i in range(len(ps)):\n",
    "        if i == 0:\n",
    "            loglikelihood_ = log_p_hat(ps[i], ys[i])\n",
    "        else:\n",
    "            loglikelihood_ += log_p_hat(ps[i], ys[i])\n",
    "    # < YOUR CODE ENDS HERE >\n",
    "    return loglikelihood_\n"
   ]
  },
  {
   "cell_type": "code",
   "execution_count": 3,
   "metadata": {
    "id": "uJ7JwN8TEcjz"
   },
   "outputs": [
    {
     "name": "stdout",
     "output_type": "stream",
     "text": [
      "Tests passed!\n"
     ]
    }
   ],
   "source": [
    "test_ps = [0.1, 0.2, 0.3, 0.4]\n",
    "test_ys = [0, 1, 0, 1]\n",
    "assert likelihood(test_ps, test_ys) == 0.0504\n",
    "assert np.allclose(np.log(likelihood(test_ps, test_ys)), loglikelihood(test_ps, test_ys))\n",
    "print(\"Tests passed!\")"
   ]
  },
  {
   "cell_type": "markdown",
   "metadata": {
    "id": "erB6r92LF_Qu"
   },
   "source": [
    "**Задание 2** Применение принципа максимума правдоподобия на практике.\n",
    "\n",
    "Предположим у нас имеется монетка, подбросив которую 10 раз мы получили следующие результаты (0 -- решка, 1 -- орел):\n",
    "\n",
    "$$\n",
    "y = [1, 0, 1, 1, 1, 1, 0, 0, 0, 1]\n",
    "$$\n",
    "\n",
    "Наша задача узнать \"параметры\" этой монетки, а именно вероятность выпадения орла ($p$).\n",
    "\n",
    "Интуитивно понятно, что $p=0.6$, но давайте теперь получим это значение с помощью принципа максимума правдоподобия. \n",
    "\n",
    "Ваша задача используя код ниже показать что правдоподобие и его логарифм достигают экстремумов в 0.6. Мы будем это делать \"в лоб\". А именно мы посчитаем их значения для всех возможных вероятностей (с шагом 0.01) и визуально оценим их.\n",
    "\n",
    "*Подсказка: монетка это модель, которая не зависит от объекта и имеет только один параметр -- с какой вероятностью она выпадает орлом.*\n"
   ]
  },
  {
   "cell_type": "code",
   "execution_count": null,
   "metadata": {
    "colab": {
     "base_uri": "https://localhost:8080/",
     "height": 53
    },
    "id": "geZW5e1kHZe_",
    "outputId": "055fe9b3-ec94-4e9d-b804-bc1bb1b52d9a"
   },
   "outputs": [
    {
     "name": "stderr",
     "output_type": "stream",
     "text": [
      "/usr/local/lib/python3.6/dist-packages/ipykernel_launcher.py:16: RuntimeWarning: divide by zero encountered in log\n",
      "  app.launch_new_instance()\n"
     ]
    }
   ],
   "source": [
    "coins = np.array([1, 0, 1, 1, 1, 1, 0, 0, 0, 1])\n",
    "\n",
    "N = 100\n",
    "p_to_try =  np.linspace(0, 1, N)\n",
    "\n",
    "# < YOUR CODE STARTS HERE >\n",
    "# Переменная liks должна содержать значения правдоподобия для каждой из 100 вероятностей в p_to_try.\n",
    "# Переменная logliks должна содержать значения логарифма правдоподобия для каждой из 100 вероятностей в p_to_try.\n",
    "\n",
    "liks = \n",
    "logliks = \n",
    "\n",
    "# < YOUR CODE ENDS HERE >"
   ]
  },
  {
   "cell_type": "code",
   "execution_count": null,
   "metadata": {
    "id": "hYGVjlPC2wyT"
   },
   "outputs": [],
   "source": [
    "max_lik_ind = np.argmax(liks)\n",
    "max_loglik_ind = np.argmax(logliks)\n",
    "\n",
    "fig = plt.figure(figsize=(15, 5))\n",
    "grid = plt.GridSpec(1, 2)\n",
    "plt.subplot(grid[0, 0])\n",
    "plt.plot(p_to_try, liks)\n",
    "plt.xlabel(\"$p$\")\n",
    "plt.title(f\"Likelihood. Max at $p={p_to_try[max_lik_ind]:.2}$\")\n",
    "plt.scatter(p_to_try[max_lik_ind], liks[max_lik_ind], c='red')\n",
    "\n",
    "plt.subplot(grid[0, 1])\n",
    "plt.plot(p_to_try, -np.array(logliks))\n",
    "plt.scatter(p_to_try[max_loglik_ind], -logliks[max_loglik_ind], c='red')\n",
    "plt.title(f\"Negative Log Likelihood. Min at $p={p_to_try[max_loglik_ind]:.2}$\")\n",
    "_ = plt.xlabel(\"$p$\")"
   ]
  },
  {
   "cell_type": "markdown",
   "metadata": {
    "id": "3xjHYvJi-Xxq"
   },
   "source": [
    "**Задание 3 (бонусное)**\n",
    "Попробуйте доказать что максимум правдоподобия для задачи с монеткой достигается в общем случае при $p = \\frac{m}{N}$ , где $m$ -- количество выпавших единиц, а $N$ -- общее число подбрасываний. *Рекомендуем предварительно воспользоваться логарифмированием (т.е. перейти максимизировать log likelihood)*"
   ]
  }
 ],
 "metadata": {
  "colab": {
   "collapsed_sections": [],
   "name": "practice_2_likelihood.ipynb",
   "provenance": []
  },
  "kernelspec": {
   "display_name": "Python 3 (ipykernel)",
   "language": "python",
   "name": "python3"
  },
  "language_info": {
   "codemirror_mode": {
    "name": "ipython",
    "version": 3
   },
   "file_extension": ".py",
   "mimetype": "text/x-python",
   "name": "python",
   "nbconvert_exporter": "python",
   "pygments_lexer": "ipython3",
   "version": "3.10.2"
  }
 },
 "nbformat": 4,
 "nbformat_minor": 1
}
