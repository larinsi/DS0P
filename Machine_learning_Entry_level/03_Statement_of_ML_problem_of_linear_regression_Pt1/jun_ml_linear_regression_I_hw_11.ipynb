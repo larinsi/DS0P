{
 "cells": [
  {
   "cell_type": "markdown",
   "metadata": {
    "id": "cisB24TazhU2"
   },
   "source": [
    "### Урок 11. Домашняя работа\n",
    "\n",
    "**Задание простого уровня** Мы говорили, что метрики качества нужны, чтобы сравнивать различные модели между собой. В задаче полиномиальной регрессии реализуйте код для выбора лучшей степени полиному:\n",
    "\n",
    "* возьмите все степени от 1 до 10 по порядку, без пропусков.\n",
    "* найдите степень полинома, где будет лучший r2-score\n",
    "* напишите код, который выводит самую подходящую степень полинома и соответствующий ей скор\n",
    "\n",
    "Эта процедура называется Grid Search и помогает найти лучшие параметры для модели.\n",
    "\n",
    "Обучите лучшую модель и сделайте predict"
   ]
  },
  {
   "cell_type": "code",
   "execution_count": 1,
   "metadata": {},
   "outputs": [],
   "source": [
    "import numpy as np\n",
    "import pandas as pd\n",
    "import matplotlib.pyplot as plt\n",
    "from sklearn.linear_model import LinearRegression\n",
    "from sklearn.metrics import r2_score\n",
    "\n",
    "\n",
    "def optimal_degree(source_data: list, max_degree: int):\n",
    "    \n",
    "    optimal_degree = 1\n",
    "    top_error = -5\n",
    "    \n",
    "    for degree in range(1, max_degree+1):\n",
    "        X = np.array([source_data['x_train']**n for n in range(1, degree + 1)]).T\n",
    "    \n",
    "        model = LinearRegression().fit(X, data['y_train'])\n",
    "        y_pred = model.predict(X)\n",
    "\n",
    "        error = r2_score(data['y_train'], y_pred)\n",
    "        if 1 - error < 1 - top_error:\n",
    "            optimal_degree, top_error = degree, error\n",
    "\n",
    "    print('Лучшая степень полинома %d Ошибка %.7f' % (optimal_degree, top_error))       "
   ]
  },
  {
   "cell_type": "code",
   "execution_count": 2,
   "metadata": {},
   "outputs": [],
   "source": [
    "data = pd.read_csv('3.10_non_linear.csv', sep=',')"
   ]
  },
  {
   "cell_type": "code",
   "execution_count": 3,
   "metadata": {},
   "outputs": [
    {
     "name": "stdout",
     "output_type": "stream",
     "text": [
      "Лучшая степень полинома 10 Ошибка 0.9091134\n"
     ]
    }
   ],
   "source": [
    "# Применяем функцию\n",
    "degree = 10\n",
    "optimal_degree(data, degree)"
   ]
  },
  {
   "cell_type": "code",
   "execution_count": 4,
   "metadata": {},
   "outputs": [
    {
     "data": {
      "text/plain": [
       "array([ 0.8821006 ,  1.01897586,  1.21593628,  1.90777376,  1.89320051,\n",
       "        1.96799147,  1.99510703,  2.00255703,  2.05113532,  2.05904852,\n",
       "        2.07135506,  2.08488896,  2.08789343,  2.05782437,  1.96152892,\n",
       "        1.70752908,  1.25295916,  1.19221967,  1.03691941,  1.0029106 ,\n",
       "        0.88643141,  0.87018969,  0.48418425,  0.44549171,  0.29608621,\n",
       "        0.26126526,  0.20252309,  0.19922486,  0.17116338,  0.15216143,\n",
       "        0.15216143,  0.15070416,  0.14577305,  0.13117674,  0.09362263,\n",
       "        0.08594872,  0.07275972,  0.06757122, -0.00888368, -0.00456099,\n",
       "        0.00499688,  0.05865998,  0.10034361,  0.22510042,  0.27123181,\n",
       "        0.37545175,  0.56831688,  0.9644282 ,  0.9351924 ,  0.9351924 ])"
      ]
     },
     "execution_count": 4,
     "metadata": {},
     "output_type": "execute_result"
    }
   ],
   "source": [
    "X = np.array([data['x_train']**n for n in range(1, degree+1)]).T\n",
    "\n",
    "model = LinearRegression().fit(X, data['y_train'])\n",
    "\n",
    "y_pred = model.predict(X)\n",
    "y_pred"
   ]
  },
  {
   "cell_type": "markdown",
   "metadata": {
    "id": "z3dSmlAFzhU9"
   },
   "source": [
    "**Задание среднего уровня** Напишите класс для обучения модели, который содержит:\n",
    "\n",
    "* функцию `.fit(X, y)` , которая принимает на вход массив фичей `X`, массив таргетов `y` и обучает коэффициенты регрессии. Код для обучения взять из первого урока модуля *Постановка ML задачи линейной регрессии*\n",
    "* функцию `.predict(X)`, которая по массиву фичей `X` возвращает массив предсказаний `y`\n",
    "\n",
    "Нужно использовать код для аналитически вычисляемых коэффициентов. \n",
    "\n",
    "Это задание позволит понять, как работает линейная регрессия \"внутри\" библиотечной реализации."
   ]
  },
  {
   "cell_type": "code",
   "execution_count": 5,
   "metadata": {
    "id": "rayvZFx1zhU9"
   },
   "outputs": [],
   "source": [
    "class CustomLinearReg:\n",
    "    def __init__(self):\n",
    "        self.w = np.array([])\n",
    "    \n",
    "    def fit(self, X, y):\n",
    "        X_T_X = X.T.dot(X)\n",
    "        self.w = np.linalg.inv(X_T_X).dot(X.T).dot(y)\n",
    "    \n",
    "    def predict(self, X):\n",
    "        y_pred = X.dot(self.w)\n",
    "        return y_pred"
   ]
  },
  {
   "cell_type": "code",
   "execution_count": 6,
   "metadata": {
    "scrolled": true
   },
   "outputs": [
    {
     "data": {
      "text/plain": [
       "0     0.111033\n",
       "1     0.117717\n",
       "2     0.189293\n",
       "3     0.227318\n",
       "4     0.269052\n",
       "5     0.246251\n",
       "6     0.248712\n",
       "7     0.321659\n",
       "8     0.308136\n",
       "9     0.291695\n",
       "10    0.292232\n",
       "11    0.183733\n",
       "12    0.227482\n",
       "13    0.278407\n",
       "14    0.303810\n",
       "15    0.260125\n",
       "16    0.098740\n",
       "17    0.153654\n",
       "18    0.112151\n",
       "19    0.100016\n",
       "20    0.172688\n",
       "21    0.141164\n",
       "22    0.089606\n",
       "23    0.076664\n",
       "24    0.017655\n",
       "25    0.022666\n",
       "26    0.025959\n",
       "27   -0.009533\n",
       "28    0.015634\n",
       "29    0.061773\n",
       "30    0.041777\n",
       "31    0.028452\n",
       "32    0.006660\n",
       "33    0.014051\n",
       "34    0.007562\n",
       "35   -0.007578\n",
       "36    0.059465\n",
       "37   -0.044492\n",
       "38   -0.005061\n",
       "39    0.012608\n",
       "40    0.041435\n",
       "41   -0.030611\n",
       "42    0.003301\n",
       "43    0.055425\n",
       "44    0.021937\n",
       "45    0.035222\n",
       "46    0.088613\n",
       "47    0.118124\n",
       "48    0.167562\n",
       "49    0.088004\n",
       "dtype: float64"
      ]
     },
     "execution_count": 6,
     "metadata": {},
     "output_type": "execute_result"
    }
   ],
   "source": [
    "reg = CustomLinearReg()\n",
    "reg.fit(data[['x_train']], data['y_train'])\n",
    "reg.predict(data[['y_train']])"
   ]
  },
  {
   "cell_type": "markdown",
   "metadata": {
    "id": "uwWP7aPOzhVA"
   },
   "source": [
    "**Задание высокого уровня**\n",
    "\n",
    "1. разделите датасет с домами Бостона из Урока 2 (таргет и фичи) на две части: в одной части 80% датасета (назовём train) в другой 20% (назовём valid) с помощью функции `train_test_split` из библиотеки `sklearn`\n",
    "1. обучите модель только на train датасете\n",
    "1. постройте предсказания valid датасете\n",
    "1. Посчитайте  `r2 score` на валидационном сете\n",
    "\n",
    "После этого примените к обеим датасетам z-преобразование и повторите шаги 2-4. Как изменилась метрика r2?\n",
    "\n",
    "Это задание поможет понять, как валидировать линейную регрессию (и другие модели) на отложенной выборке."
   ]
  },
  {
   "cell_type": "code",
   "execution_count": 7,
   "metadata": {
    "id": "f6p8B0VB5mHa"
   },
   "outputs": [],
   "source": [
    "from sklearn.datasets import load_boston\n",
    "\n",
    "boston_dataset = load_boston()\n",
    "\n",
    "features = boston_dataset.data\n",
    "y = boston_dataset.target"
   ]
  },
  {
   "cell_type": "code",
   "execution_count": 8,
   "metadata": {},
   "outputs": [],
   "source": [
    "from sklearn.model_selection import train_test_split\n",
    "\n",
    "[features_train, features_valid, y_train, y_valid] = train_test_split(features, y, train_size=0.8, test_size=0.2)"
   ]
  },
  {
   "cell_type": "code",
   "execution_count": 9,
   "metadata": {},
   "outputs": [],
   "source": [
    "model = LinearRegression().fit(features_train, y_train)\n",
    "y_pred = model.predict(features_valid)"
   ]
  },
  {
   "cell_type": "code",
   "execution_count": 10,
   "metadata": {},
   "outputs": [
    {
     "data": {
      "text/plain": [
       "0.7620852445816576"
      ]
     },
     "execution_count": 10,
     "metadata": {},
     "output_type": "execute_result"
    }
   ],
   "source": [
    "error = r2_score(y_valid, y_pred)\n",
    "error"
   ]
  },
  {
   "cell_type": "code",
   "execution_count": 11,
   "metadata": {},
   "outputs": [],
   "source": [
    "from sklearn.preprocessing import StandardScaler\n",
    "\n",
    "transformed_features = StandardScaler().fit_transform(features)\n",
    "transformed_y = StandardScaler().fit_transform(y.reshape(-1, 1)).reshape(-1)"
   ]
  },
  {
   "cell_type": "code",
   "execution_count": 12,
   "metadata": {},
   "outputs": [],
   "source": [
    "[tr_features_train, tr_features_valid, tr_y_train, tr_y_valid] = train_test_split(transformed_features, \n",
    "                                                                                  transformed_y,\n",
    "                                                                                  train_size=0.8, test_size=0.2)"
   ]
  },
  {
   "cell_type": "code",
   "execution_count": 13,
   "metadata": {},
   "outputs": [],
   "source": [
    "model = LinearRegression().fit(tr_features_train, tr_y_train)\n",
    "tr_y_pred = model.predict(tr_features_valid)"
   ]
  },
  {
   "cell_type": "code",
   "execution_count": 14,
   "metadata": {},
   "outputs": [
    {
     "data": {
      "text/plain": [
       "0.701190392050731"
      ]
     },
     "execution_count": 14,
     "metadata": {},
     "output_type": "execute_result"
    }
   ],
   "source": [
    "r2_score(tr_y_valid, tr_y_pred)"
   ]
  },
  {
   "cell_type": "markdown",
   "metadata": {},
   "source": [
    "`r2_score` ухудшилась после применения Z-преобразования"
   ]
  },
  {
   "cell_type": "code",
   "execution_count": null,
   "metadata": {},
   "outputs": [],
   "source": []
  }
 ],
 "metadata": {
  "colab": {
   "collapsed_sections": [],
   "name": "jun_ml_linear_regression_I-hw_11.ipynb",
   "provenance": []
  },
  "kernelspec": {
   "display_name": "Python 3",
   "language": "python",
   "name": "python3"
  },
  "language_info": {
   "codemirror_mode": {
    "name": "ipython",
    "version": 3
   },
   "file_extension": ".py",
   "mimetype": "text/x-python",
   "name": "python",
   "nbconvert_exporter": "python",
   "pygments_lexer": "ipython3",
   "version": "3.8.8"
  }
 },
 "nbformat": 4,
 "nbformat_minor": 1
}
