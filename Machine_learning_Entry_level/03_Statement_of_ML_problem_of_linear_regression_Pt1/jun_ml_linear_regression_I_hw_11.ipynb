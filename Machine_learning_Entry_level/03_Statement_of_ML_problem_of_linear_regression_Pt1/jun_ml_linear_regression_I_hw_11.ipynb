{
 "cells": [
  {
   "cell_type": "markdown",
   "metadata": {
    "id": "cisB24TazhU2"
   },
   "source": [
    "### Урок 11. Домашняя работа\n",
    "\n",
    "**Задание простого уровня** Мы говорили, что метрики качества нужны, чтобы сравнивать различные модели между собой. В задаче полиномиальной регрессии реализуйте код для выбора лучшей степени полиному:\n",
    "\n",
    "* возьмите все степени от 1 до 10 по порядку, без пропусков.\n",
    "* найдите степень полинома, где будет лучший r2-score\n",
    "* напишите код, который выводит самую подходящую степень полинома и соответствующий ей скор\n",
    "\n",
    "Эта процедура называется Grid Search и помогает найти лучшие параметры для модели.\n",
    "\n",
    "Обучите лучшую модель и сделайте predict"
   ]
  },
  {
   "cell_type": "code",
   "execution_count": 1,
   "metadata": {},
   "outputs": [],
   "source": [
    "import numpy as np\n",
    "import pandas as pd\n",
    "import matplotlib.pyplot as plt\n",
    "from sklearn.linear_model import LinearRegression\n",
    "from sklearn.metrics import r2_score\n",
    "\n",
    "\n",
    "def optimal_degree(source_data: list, max_degree: int):\n",
    "    \n",
    "    optimal_degree = 1\n",
    "    top_error = -5\n",
    "    \n",
    "    for degree in range(1, max_degree+1):\n",
    "        X = np.array([source_data['x_train']**n for n in range(1, degree + 1)]).T\n",
    "    \n",
    "        model = LinearRegression().fit(X, data['y_train'])\n",
    "        y_pred = model.predict(X)\n",
    "\n",
    "        error = r2_score(data['y_train'], y_pred)\n",
    "        if 1 - error < 1 - top_error:\n",
    "            optimal_degree, top_error = degree, error\n",
    "\n",
    "    print('Лучшая степень полинома %d Ошибка %.7f' % (optimal_degree, top_error))       "
   ]
  },
  {
   "cell_type": "code",
   "execution_count": 2,
   "metadata": {},
   "outputs": [],
   "source": [
    "data = pd.read_csv('3.10_non_linear.csv', sep=',')"
   ]
  },
  {
   "cell_type": "code",
   "execution_count": 3,
   "metadata": {},
   "outputs": [
    {
     "name": "stdout",
     "output_type": "stream",
     "text": [
      "Лучшая степень полинома 10 Ошибка 0.9091134\n"
     ]
    }
   ],
   "source": [
    "# Применяем функцию\n",
    "degree = 10\n",
    "optimal_degree(data, degree)"
   ]
  },
  {
   "cell_type": "code",
   "execution_count": 10,
   "metadata": {},
   "outputs": [
    {
     "data": {
      "text/plain": [
       "array([ 0.88210063,  1.01897589,  1.21593631,  1.9077738 ,  1.89320055,\n",
       "        1.96799152,  1.99510707,  2.00255707,  2.05113536,  2.05904856,\n",
       "        2.07135511,  2.084889  ,  2.08789347,  2.05782442,  1.96152897,\n",
       "        1.70752912,  1.2529592 ,  1.19221972,  1.03691945,  1.00291065,\n",
       "        0.88643145,  0.87018973,  0.48418429,  0.44549175,  0.29608625,\n",
       "        0.26126529,  0.20252313,  0.19922489,  0.17116341,  0.15216147,\n",
       "        0.15216147,  0.15070419,  0.14577308,  0.13117677,  0.09362265,\n",
       "        0.08594874,  0.07275973,  0.06757124, -0.00888369, -0.00456102,\n",
       "        0.00499685,  0.05865993,  0.10034355,  0.22510034,  0.27123172,\n",
       "        0.37545165,  0.56831675,  0.96442793,  0.93519213,  0.93519213])"
      ]
     },
     "execution_count": 10,
     "metadata": {},
     "output_type": "execute_result"
    }
   ],
   "source": [
    "X = np.array([data['x_train']**n for n in range(1, degree+1)]).T\n",
    "\n",
    "model = LinearRegression().fit(X, data['y_train'])\n",
    "\n",
    "y_pred = model.predict(X)\n",
    "y_pred"
   ]
  },
  {
   "cell_type": "markdown",
   "metadata": {
    "id": "z3dSmlAFzhU9"
   },
   "source": [
    "**Задание среднего уровня** Напишите класс для обучения модели, который содержит:\n",
    "\n",
    "* функцию `.fit(X, y)` , которая принимает на вход массив фичей `X`, массив таргетов `y` и обучает коэффициенты регрессии. Код для обучения взять из первого урока модуля *Постановка ML задачи линейной регрессии*\n",
    "* функцию `.predict(X)`, которая по массиву фичей `X` возвращает массив предсказаний `y`\n",
    "\n",
    "Нужно использовать код для аналитически вычисляемых коэффициентов. \n",
    "\n",
    "Это задание позволит понять, как работает линейная регрессия \"внутри\" библиотечной реализации."
   ]
  },
  {
   "cell_type": "code",
   "execution_count": null,
   "metadata": {
    "id": "rayvZFx1zhU9"
   },
   "outputs": [],
   "source": [
    "class CustomLinearReg:\n",
    "    def __init__(self):\n",
    "        pass\n",
    "    \n",
    "    def fit(X, y):\n",
    "        pass\n",
    "    \n",
    "    def predict(X):\n",
    "        pass"
   ]
  },
  {
   "cell_type": "markdown",
   "metadata": {
    "id": "uwWP7aPOzhVA"
   },
   "source": [
    "**Задание высокого уровня**\n",
    "\n",
    "1. разделите датасет с домами Бостона из Урока 2 (таргет и фичи) на две части: в одной части 80% датасета (назовём train) в другой 20% (назовём valid) с помощью функции `train_test_split` из библиотеки `sklearn`\n",
    "1. обучите модель только на train датасете\n",
    "1. постройте предсказания valid датасете\n",
    "1. Посчитайте  `r2 score` на валидационном сете\n",
    "\n",
    "После этого примените к обеим датасетам z-преобразование и повторите шаги 2-4. Как изменилась метрика r2?\n",
    "\n",
    "Это задание поможет понять, как валидировать линейную регрессию (и другие модели) на отложенной выборке."
   ]
  },
  {
   "cell_type": "code",
   "execution_count": null,
   "metadata": {
    "id": "f6p8B0VB5mHa"
   },
   "outputs": [],
   "source": []
  }
 ],
 "metadata": {
  "colab": {
   "collapsed_sections": [],
   "name": "jun_ml_linear_regression_I-hw_11.ipynb",
   "provenance": []
  },
  "kernelspec": {
   "display_name": "Python 3",
   "language": "python",
   "name": "python3"
  },
  "language_info": {
   "codemirror_mode": {
    "name": "ipython",
    "version": 3
   },
   "file_extension": ".py",
   "mimetype": "text/x-python",
   "name": "python",
   "nbconvert_exporter": "python",
   "pygments_lexer": "ipython3",
   "version": "3.8.8"
  }
 },
 "nbformat": 4,
 "nbformat_minor": 1
}
