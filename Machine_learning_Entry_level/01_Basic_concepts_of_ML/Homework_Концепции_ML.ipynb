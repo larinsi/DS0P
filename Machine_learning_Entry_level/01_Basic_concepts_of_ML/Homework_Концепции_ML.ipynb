{
 "cells": [
  {
   "cell_type": "markdown",
   "metadata": {
    "id": "AA9qiddM7MxM"
   },
   "source": [
    "# Основные концепции Machine Learning. Домашняя работа"
   ]
  },
  {
   "cell_type": "code",
   "execution_count": 1,
   "metadata": {
    "id": "_XMI1aaX7MxQ"
   },
   "outputs": [],
   "source": [
    "### Тут нужно сделать импорты всех необходимых библиотек ###\n",
    "import pandas as pd\n",
    "import numpy as np\n",
    "import matplotlib.pyplot as plt\n",
    "\n",
    "%matplotlib inline"
   ]
  },
  {
   "cell_type": "code",
   "execution_count": null,
   "metadata": {
    "id": "0Kjpkv3o7MxZ"
   },
   "outputs": [],
   "source": []
  },
  {
   "cell_type": "code",
   "execution_count": 2,
   "metadata": {
    "id": "fD4otYne7Mxi"
   },
   "outputs": [
    {
     "data": {
      "text/html": [
       "<div>\n",
       "<style scoped>\n",
       "    .dataframe tbody tr th:only-of-type {\n",
       "        vertical-align: middle;\n",
       "    }\n",
       "\n",
       "    .dataframe tbody tr th {\n",
       "        vertical-align: top;\n",
       "    }\n",
       "\n",
       "    .dataframe thead th {\n",
       "        text-align: right;\n",
       "    }\n",
       "</style>\n",
       "<table border=\"1\" class=\"dataframe\">\n",
       "  <thead>\n",
       "    <tr style=\"text-align: right;\">\n",
       "      <th></th>\n",
       "      <th>disk</th>\n",
       "      <th>os</th>\n",
       "      <th>price</th>\n",
       "      <th>year</th>\n",
       "    </tr>\n",
       "  </thead>\n",
       "  <tbody>\n",
       "    <tr>\n",
       "      <th>0</th>\n",
       "      <td>64</td>\n",
       "      <td>Android</td>\n",
       "      <td>7256</td>\n",
       "      <td>2016</td>\n",
       "    </tr>\n",
       "    <tr>\n",
       "      <th>1</th>\n",
       "      <td>128</td>\n",
       "      <td>Android</td>\n",
       "      <td>7623</td>\n",
       "      <td>2015</td>\n",
       "    </tr>\n",
       "    <tr>\n",
       "      <th>2</th>\n",
       "      <td>64</td>\n",
       "      <td>Android</td>\n",
       "      <td>1916</td>\n",
       "      <td>2010</td>\n",
       "    </tr>\n",
       "    <tr>\n",
       "      <th>3</th>\n",
       "      <td>512</td>\n",
       "      <td>iOS</td>\n",
       "      <td>15045</td>\n",
       "      <td>2017</td>\n",
       "    </tr>\n",
       "    <tr>\n",
       "      <th>4</th>\n",
       "      <td>16</td>\n",
       "      <td>Android</td>\n",
       "      <td>4478</td>\n",
       "      <td>2013</td>\n",
       "    </tr>\n",
       "  </tbody>\n",
       "</table>\n",
       "</div>"
      ],
      "text/plain": [
       "   disk       os  price  year\n",
       "0    64  Android   7256  2016\n",
       "1   128  Android   7623  2015\n",
       "2    64  Android   1916  2010\n",
       "3   512      iOS  15045  2017\n",
       "4    16  Android   4478  2013"
      ]
     },
     "execution_count": 2,
     "metadata": {},
     "output_type": "execute_result"
    }
   ],
   "source": [
    "### Здесь требуется загрузить датасет phones.csv ###\n",
    "df_phones = pd.read_csv('1.8_phones.csv')\n",
    "df_phones.head()"
   ]
  },
  {
   "cell_type": "code",
   "execution_count": null,
   "metadata": {
    "id": "HzmOX-Yd7Mxo"
   },
   "outputs": [],
   "source": []
  },
  {
   "cell_type": "code",
   "execution_count": 3,
   "metadata": {
    "id": "a2Hw3Jso7Mxt",
    "scrolled": false
   },
   "outputs": [
    {
     "data": {
      "image/png": "[encoded data removed]",
      "text/plain": [
       "<Figure size 720x720 with 1 Axes>"
      ]
     },
     "metadata": {
      "needs_background": "light"
     },
     "output_type": "display_data"
    }
   ],
   "source": [
    "### Опционально: используя matplotlib, можно сделать визуализацию загруженного датасета ###\n",
    "fig, ax = plt.subplots(figsize=(10,10))\n",
    "\n",
    "ax.scatter(df_phones['disk'], df_phones['price'], s=100)\n",
    "ax.set_xlabel('Объем памяти, Gb', fontsize=14)\n",
    "ax.set_ylabel('Цена, ед.', fontsize=14)\n",
    "ax.set_title('Зависимость цены от объема внутренней памяти', fontsize=18)\n",
    "\n",
    "plt.show()"
   ]
  },
  {
   "cell_type": "code",
   "execution_count": null,
   "metadata": {
    "id": "rXhrelNp7Mx0"
   },
   "outputs": [],
   "source": []
  },
  {
   "cell_type": "markdown",
   "metadata": {
    "id": "h1rvGoCB7Mx5"
   },
   "source": [
    "Задание 1: обучить модель регрессии"
   ]
  },
  {
   "cell_type": "code",
   "execution_count": 4,
   "metadata": {
    "id": "XY23EgHH7Mx6"
   },
   "outputs": [],
   "source": [
    "### Тут нужно выгрузить в соответствующие переменные выбранные признаки ###\n",
    "from sklearn.linear_model import LinearRegression\n",
    "X = df_phones[['disk']]\n",
    "y = df_phones['price']"
   ]
  },
  {
   "cell_type": "code",
   "execution_count": 5,
   "metadata": {
    "id": "US0Ox9F57Mx9"
   },
   "outputs": [
    {
     "data": {
      "text/plain": [
       "6120.265447090668"
      ]
     },
     "execution_count": 5,
     "metadata": {},
     "output_type": "execute_result"
    }
   ],
   "source": [
    "### Здесь следует запустить процесс обучения ###\n",
    "### и продемонстрировать работоспобность обученной модели ###\n",
    "reg = LinearRegression().fit(X, y)\n",
    "reg.predict(X[0:1])[0]"
   ]
  },
  {
   "cell_type": "code",
   "execution_count": null,
   "metadata": {},
   "outputs": [],
   "source": []
  },
  {
   "cell_type": "markdown",
   "metadata": {
    "id": "yuclRz_n7MyE"
   },
   "source": [
    "Задание 2: обучить модель классификации"
   ]
  },
  {
   "cell_type": "code",
   "execution_count": 15,
   "metadata": {
    "id": "J4Ht5MM97MyF"
   },
   "outputs": [],
   "source": [
    "### Тут нужно выгрузить в соответствующие переменные выбранные признаки ###\n",
    "from sklearn.tree import DecisionTreeClassifier\n",
    "from sklearn.tree import export_text\n",
    "X = df_phones[['price', 'year']] \n",
    "y = df_phones['os']"
   ]
  },
  {
   "cell_type": "code",
   "execution_count": 16,
   "metadata": {
    "id": "DMpz3V8g7MyI"
   },
   "outputs": [
    {
     "data": {
      "text/plain": [
       "('iOS', 'iOS')"
      ]
     },
     "execution_count": 16,
     "metadata": {},
     "output_type": "execute_result"
    }
   ],
   "source": [
    "### Здесь следует запустить процесс обучения ###\n",
    "### и продемонстрировать работоспобность обученной модели ###\n",
    "cl = DecisionTreeClassifier().fit(X, y)\n",
    "cl.predict(X[3:4])[0], y[3]\n"
   ]
  },
  {
   "cell_type": "code",
   "execution_count": 17,
   "metadata": {
    "id": "hS-diYYZ7MyK"
   },
   "outputs": [
    {
     "name": "stdout",
     "output_type": "stream",
     "text": [
      "|--- feature_0 <= 7660.50\n",
      "|   |--- feature_1 <= 2012.50\n",
      "|   |   |--- feature_0 <= 3855.50\n",
      "|   |   |   |--- class: Android\n",
      "|   |   |--- feature_0 >  3855.50\n",
      "|   |   |   |--- class: iOS\n",
      "|   |--- feature_1 >  2012.50\n",
      "|   |   |--- class: Android\n",
      "|--- feature_0 >  7660.50\n",
      "|   |--- feature_1 <= 2015.50\n",
      "|   |   |--- class: iOS\n",
      "|   |--- feature_1 >  2015.50\n",
      "|   |   |--- feature_0 <= 11017.00\n",
      "|   |   |   |--- class: Android\n",
      "|   |   |--- feature_0 >  11017.00\n",
      "|   |   |   |--- class: iOS\n",
      "\n"
     ]
    }
   ],
   "source": [
    "print(export_text(cl))"
   ]
  },
  {
   "cell_type": "code",
   "execution_count": null,
   "metadata": {},
   "outputs": [],
   "source": []
  },
  {
   "cell_type": "markdown",
   "metadata": {
    "id": "PLUEg9NE7MyM"
   },
   "source": [
    "Задание 3: обучить модель кластеризации"
   ]
  },
  {
   "cell_type": "code",
   "execution_count": 8,
   "metadata": {
    "id": "uI70MBPL7MyN"
   },
   "outputs": [],
   "source": [
    "### Тут нужно выгрузить в соответствующие переменные выбранные признаки ###\n",
    "from sklearn.cluster import KMeans\n",
    "X = df_phones[['disk', 'price']] "
   ]
  },
  {
   "cell_type": "code",
   "execution_count": 9,
   "metadata": {
    "id": "Fn65CuKw7MyR"
   },
   "outputs": [
    {
     "data": {
      "text/plain": [
       "array([[  212.17391304,  8323.32608696],\n",
       "       [  410.66666667, 12896.83333333],\n",
       "       [   70.4       ,  3958.53333333]])"
      ]
     },
     "execution_count": 9,
     "metadata": {},
     "output_type": "execute_result"
    }
   ],
   "source": [
    "### Здесь следует запустить процесс обучения ###\n",
    "### и продемонстрировать работоспобность обученной модели ###\n",
    "clust = KMeans(n_clusters=3).fit(X)\n",
    "clust.cluster_centers_"
   ]
  },
  {
   "cell_type": "code",
   "execution_count": 10,
   "metadata": {
    "id": "Icl5e_aO7MyU"
   },
   "outputs": [
    {
     "data": {
      "image/png": "[encoded data removed]",
      "text/plain": [
       "<Figure size 720x720 with 1 Axes>"
      ]
     },
     "metadata": {
      "needs_background": "light"
     },
     "output_type": "display_data"
    }
   ],
   "source": [
    "fig, ax = plt.subplots(figsize=(10,10))\n",
    "\n",
    "ax.scatter(df_phones['disk'], df_phones['price'], s=100)\n",
    "ax.set_xlabel('Объем памяти, Gb', fontsize=14)\n",
    "ax.set_ylabel('Цена, ед.', fontsize=14)\n",
    "ax.set_title('Зависимость цены от объема внутренней памяти', fontsize=18)\n",
    "ax.scatter(clust.cluster_centers_[0][0], clust.cluster_centers_[0][1], marker='x', color='black')\n",
    "ax.scatter(clust.cluster_centers_[1][0], clust.cluster_centers_[1][1], marker='x', color='black')\n",
    "ax.scatter(clust.cluster_centers_[2][0], clust.cluster_centers_[2][1], marker='x', color='black')\n",
    "\n",
    "\n",
    "plt.show()"
   ]
  },
  {
   "cell_type": "code",
   "execution_count": null,
   "metadata": {
    "id": "Ci4wJ02o7MyX"
   },
   "outputs": [],
   "source": []
  }
 ],
 "metadata": {
  "colab": {
   "collapsed_sections": [],
   "name": "Homework_Концепции_ML.ipynb",
   "provenance": [],
   "toc_visible": true
  },
  "kernelspec": {
   "display_name": "Python 3",
   "language": "python",
   "name": "python3"
  },
  "language_info": {
   "codemirror_mode": {
    "name": "ipython",
    "version": 3
   },
   "file_extension": ".py",
   "mimetype": "text/x-python",
   "name": "python",
   "nbconvert_exporter": "python",
   "pygments_lexer": "ipython3",
   "version": "3.8.8"
  }
 },
 "nbformat": 4,
 "nbformat_minor": 1
}
