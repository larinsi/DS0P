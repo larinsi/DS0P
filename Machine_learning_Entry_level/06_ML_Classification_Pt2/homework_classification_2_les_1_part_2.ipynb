{
 "cells": [
  {
   "cell_type": "markdown",
   "metadata": {
    "id": "p0RpWMuyhXNc"
   },
   "source": [
    "# Урок 4. Метрики качества классификации ч.2\n",
    "\n",
    "Продолжим работу с метриками классификации. В предыдущем задании мы разобрали матрицу ошибок и две основные метрики, которые используются при бинарной классификации.\n",
    "\n",
    "Сейчас рассмотрим F-меру - совокупную метрику по precision и recall - и более сложную AUC-ROC."
   ]
  },
  {
   "cell_type": "markdown",
   "metadata": {
    "id": "desLnfjBhXNe"
   },
   "source": [
    "### 2.1\n",
    "Из задания к предыдущему уроку выберите классификатор, который давал наименьшее значение recall, вычислите для него precision, применив precision_score, и самостоятельно посчитайте F1-меру (расчеты должны присутствовать). Затем проверьте ответ, используя встроенную функцию.\n",
    "\n",
    "Сравните полученную f1-меру со значением среднего арифметического полноты и точности."
   ]
  },
  {
   "cell_type": "code",
   "execution_count": 1,
   "metadata": {
    "id": "PqBv_cQmhXNf"
   },
   "outputs": [],
   "source": [
    "from sklearn.metrics import precision_score, f1_score"
   ]
  },
  {
   "cell_type": "code",
   "execution_count": 2,
   "metadata": {
    "id": "7inF9IHdhXNl"
   },
   "outputs": [
    {
     "name": "stdout",
     "output_type": "stream",
     "text": [
      "Recall knn модели: 0.4891304347826087\t Precision knn модели: 0.6818181818181818\n"
     ]
    }
   ],
   "source": [
    "import pandas as pd\n",
    "from sklearn.neighbors import KNeighborsClassifier\n",
    "from sklearn.model_selection import train_test_split\n",
    "from sklearn.metrics import recall_score\n",
    "\n",
    "\n",
    "X = pd.read_csv('titanic/titanic_features.csv', index_col='Unnamed: 0')\n",
    "y = pd.read_csv('titanic/titanic_target.csv', index_col='Unnamed: 0')['Survived']\n",
    "\n",
    "x_train, x_test, y_train, y_test = train_test_split(X, y, test_size=0.25, random_state=17)\n",
    "\n",
    "knn = KNeighborsClassifier(n_neighbors=5)\n",
    "knn_model = knn.fit(x_train, y_train)\n",
    "knn_prediction = knn_model.predict(x_test)\n",
    "\n",
    "knn_recall = recall_score(y_test, knn_prediction)\n",
    "knn_precision = precision_score(y_test, knn_prediction)\n",
    "\n",
    "print(f'Recall knn модели: {knn_recall}\\t Precision knn модели: {knn_precision}')"
   ]
  },
  {
   "cell_type": "markdown",
   "metadata": {},
   "source": [
    "$F1-мера = 2*\\frac{0.6818181818181818 * 0.4891304347826087}{0.6818181818181818 + 0.4891304347826087} = 0.5696202531645569$"
   ]
  },
  {
   "cell_type": "code",
   "execution_count": 3,
   "metadata": {},
   "outputs": [
    {
     "data": {
      "text/plain": [
       "0.5696202531645569"
      ]
     },
     "execution_count": 3,
     "metadata": {},
     "output_type": "execute_result"
    }
   ],
   "source": [
    "2 * 0.6818181818181818 * 0.4891304347826087 / (0.6818181818181818 + 0.4891304347826087)"
   ]
  },
  {
   "cell_type": "code",
   "execution_count": 4,
   "metadata": {},
   "outputs": [
    {
     "name": "stdout",
     "output_type": "stream",
     "text": [
      "F1-мера knn модели: 0.5696202531645569\t Среднее арифметическое метрик recall и precision knn модели: 0.5854743083003953\n"
     ]
    }
   ],
   "source": [
    "import numpy as np\n",
    "\n",
    "\n",
    "knn_f1_score = f1_score(y_test, knn_prediction)\n",
    "knn_p_r_mean = np.mean([knn_recall, knn_precision])\n",
    "print(f'F1-мера knn модели: {knn_f1_score}\\t Среднее арифметическое метрик recall и precision knn модели: {knn_p_r_mean}')"
   ]
  },
  {
   "cell_type": "markdown",
   "metadata": {},
   "source": [
    "F1-мера и среднее арифметическое метрик precision и recall knn модели отличаются незначительно."
   ]
  },
  {
   "cell_type": "markdown",
   "metadata": {
    "id": "zx1hiPXxhXNp"
   },
   "source": [
    "В библиотеке sklearn есть удобная функция classification_report, возвращающая precision, recall, F-меру и количество экземпляров каждого класса в удобном для чтения формате. Также существует функция precision_recall_fscore_support, возвращающая те же самые метрики, но в форме массива.\n",
    "\n",
    "### 2.2\n",
    "Для каждого классификатора из предыдущего урока рассчитайте и выведите следующие импортированные метрики."
   ]
  },
  {
   "cell_type": "code",
   "execution_count": 5,
   "metadata": {
    "id": "vhcIcGX5hXNq"
   },
   "outputs": [],
   "source": [
    "from sklearn.metrics import precision_recall_fscore_support, classification_report"
   ]
  },
  {
   "cell_type": "code",
   "execution_count": 6,
   "metadata": {
    "id": "zUPZhuTGhXNt"
   },
   "outputs": [
    {
     "name": "stdout",
     "output_type": "stream",
     "text": [
      "knn_model\n",
      "              precision    recall  f1-score   support\n",
      "\n",
      "         0.0       0.70      0.84      0.76       131\n",
      "         1.0       0.68      0.49      0.57        92\n",
      "\n",
      "    accuracy                           0.70       223\n",
      "   macro avg       0.69      0.66      0.67       223\n",
      "weighted avg       0.69      0.70      0.68       223\n",
      "\n",
      "------------------------------------------------------\n",
      "nbc_model\n",
      "              precision    recall  f1-score   support\n",
      "\n",
      "         0.0       0.80      0.85      0.83       131\n",
      "         1.0       0.76      0.71      0.73        92\n",
      "\n",
      "    accuracy                           0.79       223\n",
      "   macro avg       0.78      0.78      0.78       223\n",
      "weighted avg       0.79      0.79      0.79       223\n",
      "\n",
      "------------------------------------------------------\n",
      "dtc_model\n",
      "              precision    recall  f1-score   support\n",
      "\n",
      "         0.0       0.81      0.85      0.83       131\n",
      "         1.0       0.78      0.72      0.75        92\n",
      "\n",
      "    accuracy                           0.80       223\n",
      "   macro avg       0.79      0.79      0.79       223\n",
      "weighted avg       0.80      0.80      0.80       223\n",
      "\n",
      "------------------------------------------------------\n",
      "lreg_model\n",
      "              precision    recall  f1-score   support\n",
      "\n",
      "         0.0       0.80      0.87      0.84       131\n",
      "         1.0       0.79      0.70      0.74        92\n",
      "\n",
      "    accuracy                           0.80       223\n",
      "   macro avg       0.80      0.78      0.79       223\n",
      "weighted avg       0.80      0.80      0.80       223\n",
      "\n",
      "------------------------------------------------------\n"
     ]
    }
   ],
   "source": [
    "from sklearn.naive_bayes import GaussianNB\n",
    "from sklearn.tree import DecisionTreeClassifier\n",
    "from sklearn.linear_model import LogisticRegression\n",
    "\n",
    "\n",
    "nbc = GaussianNB()\n",
    "nbc_model = nbc.fit(x_train, y_train)\n",
    "nbc_prediction = nbc_model.predict(x_test)\n",
    "\n",
    "dtc = DecisionTreeClassifier(random_state=17)\n",
    "dtc_model = dtc.fit(x_train, y_train)\n",
    "dtc_prediction = dtc_model.predict(x_test)\n",
    "\n",
    "lreg = LogisticRegression(random_state=17)\n",
    "lreg_model = lreg.fit(x_train, y_train)\n",
    "lreg_prediction = lreg_model.predict(x_test)\n",
    "\n",
    "\n",
    "model_list = ['knn_model', 'nbc_model', 'dtc_model', 'lreg_model']\n",
    "for i, prediction in enumerate([knn_prediction, nbc_prediction, dtc_prediction, lreg_prediction]):\n",
    "    print(model_list[i])\n",
    "    precision_recall_fscore_support(y_test, prediction)\n",
    "    print(classification_report(y_test, prediction))\n",
    "    print('------------------------------------------------------')\n",
    "\n",
    "\n"
   ]
  },
  {
   "cell_type": "markdown",
   "metadata": {
    "id": "sAisAae0hXNx"
   },
   "source": [
    "Вернемся к классификатору LogisticRegression, который мы обучали в предыдущем задании. Там мы не затрагивали настройку гиперпараметров: сделать это можно с помощью LogisticRegressionCV - перебора параметров по сетке с последующей кросс-валидацией (по сути это аналог GridSearchCV, но со своими параметрами внутри, применимыми только к логистической регрессии). Этот класс создан специально для логистической регрессии, т.к. для нее известны эффективные алгоритмы перебора параметров.\n",
    "\n",
    "У LogisticRegression есть гиперпараметр C - обратный коэффициент регуляризации. Не вдаваясь в подробное описание по формуле, можно сказать, что C соответствует \"сложности\" модели: чем больше C, тем более сложные зависимости может восстанавливать модель; если параметр C слишком мал (слишком сильная регуляризация), то модель окажется недообученной, а если наоборот регуляризация слишком слабая (т.е. C принимает большие значения), то скорее всего модель окажется переобученной, потому как модель будет слишком \"бояться\" ошибиться на обучающей выборке."
   ]
  },
  {
   "cell_type": "markdown",
   "metadata": {
    "id": "L-j5LLf3hXNx"
   },
   "source": [
    "### 2.3 \n",
    "\n",
    "1. Используя StratifiedKFold, разбейте данные для кросс-валидации по 5-ти блокам (не забывайте во всех методах использовать random_state=17).\n",
    "2. С помощью numpy.logspace разбейте интервал (-1, 2) на 500 значений.\n",
    "3. С помощью LogisticRegressionCV подберите оптимальный параметр C: установите гиперпараметр Cs равным объекту из п.2 (разбиение интервала (-1, 2) отвечает за подбор обратного коэффициента регуляризации C); cv равным объекту из п.1 (разбиение для кросс-валидации); scoring равным \"roc_auc\" (отвечает за оптимизацию гиперпараметров на кросс-валидации: метрика, установленная в scoring, контролирует, как оценивать модель при каждом из наборе параметров, т.е. показывает, какая метрика должна быть наилучшей).\n",
    "4. Обучите полученную модель на тренировочных данных."
   ]
  },
  {
   "cell_type": "code",
   "execution_count": 7,
   "metadata": {
    "id": "H-0WuZbphXNy"
   },
   "outputs": [],
   "source": [
    "from sklearn.model_selection import StratifiedKFold\n",
    "from sklearn.linear_model import LogisticRegressionCV"
   ]
  },
  {
   "cell_type": "code",
   "execution_count": 8,
   "metadata": {
    "id": "0ezY2p2RhXN4"
   },
   "outputs": [
    {
     "name": "stderr",
     "output_type": "stream",
     "text": [
      "C:\\Users\\larin\\anaconda3\\envs\\MyEnv\\lib\\site-packages\\sklearn\\linear_model\\_logistic.py:763: ConvergenceWarning: lbfgs failed to converge (status=1):\n",
      "STOP: TOTAL NO. of ITERATIONS REACHED LIMIT.\n",
      "\n",
      "Increase the number of iterations (max_iter) or scale the data as shown in:\n",
      "    https://scikit-learn.org/stable/modules/preprocessing.html\n",
      "Please also refer to the documentation for alternative solver options:\n",
      "    https://scikit-learn.org/stable/modules/linear_model.html#logistic-regression\n",
      "  n_iter_i = _check_optimize_result(\n",
      "C:\\Users\\larin\\anaconda3\\envs\\MyEnv\\lib\\site-packages\\sklearn\\linear_model\\_logistic.py:763: ConvergenceWarning: lbfgs failed to converge (status=1):\n",
      "STOP: TOTAL NO. of ITERATIONS REACHED LIMIT.\n",
      "\n",
      "Increase the number of iterations (max_iter) or scale the data as shown in:\n",
      "    https://scikit-learn.org/stable/modules/preprocessing.html\n",
      "Please also refer to the documentation for alternative solver options:\n",
      "    https://scikit-learn.org/stable/modules/linear_model.html#logistic-regression\n",
      "  n_iter_i = _check_optimize_result(\n"
     ]
    }
   ],
   "source": [
    "skf = StratifiedKFold(n_splits = 5, random_state=17, shuffle=True)\n",
    "skf_set = skf.get_n_splits(X, y)\n",
    "\n",
    "interval = np.logspace(start=-1, stop=2, num=500)\n",
    "\n",
    "lrcv_model = LogisticRegressionCV(Cs=interval, cv=skf_set, scoring='roc_auc', random_state=17).fit(x_train, y_train)\n"
   ]
  },
  {
   "cell_type": "markdown",
   "metadata": {
    "id": "kaE1oixihXN8"
   },
   "source": [
    "### 2.4\n",
    "Используя метод plot из matplotlib.pyplot, выведите график зависимости auc_roc от значения C."
   ]
  },
  {
   "cell_type": "markdown",
   "metadata": {
    "id": "yRsW0oWQhXN9"
   },
   "source": [
    "*Примечание: значения по оси x - разбиение с помощью np.logspace из п.2 предыдущего задания, а значения по оси y - среднее значение roc_auc по каждой валидации, т.е. среднее значение из полученных на каждом из 5-ти разбиений при данном параметре C (используйте метод scores_ объекта, который инкапсулирует LogisticRegressionCV).*"
   ]
  },
  {
   "cell_type": "code",
   "execution_count": 9,
   "metadata": {
    "id": "5H0CAgq9hXN-"
   },
   "outputs": [],
   "source": [
    "import matplotlib.pyplot as plt"
   ]
  },
  {
   "cell_type": "code",
   "execution_count": 10,
   "metadata": {
    "id": "KTZtXirYhXOC"
   },
   "outputs": [
    {
     "data": {
      "image/png": "[encoded data removed]",
      "text/plain": [
       "<Figure size 432x288 with 1 Axes>"
      ]
     },
     "metadata": {
      "needs_background": "light"
     },
     "output_type": "display_data"
    }
   ],
   "source": [
    "for i in range(5):\n",
    "    plt.plot(interval, lrcv_model.scores_[1.0][i])\n",
    "plt.show()"
   ]
  },
  {
   "cell_type": "markdown",
   "metadata": {
    "id": "lv9qcBE4hXOH"
   },
   "source": [
    "### 2.5\n",
    "С помощью метода C_ того же объекта выведите лучшее значение C. Выведите более конкретную область графика (область ~15 точкам по x), включающую лучшее значение C.\n",
    "\n",
    "*Примечание: используйте plt.xlim.*"
   ]
  },
  {
   "cell_type": "code",
   "execution_count": 16,
   "metadata": {
    "id": "BUoS6KvRhXOI"
   },
   "outputs": [
    {
     "data": {
      "image/png": "[encoded data removed]",
      "text/plain": [
       "<Figure size 432x288 with 1 Axes>"
      ]
     },
     "metadata": {
      "needs_background": "light"
     },
     "output_type": "display_data"
    },
    {
     "name": "stdout",
     "output_type": "stream",
     "text": [
      "Лучшее значение С: 7.8304654043011865\n"
     ]
    }
   ],
   "source": [
    "best_c = float(lrcv_model.C_)\n",
    "best_c_index = list(interval).index(best_c)\n",
    "\n",
    "for i in range(5):\n",
    "    plt.plot(interval, lrcv_model.scores_[1.0][i])\n",
    "plt.axvline(best_c, alpha=0.3, ls='--')\n",
    "plt.xlim(interval[best_c_index-8], interval[best_c_index+8])\n",
    "plt.show()\n",
    "print(f'Лучшее значение С: {best_c}')"
   ]
  },
  {
   "cell_type": "markdown",
   "metadata": {
    "id": "d6ihFwlJhXOL"
   },
   "source": [
    "### 2.6\n",
    "С помощью метода predict_proba получите вероятности принадлежности объектов тестовой выборки к классам. Постройте график roc_auc для тестовой выборки и выведите значение auc."
   ]
  },
  {
   "cell_type": "markdown",
   "metadata": {
    "id": "H0f_DNEMhXOM"
   },
   "source": [
    "**Пример** построения графика."
   ]
  },
  {
   "cell_type": "code",
   "execution_count": 12,
   "metadata": {
    "id": "WzMU7ULahXOM"
   },
   "outputs": [],
   "source": [
    "from sklearn.metrics import roc_auc_score, roc_curve"
   ]
  },
  {
   "cell_type": "code",
   "execution_count": 13,
   "metadata": {
    "id": "Vv5vQq-_hXOR",
    "outputId": "802337a2-3f55-4021-e8d7-0488e63261ba"
   },
   "outputs": [
    {
     "ename": "NameError",
     "evalue": "name 'logit_search' is not defined",
     "output_type": "error",
     "traceback": [
      "\u001b[1;31m---------------------------------------------------------------------------\u001b[0m",
      "\u001b[1;31mNameError\u001b[0m                                 Traceback (most recent call last)",
      "\u001b[1;32m<ipython-input-13-9546ced9019e>\u001b[0m in \u001b[0;36m<module>\u001b[1;34m\u001b[0m\n\u001b[1;32m----> 1\u001b[1;33m \u001b[0mprobas\u001b[0m \u001b[1;33m=\u001b[0m \u001b[0mlogit_search\u001b[0m\u001b[1;33m.\u001b[0m\u001b[0mfit\u001b[0m\u001b[1;33m(\u001b[0m\u001b[0mx_train\u001b[0m\u001b[1;33m,\u001b[0m \u001b[0my_train\u001b[0m\u001b[1;33m)\u001b[0m\u001b[1;33m.\u001b[0m\u001b[0mpredict_proba\u001b[0m\u001b[1;33m(\u001b[0m\u001b[0mx_train\u001b[0m\u001b[1;33m)\u001b[0m\u001b[1;33m\u001b[0m\u001b[1;33m\u001b[0m\u001b[0m\n\u001b[0m\u001b[0;32m      2\u001b[0m \u001b[0mfpr\u001b[0m\u001b[1;33m,\u001b[0m \u001b[0mtpr\u001b[0m\u001b[1;33m,\u001b[0m \u001b[0m_\u001b[0m \u001b[1;33m=\u001b[0m \u001b[0mroc_curve\u001b[0m\u001b[1;33m(\u001b[0m\u001b[0my_train\u001b[0m\u001b[1;33m,\u001b[0m \u001b[0mprobas\u001b[0m\u001b[1;33m[\u001b[0m\u001b[1;33m:\u001b[0m\u001b[1;33m,\u001b[0m \u001b[1;36m1\u001b[0m\u001b[1;33m]\u001b[0m\u001b[1;33m)\u001b[0m\u001b[1;33m\u001b[0m\u001b[1;33m\u001b[0m\u001b[0m\n\u001b[0;32m      3\u001b[0m \u001b[0mauc\u001b[0m \u001b[1;33m=\u001b[0m \u001b[0mroc_auc_score\u001b[0m\u001b[1;33m(\u001b[0m\u001b[0my_train\u001b[0m\u001b[1;33m,\u001b[0m \u001b[0mprobas\u001b[0m\u001b[1;33m[\u001b[0m\u001b[1;33m:\u001b[0m\u001b[1;33m,\u001b[0m \u001b[1;36m1\u001b[0m\u001b[1;33m]\u001b[0m\u001b[1;33m)\u001b[0m\u001b[1;33m\u001b[0m\u001b[1;33m\u001b[0m\u001b[0m\n\u001b[0;32m      4\u001b[0m \u001b[0mplt\u001b[0m\u001b[1;33m.\u001b[0m\u001b[0mplot\u001b[0m\u001b[1;33m(\u001b[0m\u001b[0mfpr\u001b[0m\u001b[1;33m,\u001b[0m \u001b[0mtpr\u001b[0m\u001b[1;33m,\u001b[0m \u001b[0mlabel\u001b[0m\u001b[1;33m=\u001b[0m\u001b[1;34m\"auc=\"\u001b[0m \u001b[1;33m+\u001b[0m \u001b[0mstr\u001b[0m\u001b[1;33m(\u001b[0m\u001b[0mauc\u001b[0m\u001b[1;33m)\u001b[0m\u001b[1;33m)\u001b[0m\u001b[1;33m\u001b[0m\u001b[1;33m\u001b[0m\u001b[0m\n\u001b[0;32m      5\u001b[0m \u001b[0mplt\u001b[0m\u001b[1;33m.\u001b[0m\u001b[0mlegend\u001b[0m\u001b[1;33m(\u001b[0m\u001b[0mloc\u001b[0m\u001b[1;33m=\u001b[0m\u001b[1;36m4\u001b[0m\u001b[1;33m)\u001b[0m\u001b[1;33m\u001b[0m\u001b[1;33m\u001b[0m\u001b[0m\n",
      "\u001b[1;31mNameError\u001b[0m: name 'logit_search' is not defined"
     ]
    }
   ],
   "source": [
    "probas = logit_search.fit(x_train, y_train).predict_proba(x_train)\n",
    "fpr, tpr, _ = roc_curve(y_train, probas[:, 1])\n",
    "auc = roc_auc_score(y_train, probas[:, 1])\n",
    "plt.plot(fpr, tpr, label=\"auc=\" + str(auc))\n",
    "plt.legend(loc=4)"
   ]
  },
  {
   "cell_type": "code",
   "execution_count": null,
   "metadata": {
    "id": "9ptD2581hXOY"
   },
   "outputs": [],
   "source": [
    "### YOUR CODE HERE ###\n",
    "\n"
   ]
  }
 ],
 "metadata": {
  "colab": {
   "collapsed_sections": [],
   "name": "homework_classification-2_les-1_part-2.ipynb",
   "provenance": []
  },
  "kernelspec": {
   "display_name": "Python 3",
   "language": "python",
   "name": "python3"
  },
  "language_info": {
   "codemirror_mode": {
    "name": "ipython",
    "version": 3
   },
   "file_extension": ".py",
   "mimetype": "text/x-python",
   "name": "python",
   "nbconvert_exporter": "python",
   "pygments_lexer": "ipython3",
   "version": "3.8.8"
  }
 },
 "nbformat": 4,
 "nbformat_minor": 1
}
